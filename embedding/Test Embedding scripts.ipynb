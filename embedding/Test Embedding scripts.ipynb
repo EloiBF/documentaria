{
 "cells": [
  {
   "cell_type": "code",
   "execution_count": 1,
   "metadata": {},
   "outputs": [
    {
     "name": "stderr",
     "output_type": "stream",
     "text": [
      "c:\\Python Projects\\DocumentarIA\\.venv\\Lib\\site-packages\\tqdm\\auto.py:21: TqdmWarning: IProgress not found. Please update jupyter and ipywidgets. See https://ipywidgets.readthedocs.io/en/stable/user_install.html\n",
      "  from .autonotebook import tqdm as notebook_tqdm\n"
     ]
    },
    {
     "name": "stdout",
     "output_type": "stream",
     "text": [
      "Archivos encontrados: ['ficheros_prueba\\\\CAS_ai_business_spanish.txt', 'ficheros_prueba\\\\CAT_ai_business_catalan.txt', 'ficheros_prueba\\\\ENG_ai_business_english.txt']\n"
     ]
    },
    {
     "name": "stderr",
     "output_type": "stream",
     "text": [
      "Fetching 5 files: 100%|██████████| 5/5 [00:00<?, ?it/s]\n"
     ]
    },
    {
     "name": "stdout",
     "output_type": "stream",
     "text": [
      "El modelo BAAI/bge-small-en-v1.5 está listo para usarse.\n",
      "Codificación detectada automáticamente: utf-8\n",
      "Archivo leído con éxito usando la codificación detectada: utf-8\n",
      "Codificación detectada automáticamente: utf-8\n",
      "Archivo leído con éxito usando la codificación detectada: utf-8\n",
      "Codificación detectada automáticamente: ascii\n",
      "Archivo leído con éxito usando la codificación detectada: ascii\n",
      "Embeddings guardados en SQLite.\n"
     ]
    }
   ],
   "source": [
    "from embedding_gen_general import crear_db_vectorial\n",
    "\n",
    "directory = \"ficheros_prueba/\"\n",
    "\n",
    "crear_db_vectorial(directory)"
   ]
  },
  {
   "cell_type": "code",
   "execution_count": 2,
   "metadata": {},
   "outputs": [
    {
     "name": "stdout",
     "output_type": "stream",
     "text": [
      "Archivos encontrados: ['ficheros_prueba\\\\CAS_ai_business_spanish.txt', 'ficheros_prueba\\\\CAT_ai_business_catalan.txt', 'ficheros_prueba\\\\ENG_ai_business_english.txt']\n"
     ]
    },
    {
     "name": "stderr",
     "output_type": "stream",
     "text": [
      "Fetching 5 files: 100%|██████████| 5/5 [00:00<?, ?it/s]\n"
     ]
    },
    {
     "name": "stdout",
     "output_type": "stream",
     "text": [
      "El modelo BAAI/bge-small-en-v1.5 está listo para usarse.\n",
      "Codificación detectada automáticamente: utf-8\n",
      "Archivo leído con éxito usando la codificación detectada: utf-8\n",
      "Codificación detectada automáticamente: utf-8\n",
      "Archivo leído con éxito usando la codificación detectada: utf-8\n",
      "Codificación detectada automáticamente: ascii\n",
      "Archivo leído con éxito usando la codificación detectada: ascii\n",
      "Embeddings guardados en SQLite.\n"
     ]
    }
   ],
   "source": [
    "from embedding_gen_translation import crear_db_vectorial\n",
    "\n",
    "directory = \"ficheros_prueba/\"\n",
    "\n",
    "crear_db_vectorial(directory)"
   ]
  },
  {
   "cell_type": "code",
   "execution_count": 1,
   "metadata": {},
   "outputs": [
    {
     "name": "stderr",
     "output_type": "stream",
     "text": [
      "c:\\Python Projects\\DocumentarIA\\.venv\\Lib\\site-packages\\tqdm\\auto.py:21: TqdmWarning: IProgress not found. Please update jupyter and ipywidgets. See https://ipywidgets.readthedocs.io/en/stable/user_install.html\n",
      "  from .autonotebook import tqdm as notebook_tqdm\n",
      "Fetching 5 files: 100%|██████████| 5/5 [00:00<?, ?it/s]"
     ]
    },
    {
     "name": "stdout",
     "output_type": "stream",
     "text": [
      "El modelo BAAI/bge-small-en-v1.5 está listo para usarse.\n"
     ]
    },
    {
     "name": "stderr",
     "output_type": "stream",
     "text": [
      "\n"
     ]
    },
    {
     "data": {
      "text/plain": [
       "\"Ejemplo 1:\\nEjemplo original: Cada día, más empresas están adoptando tecnologías de IA para optimizar sus procesos, mejorar la eficiencia y aumentar la satisfacción del cliente.\\nEjemplo traducido: Cada dia, més empreses estan adoptant tecnologies d'IA per optimitzar els seus processos, millorar l'eficiència i augmentar la satisfacció del client.\\n\\nEjemplo 2:\\nEjemplo original: La competencia está utilizando IA para ganar ventaja, y aquellas que ignoren esta tendencia podrían perder oportunidades clave en el mercado.\\nEjemplo traducido: La competència està utilitzant IA per guanyar avantatge, i aquelles que ignorin aquesta tendència podrien perdre oportunitats clau al mercat.\\n\\nEjemplo 3:\\nEjemplo original: Sin embargo, la implementación de la inteligencia artificial también plantea desafíos.\\nEjemplo traducido: Tanmateix, la implementació de la intel·ligència artificial també planteja reptes.\\n\\nEjemplo 4:\\nEjemplo original: Uno de los campos donde la IA ha mostrado un impacto significativo es en el servicio al cliente.\\nEjemplo traducido: Un dels camps on la IA ha mostrat un impacte significatiu és en el servei al client.\\n\\nEjemplo 5:\\nEjemplo original: Las empresas deben mantenerse al día con las tendencias de la IA y explorar cómo pueden integrarse en su estrategia empresarial para seguir siendo competitivas en el futuro.\\nEjemplo traducido: Les empreses han de mantenir-se al dia amb les tendències de la IA i explorar com poden integrar-se en la seva estratègia empresarial per seguir sent competitives en el futur.\\n\\n\""
      ]
     },
     "execution_count": 1,
     "metadata": {},
     "output_type": "execute_result"
    }
   ],
   "source": [
    "from embedding_search import find_general_examples,find_translation_examples\n",
    "\n",
    "text = \"Esto es un texto de prueba\"\n",
    "language = \"spanish\"\n",
    "target_language = \"catalan\"\n",
    "\n",
    "#find_general_examples(text)\n",
    "find_translation_examples(text,language,target_language)"
   ]
  }
 ],
 "metadata": {
  "kernelspec": {
   "display_name": ".venv",
   "language": "python",
   "name": "python3"
  },
  "language_info": {
   "codemirror_mode": {
    "name": "ipython",
    "version": 3
   },
   "file_extension": ".py",
   "mimetype": "text/x-python",
   "name": "python",
   "nbconvert_exporter": "python",
   "pygments_lexer": "ipython3",
   "version": "3.11.4"
  }
 },
 "nbformat": 4,
 "nbformat_minor": 2
}
