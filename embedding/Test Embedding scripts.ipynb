{
 "cells": [
  {
   "cell_type": "code",
   "execution_count": null,
   "metadata": {},
   "outputs": [
    {
     "data": {
      "text/plain": [
       "<sqlite3.Cursor at 0x21cbee64d40>"
      ]
     },
     "execution_count": 2,
     "metadata": {},
     "output_type": "execute_result"
    }
   ],
   "source": [
    "# LIMPIAR BDD EMBEDDING TRANSLATION\n",
    "\n",
    "import sqlite3\n",
    "\n",
    "# Define la ruta de la base de datos en el volumen compartido\n",
    "DB_PATH = 'embeddings.db'\n",
    "\n",
    "# Conexión a SQLite\n",
    "def get_db_connection(db_file=DB_PATH):\n",
    "    conn = sqlite3.connect(db_file)\n",
    "    return conn\n",
    "\n",
    "conn = get_db_connection()\n",
    "cur = conn.cursor()\n",
    "\n",
    "cur.execute(\"\"\" DROP TABLE IF EXISTS translation_embedding \"\"\")"
   ]
  },
  {
   "cell_type": "code",
   "execution_count": 3,
   "metadata": {},
   "outputs": [
    {
     "data": {
      "text/plain": [
       "<sqlite3.Cursor at 0x21cbee64cc0>"
      ]
     },
     "execution_count": 3,
     "metadata": {},
     "output_type": "execute_result"
    }
   ],
   "source": [
    "# LIMPIAR BDD EMBEDDING CONTEXTUAL\n",
    "\n",
    "import sqlite3\n",
    "\n",
    "# Define la ruta de la base de datos en el volumen compartido\n",
    "DB_PATH = 'embeddings.db'\n",
    "\n",
    "# Conexión a SQLite\n",
    "def get_db_connection(db_file=DB_PATH):\n",
    "    conn = sqlite3.connect(db_file)\n",
    "    return conn\n",
    "\n",
    "conn = get_db_connection()\n",
    "cur = conn.cursor()\n",
    "\n",
    "cur.execute(\"\"\" DROP TABLE IF EXISTS document_embedding \"\"\")"
   ]
  },
  {
   "cell_type": "code",
   "execution_count": 1,
   "metadata": {},
   "outputs": [
    {
     "name": "stderr",
     "output_type": "stream",
     "text": [
      "c:\\Python Projects\\DocumentarIA\\.venv\\Lib\\site-packages\\tqdm\\auto.py:21: TqdmWarning: IProgress not found. Please update jupyter and ipywidgets. See https://ipywidgets.readthedocs.io/en/stable/user_install.html\n",
      "  from .autonotebook import tqdm as notebook_tqdm\n"
     ]
    },
    {
     "name": "stdout",
     "output_type": "stream",
     "text": [
      "Procesando el archivo: ficheros_prueba/CAS_ai_business_spanish.txt\n"
     ]
    },
    {
     "name": "stderr",
     "output_type": "stream",
     "text": [
      "Fetching 5 files: 100%|██████████| 5/5 [00:00<00:00, 319.00it/s]\n"
     ]
    },
    {
     "name": "stdout",
     "output_type": "stream",
     "text": [
      "El modelo BAAI/bge-small-en-v1.5 está listo para usarse.\n",
      "Codificación detectada automáticamente: utf-8\n",
      "Archivo leído con éxito usando la codificación detectada: utf-8\n",
      "Embeddings guardados en SQLite para el archivo: ficheros_prueba/CAS_ai_business_spanish.txt\n",
      "Procesando el archivo: ficheros_prueba/CAT_ai_business_catalan.txt\n"
     ]
    },
    {
     "name": "stderr",
     "output_type": "stream",
     "text": [
      "Fetching 5 files: 100%|██████████| 5/5 [00:00<?, ?it/s]\n"
     ]
    },
    {
     "name": "stdout",
     "output_type": "stream",
     "text": [
      "El modelo BAAI/bge-small-en-v1.5 está listo para usarse.\n",
      "Codificación detectada automáticamente: utf-8\n",
      "Archivo leído con éxito usando la codificación detectada: utf-8\n",
      "Embeddings guardados en SQLite para el archivo: ficheros_prueba/CAT_ai_business_catalan.txt\n",
      "Procesando el archivo: ficheros_prueba/ENG_ai_business_english.txt\n"
     ]
    },
    {
     "name": "stderr",
     "output_type": "stream",
     "text": [
      "Fetching 5 files: 100%|██████████| 5/5 [00:00<?, ?it/s]\n"
     ]
    },
    {
     "name": "stdout",
     "output_type": "stream",
     "text": [
      "El modelo BAAI/bge-small-en-v1.5 está listo para usarse.\n",
      "Codificación detectada automáticamente: ascii\n",
      "Archivo leído con éxito usando la codificación detectada: ascii\n",
      "Embeddings guardados en SQLite para el archivo: ficheros_prueba/ENG_ai_business_english.txt\n"
     ]
    }
   ],
   "source": [
    "from embedding_gen_general import crear_db_vectorial\n",
    "\n",
    "# Diccionario de archivos con idioma y grupo\n",
    "file_paths = [\n",
    "    'ficheros_prueba/CAS_ai_business_spanish.txt',\n",
    "    'ficheros_prueba/CAT_ai_business_catalan.txt',\n",
    "    'ficheros_prueba/ENG_ai_business_english.txt',\n",
    "]\n",
    "\n",
    "# Recorrer el diccionario y pasar la información a la función\n",
    "for file_path in file_paths:\n",
    "    # Llamar a la función para procesar cada archivo\n",
    "    crear_db_vectorial(file_path)"
   ]
  },
  {
   "cell_type": "code",
   "execution_count": 2,
   "metadata": {},
   "outputs": [
    {
     "name": "stderr",
     "output_type": "stream",
     "text": [
      "c:\\Python Projects\\DocumentarIA\\.venv\\Lib\\site-packages\\tqdm\\auto.py:21: TqdmWarning: IProgress not found. Please update jupyter and ipywidgets. See https://ipywidgets.readthedocs.io/en/stable/user_install.html\n",
      "  from .autonotebook import tqdm as notebook_tqdm\n"
     ]
    },
    {
     "name": "stdout",
     "output_type": "stream",
     "text": [
      "Procesando el archivo: ficheros_prueba/CAS_ai_business_spanish.txt\n"
     ]
    },
    {
     "name": "stderr",
     "output_type": "stream",
     "text": [
      "Fetching 5 files: 100%|██████████| 5/5 [00:00<?, ?it/s]\n"
     ]
    },
    {
     "name": "stdout",
     "output_type": "stream",
     "text": [
      "El modelo BAAI/bge-small-en-v1.5 está listo para usarse.\n",
      "Codificación detectada automáticamente: utf-8\n",
      "Archivo leído con éxito usando la codificación detectada: utf-8\n",
      "Embeddings guardados en SQLite para el archivo: ficheros_prueba/CAS_ai_business_spanish.txt\n",
      "Procesando el archivo: ficheros_prueba/CAT_ai_business_catalan.txt\n"
     ]
    },
    {
     "name": "stderr",
     "output_type": "stream",
     "text": [
      "Fetching 5 files: 100%|██████████| 5/5 [00:00<?, ?it/s]\n"
     ]
    },
    {
     "name": "stdout",
     "output_type": "stream",
     "text": [
      "El modelo BAAI/bge-small-en-v1.5 está listo para usarse.\n",
      "Codificación detectada automáticamente: utf-8\n",
      "Archivo leído con éxito usando la codificación detectada: utf-8\n",
      "Embeddings guardados en SQLite para el archivo: ficheros_prueba/CAT_ai_business_catalan.txt\n",
      "Procesando el archivo: ficheros_prueba/ENG_ai_business_english.txt\n"
     ]
    },
    {
     "name": "stderr",
     "output_type": "stream",
     "text": [
      "Fetching 5 files: 100%|██████████| 5/5 [00:00<?, ?it/s]\n"
     ]
    },
    {
     "name": "stdout",
     "output_type": "stream",
     "text": [
      "El modelo BAAI/bge-small-en-v1.5 está listo para usarse.\n",
      "Codificación detectada automáticamente: ascii\n",
      "Archivo leído con éxito usando la codificación detectada: ascii\n",
      "Embeddings guardados en SQLite para el archivo: ficheros_prueba/ENG_ai_business_english.txt\n"
     ]
    }
   ],
   "source": [
    "from embedding_gen_translation import crear_db_vectorial\n",
    "\n",
    "# Diccionario de archivos con idioma y grupo\n",
    "files_info = {\n",
    "    'ficheros_prueba/CAS_ai_business_spanish.txt': {'language': 'spanish', 'grupo': 1},\n",
    "    'ficheros_prueba/CAT_ai_business_catalan.txt': {'language': 'catalan', 'grupo': 1},\n",
    "    'ficheros_prueba/ENG_ai_business_english.txt': {'language': 'english', 'grupo': 1},\n",
    "}\n",
    "\n",
    "# Recorrer el diccionario y pasar la información a la función\n",
    "for file_path, file_info in files_info.items():\n",
    "    language = file_info['language']\n",
    "    grupo = file_info['grupo']\n",
    "    \n",
    "    # Llamar a la función para procesar cada archivo\n",
    "    crear_db_vectorial(file_path, language=language, grupo=grupo)\n"
   ]
  },
  {
   "cell_type": "code",
   "execution_count": 6,
   "metadata": {},
   "outputs": [
    {
     "data": {
      "text/plain": [
       "\"Ejemplo 1:\\nEjemplo original: También es crucial considerar los aspectos éticos de la IA, asegurando que las decisiones tomadas por algoritmos sean justas y transparentes.\\nEjemplo traducido: També és crucial considerar els aspectes ètics de la IA, assegurant que les decisions preses per algoritmes siguin justes i transparents.\\n\\nEjemplo 2:\\nEjemplo original: Los chatbots impulsados por IA pueden manejar consultas simples, liberar recursos humanos para que se concentren en problemas más complejos y, en última instancia, mejorar la experiencia del cliente.\\nEjemplo traducido: Els xatbots impulsats per IA poden gestionar consultes simples, alliberar recursos humans perquè es concentrin en problemes més complexos i, en última instància, millorar l'experiència del client.\\n\\nEjemplo 3:\\nEjemplo original: Cada día, más empresas están adoptando tecnologías de IA para optimizar sus procesos, mejorar la eficiencia y aumentar la satisfacción del cliente.\\nEjemplo traducido: Cada dia, més empreses estan adoptant tecnologies d'IA per optimitzar els seus processos, millorar l'eficiència i augmentar la satisfacció del client.\\n\\nEjemplo 4:\\nEjemplo original: Cada día, más empresas están adoptando tecnologías de IA para optimizar sus procesos, mejorar la eficiencia y aumentar la satisfacción del cliente.\\nEjemplo traducido: Cada dia, més empreses estan adoptant tecnologies d'IA per optimitzar els seus processos, millorar l'eficiència i augmentar la satisfacció del client.\\n\\n\""
      ]
     },
     "execution_count": 6,
     "metadata": {},
     "output_type": "execute_result"
    }
   ],
   "source": [
    "from embedding_search import find_general_examples,find_translation_examples\n",
    "\n",
    "text = \"Esto es un texto de prueba. Este es otro! Aquí tenemos otro textazo. Ahora hablo sobre la IA.\"\n",
    "language = \"spanish\"\n",
    "target_language = \"catalan\"\n",
    "\n",
    "#find_general_examples(text)\n",
    "find_translation_examples(text,language,target_language,k=1)"
   ]
  },
  {
   "cell_type": "code",
   "execution_count": 3,
   "metadata": {},
   "outputs": [
    {
     "data": {
      "text/plain": [
       "\"Ejemplo 1: en tecnologia i formació del personal. Les empreses han de garantir que els seus empleats estiguin formats per treballar juntament amb les màquines i aprofitar al màxim les eines que la IA ofereix. També és crucial considerar els aspectes ètics de la IA, assegurant que les decisions preses per algoritmes siguin justes i transparents. A mesura que la IA continua evolucionant, les empreses que no s'adaptin corren el risc de quedar-se enrere. La competència està utilitzant IA per guanyar avantatge,\\n\\nEjemplo 2: está utilizando IA para ganar ventaja, y aquellas que ignoren esta tendencia podrían perder oportunidades clave en el mercado. Las empresas deben mantenerse al día con las tendencias de la IA y explorar cómo pueden integrarse en su estrategia empresarial para seguir siendo competitivas en el futuro. En conclusión, la inteligencia artificial es más que una moda pasajera; es una transformación radical en la forma en que las empresas operan. Aquellas que adopten esta tecnología no solo mejorarán su\\n\\nEjemplo 3: requiere una inversión considerable en tecnología y capacitación del personal. Las empresas deben asegurarse de que sus empleados estén capacitados para trabajar junto con las máquinas y aprovechar al máximo las herramientas que la IA ofrece. También es crucial considerar los aspectos éticos de la IA, asegurando que las decisiones tomadas por algoritmos sean justas y transparentes. A medida que la IA continúa evolucionando, las empresas que no se adapten corren el riesgo de quedarse atrás. La competencia\\n\\nEjemplo 4: cliente. Los chatbots impulsados por IA pueden manejar consultas simples, liberar recursos humanos para que se concentren en problemas más complejos y, en última instancia, mejorar la experiencia del cliente. Además, la IA puede analizar datos de clientes en tiempo real, permitiendo a las empresas personalizar sus ofertas y mejorar la lealtad del cliente. Sin embargo, la implementación de la inteligencia artificial también plantea desafíos. La integración de sistemas de IA en las operaciones existentes\\n\\n\""
      ]
     },
     "execution_count": 3,
     "metadata": {},
     "output_type": "execute_result"
    }
   ],
   "source": [
    "from embedding_search import find_general_examples\n",
    "\n",
    "text = \"Esto es un texto de prueba\"\n",
    "language = \"spanish\"\n",
    "target_language = \"catalan\"\n",
    "\n",
    "find_general_examples(text)\n"
   ]
  }
 ],
 "metadata": {
  "kernelspec": {
   "display_name": ".venv",
   "language": "python",
   "name": "python3"
  },
  "language_info": {
   "codemirror_mode": {
    "name": "ipython",
    "version": 3
   },
   "file_extension": ".py",
   "mimetype": "text/x-python",
   "name": "python",
   "nbconvert_exporter": "python",
   "pygments_lexer": "ipython3",
   "version": "3.11.4"
  }
 },
 "nbformat": 4,
 "nbformat_minor": 2
}
