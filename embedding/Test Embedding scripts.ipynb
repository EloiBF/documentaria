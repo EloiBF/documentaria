{
 "cells": [
  {
   "cell_type": "code",
   "execution_count": null,
   "metadata": {},
   "outputs": [],
   "source": [
    "# LIMPIAR BDD EMBEDDING TRANSLATION\n",
    "\n",
    "import sqlite3\n",
    "\n",
    "# Define la ruta de la base de datos en el volumen compartido\n",
    "DB_PATH = 'embeddings.db'\n",
    "\n",
    "# Conexión a SQLite\n",
    "def get_db_connection(db_file=DB_PATH):\n",
    "    conn = sqlite3.connect(db_file)\n",
    "    return conn\n",
    "\n",
    "conn = get_db_connection()\n",
    "cur = conn.cursor()\n",
    "\n",
    "cur.execute(\"\"\" DROP TABLE IF EXISTS translation_embedding \"\"\")"
   ]
  },
  {
   "cell_type": "code",
   "execution_count": null,
   "metadata": {},
   "outputs": [],
   "source": [
    "# LIMPIAR BDD EMBEDDING CONTEXTUAL\n",
    "\n",
    "import sqlite3\n",
    "\n",
    "# Define la ruta de la base de datos en el volumen compartido\n",
    "DB_PATH = 'embeddings.db'\n",
    "\n",
    "# Conexión a SQLite\n",
    "def get_db_connection(db_file=DB_PATH):\n",
    "    conn = sqlite3.connect(db_file)\n",
    "    return conn\n",
    "\n",
    "conn = get_db_connection()\n",
    "cur = conn.cursor()\n",
    "\n",
    "cur.execute(\"\"\" DROP TABLE IF EXISTS document_embedding \"\"\")"
   ]
  },
  {
   "cell_type": "code",
   "execution_count": null,
   "metadata": {},
   "outputs": [],
   "source": [
    "from embedding_gen_general import crear_db_vectorial\n",
    "\n",
    "# Diccionario de archivos con idioma y grupo\n",
    "file_paths = [\n",
    "    #'ficheros_prueba/CAS_ai_business_spanish.txt',\n",
    "    #'ficheros_prueba/CAT_ai_business_catalan.txt',\n",
    "    #'ficheros_prueba/ENG_ai_business_english.txt',\n",
    "    'ficheros_prueba/pdf_largo.pdf'\n",
    "]\n",
    "\n",
    "# Recorrer el diccionario y pasar la información a la función\n",
    "for file_path in file_paths:\n",
    "    # Llamar a la función para procesar cada archivo\n",
    "    crear_db_vectorial(file_path)"
   ]
  },
  {
   "cell_type": "code",
   "execution_count": null,
   "metadata": {},
   "outputs": [],
   "source": [
    "from embedding_gen_translation import crear_db_vectorial\n",
    "\n",
    "# Diccionario de archivos con idioma y grupo\n",
    "files_info = {\n",
    "    'ficheros_prueba/CAS_ai_business_spanish.txt': {'language': 'spanish', 'grupo': 1},\n",
    "    'ficheros_prueba/CAT_ai_business_catalan.txt': {'language': 'catalan', 'grupo': 1},\n",
    "    'ficheros_prueba/ENG_ai_business_english.txt': {'language': 'english', 'grupo': 1},\n",
    "}\n",
    "\n",
    "# Recorrer el diccionario y pasar la información a la función\n",
    "for file_path, file_info in files_info.items():\n",
    "    language = file_info['language']\n",
    "    grupo = file_info['grupo']\n",
    "    \n",
    "    # Llamar a la función para procesar cada archivo\n",
    "    crear_db_vectorial(file_path, language=language, grupo=grupo)\n"
   ]
  },
  {
   "cell_type": "code",
   "execution_count": null,
   "metadata": {},
   "outputs": [],
   "source": [
    "from embedding_search import find_general_examples,find_translation_examples\n",
    "\n",
    "text = \"Esto es un texto de prueba. Este es otro! Aquí tenemos otro textazo. Ahora hablo sobre la IA.\"\n",
    "language = \"spanish\"\n",
    "target_language = \"catalan\"\n",
    "\n",
    "#find_general_examples(text)\n",
    "find_translation_examples(text,language,target_language,k=1)"
   ]
  },
  {
   "cell_type": "code",
   "execution_count": null,
   "metadata": {},
   "outputs": [],
   "source": [
    "from embedding_search import find_general_examples\n",
    "\n",
    "text = \"Esto es un texto de prueba\"\n",
    "language = \"spanish\"\n",
    "target_language = \"catalan\"\n",
    "\n",
    "find_general_examples(text)\n"
   ]
  }
 ],
 "metadata": {
  "kernelspec": {
   "display_name": ".venv",
   "language": "python",
   "name": "python3"
  },
  "language_info": {
   "codemirror_mode": {
    "name": "ipython",
    "version": 3
   },
   "file_extension": ".py",
   "mimetype": "text/x-python",
   "name": "python",
   "nbconvert_exporter": "python",
   "pygments_lexer": "ipython3",
   "version": "3.11.4"
  }
 },
 "nbformat": 4,
 "nbformat_minor": 2
}
