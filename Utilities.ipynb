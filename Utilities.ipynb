{
 "cells": [
  {
   "cell_type": "code",
   "execution_count": null,
   "metadata": {},
   "outputs": [],
   "source": [
    "from file_processor.services.doc_extract_info import extract_info_from_multiple_docs\n",
    "\n",
    "input = 'C:/Python Projects/DocumentarIA/test/in/extract_in'\n",
    "output = 'C:/Python Projects/DocumentarIA/test/in/extract_out'\n",
    "\n",
    "prompts = ['Año del documento?', 'Resumen en 3 palabras del documento']\n",
    "tipos = ['num', 'text']\n",
    "\n",
    "extract_info_from_multiple_docs(input,output,prompts,tipos)\n"
   ]
  },
  {
   "cell_type": "code",
   "execution_count": 1,
   "metadata": {},
   "outputs": [
    {
     "name": "stdout",
     "output_type": "stream",
     "text": [
      "[H1]Programa Educativo de Ciencias para 2o de Primaria[/H1]\n",
      "\n",
      "[H2]Objetivos del Programa[/H2]\n",
      "[BOLD]El objetivo principal de este programa es fomentar la curiosidad y el interés de los estudiantes de 2o de primaria por la ciencia y su aplicación en la vida cotidiana.[/BOLD]\n",
      "\n",
      "[UL]\n",
      "  [ITALIC]Desarrollar habilidades de observación y experimentación[/ITALIC]\n",
      "  [ITALIC]Comprender conceptos básicos de ciencias naturales[/ITALIC]\n",
      "  [ITALIC]Fomentar la creatividad y el pensamiento crítico[/ITALIC]\n",
      "  [ITALIC]Promover la colaboración y el trabajo en equipo[/ITALIC]\n",
      "[/UL]\n",
      "\n",
      "[H2]Temas a Cubrir[/H2]\n",
      "[OL]\n",
      "  [ITALIC]Unidad 1: La Importancia del Agua[/ITALIC]\n",
      "  [ITALIC]Unidad 2: Los Cinco Sentidos[/ITALIC]\n",
      "  [ITALIC]Unidad 3: La Estructura de los Vivos[/ITALIC]\n",
      "  [ITALIC]Unidad 4: Los Climas y las Estaciones[/ITALIC]\n",
      "[/OL]\n",
      "\n",
      "[H2]Actividades y Experimentos[/H2]\n",
      "[BOLD]A continuación, se presentan algunas actividades y experimentos que se pueden realizar en el aula para cada unidad:[/BOLD]\n",
      "\n",
      "[UL]\n",
      "  [ITALIC]Unidad 1: La Importancia del Agua[/ITALIC]\n",
      "    [ITALIC]Experimento: El Ciclo del Agua[/ITALIC]\n",
      "    [ITALIC]Actividad: Creación de un diorama sobre la importancia del agua[/ITALIC]\n",
      "  [ITALIC]Unidad 2: Los Cinco Sentidos[/ITALIC]\n",
      "    [ITALIC]Experimento: La Percepción de los Colores[/ITALIC]\n",
      "    [ITALIC]Actividad: Creación de un mural sobre los cinco sentidos[/ITALIC]\n",
      "  [ITALIC]Unidad 3: La Estructura de los Vivos[/ITALIC]\n",
      "    [ITALIC]Experimento: La Observación de Células[/ITALIC]\n",
      "    [ITALIC]Actividad: Creación de un modelo de una célula[/ITALIC]\n",
      "  [ITALIC]Unidad 4: Los Climas y las Estaciones[/ITALIC]\n",
      "    [ITALIC]Experimento: La Creación de un Clima en una Botella[/ITALIC]\n",
      "    [ITALIC]Actividad: Creación de un calendario sobre las estaciones[/ITALIC]\n",
      "[/UL]\n",
      "\n",
      "[H2]Recursos y Materiales[/H2]\n",
      "[BOLD]A continuación, se presentan algunos recursos y materiales que se pueden utilizar para cada unidad:[/BOLD]\n",
      "\n",
      "[UL]\n",
      "  [ITALIC]Libros de texto y recursos en línea[/ITALIC]\n",
      "  [ITALIC]Materiales de laboratorio y equipo de seguridad[/ITALIC]\n",
      "  [ITALIC]Papel y lápices para dibujar y escribir[/ITALIC]\n",
      "  [ITALIC]Computadoras y tabletas para investigación y presentaciones[/ITALIC]\n",
      "[/UL]\n",
      "\n",
      "[H2]Evaluación y Retroalimentación[/H2]\n",
      "[BOLD]La evaluación y retroalimentación son fundamentales para el éxito del programa.[/BOLD]\n",
      "\n",
      "[UL]\n",
      "  [ITALIC]Evaluación continua de los estudiantes[/ITALIC]\n",
      "  [ITALIC]Retroalimentación constructiva y oportuna[/ITALIC]\n",
      "  [ITALIC]Ajustes al programa según sea necesario[/ITALIC]\n",
      "[/UL]\n"
     ]
    },
    {
     "ename": "PermissionError",
     "evalue": "[Errno 13] Permission denied: 'C:/Python Projects/DocumentarIA/test/out/document.docx'",
     "output_type": "error",
     "traceback": [
      "\u001b[1;31m---------------------------------------------------------------------------\u001b[0m",
      "\u001b[1;31mPermissionError\u001b[0m                           Traceback (most recent call last)",
      "Cell \u001b[1;32mIn[1], line 8\u001b[0m\n\u001b[0;32m      3\u001b[0m output \u001b[38;5;241m=\u001b[39m \u001b[38;5;124m'\u001b[39m\u001b[38;5;124mC:/Python Projects/DocumentarIA/test/out/document.docx\u001b[39m\u001b[38;5;124m'\u001b[39m\n\u001b[0;32m      5\u001b[0m prompt \u001b[38;5;241m=\u001b[39m \u001b[38;5;124m'\u001b[39m\u001b[38;5;124mGenera un programa educativo para una clase de ciencias de 2o de primaria\u001b[39m\u001b[38;5;124m'\u001b[39m\n\u001b[1;32m----> 8\u001b[0m \u001b[43mgenerate_and_create_file\u001b[49m\u001b[43m(\u001b[49m\u001b[43mprompt\u001b[49m\u001b[43m,\u001b[49m\u001b[43mfile_type\u001b[49m\u001b[38;5;241;43m=\u001b[39;49m\u001b[38;5;124;43m'\u001b[39;49m\u001b[38;5;124;43mdocx\u001b[39;49m\u001b[38;5;124;43m'\u001b[39;49m\u001b[43m,\u001b[49m\u001b[43moutput\u001b[49m\u001b[38;5;241;43m=\u001b[39;49m\u001b[43moutput\u001b[49m\u001b[43m)\u001b[49m\n",
      "File \u001b[1;32mc:\\Python Projects\\DocumentarIA\\file_processor\\services\\doc_generate.py:280\u001b[0m, in \u001b[0;36mgenerate_and_create_file\u001b[1;34m(prompt, file_type, output)\u001b[0m\n\u001b[0;32m    277\u001b[0m content \u001b[38;5;241m=\u001b[39m generate_content(prompt, file_type)\n\u001b[0;32m    279\u001b[0m \u001b[38;5;28;01mif\u001b[39;00m file_type\u001b[38;5;241m.\u001b[39mlower() \u001b[38;5;241m==\u001b[39m \u001b[38;5;124m'\u001b[39m\u001b[38;5;124mdocx\u001b[39m\u001b[38;5;124m'\u001b[39m:\n\u001b[1;32m--> 280\u001b[0m     \u001b[38;5;28;01mreturn\u001b[39;00m \u001b[43mcreate_docx_with_formatting\u001b[49m\u001b[43m(\u001b[49m\u001b[43mcontent\u001b[49m\u001b[43m,\u001b[49m\u001b[43moutput\u001b[49m\u001b[43m)\u001b[49m\n\u001b[0;32m    281\u001b[0m \u001b[38;5;28;01melif\u001b[39;00m file_type\u001b[38;5;241m.\u001b[39mlower() \u001b[38;5;241m==\u001b[39m \u001b[38;5;124m'\u001b[39m\u001b[38;5;124mpptx\u001b[39m\u001b[38;5;124m'\u001b[39m:\n\u001b[0;32m    282\u001b[0m     \u001b[38;5;28;01mreturn\u001b[39;00m create_pptx_with_formatting(content,output)\n",
      "File \u001b[1;32mc:\\Python Projects\\DocumentarIA\\file_processor\\services\\doc_generate.py:71\u001b[0m, in \u001b[0;36mcreate_docx_with_formatting\u001b[1;34m(content, output_path)\u001b[0m\n\u001b[0;32m     68\u001b[0m             p\u001b[38;5;241m.\u001b[39madd_run(line)  \u001b[38;5;66;03m# Añadir texto restante\u001b[39;00m\n\u001b[0;32m     69\u001b[0m             line \u001b[38;5;241m=\u001b[39m \u001b[38;5;124m\"\u001b[39m\u001b[38;5;124m\"\u001b[39m  \u001b[38;5;66;03m# Finaliza la línea actual\u001b[39;00m\n\u001b[1;32m---> 71\u001b[0m \u001b[43mdoc\u001b[49m\u001b[38;5;241;43m.\u001b[39;49m\u001b[43msave\u001b[49m\u001b[43m(\u001b[49m\u001b[43moutput_path\u001b[49m\u001b[43m)\u001b[49m\n\u001b[0;32m     72\u001b[0m \u001b[38;5;28;01mreturn\u001b[39;00m output_path\n",
      "File \u001b[1;32mc:\\Python Projects\\DocumentarIA\\.venv\\Lib\\site-packages\\docx\\document.py:149\u001b[0m, in \u001b[0;36mDocument.save\u001b[1;34m(self, path_or_stream)\u001b[0m\n\u001b[0;32m    143\u001b[0m \u001b[38;5;28;01mdef\u001b[39;00m \u001b[38;5;21msave\u001b[39m(\u001b[38;5;28mself\u001b[39m, path_or_stream: \u001b[38;5;28mstr\u001b[39m \u001b[38;5;241m|\u001b[39m IO[\u001b[38;5;28mbytes\u001b[39m]):\n\u001b[0;32m    144\u001b[0m \u001b[38;5;250m    \u001b[39m\u001b[38;5;124;03m\"\"\"Save this document to `path_or_stream`.\u001b[39;00m\n\u001b[0;32m    145\u001b[0m \n\u001b[0;32m    146\u001b[0m \u001b[38;5;124;03m    `path_or_stream` can be either a path to a filesystem location (a string) or a\u001b[39;00m\n\u001b[0;32m    147\u001b[0m \u001b[38;5;124;03m    file-like object.\u001b[39;00m\n\u001b[0;32m    148\u001b[0m \u001b[38;5;124;03m    \"\"\"\u001b[39;00m\n\u001b[1;32m--> 149\u001b[0m     \u001b[38;5;28;43mself\u001b[39;49m\u001b[38;5;241;43m.\u001b[39;49m\u001b[43m_part\u001b[49m\u001b[38;5;241;43m.\u001b[39;49m\u001b[43msave\u001b[49m\u001b[43m(\u001b[49m\u001b[43mpath_or_stream\u001b[49m\u001b[43m)\u001b[49m\n",
      "File \u001b[1;32mc:\\Python Projects\\DocumentarIA\\.venv\\Lib\\site-packages\\docx\\parts\\document.py:108\u001b[0m, in \u001b[0;36mDocumentPart.save\u001b[1;34m(self, path_or_stream)\u001b[0m\n\u001b[0;32m    105\u001b[0m \u001b[38;5;28;01mdef\u001b[39;00m \u001b[38;5;21msave\u001b[39m(\u001b[38;5;28mself\u001b[39m, path_or_stream: \u001b[38;5;28mstr\u001b[39m \u001b[38;5;241m|\u001b[39m IO[\u001b[38;5;28mbytes\u001b[39m]):\n\u001b[0;32m    106\u001b[0m \u001b[38;5;250m    \u001b[39m\u001b[38;5;124;03m\"\"\"Save this document to `path_or_stream`, which can be either a path to a\u001b[39;00m\n\u001b[0;32m    107\u001b[0m \u001b[38;5;124;03m    filesystem location (a string) or a file-like object.\"\"\"\u001b[39;00m\n\u001b[1;32m--> 108\u001b[0m     \u001b[38;5;28;43mself\u001b[39;49m\u001b[38;5;241;43m.\u001b[39;49m\u001b[43mpackage\u001b[49m\u001b[38;5;241;43m.\u001b[39;49m\u001b[43msave\u001b[49m\u001b[43m(\u001b[49m\u001b[43mpath_or_stream\u001b[49m\u001b[43m)\u001b[49m\n",
      "File \u001b[1;32mc:\\Python Projects\\DocumentarIA\\.venv\\Lib\\site-packages\\docx\\opc\\package.py:167\u001b[0m, in \u001b[0;36mOpcPackage.save\u001b[1;34m(self, pkg_file)\u001b[0m\n\u001b[0;32m    165\u001b[0m \u001b[38;5;28;01mfor\u001b[39;00m part \u001b[38;5;129;01min\u001b[39;00m \u001b[38;5;28mself\u001b[39m\u001b[38;5;241m.\u001b[39mparts:\n\u001b[0;32m    166\u001b[0m     part\u001b[38;5;241m.\u001b[39mbefore_marshal()\n\u001b[1;32m--> 167\u001b[0m \u001b[43mPackageWriter\u001b[49m\u001b[38;5;241;43m.\u001b[39;49m\u001b[43mwrite\u001b[49m\u001b[43m(\u001b[49m\u001b[43mpkg_file\u001b[49m\u001b[43m,\u001b[49m\u001b[43m \u001b[49m\u001b[38;5;28;43mself\u001b[39;49m\u001b[38;5;241;43m.\u001b[39;49m\u001b[43mrels\u001b[49m\u001b[43m,\u001b[49m\u001b[43m \u001b[49m\u001b[38;5;28;43mself\u001b[39;49m\u001b[38;5;241;43m.\u001b[39;49m\u001b[43mparts\u001b[49m\u001b[43m)\u001b[49m\n",
      "File \u001b[1;32mc:\\Python Projects\\DocumentarIA\\.venv\\Lib\\site-packages\\docx\\opc\\pkgwriter.py:34\u001b[0m, in \u001b[0;36mPackageWriter.write\u001b[1;34m(pkg_file, pkg_rels, parts)\u001b[0m\n\u001b[0;32m     30\u001b[0m \u001b[38;5;129m@staticmethod\u001b[39m\n\u001b[0;32m     31\u001b[0m \u001b[38;5;28;01mdef\u001b[39;00m \u001b[38;5;21mwrite\u001b[39m(pkg_file, pkg_rels, parts):\n\u001b[0;32m     32\u001b[0m \u001b[38;5;250m    \u001b[39m\u001b[38;5;124;03m\"\"\"Write a physical package (.pptx file) to `pkg_file` containing `pkg_rels` and\u001b[39;00m\n\u001b[0;32m     33\u001b[0m \u001b[38;5;124;03m    `parts` and a content types stream based on the content types of the parts.\"\"\"\u001b[39;00m\n\u001b[1;32m---> 34\u001b[0m     phys_writer \u001b[38;5;241m=\u001b[39m \u001b[43mPhysPkgWriter\u001b[49m\u001b[43m(\u001b[49m\u001b[43mpkg_file\u001b[49m\u001b[43m)\u001b[49m\n\u001b[0;32m     35\u001b[0m     PackageWriter\u001b[38;5;241m.\u001b[39m_write_content_types_stream(phys_writer, parts)\n\u001b[0;32m     36\u001b[0m     PackageWriter\u001b[38;5;241m.\u001b[39m_write_pkg_rels(phys_writer, pkg_rels)\n",
      "File \u001b[1;32mc:\\Python Projects\\DocumentarIA\\.venv\\Lib\\site-packages\\docx\\opc\\phys_pkg.py:109\u001b[0m, in \u001b[0;36m_ZipPkgWriter.__init__\u001b[1;34m(self, pkg_file)\u001b[0m\n\u001b[0;32m    107\u001b[0m \u001b[38;5;28;01mdef\u001b[39;00m \u001b[38;5;21m__init__\u001b[39m(\u001b[38;5;28mself\u001b[39m, pkg_file):\n\u001b[0;32m    108\u001b[0m     \u001b[38;5;28msuper\u001b[39m(_ZipPkgWriter, \u001b[38;5;28mself\u001b[39m)\u001b[38;5;241m.\u001b[39m\u001b[38;5;21m__init__\u001b[39m()\n\u001b[1;32m--> 109\u001b[0m     \u001b[38;5;28mself\u001b[39m\u001b[38;5;241m.\u001b[39m_zipf \u001b[38;5;241m=\u001b[39m \u001b[43mZipFile\u001b[49m\u001b[43m(\u001b[49m\u001b[43mpkg_file\u001b[49m\u001b[43m,\u001b[49m\u001b[43m \u001b[49m\u001b[38;5;124;43m\"\u001b[39;49m\u001b[38;5;124;43mw\u001b[39;49m\u001b[38;5;124;43m\"\u001b[39;49m\u001b[43m,\u001b[49m\u001b[43m \u001b[49m\u001b[43mcompression\u001b[49m\u001b[38;5;241;43m=\u001b[39;49m\u001b[43mZIP_DEFLATED\u001b[49m\u001b[43m)\u001b[49m\n",
      "File \u001b[1;32mC:\\Program Files\\Python\\Lib\\zipfile.py:1284\u001b[0m, in \u001b[0;36mZipFile.__init__\u001b[1;34m(self, file, mode, compression, allowZip64, compresslevel, strict_timestamps, metadata_encoding)\u001b[0m\n\u001b[0;32m   1282\u001b[0m \u001b[38;5;28;01mwhile\u001b[39;00m \u001b[38;5;28;01mTrue\u001b[39;00m:\n\u001b[0;32m   1283\u001b[0m     \u001b[38;5;28;01mtry\u001b[39;00m:\n\u001b[1;32m-> 1284\u001b[0m         \u001b[38;5;28mself\u001b[39m\u001b[38;5;241m.\u001b[39mfp \u001b[38;5;241m=\u001b[39m \u001b[43mio\u001b[49m\u001b[38;5;241;43m.\u001b[39;49m\u001b[43mopen\u001b[49m\u001b[43m(\u001b[49m\u001b[43mfile\u001b[49m\u001b[43m,\u001b[49m\u001b[43m \u001b[49m\u001b[43mfilemode\u001b[49m\u001b[43m)\u001b[49m\n\u001b[0;32m   1285\u001b[0m     \u001b[38;5;28;01mexcept\u001b[39;00m \u001b[38;5;167;01mOSError\u001b[39;00m:\n\u001b[0;32m   1286\u001b[0m         \u001b[38;5;28;01mif\u001b[39;00m filemode \u001b[38;5;129;01min\u001b[39;00m modeDict:\n",
      "\u001b[1;31mPermissionError\u001b[0m: [Errno 13] Permission denied: 'C:/Python Projects/DocumentarIA/test/out/document.docx'"
     ]
    }
   ],
   "source": [
    "from file_processor.services.doc_generate import generate_and_create_file\n",
    "\n",
    "output = 'C:/Python Projects/DocumentarIA/test/out/document.docx'\n",
    "\n",
    "prompt = 'Genera un programa educativo para una clase de ciencias de 2o de primaria'\n",
    "\n",
    "\n",
    "generate_and_create_file(prompt,file_type='docx',output=output)\n",
    "\n"
   ]
  },
  {
   "cell_type": "code",
   "execution_count": null,
   "metadata": {},
   "outputs": [],
   "source": [
    "from file_processor.services.doc_extract_info import extract_info_from_doc\n",
    "\n",
    "input = 'C:/Python Projects/DocumentarIA/test/in/extract_in/pdf_largo.pdf'\n",
    "output = 'C:/Python Projects/DocumentarIA/test/in/extract_out/pdf_largo.json'\n",
    "\n",
    "prompts = ['Año del documento?', 'Resumen en 3 palabras del documento']\n",
    "tipos = ['num', 'text']\n",
    "\n",
    "extract_info_from_doc(input,output,prompts,tipos)\n"
   ]
  }
 ],
 "metadata": {
  "kernelspec": {
   "display_name": ".venv",
   "language": "python",
   "name": "python3"
  },
  "language_info": {
   "codemirror_mode": {
    "name": "ipython",
    "version": 3
   },
   "file_extension": ".py",
   "mimetype": "text/x-python",
   "name": "python",
   "nbconvert_exporter": "python",
   "pygments_lexer": "ipython3",
   "version": "3.11.4"
  }
 },
 "nbformat": 4,
 "nbformat_minor": 2
}
