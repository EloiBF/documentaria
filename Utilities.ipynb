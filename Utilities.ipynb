{
 "cells": [
  {
   "cell_type": "code",
   "execution_count": 1,
   "metadata": {},
   "outputs": [
    {
     "name": "stdout",
     "output_type": "stream",
     "text": [
      "Contenido de app.py:\n",
      "from flask import Flask, render_template, request, redirect, url_for, jsonify, send_from_directory, abort\n",
      "from werkzeug.utils import secure_filename\n",
      "import os\n",
      "import threading\n",
      "import time\n",
      "from pathlib import Path\n",
      "import json\n",
      "from doc_translator import traducir_doc\n",
      "from model_translator import translate_text\n",
      "from model_transcribe import transcribe_audio\n",
      "from doc_editor import editar_doc\n",
      "from doc_summary import resumir_doc  # Asumimos que tienes una función para resumir documentos\n",
      "from doc_extract_info import extract_info_from_doc\n",
      "\n",
      "app = Flask(__name__)\n",
      "app.config['UPLOAD_FOLDER'] = os.path.abspath('docs/uploads')\n",
      "app.config['RESULT_FOLDER'] = os.path.abspath('docs/downloads')\n",
      "app.config['ALLOWED_EXTENSIONS'] = {'docx', 'pptx', 'pdf','txt','html', 'm4a', 'wav', 'mp3'}\n",
      "app.config['MAX_CONTENT_LENGTH'] = 16 * 1024 * 1024  # 16 MB\n",
      "\n",
      "class FileProcessor:\n",
      "    def __init__(self, process_func):\n",
      "        self.process_func = process_func\n",
      "\n",
      "    def allowed_file(self, filename):\n",
      "        return '.' in filename and filename.rsplit('.', 1)[1].lower() in app.config['ALLOWED_EXTENSIONS']\n",
      "\n",
      "    def get_result_filename(self, filename):\n",
      "        raise NotImplementedError(\"Subclasses should implement this method\")\n",
      "\n",
      "    def handle_file_removal(self, file_path):\n",
      "        time.sleep(20)\n",
      "        if os.path.exists(file_path):\n",
      "            os.remove(file_path)\n",
      "\n",
      "    def process_file(self, file, *args):\n",
      "        filename = secure_filename(file.filename)\n",
      "        file_path = os.path.join(app.config['UPLOAD_FOLDER'], filename)\n",
      "        file.save(file_path)\n",
      "        result_filename = self.get_result_filename(filename)\n",
      "        result_file_path = os.path.join(app.config['RESULT_FOLDER'], result_filename)\n",
      "        threading.Thread(target=self.process_func, args=(file_path, result_file_path, *args)).start()\n",
      "        return filename, result_filename\n",
      "\n",
      "    def download_file(self, filename):\n",
      "        result_file_path = os.path.join(app.config['RESULT_FOLDER'], filename)\n",
      "\n",
      "        if not os.path.exists(result_file_path):\n",
      "            print(f\"Archivo no encontrado en la ruta: {result_file_path}\")\n",
      "            abort(404, description=\"Archivo no encontrado\")\n",
      "\n",
      "        print(f\"Enviando archivo: {filename} desde {result_file_path}\")\n",
      "\n",
      "        # Crear un hilo para la eliminación de los archivos después de la descarga\n",
      "        threading.Thread(target=self.handle_file_removal, args=(os.path.join(app.config['UPLOAD_FOLDER'], self.get_original_filename(filename)),)).start()\n",
      "        threading.Thread(target=self.handle_file_removal, args=(result_file_path,)).start()\n",
      "\n",
      "        return send_from_directory(app.config['RESULT_FOLDER'], filename, as_attachment=True)\n",
      "\n",
      "    def check_status(self, filename):\n",
      "        result_filename = self.get_result_filename(filename)\n",
      "        result_file_path = os.path.join(app.config['RESULT_FOLDER'], result_filename)\n",
      "\n",
      "        return jsonify({\"status\": \"completed\" if os.path.exists(result_file_path) else \"processing\"})\n",
      "\n",
      "    def get_original_filename(self, result_filename):\n",
      "        return result_filename  # Implementar lógica si se necesita obtener el nombre del archivo original a partir del resultado\n",
      "\n",
      "\n",
      "class DocumentTranslator(FileProcessor):\n",
      "    def __init__(self):\n",
      "        super().__init__(self.background_translation)\n",
      "\n",
      "    def get_result_filename(self, filename):\n",
      "        file_ext = os.path.splitext(filename)[1].lower()\n",
      "        if file_ext == '.pdf':\n",
      "            return f\"{os.path.splitext(filename)[0]}.docx\"\n",
      "        else:\n",
      "            return filename\n",
      "\n",
      "    def background_translation(self, file_path, result_file_path, language, origin_language, color_to_exclude, add_prompt):\n",
      "        try:\n",
      "            if os.path.exists(result_file_path):\n",
      "                os.remove(result_file_path)\n",
      "\n",
      "            traducir_doc(\n",
      "                input_path=file_path,\n",
      "                output_path=result_file_path,\n",
      "                origin_language=origin_language,\n",
      "                destination_language=language,\n",
      "                extension=os.path.splitext(file_path)[1].lower(),\n",
      "                color_to_exclude=color_to_exclude,\n",
      "                add_prompt=add_prompt\n",
      "            )\n",
      "        except Exception as e:\n",
      "            print(f\"Error durante la traducción del archivo: {str(e)}\")\n",
      "\n",
      "\n",
      "class AudioTranscriber(FileProcessor):\n",
      "    def __init__(self):\n",
      "        super().__init__(self.background_transcribe)\n",
      "\n",
      "    def get_result_filename(self, filename):\n",
      "        return f\"{os.path.splitext(filename)[0]}.txt\"\n",
      "\n",
      "    def background_transcribe(self, file_path, result_file_path, audio_language):\n",
      "        try:\n",
      "            if os.path.exists(result_file_path):\n",
      "                os.remove(result_file_path)\n",
      "\n",
      "            transcribed_text = transcribe_audio(file_path, output_path=result_file_path, language=audio_language, model='whisper-large-v3')\n",
      "            with open(result_file_path, 'w') as file:\n",
      "                file.write(transcribed_text)\n",
      "        except Exception as e:\n",
      "            print(f\"Error durante la transcripción del archivo: {str(e)}\")\n",
      "\n",
      "\n",
      "class DocumentEditor(FileProcessor):\n",
      "    def __init__(self):\n",
      "        super().__init__(self.background_edit)\n",
      "\n",
      "    def get_result_filename(self, filename):\n",
      "        file_ext = os.path.splitext(filename)[1].lower()\n",
      "        if file_ext == '.pdf':\n",
      "            return f\"{os.path.splitext(filename)[0]}.docx\"\n",
      "        else:\n",
      "            return filename  # Mantener el mismo nombre de archivo\n",
      "\n",
      "    def background_edit(self, file_path, result_file_path, add_prompt, color_to_exclude):\n",
      "        try:\n",
      "            if os.path.exists(result_file_path):\n",
      "                os.remove(result_file_path)\n",
      "            extension = os.path.splitext(file_path)[1].lower()\n",
      "            editar_doc(file_path, result_file_path, extension, color_to_exclude, add_prompt)\n",
      "        except Exception as e:\n",
      "            print(f\"Error durante la edición del archivo: {str(e)}\")\n",
      "\n",
      "\n",
      "class DocumentSummarizer(FileProcessor):\n",
      "    def __init__(self):\n",
      "        super().__init__(self.background_summarize)\n",
      "\n",
      "    def get_result_filename(self, filename):\n",
      "        return f\"{os.path.splitext(filename)[0]}.txt\"\n",
      "\n",
      "    def background_summarize(self, file_path, result_file_path, num_words, summary_language, add_prompt):\n",
      "        try:\n",
      "            # Eliminar el archivo de resultado existente si ya existe\n",
      "            if os.path.exists(result_file_path):\n",
      "                os.remove(result_file_path)\n",
      "\n",
      "            # Llamar a la función de resumen con los parámetros adicionales\n",
      "            summarized_text = resumir_doc(file_path, num_words=num_words, summary_language=summary_language, add_prompt=add_prompt)\n",
      "            \n",
      "            # Verificar que el resultado es una cadena\n",
      "            if not isinstance(summarized_text, str):\n",
      "                raise ValueError(\"El texto resumido no es una cadena\")\n",
      "\n",
      "            # Guardar el texto resumido en el archivo de resultado\n",
      "            with open(result_file_path, 'w') as file:\n",
      "                file.write(summarized_text)\n",
      "                \n",
      "        except Exception as e:\n",
      "            print(f\"Error durante el resumen del archivo: {str(e)}\")\n",
      "\n",
      "\n",
      "class InformationExtractor(FileProcessor):\n",
      "    def __init__(self):\n",
      "        super().__init__(self.background_extract)\n",
      "\n",
      "    def get_result_filename(self, filename):\n",
      "        return f\"{os.path.splitext(filename)[0]}_extracted.txt\"\n",
      "\n",
      "    def process_file(self, file, prompts, response_types, examples):\n",
      "        filename = secure_filename(file.filename)\n",
      "        file_path = os.path.join(app.config['UPLOAD_FOLDER'], filename)\n",
      "        result_filename = self.get_result_filename(filename)\n",
      "        result_file_path = os.path.join(app.config['RESULT_FOLDER'], result_filename)\n",
      "        \n",
      "        # Guardar archivo subido\n",
      "        file.save(file_path)\n",
      "\n",
      "        # Llamar al método que procesará el archivo en segundo plano\n",
      "        threading.Thread(target=self.background_extract, args=(file_path, result_file_path, prompts, response_types, examples)).start()\n",
      "\n",
      "        return filename, result_filename\n",
      "\n",
      "    def background_extract(self, file_path, result_file_path, prompts, response_types, examples):\n",
      "        try:\n",
      "            if os.path.exists(result_file_path):\n",
      "                os.remove(result_file_path)\n",
      "\n",
      "            # Extraer la información\n",
      "            extracted_data = extract_info_from_doc(\n",
      "                file_path,\n",
      "                prompts, \n",
      "                response_types, \n",
      "                ejemplos_respuesta=examples\n",
      "            )\n",
      "            \n",
      "            # Guardar los datos extraídos en un archivo JSON\n",
      "            with open(result_file_path, 'w') as file:\n",
      "                json.dump(extracted_data, file, indent=4)\n",
      "\n",
      "        except Exception as e:\n",
      "            print(f\"Error durante la extracción de información del archivo: {str(e)}\")\n",
      "\n",
      "# Instancias para cada tipo de procesamiento\n",
      "translator = DocumentTranslator()\n",
      "transcriber = AudioTranscriber()\n",
      "editor = DocumentEditor()\n",
      "summarizer = DocumentSummarizer()\n",
      "extractor = InformationExtractor()\n",
      "\n",
      "# Rutas estáticas\n",
      "@app.route('/')\n",
      "def index():\n",
      "    return render_template('index.html')\n",
      "\n",
      "@app.route('/privacy_policy')\n",
      "def privacy_policy():\n",
      "    return render_template('privacy_policy.html')\n",
      "\n",
      "@app.route('/terms_and_conditions')\n",
      "def terms_and_conditions():\n",
      "    return render_template('terms_and_conditions.html')\n",
      "\n",
      "@app.route('/about_us')\n",
      "def about_us():\n",
      "    return render_template('about_us.html')\n",
      "\n",
      "@app.route('/contact')\n",
      "def contact():\n",
      "    return render_template('contact.html')\n",
      "\n",
      "\n",
      "@app.route('/check_status/<process_type>/<filename>')\n",
      "def check_status(process_type, filename):\n",
      "    if process_type == \"translate\":\n",
      "        result_filename = translator.get_result_filename(filename)\n",
      "    elif process_type == \"transcribe\":\n",
      "        result_filename = transcriber.get_result_filename(filename)\n",
      "    elif process_type == \"edit\":\n",
      "        result_filename = editor.get_result_filename(filename)\n",
      "    elif process_type == \"summary\":\n",
      "        result_filename = summarizer.get_result_filename(filename)\n",
      "    elif process_type == \"extract\":\n",
      "        result_filename = extractor.get_result_filename(filename)\n",
      "    else:\n",
      "        return jsonify({\"status\": \"error\", \"message\": \"Invalid process type\"}), 400\n",
      "\n",
      "    result_file_path = os.path.join(app.config['RESULT_FOLDER'], result_filename)\n",
      "    if os.path.exists(result_file_path):\n",
      "        return jsonify({\"status\": \"completed\"})\n",
      "    else:\n",
      "        return jsonify({\"status\": \"in_progress\"})\n",
      "\n",
      "\n",
      "@app.route('/download/<process_type>/<filename>')\n",
      "def download_file(process_type, filename):\n",
      "    if process_type == \"translate\":\n",
      "        result_filename = translator.get_result_filename(filename)\n",
      "    elif process_type == \"transcribe\":\n",
      "        result_filename = transcriber.get_result_filename(filename)\n",
      "    elif process_type == \"edit\":\n",
      "        result_filename = editor.get_result_filename(filename)\n",
      "    elif process_type == \"summary\":\n",
      "        result_filename = summarizer.get_result_filename(filename)\n",
      "    elif process_type == \"extract\":\n",
      "        result_filename = extractor.get_result_filename(filename)        \n",
      "    else:\n",
      "        abort(400, description=\"Tipo de proceso inválido\")\n",
      "\n",
      "    file_path = os.path.join(app.config['UPLOAD_FOLDER'], filename)\n",
      "    result_file_path = os.path.join(app.config['RESULT_FOLDER'], result_filename)\n",
      "\n",
      "    if not os.path.exists(result_file_path):\n",
      "        print(f\"Archivo no encontrado en la ruta: {result_file_path}\")\n",
      "        abort(404, description=\"Archivo no encontrado\")\n",
      "\n",
      "    print(f\"Enviando archivo: {result_filename} desde {result_file_path}\")\n",
      "\n",
      "    # Crear un hilo para la eliminación de los archivos después de la descarga\n",
      "    threading.Thread(target=translator.handle_file_removal, args=(file_path,)).start()\n",
      "    threading.Thread(target=translator.handle_file_removal, args=(result_file_path,)).start()\n",
      "\n",
      "    return send_from_directory(app.config['RESULT_FOLDER'], result_filename, as_attachment=True)\n",
      "\n",
      "\n",
      "\n",
      "\n",
      "\n",
      "\n",
      "\n",
      "\n",
      "# Rutas de traducción\n",
      "@app.route('/translate', methods=['GET', 'POST'])\n",
      "def upload_translate():\n",
      "    if request.method == 'POST':\n",
      "        file = request.files.get('file')\n",
      "        language = request.form.get('target_language')\n",
      "        origin_language = request.form.get('source_language')\n",
      "        color_to_exclude = request.form.get('color_to_exclude', None)\n",
      "        add_prompt = request.form.get('add_prompt', '')\n",
      "\n",
      "        if not file or not language or not origin_language:\n",
      "            error_message = \"Faltan parámetros\"\n",
      "            return render_template('serv_translate.html', max_file_size=app.config['MAX_CONTENT_LENGTH'], error_message=error_message)\n",
      "\n",
      "        if file.filename == '':\n",
      "            error_message = \"No se seleccionó ningún archivo\"\n",
      "            return render_template('serv_translate.html', max_file_size=app.config['MAX_CONTENT_LENGTH'], error_message=error_message)\n",
      "\n",
      "        if translator.allowed_file(file.filename):\n",
      "            filename, result_filename = translator.process_file(file, language, origin_language, color_to_exclude, add_prompt)\n",
      "            return redirect(url_for('check_progress_translate', filename=result_filename))\n",
      "\n",
      "    return render_template('serv_translate.html', max_file_size=app.config['MAX_CONTENT_LENGTH'])\n",
      "\n",
      "@app.route('/progress_translate/<filename>')\n",
      "def check_progress_translate(filename):\n",
      "    result_filename = translator.get_result_filename(filename)\n",
      "    print(f\"Checking result file: {result_filename}\")\n",
      "    result_file_path = os.path.join(app.config['RESULT_FOLDER'], result_filename)\n",
      "    print(f\"Full path to result file: {result_file_path}\")\n",
      "    if os.path.exists(result_file_path):\n",
      "        print(\"File exists, redirecting to result page.\")\n",
      "        return redirect(url_for('result_translate', filename=result_filename))\n",
      "    print(\"File does not exist, staying on progress page.\")\n",
      "    return render_template('serv_translate_progress.html', filename=filename)\n",
      "\n",
      "\n",
      "@app.route('/result_translate/<filename>')\n",
      "def result_translate(filename):\n",
      "    result_filename = translator.get_result_filename(filename)\n",
      "    result_file_path = os.path.join(app.config['RESULT_FOLDER'], result_filename)\n",
      "\n",
      "    if os.path.exists(result_file_path):\n",
      "        return render_template('serv_translate_result.html', filename=result_filename)\n",
      "    else:\n",
      "        return redirect(url_for('check_progress_translate', filename=filename))\n",
      "\n",
      "\n",
      "# Rutas de transcripción\n",
      "@app.route('/transcribe', methods=['GET', 'POST'])\n",
      "def upload_transcribe():\n",
      "    if request.method == 'POST':\n",
      "        file = request.files.get('file')\n",
      "        audio_language = request.form.get('audio_language')\n",
      "\n",
      "        if file and transcriber.allowed_file(file.filename):\n",
      "            filename, result_filename = transcriber.process_file(file, audio_language)\n",
      "            return redirect(url_for('check_progress_transcribe', filename=result_filename))\n",
      "    \n",
      "    return render_template('serv_transcribe.html')\n",
      "\n",
      "@app.route('/progress_transcribe/<filename>')\n",
      "def check_progress_transcribe(filename):\n",
      "    result_filename = transcriber.get_result_filename(filename)\n",
      "    result_file_path = os.path.join(app.config['RESULT_FOLDER'], result_filename)\n",
      "\n",
      "    if os.path.exists(result_file_path):\n",
      "        return redirect(url_for('result_transcribe', filename=result_filename))\n",
      "    \n",
      "    return render_template('serv_transcribe_progress.html', filename=filename)\n",
      "\n",
      "@app.route('/result_transcribe/<filename>', methods=['GET'])\n",
      "def result_transcribe(filename):\n",
      "    result_filename = transcriber.get_result_filename(filename)\n",
      "    result_file_path = os.path.join(app.config['RESULT_FOLDER'], result_filename)\n",
      "\n",
      "    if os.path.exists(result_file_path):\n",
      "        with open(result_file_path, 'r') as file:\n",
      "            transcription = file.read()\n",
      "        return render_template('serv_transcribe_result.html', transcription=transcription)\n",
      "    else:\n",
      "        return redirect(url_for('check_progress_transcribe', filename=filename))\n",
      "\n",
      "\n",
      "# Rutas de edición\n",
      "@app.route('/edit', methods=['GET', 'POST'])\n",
      "def upload_edit():\n",
      "    if request.method == 'POST':\n",
      "        file = request.files.get('file')\n",
      "        add_prompt = request.form.get('add_prompt')\n",
      "        color_to_exclude = request.form.get('color_to_exclude')\n",
      "        \n",
      "        if file:\n",
      "            filename, result_filename = editor.process_file(file, add_prompt, color_to_exclude)\n",
      "            return redirect(url_for('check_progress_edit', filename=result_filename))\n",
      "        else:\n",
      "            return \"No file uploaded\", 400\n",
      "    \n",
      "    return render_template('serv_edit.html')\n",
      "\n",
      "@app.route('/check_progress_edit/<filename>')\n",
      "def check_progress_edit(filename):\n",
      "    result_filename = editor.get_result_filename(filename)\n",
      "    result_file_path = os.path.join(app.config['RESULT_FOLDER'], result_filename)\n",
      "\n",
      "    if os.path.exists(result_file_path):\n",
      "        return redirect(url_for('result_edit', filename=result_filename))\n",
      "    \n",
      "    return render_template('serv_edit_progress.html', filename=filename)\n",
      "\n",
      "@app.route('/result_edit/<filename>')\n",
      "def result_edit(filename):\n",
      "    result_filename = editor.get_result_filename(filename)\n",
      "    result_file_path = os.path.join(app.config['RESULT_FOLDER'], result_filename)\n",
      "\n",
      "    if os.path.exists(result_file_path):\n",
      "        return render_template('serv_edit_result.html', filename=result_filename)\n",
      "    else:\n",
      "        return redirect(url_for('check_progress_edit', filename=filename))\n",
      "\n",
      "\n",
      "# Rutas de resumen\n",
      "@app.route('/summary', methods=['GET', 'POST'])\n",
      "def upload_summary():\n",
      "    if request.method == 'POST':\n",
      "        file = request.files.get('file')\n",
      "        num_words = request.form.get('num_words')\n",
      "        summary_language = request.form.get('summary_language')\n",
      "        add_prompt = request.form.get('add_prompt', '')\n",
      "\n",
      "        if file:\n",
      "            # Procesar el archivo utilizando el resumidor de documentos\n",
      "            filename, result_filename = summarizer.process_file(file, num_words, summary_language, add_prompt)\n",
      "            return redirect(url_for('check_progress_summary', filename=result_filename))\n",
      "    \n",
      "    return render_template('serv_summary.html')\n",
      "\n",
      "@app.route('/check_progress_summary/<filename>')\n",
      "def check_progress_summary(filename):\n",
      "    result_filename = summarizer.get_result_filename(filename)\n",
      "    result_file_path = os.path.join(app.config['RESULT_FOLDER'], result_filename)\n",
      "\n",
      "    if os.path.exists(result_file_path):\n",
      "        return redirect(url_for('result_summary', filename=result_filename))\n",
      "    \n",
      "    return render_template('serv_summary_progress.html', filename=filename)\n",
      "\n",
      "@app.route('/result_summary/<filename>', methods=['GET'])\n",
      "def result_summary(filename):\n",
      "    result_filename = summarizer.get_result_filename(filename)\n",
      "    result_file_path = os.path.join(app.config['RESULT_FOLDER'], result_filename)\n",
      "\n",
      "    if os.path.exists(result_file_path):\n",
      "        with open(result_file_path, 'r') as file:\n",
      "            summary = file.read()\n",
      "        return render_template('serv_summary_result.html', summary=summary)\n",
      "    else:\n",
      "        return redirect(url_for('check_progress_summary', filename=filename))\n",
      "\n",
      "\n",
      "# Extracció de dades de documents\n",
      "\n",
      "# Rutas de extracción de información ajustadas\n",
      "@app.route('/extract', methods=['GET', 'POST'])\n",
      "def upload_extract():\n",
      "    if request.method == 'POST':\n",
      "        file = request.files.get('file')  # Obtener el único archivo subido\n",
      "        prompts = request.form.getlist('prompts')  # Obtener las preguntas como lista\n",
      "        response_types = request.form.getlist('response_types')  # Obtener los tipos de respuesta como lista\n",
      "        examples = request.form.getlist('examples')  # Obtener ejemplos si existen\n",
      "\n",
      "        if file:\n",
      "            filename, result_filename = extractor.process_file(file, prompts, response_types, examples)\n",
      "            return redirect(url_for('check_progress_extract', filename=result_filename))\n",
      "    \n",
      "    return render_template('serv_extract.html')\n",
      "\n",
      "\n",
      "@app.route('/check_progress_extract/<filename>')\n",
      "def check_progress_extract(filename):\n",
      "    result_filename = extractor.get_result_filename(filename)\n",
      "    result_file_path = os.path.join(app.config['RESULT_FOLDER'], result_filename)\n",
      "\n",
      "    if os.path.exists(result_file_path):\n",
      "        return redirect(url_for('result_extract', filename=result_filename))\n",
      "    \n",
      "    return render_template('serv_extract_progress.html', filename=filename)\n",
      "\n",
      "\n",
      "@app.route('/result_extract/<filename>')\n",
      "def result_extract(filename):\n",
      "    result_filename = extractor.get_result_filename(filename)\n",
      "    result_file_path = os.path.join(app.config['RESULT_FOLDER'], result_filename)\n",
      "\n",
      "    if os.path.exists(result_file_path):\n",
      "        with open(result_file_path, 'r') as file:\n",
      "            extracted_data = json.load(file)\n",
      "\n",
      "        return render_template('serv_extract_result.html', extracted_data=extracted_data)\n",
      "    else:\n",
      "        return redirect(url_for('check_progress_extract', filename=filename))\n",
      "    \n",
      "\n",
      "if __name__ == '__main__':\n",
      "    Path(app.config['UPLOAD_FOLDER']).mkdir(parents=True, exist_ok=True)\n",
      "    Path(app.config['RESULT_FOLDER']).mkdir(parents=True, exist_ok=True)\n",
      "    app.run(debug=True)\n",
      "\n",
      "\n",
      "========================================\n",
      "\n",
      "Contenido de templates/index.html:\n",
      "{% extends 'base.html' %}\n",
      "\n",
      "{% block title %}DocumentarIA - Traductor de Documents{% endblock %}\n",
      "\n",
      "{% block content %}\n",
      "<main>\n",
      "    <!-- Secció d'inici -->\n",
      "    <section id=\"home\" class=\"hero-section\">\n",
      "        <div class=\"hero-container\">\n",
      "            <div class=\"hero-content\">\n",
      "                <h1>Automatització de text i àudio amb IA... i en català</h1>\n",
      "                <p>Els models LLM més avançats a la teva disposició, entrenats amb la nostra llengua.\n",
      "                 Tradueix, edita i analitza documents de text i àudio directament a la nostra web.</p>\n",
      "            </div>\n",
      "            <div class=\"hero-group-button\">\n",
      "            </div>\n",
      "        </div>\n",
      "    </section>\n",
      "\n",
      "<!-- Secció de serveis -->\n",
      "<section id=\"services\">\n",
      "    <div class=\"services-title\">\n",
      "        <h1>Solucions</h1>\n",
      "        <p>Prova els nostres serveis de forma gratuïta!</p>\n",
      "    </div>\n",
      "    <div class=\"service-container\">\n",
      "        <div class=\"service-item\">\n",
      "            <img src=\"{{ url_for('static', filename='images/translate.png') }}\" alt=\"Traducció de documents\">\n",
      "            <div class=\"service-content\">\n",
      "                <h2>Traducció de Documents</h2>\n",
      "                <p>Tradueix documents amb la millor qualitat i rapidesa... mantenint el mateix format i disseny!</p>\n",
      "                <p>Pots traduir una gran varietat de documents (docx, pdf, pptx, txt, html)</p>\n",
      "                <a href=\"{{ url_for('upload_translate') }}\" class=\"cta-button\">Vull traduir</a>\n",
      "            </div>\n",
      "        </div>\n",
      "        <div class=\"service-item\">\n",
      "            <img src=\"{{ url_for('static', filename='images/editing.png') }}\" alt=\"Edició de documents\">\n",
      "            <div class=\"service-content\">\n",
      "                <h2>Edició de Documents</h2>\n",
      "                <p>Transforma i ajusta els teus documents per aconseguir una presentació impecable. Ideal per a presentacions i informes.</p>\n",
      "                <p>Corregeix errors i expressions, modifica la tonalitat o simplement redacta paràgrafs de nou.</p>\n",
      "                <a href=\"{{ url_for('upload_edit') }}\" class=\"cta-button\">Vull editar</a>\n",
      "            </div>\n",
      "        </div>\n",
      "        <div class=\"service-item\">\n",
      "            <img src=\"{{ url_for('static', filename='images/transcription.png') }}\" alt=\"Transcripció de veu\">\n",
      "            <div class=\"service-content\">\n",
      "                <h2>Transcripció i anàlisi d'Àudio</h2>\n",
      "                <p>Converteix enregistraments d'àudio en text amb alta precisió.</p>\n",
      "                <p>Analitza àudio de forma automàtica amb la nostra solució de Speech Analytics.</p>\n",
      "                <a href=\"{{ url_for('upload_transcribe') }}\" class=\"cta-button\">Vull trascriure</a>\n",
      "            </div>\n",
      "        </div>\n",
      "        <div class=\"service-item\">\n",
      "            <img src=\"{{ url_for('static', filename='images/summarization.png') }}\" alt=\"Resum de text\">\n",
      "            <div class=\"service-content\">\n",
      "                <h2>Resum de Text</h2>\n",
      "                <p>Resumim documents llargs en pocs paràgrafs concisos, mantenint les idees principals.</p>\n",
      "                <p>Ideal per processar informes, articles o qualsevol altre tipus de document extens.</p>\n",
      "                <a href=\"{{ url_for('upload_summary') }}\" class=\"cta-button\">Vull un resum</a>\n",
      "            </div>\n",
      "        </div>\n",
      "        <div class=\"service-item\">\n",
      "            <img src=\"{{ url_for('static', filename='images/extract_info.png') }}\" alt=\"Resum de text\">\n",
      "            <div class=\"service-content\">\n",
      "                <h2>Anàlisi de text i àudios</h2>\n",
      "                <p>Extreu informació dels teus documents o àudios de forma automàtica i precisa.</p>\n",
      "                <p>Genera bases de dades i anàlisis completament automatitzats!</p>\n",
      "                <a href=\"{{ url_for('upload_extract') }}\" class=\"cta-button\">Vull un resum</a>\n",
      "            </div>\n",
      "        </div>\n",
      "    </div>\n",
      "</section>\n",
      "\n",
      "    <!-- Secció sobre nosaltres -->\n",
      "    <section id=\"about-us\">\n",
      "        <div class=\"about-us-container\">\n",
      "            <h2>Qui som?</h2>\n",
      "            <p>Som especialistes en l'aplicació de models IA per tractar text i àudio en català. La nostra missió és proporcionar traduccions de la més alta qualitat que capturin la precisió i el matís del teu contingut original.</p>\n",
      "            <p>DocumentarIA utilitza els models de IA més avançats i entrenats específicament amb la llengua catalana, per aconseguir traduccions més ràpides i precises.</p>\n",
      "            <p>Garantitzem que es mantindrà la major part del format del document amb la traducció. Pot ser necessària la intervenció humana per revisar el resultat, pero serà mínima gràcies a DocumentarIA.</p>\n",
      "        </div>\n",
      "    </section>\n",
      "\n",
      "    <!-- Secció de contacte -->\n",
      "    <section id=\"contact\">\n",
      "        <div class=\"contact-container\">\n",
      "            <h2>Contacte</h2>\n",
      "            <p>Per qualsevol consulta o suport, contacta'ns mitjançant el següent formulari:</p>\n",
      "            <form action=\"{{ url_for('contact') }}\" method=\"post\">\n",
      "                <div class=\"form-group\">\n",
      "                    <label for=\"name\">Nom:</label>\n",
      "                    <input type=\"text\" id=\"name\" name=\"name\" required>\n",
      "                </div>\n",
      "                <div class=\"form-group\">\n",
      "                    <label for=\"email\">Correu electrònic:</label>\n",
      "                    <input type=\"email\" id=\"email\" name=\"email\" required>\n",
      "                </div>\n",
      "                <div class=\"form-group\">\n",
      "                    <label for=\"message\">Missatge:</label>\n",
      "                    <textarea id=\"message\" name=\"message\" required></textarea>\n",
      "                </div>\n",
      "                <button type=\"submit\" class=\"submit-button\">Enviar</button>\n",
      "            </form>\n",
      "        </div>\n",
      "    </section>\n",
      "</main>\n",
      "{% endblock %}\n",
      "\n",
      "\n",
      "========================================\n",
      "\n"
     ]
    }
   ],
   "source": [
    "# Copiar código para ChatGPT\n",
    "\n",
    "# Códigos Front\n",
    "archivos_scripts = [\n",
    "    \"app.py\",\n",
    "    \"templates/index.html\",\n",
    "    #\"templates/serv_translate.html\",\n",
    "    #\"templates/serv_translate_progress.html\",\n",
    "    #\"templates/serv_translate_result.html\",\n",
    "    #\"templates/serv_extract_progress.html\",\n",
    "    #\"templates/serv_extract_result.html\",\n",
    "    #\"templates/serv_transcribe_progress.html\",\n",
    "    #\"templates/serv_edit_progress.html\",\n",
    "    #\"templates/serv_summary_progress.html\",\n",
    "\n",
    "    #\"templates/serv_translate_result.html\",\n",
    "]\n",
    "\n",
    "def imprimir_contenido_archivos(lista_archivos):\n",
    "    for archivo in lista_archivos:\n",
    "        try:\n",
    "            with open(archivo, 'r', encoding='utf-8') as file:\n",
    "                print(f\"Contenido de {archivo}:\")\n",
    "                print(file.read())\n",
    "                print(\"\\n\" + \"=\"*40 + \"\\n\")\n",
    "        except FileNotFoundError:\n",
    "            print(f\"El archivo {archivo} no se encuentra.\")\n",
    "        except IOError as e:\n",
    "            print(f\"Error al leer el archivo {archivo}: {e}\")\n",
    "\n",
    "# Llamar a la función con la lista de archivos\n",
    "imprimir_contenido_archivos(archivos_scripts)"
   ]
  },
  {
   "cell_type": "code",
   "execution_count": null,
   "metadata": {},
   "outputs": [],
   "source": [
    "# Copiar código para ChatGPT\n",
    "\n",
    "# Códigos Front\n",
    "archivos_scripts = [\n",
    "    \"app.py\",\n",
    "    \"doc_translator.py\",\n",
    "]\n",
    "\n",
    "def imprimir_contenido_archivos(lista_archivos):\n",
    "    for archivo in lista_archivos:\n",
    "        try:\n",
    "            with open(archivo, 'r', encoding='utf-8') as file:\n",
    "                print(f\"Contenido de {archivo}:\")\n",
    "                print(file.read())\n",
    "                print(\"\\n\" + \"=\"*40 + \"\\n\")\n",
    "        except FileNotFoundError:\n",
    "            print(f\"El archivo {archivo} no se encuentra.\")\n",
    "        except IOError as e:\n",
    "            print(f\"Error al leer el archivo {archivo}: {e}\")\n",
    "\n",
    "# Llamar a la función con la lista de archivos\n",
    "imprimir_contenido_archivos(archivos_scripts)\n"
   ]
  },
  {
   "cell_type": "code",
   "execution_count": null,
   "metadata": {},
   "outputs": [],
   "source": [
    "# Prueba Función Traducción\n",
    "\n",
    "from doc_translator import translate_text\n",
    "\n",
    "translate_text(texto='Tradueix aquest text',origin_language='auto',destination_language='spanish', add_prompt=\"\" ,model='llama3-70b-8192', api_key_file='API_KEY.txt')"
   ]
  },
  {
   "cell_type": "code",
   "execution_count": null,
   "metadata": {},
   "outputs": [],
   "source": [
    "# Prueba Función Prompting\n",
    "\n",
    "from model_prompting import prompt_text\n",
    "\n",
    "prompt_text(texto='Avui he anat al parc que guai, ho fas super ve', add_prompt=\"Revisa aquest text reescriu-lo amb un to més formal\" ,model='llama3-70b-8192', api_key_file='API_KEY.txt')\n"
   ]
  },
  {
   "cell_type": "code",
   "execution_count": 1,
   "metadata": {},
   "outputs": [
    {
     "name": "stdout",
     "output_type": "stream",
     "text": [
      "Starting translation process for test/in/test2.docx\n",
      "Brúixola \n",
      "Estudi sobre \n",
      "l'aplicació de la \n",
      "intel·ligència\n",
      " artificial\n",
      "202\n",
      "1\n",
      "Introducció \n",
      "01\n",
      "01\n",
      "Introducció i objectius\n",
      "Dintre del projecte de l'Observatori Nacional de \n",
      "Tecnologia i Societat (ONTSI) que té com a principal\n",
      "L'objectiu és identificar tendències, actituds i valoracions \n",
      "de la població internauta espanyola en qüestions \n",
      "relacionades amb la digitalització. L'estudi actual analitza \n",
      "la percepció de l'opinió pública en relació amb la \n",
      "implantació d'elements d'intel·ligència artificial (IA) \n",
      "en diversos aspectes relacionats amb la vida quotidiana.\n",
      "Aquest estudi es realitza dins dels estudis de \n",
      "seguiment \n",
      " amb periodicitat semestral, previstos \n",
      "en el projecte esmentat anteriorment, que té\n",
      "Per tal d'abordar l'anàlisi de qüestions d'\n",
      "actualitat que siguin d'interès en cada moment, \n",
      "respecte a elements o aspectes relacionats \n",
      "amb el comportament digital de la població.\n",
      "La intel·ligència artificial, en l'àmbit d'aquest estudi, \n",
      "fa referència a la creació de programes informàtics \n",
      "i dispositius tecnològics que poden mostrar \n",
      "comportaments considerats intel·ligents, que tenen \n",
      "com a fi millorar la qualitat de vida de les persones. \n",
      "L'estudi\n",
      "està\n",
      "enfocat\n",
      "a\n",
      " avaluar les opinions deLa ciutadania en relació amb la implementació de la inteligència artificial (IA) en diferents àmbits de la vida quotidiana com a assistents personals, vehicles i la salut. S'ha evaluat l'opinió de la població sobre algunes de les aplicacions i el desenvolupament en relació amb algunes de les aplicacions de la IA, com el desenvolupament d'assistents virtuals de veu integrats en mòbils, televisors o altaveus intel·ligents, el seu ús en automòbils, en sistemes de prescripció de compra o en l'àmbit sanitari. En l'annex finalS'hi inclou la metodologia utilitzada en l'estudi. \n",
      "Aquest \n",
      "estudi\n",
      "avalua\n",
      "l'opinió\n",
      "de la ciutadania \n",
      "respecte a la \n",
      "implementació de \n",
      "la IA en diferents \n",
      "àmbits de la vida \n",
      "com \n",
      "a\n",
      " assistents \n",
      "personals i vehicleso salud\n",
      "Estudi sobre l'aplicació de la intel·ligència artificial \n",
      "4\n",
      "Principals \n",
      "02\n",
      "02\n",
      "Principals resultats\n",
      "En general, l'ús i el desenvolupament de la IA es caracteritza per estar marcats per una percepció dual en funció del tipus de desenvolupament. Així, hi ha un grau més gran \n",
      " d'interès en l'ús de la IA en automòbils i assistents virtuals, mentre que el seu desenvolupament com a prescriptors  intel·ligents de compra i consum de continguts\n",
      "Així com la seva aplicació en l'àmbit mèdic, generen una taxa d'interès menor i certs recels sobre la seva seguretat. \n",
      "El interès mitjà pels \n",
      "assistents virtuals es \n",
      "reparteix de manera homogènia entre els diferents \n",
      "segments d'edat. \n",
      "IA en assistents virtuals\n",
      "El 51% dels enquestats considera que aquest tipus d'assistents intel·ligents és molt o bastant interessanti només el 17% no sembla interessat en la possibilitat d'utilitzar un dispositiu digital com aquest.\n",
      "L'interès mitjà, mesurat en una escala de zero a deu, se situa en 6, i gaudeix d'un interès homogeni entre els diferents segments de població, ja que la seva valoració mitjana oscil·la entre el valor mínim de 6 (entre les persones amb edats entre els 35 i 44 anys, i en la població entre 55 i 64 anys) i el interès màxim de 6 (entre les persones amb edats entre els 45 i 54 anys, i amb més de 64 anys).\n",
      "IA en automòbils\n",
      "El desenvolupament d'aplicacions d'IA en vehicles és l' avancement d'aquest tipus d'eines que desperta la taxa de interès més alta entre la població. Una mica més de la meitat de la població, el 55%, tindria molt interès en el desenvolupament d'aquest àmbit de la IA.\n",
      "Així mateix, també és el desenvolupament de la IA que més grau d'interès desperta en un segment de població. \n",
      "Las persones amb edats entre els 25 i 34 anys \n",
      "presenten un interès mitjà de 7 el més alt entre totsEls segments i tots els possibles desenvolupaments de IA.\n",
      "No obstant això, quan es valora la seguretat percebuda destaca que, en una escala de zero a deu, la percepció \n",
      "mèdia es situa en 5, bastant més baixa que l'interès que desperta. Tot i això, el 67% afirma que la incorporació de la IA als vehicles suposa un risc mig i baix a la circulació. A més, per a la població entre 55 i 64 anys la percepció de seguretat baixa fins a les 5. \n",
      "IA com a prescriptor de compra digital\n",
      "El 29% de la població internauta considera interessantL'ús de la IA com a element de prescripció de \n",
      "compra i consum de continguts digitals. Es tracta del percentatge més baix entre tots els elements de desenvolupament de la IA analitzats en el present estudi. \n",
      "Únicament entre aquelles persones de 25 a 34 anys s'observa un major interès en aquest ús de la IA amb un 5 d'interès mitjà. A mesura que augmenta l'edat de la persona, davalla el interès en aquest tipus de dispositius i es situa per sota del cinc (habitual límit d'aprovació enEspanya) entre les persones majors de 54 anys.\n",
      "L'escàs interès probablement estigui relacionat amb la desconfiança que genera en la població l'ús d'aparells prescriptors que utilitzen la IA. El 37% té un nivell de confiança baix (valor de 0 a 4), mentre que només el 6% mostra un alt grau de confiança en aquest \n",
      "desenvolupament de la IA. La confiança mitjana només supera la frontera del cinc entre les persones amb edats entre 25 i 54 anys.\n",
      "La IA com a element\n",
      "prescriptor de compra \n",
      "i consum és el menys \n",
      "valorat per la ciutadania: només un 29% el considera interessant \n",
      "IA en àmbit mèdic \n",
      "Quatre de cada deu persones estarien interessades en el desenvolupament de la IA en l'àmbit mèdic. D'altra banda, cal destacar que el 26% no es muestra gaire a favor de la seva implementació.\n",
      "Aquest tipus de tecnologia no genera gaire confiança entre la ciutadania, i un 31% desconfia obertament de l'aplicació de la IA en l'àmbit mèdic.\n",
      "Intel·ligència \n",
      "03\n",
      "03\n",
      "intel·ligència artificial (IA)\n",
      "El gran avanç de la tecnologia en els últims anys ha permès que la IA entri poc a poc en la vida de la població i cada vegada estigui més present en múltiples àmbits de la vida quotidiana (com en l'educació, la salut i el benestar, l'oci, les finances o el transport).\n",
      "Per IA s'entén tot allò que fa referència a la creació de programes informàtics i mecanismes tecnològics que poden arribar a mostrar \n",
      "comportaments considerats intel·ligents que tenen com a fi millorar la qualitat de vida de les persones.\n",
      "Donada la rapidesa amb la qual estan incorporant-se aquests sistemes intel·ligents a la quotidianitat, i a l'especial protagonisme que cobraran en els propers anys, resulta rellevant conèixer el grau d'interès que susciten \n",
      "algunes de les seves aplicacions, com els assistents\n",
      "Virtuals, els vehicles autònoms, assitents de compres o prescriptors de consum de continguts o el desenvolupament de sistemes intel·ligents en l'àmbit mèdic.\n",
      "En general, es valora positivament l'ús de la IA en vehicles i assitents virtuals, mentre que els prescriptors intel·ligents de compra i consum de continguts, així com la seva aplicació en l'àmbit mèdic, generen certa prevenció.\n",
      "Figura 1. \n",
      "Nivell d'interès que genera l'ús d'IA\n",
      "en \n",
      "el\n",
      "desenvolupament\n",
      "d'assistents\n",
      " virtu\n",
      "Diccionario textos_originales\n",
      "{'000001': 'Brúixola ', '000002': 'Estudi sobre ', '000003': \"l'aplicació de la \", '000004': 'intel·ligència', '000005': ' artificial', '000006': '202', '000007': '1', '000008': 'Introducció ', '000009': '01', '000010': '01', '000011': 'Introducció i objectius', '000012': \"Dintre del projecte de l'Observatori Nacional de \", '000013': 'Tecnologia i Societat (ONTSI) que té com a principal', '000014': \"L'objectiu és identificar tendències, actituds i valoracions \", '000015': 'de la població internauta espanyola en qüestions ', '000016': \"relacionades amb la digitalització. L'estudi actual analitza \", '000017': \"la percepció de l'opinió pública en relació amb la \", '000018': \"implantació d'elements d'intel·ligència artificial (IA) \", '000019': 'en diversos aspectes relacionats amb la vida quotidiana.', '000020': 'Aquest estudi es realitza dins dels estudis de ', '000021': 'seguiment ', '000022': ' amb periodicitat semestral, previstos ', '000023': 'en el projecte esmentat anteriorment, que té', '000024': \"Per tal d'abordar l'anàlisi de qüestions d'\", '000025': \"actualitat que siguin d'interès en cada moment, \", '000026': 'respecte a elements o aspectes relacionats ', '000027': 'amb el comportament digital de la població.', '000028': \"La intel·ligència artificial, en l'àmbit d'aquest estudi, \", '000029': 'fa referència a la creació de programes informàtics ', '000030': 'i dispositius tecnològics que poden mostrar ', '000031': 'comportaments considerats intel·ligents, que tenen ', '000032': 'com a fi millorar la qualitat de vida de les persones. ', '000033': \"L'estudi\", '000034': 'està', '000035': 'enfocat', '000036': 'a', '000037': \" avaluar les opinions deLa ciutadania en relació amb la implementació de la inteligència artificial (IA) en diferents àmbits de la vida quotidiana com a assistents personals, vehicles i la salut. S'ha evaluat l'opinió de la població sobre algunes de les aplicacions i el desenvolupament en relació amb algunes de les aplicacions de la IA, com el desenvolupament d'assistents virtuals de veu integrats en mòbils, televisors o altaveus intel·ligents, el seu ús en automòbils, en sistemes de prescripció de compra o en l'àmbit sanitari. En l'annex finalS'hi inclou la metodologia utilitzada en l'estudi. \", '000038': 'Aquest ', '000039': 'estudi', '000040': 'avalua', '000041': \"l'opinió\", '000042': 'de la ciutadania ', '000043': 'respecte a la ', '000044': 'implementació de ', '000045': 'la IA en diferents ', '000046': 'àmbits de la vida ', '000047': 'com ', '000048': 'a', '000049': ' assistents ', '000050': 'personals i vehicleso salud', '000051': \"Estudi sobre l'aplicació de la intel·ligència artificial \", '000052': '4', '000053': 'Principals ', '000054': '02', '000055': '02', '000056': 'Principals resultats', '000057': \"En general, l'ús i el desenvolupament de la IA es caracteritza per estar marcats per una percepció dual en funció del tipus de desenvolupament. Així, hi ha un grau més gran \", '000058': \" d'interès en l'ús de la IA en automòbils i assistents virtuals, mentre que el seu desenvolupament com a prescriptors  intel·ligents de compra i consum de continguts\", '000059': \"Així com la seva aplicació en l'àmbit mèdic, generen una taxa d'interès menor i certs recels sobre la seva seguretat. \", '000060': 'El interès mitjà pels ', '000061': 'assistents virtuals es ', '000062': 'reparteix de manera homogènia entre els diferents ', '000063': \"segments d'edat. \", '000064': 'IA en assistents virtuals', '000065': \"El 51% dels enquestats considera que aquest tipus d'assistents intel·ligents és molt o bastant interessanti només el 17% no sembla interessat en la possibilitat d'utilitzar un dispositiu digital com aquest.\", '000066': \"L'interès mitjà, mesurat en una escala de zero a deu, se situa en 6, i gaudeix d'un interès homogeni entre els diferents segments de població, ja que la seva valoració mitjana oscil·la entre el valor mínim de 6 (entre les persones amb edats entre els 35 i 44 anys, i en la població entre 55 i 64 anys) i el interès màxim de 6 (entre les persones amb edats entre els 45 i 54 anys, i amb més de 64 anys).\", '000067': 'IA en automòbils', '000068': \"El desenvolupament d'aplicacions d'IA en vehicles és l' avancement d'aquest tipus d'eines que desperta la taxa de interès més alta entre la població. Una mica més de la meitat de la població, el 55%, tindria molt interès en el desenvolupament d'aquest àmbit de la IA.\", '000069': \"Així mateix, també és el desenvolupament de la IA que més grau d'interès desperta en un segment de població. \", '000070': 'Las persones amb edats entre els 25 i 34 anys ', '000071': 'presenten un interès mitjà de 7 el més alt entre totsEls segments i tots els possibles desenvolupaments de IA.', '000072': 'No obstant això, quan es valora la seguretat percebuda destaca que, en una escala de zero a deu, la percepció ', '000073': \"mèdia es situa en 5, bastant més baixa que l'interès que desperta. Tot i això, el 67% afirma que la incorporació de la IA als vehicles suposa un risc mig i baix a la circulació. A més, per a la població entre 55 i 64 anys la percepció de seguretat baixa fins a les 5. \", '000074': 'IA com a prescriptor de compra digital', '000075': \"El 29% de la població internauta considera interessantL'ús de la IA com a element de prescripció de \", '000076': 'compra i consum de continguts digitals. Es tracta del percentatge més baix entre tots els elements de desenvolupament de la IA analitzats en el present estudi. ', '000077': \"Únicament entre aquelles persones de 25 a 34 anys s'observa un major interès en aquest ús de la IA amb un 5 d'interès mitjà. A mesura que augmenta l'edat de la persona, davalla el interès en aquest tipus de dispositius i es situa per sota del cinc (habitual límit d'aprovació enEspanya) entre les persones majors de 54 anys.\", '000078': \"L'escàs interès probablement estigui relacionat amb la desconfiança que genera en la població l'ús d'aparells prescriptors que utilitzen la IA. El 37% té un nivell de confiança baix (valor de 0 a 4), mentre que només el 6% mostra un alt grau de confiança en aquest \", '000079': 'desenvolupament de la IA. La confiança mitjana només supera la frontera del cinc entre les persones amb edats entre 25 i 54 anys.', '000080': 'La IA com a element', '000081': 'prescriptor de compra ', '000082': 'i consum és el menys ', '000083': 'valorat per la ciutadania: només un 29% el considera interessant ', '000084': 'IA en àmbit mèdic ', '000085': \"Quatre de cada deu persones estarien interessades en el desenvolupament de la IA en l'àmbit mèdic. D'altra banda, cal destacar que el 26% no es muestra gaire a favor de la seva implementació.\", '000086': \"Aquest tipus de tecnologia no genera gaire confiança entre la ciutadania, i un 31% desconfia obertament de l'aplicació de la IA en l'àmbit mèdic.\", '000087': 'Intel·ligència ', '000088': '03', '000089': '03', '000090': 'intel·ligència artificial (IA)', '000091': \"El gran avanç de la tecnologia en els últims anys ha permès que la IA entri poc a poc en la vida de la població i cada vegada estigui més present en múltiples àmbits de la vida quotidiana (com en l'educació, la salut i el benestar, l'oci, les finances o el transport).\", '000092': \"Per IA s'entén tot allò que fa referència a la creació de programes informàtics i mecanismes tecnològics que poden arribar a mostrar \", '000093': 'comportaments considerats intel·ligents que tenen com a fi millorar la qualitat de vida de les persones.', '000094': \"Donada la rapidesa amb la qual estan incorporant-se aquests sistemes intel·ligents a la quotidianitat, i a l'especial protagonisme que cobraran en els propers anys, resulta rellevant conèixer el grau d'interès que susciten \", '000095': 'algunes de les seves aplicacions, com els assistents', '000096': \"Virtuals, els vehicles autònoms, assitents de compres o prescriptors de consum de continguts o el desenvolupament de sistemes intel·ligents en l'àmbit mèdic.\", '000097': \"En general, es valora positivament l'ús de la IA en vehicles i assitents virtuals, mentre que els prescriptors intel·ligents de compra i consum de continguts, així com la seva aplicació en l'àmbit mèdic, generen certa prevenció.\", '000098': 'Figura 1. ', '000099': \"Nivell d'interès que genera l'ús d'IA\", '000100': 'en ', '000101': 'el', '000102': 'desenvolupament', '000103': \"d'assistents\", '000104': ' virtu', '000105': \"Estudi sobre l'aplicació \", '000106': 'de la intel·ligència artificial ', '000107': 'Pàgina 3', '000108': \"Estudi sobre l'aplicació\", '000109': 'de la intel·ligència artificial ', '000110': 'Pàgina 5', '000111': \"Estudi sobre l'aplicació  \", '000112': 'de la intel·ligència artificial ', '000113': 'Pàgina 7'}\n",
      "Diccionario textos_para_traducir\n",
      "{'000001': 'Brúixola ', '000002': 'Estudi sobre ', '000003': \"l'aplicació de la \", '000004': 'intel·ligència', '000005': ' artificial', '000008': 'Introducció ', '000011': 'Introducció i objectius', '000012': \"Dintre del projecte de l'Observatori Nacional de \", '000013': 'Tecnologia i Societat (ONTSI) que té com a principal', '000014': \"L'objectiu és identificar tendències, actituds i valoracions \", '000015': 'de la població internauta espanyola en qüestions ', '000016': \"relacionades amb la digitalització. L'estudi actual analitza \", '000017': \"la percepció de l'opinió pública en relació amb la \", '000018': \"implantació d'elements d'intel·ligència artificial (IA) \", '000019': 'en diversos aspectes relacionats amb la vida quotidiana.', '000020': 'Aquest estudi es realitza dins dels estudis de ', '000021': 'seguiment ', '000022': ' amb periodicitat semestral, previstos ', '000023': 'en el projecte esmentat anteriorment, que té', '000024': \"Per tal d'abordar l'anàlisi de qüestions d'\", '000025': \"actualitat que siguin d'interès en cada moment, \", '000026': 'respecte a elements o aspectes relacionats ', '000027': 'amb el comportament digital de la població.', '000028': \"La intel·ligència artificial, en l'àmbit d'aquest estudi, \", '000029': 'fa referència a la creació de programes informàtics ', '000030': 'i dispositius tecnològics que poden mostrar ', '000031': 'comportaments considerats intel·ligents, que tenen ', '000032': 'com a fi millorar la qualitat de vida de les persones. ', '000033': \"L'estudi\", '000034': 'està', '000035': 'enfocata', '000037': \" avaluar les opinions deLa ciutadania en relació amb la implementació de la inteligència artificial (IA) en diferents àmbits de la vida quotidiana com a assistents personals, vehicles i la salut. S'ha evaluat l'opinió de la població sobre algunes de les aplicacions i el desenvolupament en relació amb algunes de les aplicacions de la IA, com el desenvolupament d'assistents virtuals de veu integrats en mòbils, televisors o altaveus intel·ligents, el seu ús en automòbils, en sistemes de prescripció de compra o en l'àmbit sanitari. En l'annex finalS'hi inclou la metodologia utilitzada en l'estudi. \", '000038': 'Aquest ', '000039': 'estudi', '000040': 'avalua', '000041': \"l'opinió\", '000042': 'de la ciutadania ', '000043': 'respecte a la ', '000044': 'implementació de ', '000045': 'la IA en diferents ', '000046': 'àmbits de la vida ', '000047': 'com ', '000048': 'a', '000049': ' assistents ', '000050': 'personals i vehicleso salud', '000051': \"Estudi sobre l'aplicació de la intel·ligència artificial \", '000053': 'Principals ', '000056': 'Principals resultats', '000057': \"En general, l'ús i el desenvolupament de la IA es caracteritza per estar marcats per una percepció dual en funció del tipus de desenvolupament. Així, hi ha un grau més gran \", '000058': \" d'interès en l'ús de la IA en automòbils i assistents virtuals, mentre que el seu desenvolupament com a prescriptors  intel·ligents de compra i consum de continguts\", '000059': \"Així com la seva aplicació en l'àmbit mèdic, generen una taxa d'interès menor i certs recels sobre la seva seguretat. \", '000060': 'El interès mitjà pels ', '000061': 'assistents virtuals es ', '000062': 'reparteix de manera homogènia entre els diferents ', '000063': \"segments d'edat. \", '000064': 'IA en assistents virtuals', '000065': \"El 51% dels enquestats considera que aquest tipus d'assistents intel·ligents és molt o bastant interessanti només el 17% no sembla interessat en la possibilitat d'utilitzar un dispositiu digital com aquest.\", '000066': \"L'interès mitjà, mesurat en una escala de zero a deu, se situa en 6, i gaudeix d'un interès homogeni entre els diferents segments de població, ja que la seva valoració mitjana oscil·la entre el valor mínim de 6 (entre les persones amb edats entre els 35 i 44 anys, i en la població entre 55 i 64 anys) i el interès màxim de 6 (entre les persones amb edats entre els 45 i 54 anys, i amb més de 64 anys).\", '000067': 'IA en automòbils', '000068': \"El desenvolupament d'aplicacions d'IA en vehicles és l' avancement d'aquest tipus d'eines que desperta la taxa de interès més alta entre la població. Una mica més de la meitat de la població, el 55%, tindria molt interès en el desenvolupament d'aquest àmbit de la IA.\", '000069': \"Així mateix, també és el desenvolupament de la IA que més grau d'interès desperta en un segment de població. \", '000070': 'Las persones amb edats entre els 25 i 34 anys ', '000071': 'presenten un interès mitjà de 7 el més alt entre totsEls segments i tots els possibles desenvolupaments de IA.', '000072': 'No obstant això, quan es valora la seguretat percebuda destaca que, en una escala de zero a deu, la percepció ', '000073': \"mèdia es situa en 5, bastant més baixa que l'interès que desperta. Tot i això, el 67% afirma que la incorporació de la IA als vehicles suposa un risc mig i baix a la circulació. A més, per a la població entre 55 i 64 anys la percepció de seguretat baixa fins a les 5. \", '000074': 'IA com a prescriptor de compra digital', '000075': \"El 29% de la població internauta considera interessantL'ús de la IA com a element de prescripció de \", '000076': 'compra i consum de continguts digitals. Es tracta del percentatge més baix entre tots els elements de desenvolupament de la IA analitzats en el present estudi. ', '000077': \"Únicament entre aquelles persones de 25 a 34 anys s'observa un major interès en aquest ús de la IA amb un 5 d'interès mitjà. A mesura que augmenta l'edat de la persona, davalla el interès en aquest tipus de dispositius i es situa per sota del cinc (habitual límit d'aprovació enEspanya) entre les persones majors de 54 anys.\", '000078': \"L'escàs interès probablement estigui relacionat amb la desconfiança que genera en la població l'ús d'aparells prescriptors que utilitzen la IA. El 37% té un nivell de confiança baix (valor de 0 a 4), mentre que només el 6% mostra un alt grau de confiança en aquest \", '000079': 'desenvolupament de la IA. La confiança mitjana només supera la frontera del cinc entre les persones amb edats entre 25 i 54 anys.', '000080': 'La IA com a element', '000081': 'prescriptor de compra ', '000082': 'i consum és el menys ', '000083': 'valorat per la ciutadania: només un 29% el considera interessant ', '000084': 'IA en àmbit mèdic ', '000085': \"Quatre de cada deu persones estarien interessades en el desenvolupament de la IA en l'àmbit mèdic. D'altra banda, cal destacar que el 26% no es muestra gaire a favor de la seva implementació.\", '000086': \"Aquest tipus de tecnologia no genera gaire confiança entre la ciutadania, i un 31% desconfia obertament de l'aplicació de la IA en l'àmbit mèdic.\", '000087': 'Intel·ligència ', '000090': 'intel·ligència artificial (IA)', '000091': \"El gran avanç de la tecnologia en els últims anys ha permès que la IA entri poc a poc en la vida de la població i cada vegada estigui més present en múltiples àmbits de la vida quotidiana (com en l'educació, la salut i el benestar, l'oci, les finances o el transport).\", '000092': \"Per IA s'entén tot allò que fa referència a la creació de programes informàtics i mecanismes tecnològics que poden arribar a mostrar \", '000093': 'comportaments considerats intel·ligents que tenen com a fi millorar la qualitat de vida de les persones.', '000094': \"Donada la rapidesa amb la qual estan incorporant-se aquests sistemes intel·ligents a la quotidianitat, i a l'especial protagonisme que cobraran en els propers anys, resulta rellevant conèixer el grau d'interès que susciten \", '000095': 'algunes de les seves aplicacions, com els assistents', '000096': \"Virtuals, els vehicles autònoms, assitents de compres o prescriptors de consum de continguts o el desenvolupament de sistemes intel·ligents en l'àmbit mèdic.\", '000097': \"En general, es valora positivament l'ús de la IA en vehicles i assitents virtuals, mentre que els prescriptors intel·ligents de compra i consum de continguts, així com la seva aplicació en l'àmbit mèdic, generen certa prevenció.\", '000098': 'Figura 1. ', '000099': \"Nivell d'interès que genera l'ús d'IAen \", '000101': 'eldesenvolupament', '000103': \"d'assistents\", '000104': ' virtu', '000105': \"Estudi sobre l'aplicació \", '000106': 'de la intel·ligència artificial ', '000107': 'Pàgina 3', '000108': \"Estudi sobre l'aplicació\", '000109': 'de la intel·ligència artificial ', '000110': 'Pàgina 5', '000111': \"Estudi sobre l'aplicació  \", '000112': 'de la intel·ligència artificial ', '000113': 'Pàgina 7'}\n"
     ]
    },
    {
     "name": "stderr",
     "output_type": "stream",
     "text": [
      "[INFO] HTTP Request: POST https://api.groq.com/openai/v1/chat/completions \"HTTP/1.1 200 OK\"\n"
     ]
    },
    {
     "name": "stdout",
     "output_type": "stream",
     "text": [
      "\n",
      "            Follow these rules:\n",
      "            - Your task is to translate text while strictly preserving codes (_CDTR_00000) in their exact positions, including at the start or end of the text. \n",
      "            - Provide only the translated text without any additional comments or annotations. \n",
      "            - Ensure that the translation is grammatically correct in Spanish, with special attention to the correct use of apostrophes in articles and pronouns.\n",
      "            - Translate all words, including those starting with a capital letter, unless they appear to be proper names.\n",
      "            - Keep similar text length when translating.\n",
      "            - The text provided is part of a larger document. Use the given context (words before and after) for a more accurate translation.\n",
      "\n",
      "            Translate the text from Catalan to Spanish.\n",
      "Text to translate:\n",
      "(_CDTR_000001)Brúixola (_CDTR_000002)Estudi sobre (_CDTR_000003)l'aplicació de la (_CDTR_000004)intel·ligència(_CDTR_000005) artificial(_CDTR_000008)Introducció (_CDTR_000011)Introducció i objectius(_CDTR_000012)Dintre del projecte de l'Observatori Nacional de (_CDTR_000013)Tecnologia i Societat (ONTSI) que té com a principal(_CDTR_000014)L'objectiu és identificar tendències, actituds i valoracions \n",
      "Words after the text (use as context):\n",
      "(_CDTR_000015)de la població internauta espanyola \n",
      "Bloque original: (_CDTR_000001)Brúixola (_CDTR_000002)Estudi sobre (_CDTR_000003)l'aplicació de la (_CDTR_000004)intel·ligència(_CDTR_000005) artificial(_CDTR_000008)Introducció (_CDTR_000011)Introducció i objectius(_CDTR_000012)Dintre del projecte de l'Observatori Nacional de (_CDTR_000013)Tecnologia i Societat (ONTSI) que té com a principal(_CDTR_000014)L'objectiu és identificar tendències, actituds i valoracions \n",
      "Bloque traducido: (_CDTR_000001)Brújula (_CDTR_000002)Estudio sobre (_CDTR_000003)la aplicación de la (_CDTR_000004)inteligencia(_CDTR_000005) artificial(_CDTR_000008)Introducción (_CDTR_000011)Introducción y objetivos(_CDTR_000012)Dentro del proyecto de l'Observatori Nacional de (_CDTR_000013)Tecnología y Sociedad (ONTSI) que tiene como principal(_CDTR_000014)El objetivo es identificar tendencias, actitudes y valoraciones\n"
     ]
    },
    {
     "name": "stderr",
     "output_type": "stream",
     "text": [
      "[INFO] HTTP Request: POST https://api.groq.com/openai/v1/chat/completions \"HTTP/1.1 200 OK\"\n"
     ]
    },
    {
     "name": "stdout",
     "output_type": "stream",
     "text": [
      "\n",
      "            Follow these rules:\n",
      "            - Your task is to translate text while strictly preserving codes (_CDTR_00000) in their exact positions, including at the start or end of the text. \n",
      "            - Provide only the translated text without any additional comments or annotations. \n",
      "            - Ensure that the translation is grammatically correct in Spanish, with special attention to the correct use of apostrophes in articles and pronouns.\n",
      "            - Translate all words, including those starting with a capital letter, unless they appear to be proper names.\n",
      "            - Keep similar text length when translating.\n",
      "            - The text provided is part of a larger document. Use the given context (words before and after) for a more accurate translation.\n",
      "\n",
      "            Words before the text (use as context):\n",
      "identificar tendencias, actitudes y valoraciones\n",
      "Translate the text from Catalan to Spanish.\n",
      "Text to translate:\n",
      "identificar tendencias, actitudes y valoraciones (_CDTR_000015)de la població internauta espanyola en qüestions (_CDTR_000016)relacionades amb la digitalització. L'estudi actual analitza (_CDTR_000017)la percepció de l'opinió pública en relació amb la (_CDTR_000018)implantació d'elements d'intel·ligència artificial (IA) (_CDTR_000019)en diversos aspectes relacionats amb la vida quotidiana.(_CDTR_000020)Aquest estudi es realitza dins dels estudis de (_CDTR_000021)seguiment (_CDTR_000022) amb periodicitat semestral, previstos (_CDTR_000023)en el projecte esmentat anteriorment, que té(_CDTR_000024)Per tal d'abordar l'anàlisi de qüestions d'\n",
      "Words after the text (use as context):\n",
      "(_CDTR_000025)actualitat que siguin d'interès en c\n",
      "Bloque original: (_CDTR_000015)de la població internauta espanyola en qüestions (_CDTR_000016)relacionades amb la digitalització. L'estudi actual analitza (_CDTR_000017)la percepció de l'opinió pública en relació amb la (_CDTR_000018)implantació d'elements d'intel·ligència artificial (IA) (_CDTR_000019)en diversos aspectes relacionats amb la vida quotidiana.(_CDTR_000020)Aquest estudi es realitza dins dels estudis de (_CDTR_000021)seguiment (_CDTR_000022) amb periodicitat semestral, previstos (_CDTR_000023)en el projecte esmentat anteriorment, que té(_CDTR_000024)Per tal d'abordar l'anàlisi de qüestions d'\n",
      "Bloque traducido: identificar tendencias, actitudes y valoraciones (_CDTR_000015) de la población internauta española en cuestiones (_CDTR_000016) relacionadas con la digitalización. El estudio actual analiza (_CDTR_000017) la percepción de la opinión pública en relación con la (_CDTR_000018) implantación de elementos de inteligencia artificial (IA) (_CDTR_000019) en diversos aspectos relacionados con la vida cotidiana. (_CDTR_000020) Este estudio se realiza dentro de los estudios de (_CDTR_000021) seguimiento (_CDTR_000022) con periodicidad semestral, previstos (_CDTR_000023) en el proyecto mencionado anteriormente, que tiene (_CDTR_000024) con el fin de abordar el análisis de cuestiones de\n"
     ]
    },
    {
     "name": "stderr",
     "output_type": "stream",
     "text": [
      "[INFO] HTTP Request: POST https://api.groq.com/openai/v1/chat/completions \"HTTP/1.1 200 OK\"\n"
     ]
    },
    {
     "name": "stdout",
     "output_type": "stream",
     "text": [
      "\n",
      "            Follow these rules:\n",
      "            - Your task is to translate text while strictly preserving codes (_CDTR_00000) in their exact positions, including at the start or end of the text. \n",
      "            - Provide only the translated text without any additional comments or annotations. \n",
      "            - Ensure that the translation is grammatically correct in Spanish, with special attention to the correct use of apostrophes in articles and pronouns.\n",
      "            - Translate all words, including those starting with a capital letter, unless they appear to be proper names.\n",
      "            - Keep similar text length when translating.\n",
      "            - The text provided is part of a larger document. Use the given context (words before and after) for a more accurate translation.\n",
      "\n",
      "            Words before the text (use as context):\n",
      "el análisis de cuestiones de\n",
      "Translate the text from Catalan to Spanish.\n",
      "Text to translate:\n",
      "el análisis de cuestiones de (_CDTR_000025)actualitat que siguin d'interès en cada moment, (_CDTR_000026)respecte a elements o aspectes relacionats (_CDTR_000027)amb el comportament digital de la població.(_CDTR_000028)La intel·ligència artificial, en l'àmbit d'aquest estudi, (_CDTR_000029)fa referència a la creació de programes informàtics (_CDTR_000030)i dispositius tecnològics que poden mostrar (_CDTR_000031)comportaments considerats intel·ligents, que tenen (_CDTR_000032)com a fi millorar la qualitat de vida de les persones. (_CDTR_000033)L'estudi(_CDTR_000034)està\n",
      "Words after the text (use as context):\n",
      "(_CDTR_000035)enfocata(_CDTR_000037) avaluar les o\n",
      "Bloque original: (_CDTR_000025)actualitat que siguin d'interès en cada moment, (_CDTR_000026)respecte a elements o aspectes relacionats (_CDTR_000027)amb el comportament digital de la població.(_CDTR_000028)La intel·ligència artificial, en l'àmbit d'aquest estudi, (_CDTR_000029)fa referència a la creació de programes informàtics (_CDTR_000030)i dispositius tecnològics que poden mostrar (_CDTR_000031)comportaments considerats intel·ligents, que tenen (_CDTR_000032)com a fi millorar la qualitat de vida de les persones. (_CDTR_000033)L'estudi(_CDTR_000034)està\n",
      "Bloque traducido: el análisis de cuestiones de (_CDTR_000025)actualidad que sean de interés en cada momento, (_CDTR_000026)respecto a elementos o aspectos relacionados (_CDTR_000027)con el comportamiento digital de la población.(_CDTR_000028)La inteligencia artificial, en el ámbito de este estudio, (_CDTR_000029)se refiere a la creación de programas informáticos (_CDTR_000030)y dispositivos tecnológicos que pueden mostrar (_CDTR_000031)comportamientos considerados inteligentes, que tienen (_CDTR_000032)como fin mejorar la calidad de vida de las personas. (_CDTR_000033)El estudio(_CDTR_000034)está\n"
     ]
    },
    {
     "name": "stderr",
     "output_type": "stream",
     "text": [
      "[INFO] HTTP Request: POST https://api.groq.com/openai/v1/chat/completions \"HTTP/1.1 200 OK\"\n"
     ]
    },
    {
     "name": "stdout",
     "output_type": "stream",
     "text": [
      "\n",
      "            Follow these rules:\n",
      "            - Your task is to translate text while strictly preserving codes (_CDTR_00000) in their exact positions, including at the start or end of the text. \n",
      "            - Provide only the translated text without any additional comments or annotations. \n",
      "            - Ensure that the translation is grammatically correct in Spanish, with special attention to the correct use of apostrophes in articles and pronouns.\n",
      "            - Translate all words, including those starting with a capital letter, unless they appear to be proper names.\n",
      "            - Keep similar text length when translating.\n",
      "            - The text provided is part of a larger document. Use the given context (words before and after) for a more accurate translation.\n",
      "\n",
      "            Words before the text (use as context):\n",
      "de las personas. (_CDTR_000033)El estudio(_CDTR_000034)está\n",
      "Translate the text from Catalan to Spanish.\n",
      "Text to translate:\n",
      "de las personas. (_CDTR_000033)El estudio(_CDTR_000034)está (_CDTR_000035)enfocata(_CDTR_000037) avaluar les opinions deLa ciutadania en relació amb la implementació de la inteligència artificial (IA) en diferents àmbits de la vida quotidiana com a assistents personals, vehicles i la salut. S'ha evaluat l'opinió de la població sobre algunes de les aplicacions i el desenvolupament en relació amb algunes de les aplicacions de la IA, com el desenvolupament d'assistents virtuals de veu integrats en mòbils, televisors o altaveus intel·ligents, el seu ús en automòbils, en sistemes de prescripció de compra o en l'àmbit sanitari. En l'annex finalS'hi inclou la metodologia utilitzada en l'estudi. (_CDTR_000038)Aquest (_CDTR_000039)estudi(_CDTR_000040)avalua(_CDTR_000041)l'opinió(_CDTR_000042)de la ciutadania (_CDTR_000043)respecte a la (_CDTR_000044)implementació de (_CDTR_000045)la IA en diferents \n",
      "Words after the text (use as context):\n",
      "(_CDTR_000046)àmbits de la vida (_CDTR_000047)com \n",
      "Bloque original: (_CDTR_000035)enfocata(_CDTR_000037) avaluar les opinions deLa ciutadania en relació amb la implementació de la inteligència artificial (IA) en diferents àmbits de la vida quotidiana com a assistents personals, vehicles i la salut. S'ha evaluat l'opinió de la població sobre algunes de les aplicacions i el desenvolupament en relació amb algunes de les aplicacions de la IA, com el desenvolupament d'assistents virtuals de veu integrats en mòbils, televisors o altaveus intel·ligents, el seu ús en automòbils, en sistemes de prescripció de compra o en l'àmbit sanitari. En l'annex finalS'hi inclou la metodologia utilitzada en l'estudi. (_CDTR_000038)Aquest (_CDTR_000039)estudi(_CDTR_000040)avalua(_CDTR_000041)l'opinió(_CDTR_000042)de la ciutadania (_CDTR_000043)respecte a la (_CDTR_000044)implementació de (_CDTR_000045)la IA en diferents \n",
      "Bloque traducido: de las personas. (_CDTR_000033)El estudio(_CDTR_000034)está (_CDTR_000035)enfocada(_CDTR_000037)a evaluar las opiniones de la ciudadanía en relación con la implementación de la inteligencia artificial (IA) en diferentes ámbitos de la vida cotidiana como asistentes personales, vehículos y la salud. Se ha evaluado la opinión de la población sobre algunas de las aplicaciones y el desarrollo en relación con algunas de las aplicaciones de la IA, como el desarrollo de asistentes virtuales de voz integrados en móviles, televisores o altavoces inteligentes, su uso en automóviles, en sistemas de prescripción de compra o en el ámbito sanitario. En el anexo final se incluye la metodología utilizada en el estudio. (_CDTR_000038)Este (_CDTR_000039)estudio(_CDTR_000040)evalúa(_CDTR_000041)la opinión(_CDTR_000042)de la ciudadanía (_CDTR_000043)respecto a la (_CDTR_000044)implementación de (_CDTR_000045)la IA en diferentes\n"
     ]
    },
    {
     "name": "stderr",
     "output_type": "stream",
     "text": [
      "[INFO] HTTP Request: POST https://api.groq.com/openai/v1/chat/completions \"HTTP/1.1 200 OK\"\n"
     ]
    },
    {
     "name": "stdout",
     "output_type": "stream",
     "text": [
      "\n",
      "            Follow these rules:\n",
      "            - Your task is to translate text while strictly preserving codes (_CDTR_00000) in their exact positions, including at the start or end of the text. \n",
      "            - Provide only the translated text without any additional comments or annotations. \n",
      "            - Ensure that the translation is grammatically correct in Spanish, with special attention to the correct use of apostrophes in articles and pronouns.\n",
      "            - Translate all words, including those starting with a capital letter, unless they appear to be proper names.\n",
      "            - Keep similar text length when translating.\n",
      "            - The text provided is part of a larger document. Use the given context (words before and after) for a more accurate translation.\n",
      "\n",
      "            Words before the text (use as context):\n",
      "de (_CDTR_000045)la IA en diferentes\n",
      "Translate the text from Catalan to Spanish.\n",
      "Text to translate:\n",
      "de (_CDTR_000045)la IA en diferentes (_CDTR_000046)àmbits de la vida (_CDTR_000047)com (_CDTR_000048)a(_CDTR_000049) assistents (_CDTR_000050)personals i vehicleso salud(_CDTR_000051)Estudi sobre l'aplicació de la intel·ligència artificial (_CDTR_000053)Principals (_CDTR_000056)Principals resultats(_CDTR_000057)En general, l'ús i el desenvolupament de la IA es caracteritza per estar marcats per una percepció dual en funció del tipus de desenvolupament. Així, hi ha un grau més gran (_CDTR_000058) d'interès en l'ús de la IA en automòbils i assistents virtuals, mentre que el seu desenvolupament com a prescriptors  intel·ligents de compra i consum de continguts\n",
      "Words after the text (use as context):\n",
      "(_CDTR_000059)Així com la seva aplicació en l'àmbi\n",
      "[ERROR] Códigos faltantes en la traducción: {'(_CDTR_000051)'}\n",
      "[ERROR] Bloque original: (_CDTR_000046)àmbits de la vida (_CDTR_000047)com (_CDTR_000048)a(_CDTR_000049) assistents (_CDTR_000050)personals i vehicleso salud(_CDTR_000051)Estudi sobre l'aplicació de la intel·ligència artificial (_CDTR_000053)Principals (_CDTR_000056)Principals resultats(_CDTR_000057)En general, l'ús i el desenvolupament de la IA es caracteritza per estar marcats per una percepció dual en funció del tipus de desenvolupament. Així, hi ha un grau més gran (_CDTR_000058) d'interès en l'ús de la IA en automòbils i assistents virtuals, mentre que el seu desenvolupament com a prescriptors  intel·ligents de compra i consum de continguts\n",
      "[ERROR] Bloque traducido: de (_CDTR_000045)la IA en diferentes (_CDTR_000046)ámbitos de la vida (_CDTR_000047)como (_CDTR_000048)a(_CDTR_000049) asistentes (_CDTR_000050)personales y vehículos de salud. Estudio sobre la aplicación de la inteligencia artificial (_CDTR_000053)Principales (_CDTR_000056)Principales resultados (_CDTR_000057)En general, el uso y el desarrollo de la IA se caracteriza por estar marcados por una percepción dual en función del tipo de desarrollo. Así, hay un grado mayor (_CDTR_000058) de interés en el uso de la IA en automóviles y asistentes virtuales, mientras que su desarrollo como prescriptores inteligentes de compra y consumo de contenidos\n",
      "Error en la traducción del bloque. Error por traducción no válida. Reintentando...\n"
     ]
    },
    {
     "name": "stderr",
     "output_type": "stream",
     "text": [
      "[INFO] HTTP Request: POST https://api.groq.com/openai/v1/chat/completions \"HTTP/1.1 200 OK\"\n"
     ]
    },
    {
     "name": "stdout",
     "output_type": "stream",
     "text": [
      "\n",
      "            Follow these rules:\n",
      "            - Your task is to translate text while strictly preserving codes (_CDTR_00000) in their exact positions, including at the start or end of the text. \n",
      "            - Provide only the translated text without any additional comments or annotations. \n",
      "            - Ensure that the translation is grammatically correct in Spanish, with special attention to the correct use of apostrophes in articles and pronouns.\n",
      "            - Translate all words, including those starting with a capital letter, unless they appear to be proper names.\n",
      "            - Keep similar text length when translating.\n",
      "            - The text provided is part of a larger document. Use the given context (words before and after) for a more accurate translation.\n",
      "\n",
      "            Words before the text (use as context):\n",
      "de (_CDTR_000045)la IA en diferentes\n",
      "Translate the text from Catalan to Spanish.\n",
      "Text to translate:\n",
      "de (_CDTR_000045)la IA en diferentes (_CDTR_000046)àmbits de la vida (_CDTR_000047)com (_CDTR_000048)a(_CDTR_000049) assistents (_CDTR_000050)personals i vehicleso salud(_CDTR_000051)Estudi sobre l'aplicació de la intel·ligència artificial (_CDTR_000053)Principals (_CDTR_000056)Principals resultats(_CDTR_000057)En general, l'ús i el desenvolupament de la IA es caracteritza per estar marcats per una percepció dual en funció del tipus de desenvolupament. Així, hi ha un grau més gran (_CDTR_000058) d'interès en l'ús de la IA en automòbils i assistents virtuals, mentre que el seu desenvolupament com a prescriptors  intel·ligents de compra i consum de continguts\n",
      "Words after the text (use as context):\n",
      "(_CDTR_000059)Així com la seva aplicació en l'àmbi\n",
      "Bloque original: (_CDTR_000046)àmbits de la vida (_CDTR_000047)com (_CDTR_000048)a(_CDTR_000049) assistents (_CDTR_000050)personals i vehicleso salud(_CDTR_000051)Estudi sobre l'aplicació de la intel·ligència artificial (_CDTR_000053)Principals (_CDTR_000056)Principals resultats(_CDTR_000057)En general, l'ús i el desenvolupament de la IA es caracteritza per estar marcats per una percepció dual en funció del tipus de desenvolupament. Així, hi ha un grau més gran (_CDTR_000058) d'interès en l'ús de la IA en automòbils i assistents virtuals, mentre que el seu desenvolupament com a prescriptors  intel·ligents de compra i consum de continguts\n",
      "Bloque traducido: de (_CDTR_000045)la IA en diferentes (_CDTR_000046)ámbitos de la vida (_CDTR_000047)como (_CDTR_000048)el (_CDTR_000049)de asistentes (_CDTR_000050)personales y vehículos de salud. (_CDTR_000051)Estudio sobre la aplicación de la inteligencia artificial (_CDTR_000053)Principales (_CDTR_000056)Principales resultados (_CDTR_000057)En general, el uso y el desarrollo de la IA se caracteriza por estar marcados por una percepción dual en función del tipo de desarrollo. Así, hay un grado mayor (_CDTR_000058) de interés en el uso de la IA en automóviles y asistentes virtuales, mientras que su desarrollo como prescriptores inteligentes de compra y consumo de contenido\n"
     ]
    },
    {
     "name": "stderr",
     "output_type": "stream",
     "text": [
      "[INFO] HTTP Request: POST https://api.groq.com/openai/v1/chat/completions \"HTTP/1.1 200 OK\"\n"
     ]
    },
    {
     "name": "stdout",
     "output_type": "stream",
     "text": [
      "\n",
      "            Follow these rules:\n",
      "            - Your task is to translate text while strictly preserving codes (_CDTR_00000) in their exact positions, including at the start or end of the text. \n",
      "            - Provide only the translated text without any additional comments or annotations. \n",
      "            - Ensure that the translation is grammatically correct in Spanish, with special attention to the correct use of apostrophes in articles and pronouns.\n",
      "            - Translate all words, including those starting with a capital letter, unless they appear to be proper names.\n",
      "            - Keep similar text length when translating.\n",
      "            - The text provided is part of a larger document. Use the given context (words before and after) for a more accurate translation.\n",
      "\n",
      "            Words before the text (use as context):\n",
      "compra y consumo de contenido\n",
      "Translate the text from Catalan to Spanish.\n",
      "Text to translate:\n",
      "compra y consumo de contenido (_CDTR_000059)Així com la seva aplicació en l'àmbit mèdic, generen una taxa d'interès menor i certs recels sobre la seva seguretat. (_CDTR_000060)El interès mitjà pels (_CDTR_000061)assistents virtuals es (_CDTR_000062)reparteix de manera homogènia entre els diferents (_CDTR_000063)segments d'edat. (_CDTR_000064)IA en assistents virtuals(_CDTR_000065)El 51% dels enquestats considera que aquest tipus d'assistents intel·ligents és molt o bastant interessanti només el 17% no sembla interessat en la possibilitat d'utilitzar un dispositiu digital com aquest.(_CDTR_000066)L'interès mitjà, mesurat en una escala de zero a deu, se situa en 6, i gaudeix d'un interès homogeni entre els diferents segments de població, ja que la seva valoració mitjana oscil·la entre el valor mínim de 6 (entre les persones amb edats entre els 35 i 44 anys, i en la població entre 55 i 64 anys) i el interès màxim de 6 (entre les persones amb edats entre els 45 i 54 anys, i amb més de 64 anys).(_CDTR_000067)IA en automòbils(_CDTR_000068)El desenvolupament d'aplicacions d'IA en vehicles és l' avancement d'aquest tipus d'eines que desperta la taxa de interès més alta entre la població. Una mica més de la meitat de la població, el 55%, tindria molt interès en el desenvolupament d'aquest àmbit de la IA.\n",
      "Words after the text (use as context):\n",
      "(_CDTR_000069)Així mateix, també és el desenvolupa\n",
      "Bloque original: (_CDTR_000059)Així com la seva aplicació en l'àmbit mèdic, generen una taxa d'interès menor i certs recels sobre la seva seguretat. (_CDTR_000060)El interès mitjà pels (_CDTR_000061)assistents virtuals es (_CDTR_000062)reparteix de manera homogènia entre els diferents (_CDTR_000063)segments d'edat. (_CDTR_000064)IA en assistents virtuals(_CDTR_000065)El 51% dels enquestats considera que aquest tipus d'assistents intel·ligents és molt o bastant interessanti només el 17% no sembla interessat en la possibilitat d'utilitzar un dispositiu digital com aquest.(_CDTR_000066)L'interès mitjà, mesurat en una escala de zero a deu, se situa en 6, i gaudeix d'un interès homogeni entre els diferents segments de població, ja que la seva valoració mitjana oscil·la entre el valor mínim de 6 (entre les persones amb edats entre els 35 i 44 anys, i en la població entre 55 i 64 anys) i el interès màxim de 6 (entre les persones amb edats entre els 45 i 54 anys, i amb més de 64 anys).(_CDTR_000067)IA en automòbils(_CDTR_000068)El desenvolupament d'aplicacions d'IA en vehicles és l' avancement d'aquest tipus d'eines que desperta la taxa de interès més alta entre la població. Una mica més de la meitat de la població, el 55%, tindria molt interès en el desenvolupament d'aquest àmbit de la IA.\n",
      "Bloque traducido: compra y consumo de contenido (_CDTR_000059)Así como su aplicación en el ámbito médico, generan una tasa de interés menor y ciertos recelos sobre su seguridad. (_CDTR_000060)El interés medio por los (_CDTR_000061)asistentes virtuales se (_CDTR_000062)reparte de manera homogénea entre los diferentes (_CDTR_000063)segmentos de edad. (_CDTR_000064)IA en asistentes virtuales (_CDTR_000065)El 51% de los encuestados considera que este tipo de asistentes inteligentes es muy o bastante interesante, sólo el 17% no parece interesado en la posibilidad de utilizar un dispositivo digital como este. (_CDTR_000066)El interés medio, medido en una escala de cero a diez, se sitúa en 6, y goza de un interés homogéneo entre los diferentes segmentos de población, ya que su valoración media oscila entre el valor mínimo de 6 (entre las personas con edades entre los 35 y 44 años, y en la población entre 55 y 64 años) y el interés máximo de 6 (entre las personas con edades entre los 45 y 54 años, y con más de 64 años).(_CDTR_000067)IA en automóviles (_CDTR_000068)El desarrollo de aplicaciones de IA en vehículos es el avance de este tipo de herramientas que despierta la tasa de interés más alta entre la población. Un poco más de la mitad de la población, el 55%, tendría mucho interés en el desarrollo de este ámbito de la IA.\n"
     ]
    },
    {
     "name": "stderr",
     "output_type": "stream",
     "text": [
      "[INFO] HTTP Request: POST https://api.groq.com/openai/v1/chat/completions \"HTTP/1.1 200 OK\"\n"
     ]
    },
    {
     "name": "stdout",
     "output_type": "stream",
     "text": [
      "\n",
      "            Follow these rules:\n",
      "            - Your task is to translate text while strictly preserving codes (_CDTR_00000) in their exact positions, including at the start or end of the text. \n",
      "            - Provide only the translated text without any additional comments or annotations. \n",
      "            - Ensure that the translation is grammatically correct in Spanish, with special attention to the correct use of apostrophes in articles and pronouns.\n",
      "            - Translate all words, including those starting with a capital letter, unless they appear to be proper names.\n",
      "            - Keep similar text length when translating.\n",
      "            - The text provided is part of a larger document. Use the given context (words before and after) for a more accurate translation.\n",
      "\n",
      "            Words before the text (use as context):\n",
      "este ámbito de la IA.\n",
      "Translate the text from Catalan to Spanish.\n",
      "Text to translate:\n",
      "este ámbito de la IA. (_CDTR_000069)Així mateix, també és el desenvolupament de la IA que més grau d'interès desperta en un segment de població. (_CDTR_000070)Las persones amb edats entre els 25 i 34 anys (_CDTR_000071)presenten un interès mitjà de 7 el més alt entre totsEls segments i tots els possibles desenvolupaments de IA.(_CDTR_000072)No obstant això, quan es valora la seguretat percebuda destaca que, en una escala de zero a deu, la percepció (_CDTR_000073)mèdia es situa en 5, bastant més baixa que l'interès que desperta. Tot i això, el 67% afirma que la incorporació de la IA als vehicles suposa un risc mig i baix a la circulació. A més, per a la població entre 55 i 64 anys la percepció de seguretat baixa fins a les 5. (_CDTR_000074)IA com a prescriptor de compra digital(_CDTR_000075)El 29% de la població internauta considera interessantL'ús de la IA com a element de prescripció de (_CDTR_000076)compra i consum de continguts digitals. Es tracta del percentatge més baix entre tots els elements de desenvolupament de la IA analitzats en el present estudi. (_CDTR_000077)Únicament entre aquelles persones de 25 a 34 anys s'observa un major interès en aquest ús de la IA amb un 5 d'interès mitjà. A mesura que augmenta l'edat de la persona, davalla el interès en aquest tipus de dispositius i es situa per sota del cinc (habitual límit d'aprovació enEspanya) entre les persones majors de 54 anys.(_CDTR_000078)L'escàs interès probablement estigui relacionat amb la desconfiança que genera en la població l'ús d'aparells prescriptors que utilitzen la IA. El 37% té un nivell de confiança baix (valor de 0 a 4), mentre que només el 6% mostra un alt grau de confiança en aquest \n",
      "Words after the text (use as context):\n",
      "(_CDTR_000079)desenvolupament de la IA. La confian\n",
      "Bloque original: (_CDTR_000069)Així mateix, també és el desenvolupament de la IA que més grau d'interès desperta en un segment de població. (_CDTR_000070)Las persones amb edats entre els 25 i 34 anys (_CDTR_000071)presenten un interès mitjà de 7 el més alt entre totsEls segments i tots els possibles desenvolupaments de IA.(_CDTR_000072)No obstant això, quan es valora la seguretat percebuda destaca que, en una escala de zero a deu, la percepció (_CDTR_000073)mèdia es situa en 5, bastant més baixa que l'interès que desperta. Tot i això, el 67% afirma que la incorporació de la IA als vehicles suposa un risc mig i baix a la circulació. A més, per a la població entre 55 i 64 anys la percepció de seguretat baixa fins a les 5. (_CDTR_000074)IA com a prescriptor de compra digital(_CDTR_000075)El 29% de la població internauta considera interessantL'ús de la IA com a element de prescripció de (_CDTR_000076)compra i consum de continguts digitals. Es tracta del percentatge més baix entre tots els elements de desenvolupament de la IA analitzats en el present estudi. (_CDTR_000077)Únicament entre aquelles persones de 25 a 34 anys s'observa un major interès en aquest ús de la IA amb un 5 d'interès mitjà. A mesura que augmenta l'edat de la persona, davalla el interès en aquest tipus de dispositius i es situa per sota del cinc (habitual límit d'aprovació enEspanya) entre les persones majors de 54 anys.(_CDTR_000078)L'escàs interès probablement estigui relacionat amb la desconfiança que genera en la població l'ús d'aparells prescriptors que utilitzen la IA. El 37% té un nivell de confiança baix (valor de 0 a 4), mentre que només el 6% mostra un alt grau de confiança en aquest \n",
      "Bloque traducido: este ámbito de la IA. (_CDTR_000069)Asimismo, también es el desarrollo de la IA que más grado de interés despierta en un segmento de población. (_CDTR_000070)Las personas con edades entre los 25 y 34 años (_CDTR_000071)presentan un interés medio de 7 el más alto entre todos los segmentos y todos los posibles desarrollos de IA.(_CDTR_000072)No obstante, cuando se valora la seguridad percibida destaca que, en una escala de cero a diez, la percepción (_CDTR_000073)media se sitúa en 5, bastante más baja que el interés que despierta. Tot y això ha sido cambiado a Aunque, pero para conservar la estructura original, sera cambiado a : Aunque esto, el 67% afirma que la incorporación de la IA en los vehículos supone un riesgo medio y bajo en la circulación. A más, para la población entre 55 y 64 años la percepción de seguridad baja hasta las 5. (_CDTR_000074)IA como prescriptor de compra digital(_CDTR_000075)El 29% de la población internauta considera interesante el uso de la IA como elemento de prescripción de (_CDTR_000076)compra y consumo de contenidos digitales. Se trata del porcentaje más bajo entre todos los elementos de desarrollo de la IA analizados en el presente estudio. (_CDTR_000077)Únicamente entre aquellas personas de 25 a 34 años se observa un mayor interés en este uso de la IA con un interés medio de 5. A medida que aumenta la edad de la persona, disminuye el interés en este tipo de dispositivos y se sitúa por debajo del cinco (habitual límite de aprobación en España) entre las personas mayores de 54 años.(_CDTR_000078)El escaso interés probablemente esté relacionado con la desconfianza que genera en la población el uso de aparatos prescriptores que utilizan la IA. El 37% tiene un nivel de confianza bajo (valor de 0 a 4), mientras que solo el 6% muestra un alto grado de confianza en este\n"
     ]
    },
    {
     "name": "stderr",
     "output_type": "stream",
     "text": [
      "[INFO] HTTP Request: POST https://api.groq.com/openai/v1/chat/completions \"HTTP/1.1 200 OK\"\n"
     ]
    },
    {
     "name": "stdout",
     "output_type": "stream",
     "text": [
      "\n",
      "            Follow these rules:\n",
      "            - Your task is to translate text while strictly preserving codes (_CDTR_00000) in their exact positions, including at the start or end of the text. \n",
      "            - Provide only the translated text without any additional comments or annotations. \n",
      "            - Ensure that the translation is grammatically correct in Spanish, with special attention to the correct use of apostrophes in articles and pronouns.\n",
      "            - Translate all words, including those starting with a capital letter, unless they appear to be proper names.\n",
      "            - Keep similar text length when translating.\n",
      "            - The text provided is part of a larger document. Use the given context (words before and after) for a more accurate translation.\n",
      "\n",
      "            Words before the text (use as context):\n",
      "grado de confianza en este\n",
      "Translate the text from Catalan to Spanish.\n",
      "Text to translate:\n",
      "grado de confianza en este (_CDTR_000079)desenvolupament de la IA. La confiança mitjana només supera la frontera del cinc entre les persones amb edats entre 25 i 54 anys.(_CDTR_000080)La IA com a element(_CDTR_000081)prescriptor de compra (_CDTR_000082)i consum és el menys (_CDTR_000083)valorat per la ciutadania: només un 29% el considera interessant (_CDTR_000084)IA en àmbit mèdic (_CDTR_000085)Quatre de cada deu persones estarien interessades en el desenvolupament de la IA en l'àmbit mèdic. D'altra banda, cal destacar que el 26% no es muestra gaire a favor de la seva implementació.(_CDTR_000086)Aquest tipus de tecnologia no genera gaire confiança entre la ciutadania, i un 31% desconfia obertament de l'aplicació de la IA en l'àmbit mèdic.(_CDTR_000087)Intel·ligència (_CDTR_000090)intel·ligència artificial (IA)\n",
      "Words after the text (use as context):\n",
      "(_CDTR_000091)El gran avanç de la tecnologia en el\n",
      "Bloque original: (_CDTR_000079)desenvolupament de la IA. La confiança mitjana només supera la frontera del cinc entre les persones amb edats entre 25 i 54 anys.(_CDTR_000080)La IA com a element(_CDTR_000081)prescriptor de compra (_CDTR_000082)i consum és el menys (_CDTR_000083)valorat per la ciutadania: només un 29% el considera interessant (_CDTR_000084)IA en àmbit mèdic (_CDTR_000085)Quatre de cada deu persones estarien interessades en el desenvolupament de la IA en l'àmbit mèdic. D'altra banda, cal destacar que el 26% no es muestra gaire a favor de la seva implementació.(_CDTR_000086)Aquest tipus de tecnologia no genera gaire confiança entre la ciutadania, i un 31% desconfia obertament de l'aplicació de la IA en l'àmbit mèdic.(_CDTR_000087)Intel·ligència (_CDTR_000090)intel·ligència artificial (IA)\n",
      "Bloque traducido: grado de confianza en este (_CDTR_000079)desarrollo de la IA. La confianza media solo supera la frontera del cinco entre las personas con edades entre 25 y 54 años. (_CDTR_000080)La IA como elemento (_CDTR_000081)prescriptor de compra (_CDTR_000082)y consumo es lo menos (_CDTR_000083)valorado por la ciudadanía: solo un 29% lo considera interesante (_CDTR_000084)IA en ámbito médico (_CDTR_000085)Cuatro de cada diez personas estarían interesadas en el desarrollo de la IA en el ámbito médico. Por otro lado, cabe destacar que el 26% no se muestra muy a favor de su implementación. (_CDTR_000086)Este tipo de tecnología no genera mucha confianza entre la ciudadanía, y un 31% desconfía abiertamente de la aplicación de la IA en el ámbito médico. (_CDTR_000087)Inteligencia (_CDTR_000090)inteligencia artificial (IA)\n"
     ]
    },
    {
     "name": "stderr",
     "output_type": "stream",
     "text": [
      "[INFO] HTTP Request: POST https://api.groq.com/openai/v1/chat/completions \"HTTP/1.1 200 OK\"\n"
     ]
    },
    {
     "name": "stdout",
     "output_type": "stream",
     "text": [
      "\n",
      "            Follow these rules:\n",
      "            - Your task is to translate text while strictly preserving codes (_CDTR_00000) in their exact positions, including at the start or end of the text. \n",
      "            - Provide only the translated text without any additional comments or annotations. \n",
      "            - Ensure that the translation is grammatically correct in Spanish, with special attention to the correct use of apostrophes in articles and pronouns.\n",
      "            - Translate all words, including those starting with a capital letter, unless they appear to be proper names.\n",
      "            - Keep similar text length when translating.\n",
      "            - The text provided is part of a larger document. Use the given context (words before and after) for a more accurate translation.\n",
      "\n",
      "            Words before the text (use as context):\n",
      "médico. (_CDTR_000087)Inteligencia (_CDTR_000090)inteligencia artificial (IA)\n",
      "Translate the text from Catalan to Spanish.\n",
      "Text to translate:\n",
      "médico. (_CDTR_000087)Inteligencia (_CDTR_000090)inteligencia artificial (IA) (_CDTR_000091)El gran avanç de la tecnologia en els últims anys ha permès que la IA entri poc a poc en la vida de la població i cada vegada estigui més present en múltiples àmbits de la vida quotidiana (com en l'educació, la salut i el benestar, l'oci, les finances o el transport).(_CDTR_000092)Per IA s'entén tot allò que fa referència a la creació de programes informàtics i mecanismes tecnològics que poden arribar a mostrar (_CDTR_000093)comportaments considerats intel·ligents que tenen com a fi millorar la qualitat de vida de les persones.(_CDTR_000094)Donada la rapidesa amb la qual estan incorporant-se aquests sistemes intel·ligents a la quotidianitat, i a l'especial protagonisme que cobraran en els propers anys, resulta rellevant conèixer el grau d'interès que susciten (_CDTR_000095)algunes de les seves aplicacions, com els assistents(_CDTR_000096)Virtuals, els vehicles autònoms, assitents de compres o prescriptors de consum de continguts o el desenvolupament de sistemes intel·ligents en l'àmbit mèdic.(_CDTR_000097)En general, es valora positivament l'ús de la IA en vehicles i assitents virtuals, mentre que els prescriptors intel·ligents de compra i consum de continguts, així com la seva aplicació en l'àmbit mèdic, generen certa prevenció.(_CDTR_000098)Figura 1. (_CDTR_000099)Nivell d'interès que genera l'ús d'IAen (_CDTR_000101)eldesenvolupament\n",
      "Words after the text (use as context):\n",
      "(_CDTR_000103)d'assistents(_CDTR_000104) virtu(_CD\n",
      "[ERROR] Códigos faltantes en la traducción: {'(_CDTR_000099)', '(_CDTR_000098)', '(_CDTR_000097)', '(_CDTR_000101)'}\n",
      "[ERROR] Bloque original: (_CDTR_000091)El gran avanç de la tecnologia en els últims anys ha permès que la IA entri poc a poc en la vida de la població i cada vegada estigui més present en múltiples àmbits de la vida quotidiana (com en l'educació, la salut i el benestar, l'oci, les finances o el transport).(_CDTR_000092)Per IA s'entén tot allò que fa referència a la creació de programes informàtics i mecanismes tecnològics que poden arribar a mostrar (_CDTR_000093)comportaments considerats intel·ligents que tenen com a fi millorar la qualitat de vida de les persones.(_CDTR_000094)Donada la rapidesa amb la qual estan incorporant-se aquests sistemes intel·ligents a la quotidianitat, i a l'especial protagonisme que cobraran en els propers anys, resulta rellevant conèixer el grau d'interès que susciten (_CDTR_000095)algunes de les seves aplicacions, com els assistents(_CDTR_000096)Virtuals, els vehicles autònoms, assitents de compres o prescriptors de consum de continguts o el desenvolupament de sistemes intel·ligents en l'àmbit mèdic.(_CDTR_000097)En general, es valora positivament l'ús de la IA en vehicles i assitents virtuals, mentre que els prescriptors intel·ligents de compra i consum de continguts, així com la seva aplicació en l'àmbit mèdic, generen certa prevenció.(_CDTR_000098)Figura 1. (_CDTR_000099)Nivell d'interès que genera l'ús d'IAen (_CDTR_000101)eldesenvolupament\n",
      "[ERROR] Bloque traducido: médico. (_CDTR_000087)Inteligencia (_CDTR_000090)inteligencia artificial (IA) (_CDTR_000091)El gran avance de la tecnología en los últimos años ha permitido que la IA entre poco a poco en la vida de la población y cada vez esté más presente en múltiples ámbitos de la vida cotidiana (como en la educación, la salud y el bienestar, el ocio, las finanzas o el transporte).(_CDTR_000092)Por IA se entiende todo lo que hace referencia a la creación de programas informáticos y mecanismos tecnológicos que pueden llegar a mostrar comportamientos considerados inteligentes que tienen como fin mejorar la calidad de vida de las personas.(_CDTR_000093)Dada la rapidez con la que están incorporándose estos sistemas inteligentes a la cotidianidad, y al especial protagonismo que cobrarán en los próximos años, resulta relevante conocer el grado de interés que suscitan algunas de sus aplicaciones, como los asistentes virtuales, los vehículos autónomos, asistentes de compras o prescriptores de consumo de contenidos o el desarrollo de sistemas inteligentes en el ámbito médico.(_CDTR_000094)En general, se valora positivamente el uso de la IA en vehículos y asistentes virtuales, mientras que los prescriptores inteligentes de compra y consumo de contenidos, así como su aplicación en el ámbito médico, generan cierta prevención.(_CDTR_000095) Figura 1. (_CDTR_000096)Nivel de interés que genera el uso de la IA en el desarrollo\n",
      "Error en la traducción del bloque. Error por traducción no válida. Reintentando...\n"
     ]
    },
    {
     "name": "stderr",
     "output_type": "stream",
     "text": [
      "[INFO] HTTP Request: POST https://api.groq.com/openai/v1/chat/completions \"HTTP/1.1 200 OK\"\n"
     ]
    },
    {
     "name": "stdout",
     "output_type": "stream",
     "text": [
      "\n",
      "            Follow these rules:\n",
      "            - Your task is to translate text while strictly preserving codes (_CDTR_00000) in their exact positions, including at the start or end of the text. \n",
      "            - Provide only the translated text without any additional comments or annotations. \n",
      "            - Ensure that the translation is grammatically correct in Spanish, with special attention to the correct use of apostrophes in articles and pronouns.\n",
      "            - Translate all words, including those starting with a capital letter, unless they appear to be proper names.\n",
      "            - Keep similar text length when translating.\n",
      "            - The text provided is part of a larger document. Use the given context (words before and after) for a more accurate translation.\n",
      "\n",
      "            Words before the text (use as context):\n",
      "médico. (_CDTR_000087)Inteligencia (_CDTR_000090)inteligencia artificial (IA)\n",
      "Translate the text from Catalan to Spanish.\n",
      "Text to translate:\n",
      "médico. (_CDTR_000087)Inteligencia (_CDTR_000090)inteligencia artificial (IA) (_CDTR_000091)El gran avanç de la tecnologia en els últims anys ha permès que la IA entri poc a poc en la vida de la població i cada vegada estigui més present en múltiples àmbits de la vida quotidiana (com en l'educació, la salut i el benestar, l'oci, les finances o el transport).(_CDTR_000092)Per IA s'entén tot allò que fa referència a la creació de programes informàtics i mecanismes tecnològics que poden arribar a mostrar (_CDTR_000093)comportaments considerats intel·ligents que tenen com a fi millorar la qualitat de vida de les persones.(_CDTR_000094)Donada la rapidesa amb la qual estan incorporant-se aquests sistemes intel·ligents a la quotidianitat, i a l'especial protagonisme que cobraran en els propers anys, resulta rellevant conèixer el grau d'interès que susciten (_CDTR_000095)algunes de les seves aplicacions, com els assistents(_CDTR_000096)Virtuals, els vehicles autònoms, assitents de compres o prescriptors de consum de continguts o el desenvolupament de sistemes intel·ligents en l'àmbit mèdic.(_CDTR_000097)En general, es valora positivament l'ús de la IA en vehicles i assitents virtuals, mentre que els prescriptors intel·ligents de compra i consum de continguts, així com la seva aplicació en l'àmbit mèdic, generen certa prevenció.(_CDTR_000098)Figura 1. (_CDTR_000099)Nivell d'interès que genera l'ús d'IAen (_CDTR_000101)eldesenvolupament\n",
      "Words after the text (use as context):\n",
      "(_CDTR_000103)d'assistents(_CDTR_000104) virtu(_CD\n",
      "[ERROR] Códigos faltantes en la traducción: {'(_CDTR_000099)', '(_CDTR_000098)', '(_CDTR_000101)'}\n",
      "[ERROR] Bloque original: (_CDTR_000091)El gran avanç de la tecnologia en els últims anys ha permès que la IA entri poc a poc en la vida de la població i cada vegada estigui més present en múltiples àmbits de la vida quotidiana (com en l'educació, la salut i el benestar, l'oci, les finances o el transport).(_CDTR_000092)Per IA s'entén tot allò que fa referència a la creació de programes informàtics i mecanismes tecnològics que poden arribar a mostrar (_CDTR_000093)comportaments considerats intel·ligents que tenen com a fi millorar la qualitat de vida de les persones.(_CDTR_000094)Donada la rapidesa amb la qual estan incorporant-se aquests sistemes intel·ligents a la quotidianitat, i a l'especial protagonisme que cobraran en els propers anys, resulta rellevant conèixer el grau d'interès que susciten (_CDTR_000095)algunes de les seves aplicacions, com els assistents(_CDTR_000096)Virtuals, els vehicles autònoms, assitents de compres o prescriptors de consum de continguts o el desenvolupament de sistemes intel·ligents en l'àmbit mèdic.(_CDTR_000097)En general, es valora positivament l'ús de la IA en vehicles i assitents virtuals, mentre que els prescriptors intel·ligents de compra i consum de continguts, així com la seva aplicació en l'àmbit mèdic, generen certa prevenció.(_CDTR_000098)Figura 1. (_CDTR_000099)Nivell d'interès que genera l'ús d'IAen (_CDTR_000101)eldesenvolupament\n",
      "[ERROR] Bloque traducido: médico. (_CDTR_000087)Inteligencia (_CDTR_000090)inteligencia artificial (IA) (_CDTR_000091)El gran avance de la tecnología en los últimos años ha permitido que la IA entre poco a poco en la vida de la población y cada vez esté más presentes en múltiples ámbitos de la vida cotidiana (como en la educación, la salud y el bienestar, el ocio, las finanzas o el transporte).(_CDTR_000092)Por IA se entiende todo lo que hace referencia a la creación de programas informáticos y mecanismos tecnológicos que pueden llegar a mostrar comportamientos considerados inteligentes que tienen como fin mejorar la calidad de vida de las personas.(_CDTR_000093)Dada la rapidez con la que están incorporándose estos sistemas inteligentes a la cotidianidad, y al especial protagonismo que cobrarán en los próximos años, resulta relevante conocer el grado de interés que suscitan algunas de sus aplicaciones, como los asistentes virtuales, los vehículos autónomos, asistentes de compras o prescriptores de consumo de contenidos o el desarrollo de sistemas inteligentes en el ámbito médico.(_CDTR_000094)En general, se valora positivamente el uso de la IA en vehículos y asistentes virtuales, mientras que los prescriptores inteligentes de compra y consumo de contenidos, así como su aplicación en el ámbito médico, generan cierta prevención.(_CDTR_000095)Figura 1. (_CDTR_000096)Nivel de interés que genera el uso de IA en el (_CDTR_000097)desarrollo\n",
      "Error en la traducción del bloque. Error por traducción no válida. Reintentando...\n"
     ]
    },
    {
     "name": "stderr",
     "output_type": "stream",
     "text": [
      "[INFO] HTTP Request: POST https://api.groq.com/openai/v1/chat/completions \"HTTP/1.1 200 OK\"\n"
     ]
    },
    {
     "name": "stdout",
     "output_type": "stream",
     "text": [
      "\n",
      "            Follow these rules:\n",
      "            - Your task is to translate text while strictly preserving codes (_CDTR_00000) in their exact positions, including at the start or end of the text. \n",
      "            - Provide only the translated text without any additional comments or annotations. \n",
      "            - Ensure that the translation is grammatically correct in Spanish, with special attention to the correct use of apostrophes in articles and pronouns.\n",
      "            - Translate all words, including those starting with a capital letter, unless they appear to be proper names.\n",
      "            - Keep similar text length when translating.\n",
      "            - The text provided is part of a larger document. Use the given context (words before and after) for a more accurate translation.\n",
      "\n",
      "            Words before the text (use as context):\n",
      "médico. (_CDTR_000087)Inteligencia (_CDTR_000090)inteligencia artificial (IA)\n",
      "Translate the text from Catalan to Spanish.\n",
      "Text to translate:\n",
      "médico. (_CDTR_000087)Inteligencia (_CDTR_000090)inteligencia artificial (IA) (_CDTR_000091)El gran avanç de la tecnologia en els últims anys ha permès que la IA entri poc a poc en la vida de la població i cada vegada estigui més present en múltiples àmbits de la vida quotidiana (com en l'educació, la salut i el benestar, l'oci, les finances o el transport).(_CDTR_000092)Per IA s'entén tot allò que fa referència a la creació de programes informàtics i mecanismes tecnològics que poden arribar a mostrar (_CDTR_000093)comportaments considerats intel·ligents que tenen com a fi millorar la qualitat de vida de les persones.(_CDTR_000094)Donada la rapidesa amb la qual estan incorporant-se aquests sistemes intel·ligents a la quotidianitat, i a l'especial protagonisme que cobraran en els propers anys, resulta rellevant conèixer el grau d'interès que susciten (_CDTR_000095)algunes de les seves aplicacions, com els assistents(_CDTR_000096)Virtuals, els vehicles autònoms, assitents de compres o prescriptors de consum de continguts o el desenvolupament de sistemes intel·ligents en l'àmbit mèdic.(_CDTR_000097)En general, es valora positivament l'ús de la IA en vehicles i assitents virtuals, mentre que els prescriptors intel·ligents de compra i consum de continguts, així com la seva aplicació en l'àmbit mèdic, generen certa prevenció.(_CDTR_000098)Figura 1. (_CDTR_000099)Nivell d'interès que genera l'ús d'IAen (_CDTR_000101)eldesenvolupament\n",
      "Words after the text (use as context):\n",
      "(_CDTR_000103)d'assistents(_CDTR_000104) virtu(_CD\n",
      "[ERROR] Códigos faltantes en la traducción: {'(_CDTR_000093)', '(_CDTR_000095)'}\n",
      "[ERROR] Bloque original: (_CDTR_000091)El gran avanç de la tecnologia en els últims anys ha permès que la IA entri poc a poc en la vida de la població i cada vegada estigui més present en múltiples àmbits de la vida quotidiana (com en l'educació, la salut i el benestar, l'oci, les finances o el transport).(_CDTR_000092)Per IA s'entén tot allò que fa referència a la creació de programes informàtics i mecanismes tecnològics que poden arribar a mostrar (_CDTR_000093)comportaments considerats intel·ligents que tenen com a fi millorar la qualitat de vida de les persones.(_CDTR_000094)Donada la rapidesa amb la qual estan incorporant-se aquests sistemes intel·ligents a la quotidianitat, i a l'especial protagonisme que cobraran en els propers anys, resulta rellevant conèixer el grau d'interès que susciten (_CDTR_000095)algunes de les seves aplicacions, com els assistents(_CDTR_000096)Virtuals, els vehicles autònoms, assitents de compres o prescriptors de consum de continguts o el desenvolupament de sistemes intel·ligents en l'àmbit mèdic.(_CDTR_000097)En general, es valora positivament l'ús de la IA en vehicles i assitents virtuals, mentre que els prescriptors intel·ligents de compra i consum de continguts, així com la seva aplicació en l'àmbit mèdic, generen certa prevenció.(_CDTR_000098)Figura 1. (_CDTR_000099)Nivell d'interès que genera l'ús d'IAen (_CDTR_000101)eldesenvolupament\n",
      "[ERROR] Bloque traducido: Médico. (_CDTR_000087)Inteligencia (_CDTR_000090)inteligencia artificial (IA) (_CDTR_000091)El gran avance de la tecnología en los últimos años ha permitido que la IA entre poco a poco en la vida de la población y cada vez esté más presente en múltiples ámbitos de la vida cotidiana (como en la educación, la salud y el bienestar, el ocio, las finanzas o el transporte). (_CDTR_000092)Por IA se entiende todo lo que hace referencia a la creación de programas informáticos y mecanismos tecnológicos que pueden llegar a mostrar comportamientos considerados inteligentes que tienen como fin mejorar la calidad de vida de las personas. (_CDTR_000094)Dada la rapidez con la que están incorporándose estos sistemas inteligentes a la cotidianidad, y al especial protagonismo que cobrarán en los próximos años, resulta relevante conocer el grado de interés que suscitan algunas de sus aplicaciones, como los asistentes (_CDTR_000096)virtuales, los vehículos autónomos, asistentes de compras o prescriptores de consumo de contenidos o el desarrollo de sistemas inteligentes en el ámbito médico. (_CDTR_000097)En general, se valora positivamente el uso de la IA en vehículos y asistentes virtuales, mientras que los prescriptores inteligentes de compra y consumo de contenidos, así como su aplicación en el ámbito médico, generan cierta prevención. (_CDTR_000098)Figura 1. (_CDTR_000099)Nivel de interés que genera el uso de IA en (_CDTR_000101)el desarrollo\n",
      "Error en la traducción del bloque. Error por traducción no válida. Reintentando...\n"
     ]
    },
    {
     "name": "stderr",
     "output_type": "stream",
     "text": [
      "[INFO] HTTP Request: POST https://api.groq.com/openai/v1/chat/completions \"HTTP/1.1 200 OK\"\n"
     ]
    },
    {
     "name": "stdout",
     "output_type": "stream",
     "text": [
      "\n",
      "            Follow these rules:\n",
      "            - Your task is to translate text while strictly preserving codes (_CDTR_00000) in their exact positions, including at the start or end of the text. \n",
      "            - Provide only the translated text without any additional comments or annotations. \n",
      "            - Ensure that the translation is grammatically correct in Spanish, with special attention to the correct use of apostrophes in articles and pronouns.\n",
      "            - Translate all words, including those starting with a capital letter, unless they appear to be proper names.\n",
      "            - Keep similar text length when translating.\n",
      "            - The text provided is part of a larger document. Use the given context (words before and after) for a more accurate translation.\n",
      "\n",
      "            Words before the text (use as context):\n",
      "médico. (_CDTR_000087)Inteligencia (_CDTR_000090)inteligencia artificial (IA)\n",
      "Translate the text from Catalan to Spanish.\n",
      "Text to translate:\n",
      "médico. (_CDTR_000087)Inteligencia (_CDTR_000090)inteligencia artificial (IA) (_CDTR_000091)El gran avanç de la tecnologia en els últims anys ha permès que la IA entri poc a poc en la vida de la població i cada vegada estigui més present en múltiples àmbits de la vida quotidiana (com en l'educació, la salut i el benestar, l'oci, les finances o el transport).(_CDTR_000092)Per IA s'entén tot allò que fa referència a la creació de programes informàtics i mecanismes tecnològics que poden arribar a mostrar (_CDTR_000093)comportaments considerats intel·ligents que tenen com a fi millorar la qualitat de vida de les persones.(_CDTR_000094)Donada la rapidesa amb la qual estan incorporant-se aquests sistemes intel·ligents a la quotidianitat, i a l'especial protagonisme que cobraran en els propers anys, resulta rellevant conèixer el grau d'interès que susciten (_CDTR_000095)algunes de les seves aplicacions, com els assistents(_CDTR_000096)Virtuals, els vehicles autònoms, assitents de compres o prescriptors de consum de continguts o el desenvolupament de sistemes intel·ligents en l'àmbit mèdic.(_CDTR_000097)En general, es valora positivament l'ús de la IA en vehicles i assitents virtuals, mentre que els prescriptors intel·ligents de compra i consum de continguts, així com la seva aplicació en l'àmbit mèdic, generen certa prevenció.(_CDTR_000098)Figura 1. (_CDTR_000099)Nivell d'interès que genera l'ús d'IAen (_CDTR_000101)eldesenvolupament\n",
      "Words after the text (use as context):\n",
      "(_CDTR_000103)d'assistents(_CDTR_000104) virtu(_CD\n",
      "Bloque original: (_CDTR_000091)El gran avanç de la tecnologia en els últims anys ha permès que la IA entri poc a poc en la vida de la població i cada vegada estigui més present en múltiples àmbits de la vida quotidiana (com en l'educació, la salut i el benestar, l'oci, les finances o el transport).(_CDTR_000092)Per IA s'entén tot allò que fa referència a la creació de programes informàtics i mecanismes tecnològics que poden arribar a mostrar (_CDTR_000093)comportaments considerats intel·ligents que tenen com a fi millorar la qualitat de vida de les persones.(_CDTR_000094)Donada la rapidesa amb la qual estan incorporant-se aquests sistemes intel·ligents a la quotidianitat, i a l'especial protagonisme que cobraran en els propers anys, resulta rellevant conèixer el grau d'interès que susciten (_CDTR_000095)algunes de les seves aplicacions, com els assistents(_CDTR_000096)Virtuals, els vehicles autònoms, assitents de compres o prescriptors de consum de continguts o el desenvolupament de sistemes intel·ligents en l'àmbit mèdic.(_CDTR_000097)En general, es valora positivament l'ús de la IA en vehicles i assitents virtuals, mentre que els prescriptors intel·ligents de compra i consum de continguts, així com la seva aplicació en l'àmbit mèdic, generen certa prevenció.(_CDTR_000098)Figura 1. (_CDTR_000099)Nivell d'interès que genera l'ús d'IAen (_CDTR_000101)eldesenvolupament\n",
      "Bloque traducido: médico. (_CDTR_000087)Inteligencia (_CDTR_000090)inteligencia artificial (IA) (_CDTR_000091)El gran avance de la tecnología en los últimos años ha permitido que la IA entre poco a poco en la vida de la población y cada vez esté más presente en múltiples ámbitos de la vida cotidiana (como en la educación, la salud y el bienestar, el ocio, las finanzas o el transporte).(_CDTR_000092)Por IA se entiende todo aquello que hace referencia a la creación de programas informáticos y mecanismos tecnológicos que pueden llegar a mostrar comportamientos considerados inteligentes que tienen como fin mejorar la calidad de vida de las personas.(_CDTR_000093)Dada la rapidez con la que están incorporándose estos sistemas inteligentes a la cotidianidad, y al especial protagonismo que cobrarán en los próximos años, resulta relevante conocer el grado de interés que suscitan (_CDTR_000094)algunas de las aplicaciones, como los asistentes (_CDTR_000095)virtuales, los vehículos autónomos, asistentes de compras o prescriptores de consumo de contenidos o el desarrollo de sistemas inteligentes en el ámbito médico.(_CDTR_000096)En general, se valora positivamente el uso de la IA en vehículos y asistentes virtuales, mientras que los prescriptores inteligentes de compra y consumo de contenidos, así como su aplicación en el ámbito médico, generan cierta prevención.(_CDTR_000097)Figura 1. (_CDTR_000098)Nivel de interés que genera el uso de IA en (_CDTR_000099)el desarrollo(_CDTR_000101) de asistentes(_CD\n"
     ]
    },
    {
     "name": "stderr",
     "output_type": "stream",
     "text": [
      "[INFO] HTTP Request: POST https://api.groq.com/openai/v1/chat/completions \"HTTP/1.1 200 OK\"\n"
     ]
    },
    {
     "name": "stdout",
     "output_type": "stream",
     "text": [
      "\n",
      "            Follow these rules:\n",
      "            - Your task is to translate text while strictly preserving codes (_CDTR_00000) in their exact positions, including at the start or end of the text. \n",
      "            - Provide only the translated text without any additional comments or annotations. \n",
      "            - Ensure that the translation is grammatically correct in Spanish, with special attention to the correct use of apostrophes in articles and pronouns.\n",
      "            - Translate all words, including those starting with a capital letter, unless they appear to be proper names.\n",
      "            - Keep similar text length when translating.\n",
      "            - The text provided is part of a larger document. Use the given context (words before and after) for a more accurate translation.\n",
      "\n",
      "            Words before the text (use as context):\n",
      "en (_CDTR_000099)el desarrollo(_CDTR_000101) de asistentes(_CD\n",
      "Translate the text from Catalan to Spanish.\n",
      "Text to translate:\n",
      "en (_CDTR_000099)el desarrollo(_CDTR_000101) de asistentes(_CD (_CDTR_000103)d'assistents(_CDTR_000104) virtu(_CDTR_000105)Estudi sobre l'aplicació (_CDTR_000106)de la intel·ligència artificial (_CDTR_000107)Pàgina 3(_CDTR_000108)Estudi sobre l'aplicació(_CDTR_000109)de la intel·ligència artificial (_CDTR_000110)Pàgina 5(_CDTR_000111)Estudi sobre l'aplicació  (_CDTR_000112)de la intel·ligència artificial \n",
      "Words after the text (use as context):\n",
      "(_CDTR_000113)Pàgina 7\n",
      "Bloque original: (_CDTR_000103)d'assistents(_CDTR_000104) virtu(_CDTR_000105)Estudi sobre l'aplicació (_CDTR_000106)de la intel·ligència artificial (_CDTR_000107)Pàgina 3(_CDTR_000108)Estudi sobre l'aplicació(_CDTR_000109)de la intel·ligència artificial (_CDTR_000110)Pàgina 5(_CDTR_000111)Estudi sobre l'aplicació  (_CDTR_000112)de la intel·ligència artificial \n",
      "Bloque traducido: en (_CDTR_000099)el desarrollo(_CDTR_000101) de asistentes(_CD (_CDTR_000103)de asistentes (_CDTR_000104)virtuales(_CDTR_000105)Estudio sobre la aplicación (_CDTR_000106)de la inteligencia artificial (_CDTR_000107)Página 3(_CDTR_000108)Estudio sobre la aplicación(_CDTR_000109)de la inteligencia artificial (_CDTR_000110)Página 5(_CDTR_000111)Estudio sobre la aplicación  (_CDTR_000112)de la inteligencia artificial\n"
     ]
    },
    {
     "name": "stderr",
     "output_type": "stream",
     "text": [
      "[INFO] HTTP Request: POST https://api.groq.com/openai/v1/chat/completions \"HTTP/1.1 200 OK\"\n"
     ]
    },
    {
     "name": "stdout",
     "output_type": "stream",
     "text": [
      "\n",
      "            Follow these rules:\n",
      "            - Your task is to translate text while strictly preserving codes (_CDTR_00000) in their exact positions, including at the start or end of the text. \n",
      "            - Provide only the translated text without any additional comments or annotations. \n",
      "            - Ensure that the translation is grammatically correct in Spanish, with special attention to the correct use of apostrophes in articles and pronouns.\n",
      "            - Translate all words, including those starting with a capital letter, unless they appear to be proper names.\n",
      "            - Keep similar text length when translating.\n",
      "            - The text provided is part of a larger document. Use the given context (words before and after) for a more accurate translation.\n",
      "\n",
      "            Words before the text (use as context):\n",
      "aplicación (_CDTR_000112)de la inteligencia artificial\n",
      "Translate the text from Catalan to Spanish.\n",
      "Text to translate:\n",
      "aplicación (_CDTR_000112)de la inteligencia artificial (_CDTR_000113)Pàgina 7\n",
      "Bloque original: (_CDTR_000113)Pàgina 7\n",
      "Bloque traducido: aplicación (_CDTR_000112) de la inteligencia artificial (_CDTR_000113) Página 7\n",
      "Diccionario textos_traducidos\n",
      "{'000001': 'Brújula ', '000002': 'Estudio sobre ', '000003': 'la aplicación de la ', '000004': 'inteligencia', '000005': ' artificial', '000008': 'Introducción ', '000011': 'Introducción y objetivos', '000012': \"Dentro del proyecto de l'Observatori Nacional de \", '000013': 'Tecnología y Sociedad (ONTSI) que tiene como principal', '000014': 'El objetivo es identificar tendencias, actitudes y valoracionesidentificar tendencias, actitudes y valoraciones ', '000015': ' de la población internauta española en cuestiones ', '000016': ' relacionadas con la digitalización. El estudio actual analiza ', '000017': ' la percepción de la opinión pública en relación con la ', '000018': ' implantación de elementos de inteligencia artificial (IA) ', '000019': ' en diversos aspectos relacionados con la vida cotidiana. ', '000020': ' Este estudio se realiza dentro de los estudios de ', '000021': ' seguimiento ', '000022': ' con periodicidad semestral, previstos ', '000023': ' en el proyecto mencionado anteriormente, que tiene ', '000024': ' con el fin de abordar el análisis de cuestiones deel análisis de cuestiones de ', '000025': 'actualidad que sean de interés en cada momento, ', '000026': 'respecto a elementos o aspectos relacionados ', '000027': 'con el comportamiento digital de la población.', '000028': 'La inteligencia artificial, en el ámbito de este estudio, ', '000029': 'se refiere a la creación de programas informáticos ', '000030': 'y dispositivos tecnológicos que pueden mostrar ', '000031': 'comportamientos considerados inteligentes, que tienen ', '000032': 'como fin mejorar la calidad de vida de las personas. ', '000033': 'El estudio', '000034': 'está ', '000035': 'enfocada', '000037': 'a evaluar las opiniones de la ciudadanía en relación con la implementación de la inteligencia artificial (IA) en diferentes ámbitos de la vida cotidiana como asistentes personales, vehículos y la salud. Se ha evaluado la opinión de la población sobre algunas de las aplicaciones y el desarrollo en relación con algunas de las aplicaciones de la IA, como el desarrollo de asistentes virtuales de voz integrados en móviles, televisores o altavoces inteligentes, su uso en automóviles, en sistemas de prescripción de compra o en el ámbito sanitario. En el anexo final se incluye la metodología utilizada en el estudio. ', '000038': 'Este ', '000039': 'estudio', '000040': 'evalúa', '000041': 'la opinión', '000042': 'de la ciudadanía ', '000043': 'respecto a la ', '000044': 'implementación de ', '000045': 'la IA en diferentes ', '000046': 'ámbitos de la vida ', '000047': 'como ', '000048': 'el ', '000049': 'de asistentes ', '000050': 'personales y vehículos de salud. ', '000051': 'Estudio sobre la aplicación de la inteligencia artificial ', '000053': 'Principales ', '000056': 'Principales resultados ', '000057': 'En general, el uso y el desarrollo de la IA se caracteriza por estar marcados por una percepción dual en función del tipo de desarrollo. Así, hay un grado mayor ', '000058': ' de interés en el uso de la IA en automóviles y asistentes virtuales, mientras que su desarrollo como prescriptores inteligentes de compra y consumo de contenidocompra y consumo de contenido ', '000059': 'Así como su aplicación en el ámbito médico, generan una tasa de interés menor y ciertos recelos sobre su seguridad. ', '000060': 'El interés medio por los ', '000061': 'asistentes virtuales se ', '000062': 'reparte de manera homogénea entre los diferentes ', '000063': 'segmentos de edad. ', '000064': 'IA en asistentes virtuales ', '000065': 'El 51% de los encuestados considera que este tipo de asistentes inteligentes es muy o bastante interesante, sólo el 17% no parece interesado en la posibilidad de utilizar un dispositivo digital como este. ', '000066': 'El interés medio, medido en una escala de cero a diez, se sitúa en 6, y goza de un interés homogéneo entre los diferentes segmentos de población, ya que su valoración media oscila entre el valor mínimo de 6 (entre las personas con edades entre los 35 y 44 años, y en la población entre 55 y 64 años) y el interés máximo de 6 (entre las personas con edades entre los 45 y 54 años, y con más de 64 años).', '000067': 'IA en automóviles ', '000068': 'El desarrollo de aplicaciones de IA en vehículos es el avance de este tipo de herramientas que despierta la tasa de interés más alta entre la población. Un poco más de la mitad de la población, el 55%, tendría mucho interés en el desarrollo de este ámbito de la IA.este ámbito de la IA. ', '000069': 'Asimismo, también es el desarrollo de la IA que más grado de interés despierta en un segmento de población. ', '000070': 'Las personas con edades entre los 25 y 34 años ', '000071': 'presentan un interés medio de 7 el más alto entre todos los segmentos y todos los posibles desarrollos de IA.', '000072': 'No obstante, cuando se valora la seguridad percibida destaca que, en una escala de cero a diez, la percepción ', '000073': 'media se sitúa en 5, bastante más baja que el interés que despierta. Tot y això ha sido cambiado a Aunque, pero para conservar la estructura original, sera cambiado a : Aunque esto, el 67% afirma que la incorporación de la IA en los vehículos supone un riesgo medio y bajo en la circulación. A más, para la población entre 55 y 64 años la percepción de seguridad baja hasta las 5. ', '000074': 'IA como prescriptor de compra digital', '000075': 'El 29% de la población internauta considera interesante el uso de la IA como elemento de prescripción de ', '000076': 'compra y consumo de contenidos digitales. Se trata del porcentaje más bajo entre todos los elementos de desarrollo de la IA analizados en el presente estudio. ', '000077': 'Únicamente entre aquellas personas de 25 a 34 años se observa un mayor interés en este uso de la IA con un interés medio de 5. A medida que aumenta la edad de la persona, disminuye el interés en este tipo de dispositivos y se sitúa por debajo del cinco (habitual límite de aprobación en España) entre las personas mayores de 54 años.', '000078': 'El escaso interés probablemente esté relacionado con la desconfianza que genera en la población el uso de aparatos prescriptores que utilizan la IA. El 37% tiene un nivel de confianza bajo (valor de 0 a 4), mientras que solo el 6% muestra un alto grado de confianza en estegrado de confianza en este ', '000079': 'desarrollo de la IA. La confianza media solo supera la frontera del cinco entre las personas con edades entre 25 y 54 años. ', '000080': 'La IA como elemento ', '000081': 'prescriptor de compra ', '000082': 'y consumo es lo menos ', '000083': 'valorado por la ciudadanía: solo un 29% lo considera interesante ', '000084': 'IA en ámbito médico ', '000085': 'Cuatro de cada diez personas estarían interesadas en el desarrollo de la IA en el ámbito médico. Por otro lado, cabe destacar que el 26% no se muestra muy a favor de su implementación. ', '000086': 'Este tipo de tecnología no genera mucha confianza entre la ciudadanía, y un 31% desconfía abiertamente de la aplicación de la IA en el ámbito médico. ', '000087': 'Inteligencia ', '000090': 'inteligencia artificial (IA) ', '000091': 'El gran avance de la tecnología en los últimos años ha permitido que la IA entre poco a poco en la vida de la población y cada vez esté más presente en múltiples ámbitos de la vida cotidiana (como en la educación, la salud y el bienestar, el ocio, las finanzas o el transporte).', '000092': 'Por IA se entiende todo aquello que hace referencia a la creación de programas informáticos y mecanismos tecnológicos que pueden llegar a mostrar comportamientos considerados inteligentes que tienen como fin mejorar la calidad de vida de las personas.', '000093': 'Dada la rapidez con la que están incorporándose estos sistemas inteligentes a la cotidianidad, y al especial protagonismo que cobrarán en los próximos años, resulta relevante conocer el grado de interés que suscitan ', '000094': 'algunas de las aplicaciones, como los asistentes ', '000095': 'virtuales, los vehículos autónomos, asistentes de compras o prescriptores de consumo de contenidos o el desarrollo de sistemas inteligentes en el ámbito médico.', '000096': 'En general, se valora positivamente el uso de la IA en vehículos y asistentes virtuales, mientras que los prescriptores inteligentes de compra y consumo de contenidos, así como su aplicación en el ámbito médico, generan cierta prevención.', '000097': 'Figura 1. ', '000098': 'Nivel de interés que genera el uso de IA en ', '000099': 'el desarrollo', '000101': ' de asistentes(_CD ', '000103': 'de asistentes ', '000104': 'virtuales', '000105': 'Estudio sobre la aplicación ', '000106': 'de la inteligencia artificial ', '000107': 'Página 3', '000108': 'Estudio sobre la aplicación', '000109': 'de la inteligencia artificial ', '000110': 'Página 5', '000111': 'Estudio sobre la aplicación  ', '000112': ' de la inteligencia artificial ', '000113': ' Página 7'}\n",
      "Diccionario textos_traducidos_final\n",
      "{'000001': 'Brújula ', '000002': 'Estudio sobre ', '000003': 'la aplicación de la ', '000004': 'inteligencia', '000005': ' artificial', '000008': 'Introducción ', '000011': 'Introducción y objetivos', '000012': \"Dentro del proyecto de l'Observatori Nacional de \", '000013': 'Tecnología y Sociedad (ONTSI) que tiene como principal', '000014': 'El objetivo es identificar tendencias, actitudes y valoracionesidentificar tendencias, actitudes y valoraciones ', '000015': ' de la población internauta española en cuestiones ', '000016': ' relacionadas con la digitalización. El estudio actual analiza ', '000017': ' la percepción de la opinión pública en relación con la ', '000018': ' implantación de elementos de inteligencia artificial (IA) ', '000019': ' en diversos aspectos relacionados con la vida cotidiana. ', '000020': ' Este estudio se realiza dentro de los estudios de ', '000021': ' seguimiento ', '000022': ' con periodicidad semestral, previstos ', '000023': ' en el proyecto mencionado anteriormente, que tiene ', '000024': ' con el fin de abordar el análisis de cuestiones deel análisis de cuestiones de ', '000025': 'actualidad que sean de interés en cada momento, ', '000026': 'respecto a elementos o aspectos relacionados ', '000027': 'con el comportamiento digital de la población.', '000028': 'La inteligencia artificial, en el ámbito de este estudio, ', '000029': 'se refiere a la creación de programas informáticos ', '000030': 'y dispositivos tecnológicos que pueden mostrar ', '000031': 'comportamientos considerados inteligentes, que tienen ', '000032': 'como fin mejorar la calidad de vida de las personas. ', '000033': 'El estudio', '000034': 'está ', '000035': 'enfocad', '000036': 'a', '000037': 'a evaluar las opiniones de la ciudadanía en relación con la implementación de la inteligencia artificial (IA) en diferentes ámbitos de la vida cotidiana como asistentes personales, vehículos y la salud. Se ha evaluado la opinión de la población sobre algunas de las aplicaciones y el desarrollo en relación con algunas de las aplicaciones de la IA, como el desarrollo de asistentes virtuales de voz integrados en móviles, televisores o altavoces inteligentes, su uso en automóviles, en sistemas de prescripción de compra o en el ámbito sanitario. En el anexo final se incluye la metodología utilizada en el estudio. ', '000038': 'Este ', '000039': 'estudio', '000040': 'evalúa', '000041': 'la opinión', '000042': 'de la ciudadanía ', '000043': 'respecto a la ', '000044': 'implementación de ', '000045': 'la IA en diferentes ', '000046': 'ámbitos de la vida ', '000047': 'como ', '000048': 'el ', '000049': 'de asistentes ', '000050': 'personales y vehículos de salud. ', '000051': 'Estudio sobre la aplicación de la inteligencia artificial ', '000053': 'Principales ', '000056': 'Principales resultados ', '000057': 'En general, el uso y el desarrollo de la IA se caracteriza por estar marcados por una percepción dual en función del tipo de desarrollo. Así, hay un grado mayor ', '000058': ' de interés en el uso de la IA en automóviles y asistentes virtuales, mientras que su desarrollo como prescriptores inteligentes de compra y consumo de contenidocompra y consumo de contenido ', '000059': 'Así como su aplicación en el ámbito médico, generan una tasa de interés menor y ciertos recelos sobre su seguridad. ', '000060': 'El interés medio por los ', '000061': 'asistentes virtuales se ', '000062': 'reparte de manera homogénea entre los diferentes ', '000063': 'segmentos de edad. ', '000064': 'IA en asistentes virtuales ', '000065': 'El 51% de los encuestados considera que este tipo de asistentes inteligentes es muy o bastante interesante, sólo el 17% no parece interesado en la posibilidad de utilizar un dispositivo digital como este. ', '000066': 'El interés medio, medido en una escala de cero a diez, se sitúa en 6, y goza de un interés homogéneo entre los diferentes segmentos de población, ya que su valoración media oscila entre el valor mínimo de 6 (entre las personas con edades entre los 35 y 44 años, y en la población entre 55 y 64 años) y el interés máximo de 6 (entre las personas con edades entre los 45 y 54 años, y con más de 64 años).', '000067': 'IA en automóviles ', '000068': 'El desarrollo de aplicaciones de IA en vehículos es el avance de este tipo de herramientas que despierta la tasa de interés más alta entre la población. Un poco más de la mitad de la población, el 55%, tendría mucho interés en el desarrollo de este ámbito de la IA.este ámbito de la IA. ', '000069': 'Asimismo, también es el desarrollo de la IA que más grado de interés despierta en un segmento de población. ', '000070': 'Las personas con edades entre los 25 y 34 años ', '000071': 'presentan un interés medio de 7 el más alto entre todos los segmentos y todos los posibles desarrollos de IA.', '000072': 'No obstante, cuando se valora la seguridad percibida destaca que, en una escala de cero a diez, la percepción ', '000073': 'media se sitúa en 5, bastante más baja que el interés que despierta. Tot y això ha sido cambiado a Aunque, pero para conservar la estructura original, sera cambiado a : Aunque esto, el 67% afirma que la incorporación de la IA en los vehículos supone un riesgo medio y bajo en la circulación. A más, para la población entre 55 y 64 años la percepción de seguridad baja hasta las 5. ', '000074': 'IA como prescriptor de compra digital', '000075': 'El 29% de la población internauta considera interesante el uso de la IA como elemento de prescripción de ', '000076': 'compra y consumo de contenidos digitales. Se trata del porcentaje más bajo entre todos los elementos de desarrollo de la IA analizados en el presente estudio. ', '000077': 'Únicamente entre aquellas personas de 25 a 34 años se observa un mayor interés en este uso de la IA con un interés medio de 5. A medida que aumenta la edad de la persona, disminuye el interés en este tipo de dispositivos y se sitúa por debajo del cinco (habitual límite de aprobación en España) entre las personas mayores de 54 años.', '000078': 'El escaso interés probablemente esté relacionado con la desconfianza que genera en la población el uso de aparatos prescriptores que utilizan la IA. El 37% tiene un nivel de confianza bajo (valor de 0 a 4), mientras que solo el 6% muestra un alto grado de confianza en estegrado de confianza en este ', '000079': 'desarrollo de la IA. La confianza media solo supera la frontera del cinco entre las personas con edades entre 25 y 54 años. ', '000080': 'La IA como elemento ', '000081': 'prescriptor de compra ', '000082': 'y consumo es lo menos ', '000083': 'valorado por la ciudadanía: solo un 29% lo considera interesante ', '000084': 'IA en ámbito médico ', '000085': 'Cuatro de cada diez personas estarían interesadas en el desarrollo de la IA en el ámbito médico. Por otro lado, cabe destacar que el 26% no se muestra muy a favor de su implementación. ', '000086': 'Este tipo de tecnología no genera mucha confianza entre la ciudadanía, y un 31% desconfía abiertamente de la aplicación de la IA en el ámbito médico. ', '000087': 'Inteligencia ', '000090': 'inteligencia artificial (IA) ', '000091': 'El gran avance de la tecnología en los últimos años ha permitido que la IA entre poco a poco en la vida de la población y cada vez esté más presente en múltiples ámbitos de la vida cotidiana (como en la educación, la salud y el bienestar, el ocio, las finanzas o el transporte).', '000092': 'Por IA se entiende todo aquello que hace referencia a la creación de programas informáticos y mecanismos tecnológicos que pueden llegar a mostrar comportamientos considerados inteligentes que tienen como fin mejorar la calidad de vida de las personas.', '000093': 'Dada la rapidez con la que están incorporándose estos sistemas inteligentes a la cotidianidad, y al especial protagonismo que cobrarán en los próximos años, resulta relevante conocer el grado de interés que suscitan ', '000094': 'algunas de las aplicaciones, como los asistentes ', '000095': 'virtuales, los vehículos autónomos, asistentes de compras o prescriptores de consumo de contenidos o el desarrollo de sistemas inteligentes en el ámbito médico.', '000096': 'En general, se valora positivamente el uso de la IA en vehículos y asistentes virtuales, mientras que los prescriptores inteligentes de compra y consumo de contenidos, así como su aplicación en el ámbito médico, generan cierta prevención.', '000097': 'Figura 1. ', '000098': 'Nivel de interés que genera el uso de IA en ', '000099': 'el desarrollo', '000101': ' d', '000102': 'e asistentes(_CD ', '000103': 'de asistentes ', '000104': 'virtuales', '000105': 'Estudio sobre la aplicación ', '000106': 'de la inteligencia artificial ', '000107': 'Página 3', '000108': 'Estudio sobre la aplicación', '000109': 'de la inteligencia artificial ', '000110': 'Página 5', '000111': 'Estudio sobre la aplicación  ', '000112': ' de la inteligencia artificial ', '000113': ' Página 7'}\n",
      "Se ha dejado el documento traducido en la ruta especificada: test/out/Traducido_Spanish_test2.docx\n"
     ]
    }
   ],
   "source": [
    "# Prueba doc_translator.py\n",
    "\n",
    "from pathlib import Path\n",
    "from doc_translator import traducir_doc\n",
    "\n",
    "\n",
    "# VARIABLES:\n",
    "nombre_fichero = 'test2.docx' # Debe incluir la extensión al final (.pptx, .docx o .pdf)\n",
    "origin_language = \"Catalan\"\n",
    "destination_language = \"Spanish\"\n",
    "color_to_exclude = '#FF0000' # poner en formato #F00000\n",
    "\n",
    "# Rutas de documentos a traducir y devolución\n",
    "input_path = f'test/in/{nombre_fichero}'\n",
    "output_path = f'test/out/Traducido_{destination_language}_{nombre_fichero}'\n",
    "extension = Path(nombre_fichero).suffix\n",
    "\n",
    "\n",
    "traducir_doc(\n",
    "            input_path,\n",
    "            output_path,\n",
    "            origin_language,\n",
    "            destination_language,\n",
    "            extension,\n",
    "            color_to_exclude,\n",
    "            None\n",
    "        )"
   ]
  },
  {
   "cell_type": "code",
   "execution_count": 11,
   "metadata": {},
   "outputs": [
    {
     "name": "stdout",
     "output_type": "stream",
     "text": [
      "Bloque 1:\n",
      "(_CDTR_1)Este es un texto de prueba. Está separado en bloques.\n",
      "\n",
      "Bloque 2:\n",
      "(_CDTR_2)Otro texto que también debe ser manejado correctamente. Se probará la separación.(_CDTR_3)Finalmente, este es el último texto. ¡Gracias por la atención!\n",
      "\n",
      "Bloque con inicio fin 1:\n",
      "(_CDTR_ST)(_CDTR_1)Este es un texto de prueba. Está separado en bloques.(_CDTR_ND)\n",
      "\n",
      "Bloque con inicio fin 2:\n",
      "(_CDTR_ST)(_CDTR_2)Otro texto que también debe ser manejado correctamente. Se probará la separación.(_CDTR_3)Finalmente, este es el último texto. ¡Gracias por la atención!(_CDTR_ND)\n",
      "\n",
      "Bloque sin codigos 1:\n",
      "Este es un texto de prueba. Está separado en bloques.\n",
      "\n",
      "Bloque sin codigos 2:\n",
      "Otro texto que también debe ser manejado correctamente. Se probará la separación.Finalmente, este es el último texto. ¡Gracias por la atención!\n",
      "\n",
      "Bloque select codigos 1:\n",
      "(_CDTR_1)Este es un texto de prueba. Está separado en bloques.\n",
      "\n",
      "Bloque select codigos 2:\n",
      "(_CDTR_2)Otro texto que también debe ser manejado correctamente. Se probará la separación.(_CDTR_3)Finalmente, este es el último texto. ¡Gracias por la atención!\n",
      "\n"
     ]
    }
   ],
   "source": [
    "from process_text_editor import separar_texto_bloques\n",
    "from process_text_editor import incluir_placehold_inicial_final\n",
    "from process_text_editor import filtrar_textos_relevantes\n",
    "from process_text_editor import eliminar_codigos\n",
    "from process_text_editor import join_blocks\n",
    "from process_text_editor import seleccionar_texto_placeholder\n",
    "\n",
    "\n",
    "\n",
    "# Ejemplo de uso\n",
    "textos = {\n",
    "    \"1\": \"Este es un texto de prueba. Está separado en bloques.\",\n",
    "    \"2\": \"Otro texto que también debe ser manejado correctamente. Se probará la separación.\",\n",
    "    \"3\": \"Finalmente, este es el último texto. ¡Gracias por la atención!\"\n",
    "}\n",
    "\n",
    "textos = filtrar_textos_relevantes(textos)\n",
    "\n",
    "\n",
    "bloques = separar_texto_bloques(textos, max_chars_per_block=100)\n",
    "for i, bloque in enumerate(bloques, 1):\n",
    "    print(f\"Bloque {i}:\\n{bloque}\\n\")\n",
    "\n",
    "\n",
    "bloques = incluir_placehold_inicial_final(bloques)\n",
    "for i, bloque in enumerate(bloques, 1):\n",
    "    print(f\"Bloque con inicio fin {i}:\\n{bloque}\\n\")\n",
    "\n",
    "for i, bloque in enumerate(bloques, 1):\n",
    "    bloque = eliminar_codigos(bloque)\n",
    "    print(f\"Bloque sin codigos {i}:\\n{bloque}\\n\")\n",
    "\n",
    "\n",
    "for i, bloque in enumerate(bloques):\n",
    "    # Aplicar la función a cada bloque y actualizar la lista original\n",
    "    bloques[i] = seleccionar_texto_placeholder(bloque)\n",
    "    print(f\"Bloque select codigos {i + 1}:\\n{bloques[i]}\\n\")\n",
    "\n",
    "\n"
   ]
  },
  {
   "cell_type": "code",
   "execution_count": 1,
   "metadata": {},
   "outputs": [
    {
     "name": "stdout",
     "output_type": "stream",
     "text": [
      "Starting translation process for test/in/test.docx\n",
      "Tema 1.  Especificidades para la evaluación y \n",
      "diagnóstico en adultos en el ámbito sanitario \n",
      "Todo diagnóstico y evaluación psicológico debe enmarcarse en:\n",
      "Otro tipo de dificultades deberán volver a ser evaluadas. Si los nuevos problemas no están relacionados, \n",
      "debemos hacer otra evaluación.\n",
      "Los orígenes de un problema son importantes, pero nosotros solo podemos trabajar en el momento \n",
      "presente. \n",
      "¿\n",
      "Qué es EVALUAR\n",
      "? valorar y medir.\n",
      "Evaluar tiene un fin, un propósito, nos lleva a algo, que es comprender y conocer como funciona algo. Lo \n",
      "importante de evaluar es poder predecir y conocer como se comportaría alguien en una situación. \n",
      "La evaluación es un proceso compuesto por fases sucesivas e interrelacionadas.\n",
      "Evaluación y diagnóstico como parte de la intervención en Psicología General \n",
      "Sanitaria \n",
      "Evaluación y diagnóstico no son lo mismo!\n",
      "*Ver video del análisis funcional de conducta.\n",
      "Aun siendo distintos, diagnóstico y evaluación siempre van unidos, ya que, para realizar el primero, se \n",
      "debe llevar a cabo una buena evaluación. Además, esto facilitará la toma de decisiones para la \n",
      "intervención. \n",
      "Importante:\n",
      " una buena evaluación Psicológica representa un 80% de la terapia. \n",
      "Motivo de consulta:\n",
      "La mayor parte del éxito en la consecución de los objetivos de la terapia depende de la colaboración \n",
      "durante la evaluación entre el psicólogo y el paciente/cliente. \n",
      "¿Cuántos problemas como mínimo tiene alguien que acude a terapia? Su problema + contarlo a mí. \n",
      "Contar algo a un desconocido es ya un problema. \n",
      "Proceso de evaluación psicológica\n",
      "El proceso de evaluación y diagnóstico reproduce (y debe reproducir):\n",
      "Que serán siempre objeto de nuestro análisis.\n",
      "El profesional debe:\n",
      "La evaluación psicológica es el proceso que sirve para recoger, valorar  e interpretar la información \n",
      "necesaria a fin de poder tomar decisiones que contribuyan a solucionar los problemas que afectan al \n",
      "paciente/cliente.\n",
      "Fases de la evaluación:\n",
      "el orden reflejado de las fases se muestra secuencialmente según se entiende \n",
      "que avanza el proceso de evaluación. No obstante, es un proceso flexible.\n",
      "1. Recogida de información; especificación de la demanda del problema. \n",
      "2. Formulación de hipótesis inicial.\n",
      "3. Contrastación de hipótesis.\n",
      "4. Comunicación de los resultados de la evaluación.\n",
      "5. Formulación de hipótesis funcionales relacionadas con el plan de tratamiento.\n",
      "6. Aplicación del tratamiento y recogida de datos de las hipótesis funcionales. \n",
      "7. Valoración de los resultados.\n",
      "8. Resultados (comunicar al paciente) \n",
      "9. Seguimiento: hay pacientes que requieren de un seguimiento. \n",
      "En resumen:\n",
      "Diccionario textos_originales tal cual\n",
      "{'1': 'Tema 1.  Especificidades para la evaluación y ', '2': 'diagnóstico en adultos en el ámbito sanitario ', '3': 'Todo diagnóstico y evaluación psicológico debe enmarcarse en:', '4': 'Otro tipo de dificultades deberán volver a ser evaluadas. Si los nuevos problemas no están relacionados, ', '5': 'debemos hacer otra evaluación.', '6': 'Los orígenes de un problema son importantes, pero nosotros solo podemos trabajar en el momento ', '7': 'presente. ', '8': '¿', '9': 'Qué es EVALUAR', '10': '? valorar y medir.', '11': 'Evaluar tiene un fin, un propósito, nos lleva a algo, que es comprender y conocer como funciona algo. Lo ', '12': 'importante de evaluar es poder predecir y conocer como se comportaría alguien en una situación. ', '13': 'La evaluación es un proceso compuesto por fases sucesivas e interrelacionadas.', '14': 'Evaluación y diagnóstico como parte de la intervención en Psicología General ', '15': 'Sanitaria ', '16': 'Evaluación y diagnóstico no son lo mismo!', '17': '*Ver video del análisis funcional de conducta.', '18': 'Aun siendo distintos, diagnóstico y evaluación siempre van unidos, ya que, para realizar el primero, se ', '19': 'debe llevar a cabo una buena evaluación. Además, esto facilitará la toma de decisiones para la ', '20': 'intervención. ', '21': 'Importante:', '22': ' una buena evaluación Psicológica representa un 80% de la terapia. ', '23': 'Motivo de consulta:', '24': 'La mayor parte del éxito en la consecución de los objetivos de la terapia depende de la colaboración ', '25': 'durante la evaluación entre el psicólogo y el paciente/cliente. ', '26': '¿Cuántos problemas como mínimo tiene alguien que acude a terapia? Su problema + contarlo a mí. ', '27': 'Contar algo a un desconocido es ya un problema. ', '28': 'Proceso de evaluación psicológica', '29': 'El proceso de evaluación y diagnóstico reproduce (y debe reproducir):', '30': 'Que serán siempre objeto de nuestro análisis.', '31': 'El profesional debe:', '32': 'La evaluación psicológica es el proceso que sirve para recoger, valorar  e interpretar la información ', '33': 'necesaria a fin de poder tomar decisiones que contribuyan a solucionar los problemas que afectan al ', '34': 'paciente/cliente.', '35': 'Fases de la evaluación:', '36': 'el orden reflejado de las fases se muestra secuencialmente según se entiende ', '37': 'que avanza el proceso de evaluación. No obstante, es un proceso flexible.', '38': '1. Recogida de información; especificación de la demanda del problema. ', '39': '2. Formulación de hipótesis inicial.', '40': '3. Contrastación de hipótesis.', '41': '4. Comunicación de los resultados de la evaluación.', '42': '5. Formulación de hipótesis funcionales relacionadas con el plan de tratamiento.', '43': '6. Aplicación del tratamiento y recogida de datos de las hipótesis funcionales. ', '44': '7. Valoración de los resultados.', '45': '8. Resultados (comunicar al paciente) ', '46': '9. Seguimiento: hay pacientes que requieren de un seguimiento. ', '47': 'En resumen:', '48': 'Unas dimensiones espacio-temporales e interactivas concretas.', '49': 'Perseguir unos fines específicos conceptualizados por el evaluador: esta conceptualización acaba ', '50': 'siendo un consenso entre terapeuta y paciente. ', '51': 'Evaluación', '52': 'Diagnóstico', '53': 'Es ', '54': 'un ', '55': 'procedimiento ', '56': 'mediante ', '57': 'el ', '58': 'cual ', '59': 'recopilamos información sobre el paciente a ', '60': 'través de diferentes técnicas, con el fin de ', '61': 'evaluar su sintomatología, funcionamiento y ', '62': 'capacidades.', '63': 'A partir de la evaluación se tomarán decisiones ', '64': 'sobre el tipo, secuencia y objetivos del plan de ', '65': 'tratamiento; y, más adelante, las técnicas de ', '66': 'evaluación serán las encargadas de valorar los ', '67': 'cambios producidos durante la intervención.', '68': 'Pretende catalogar una enfermedad en función ', '69': 'de los diferentes síntomas que presenta el ', '70': 'paciente. ', '71': 'Nos permite identificar cuál es el problema, a ', '72': 'partir de observaciones y datos concretos.', '73': 'Se debe recordar que el motivo de consulta nunca es el problema.', '74': 'Los pacientes  acuden con un motivo claro (síntomas, dificultades, problemas, ánimo, etc.) ', '75': 'No siempre es el problema al que hay que hacer frente. ', '76': 'De ahí la necesidad de una ', '77': 'evaluación exhaustiva.', '78': 'Modelos de relación ', '79': 'Estrategias de intervención ', '80': 'Estilos de respuesta en general', '81': 'Ser útil: ', '82': 'ayudar a que el paciente/cliente piense, utilice sus propias posibilidad y autonomía. ', '83': 'Comprender: ', '84': 'no sólo es importante conocer y reunir datos sobre el paciente, es esencial ', '85': 'comprender lo que el paciente dice.', '86': 'Ser tolerante:', '87': ' no es posible ser terapeuta sin ser tolerante. ', '88': 'Valorar al paciente/cliente: ', '89': 'hay pacientes que acuden a consulta sin haber “sido vistos nunca”, es ', '90': 'nuestro deber como profesionales “verlos” y valorarlos como personas. ', '91': 'La evaluación es un proceso compuesto por fases sucesivas e interrelacionadas. ', '92': 'Es una relación humana.', '93': 'Suele conllevar un diagnóstico.', '94': 'Se subdivide en fases secuenciales, pero es un proceso flexible. '}\n",
      "Diccionario textos_originales ajustado\n",
      "{'1': 'Tema 1.  Especificidades para la evaluación y ', '2': 'diagnóstico en adultos en el ámbito sanitario ', '3': 'Todo diagnóstico y evaluación psicológico debe enmarcarse en:', '4': 'Otro tipo de dificultades deberán volver a ser evaluadas. Si los nuevos problemas no están relacionados, ', '5': 'debemos hacer otra evaluación.', '6': 'Los orígenes de un problema son importantes, pero nosotros solo podemos trabajar en el momento ', '7': 'presente. ', '8': '¿', '9': 'Qué es EVALUAR', '10': '? valorar y medir.', '11': 'Evaluar tiene un fin, un propósito, nos lleva a algo, que es comprender y conocer como funciona algo. Lo ', '12': 'importante de evaluar es poder predecir y conocer como se comportaría alguien en una situación. ', '13': 'La evaluación es un proceso compuesto por fases sucesivas e interrelacionadas.', '14': 'Evaluación y diagnóstico como parte de la intervención en Psicología General ', '15': 'Sanitaria ', '16': 'Evaluación y diagnóstico no son lo mismo!', '17': '*Ver video del análisis funcional de conducta.', '18': 'Aun siendo distintos, diagnóstico y evaluación siempre van unidos, ya que, para realizar el primero, se ', '19': 'debe llevar a cabo una buena evaluación. Además, esto facilitará la toma de decisiones para la ', '20': 'intervención. ', '21': 'Importante:', '22': ' una buena evaluación Psicológica representa un 80% de la terapia. ', '23': 'Motivo de consulta:', '24': 'La mayor parte del éxito en la consecución de los objetivos de la terapia depende de la colaboración ', '25': 'durante la evaluación entre el psicólogo y el paciente/cliente. ', '26': '¿Cuántos problemas como mínimo tiene alguien que acude a terapia? Su problema + contarlo a mí. ', '27': 'Contar algo a un desconocido es ya un problema. ', '28': 'Proceso de evaluación psicológica', '29': 'El proceso de evaluación y diagnóstico reproduce (y debe reproducir):', '30': 'Que serán siempre objeto de nuestro análisis.', '31': 'El profesional debe:', '32': 'La evaluación psicológica es el proceso que sirve para recoger, valorar  e interpretar la información ', '33': 'necesaria a fin de poder tomar decisiones que contribuyan a solucionar los problemas que afectan al ', '34': 'paciente/cliente.', '35': 'Fases de la evaluación:', '36': 'el orden reflejado de las fases se muestra secuencialmente según se entiende ', '37': 'que avanza el proceso de evaluación. No obstante, es un proceso flexible.', '38': '1. Recogida de información; especificación de la demanda del problema. ', '39': '2. Formulación de hipótesis inicial.', '40': '3. Contrastación de hipótesis.', '41': '4. Comunicación de los resultados de la evaluación.', '42': '5. Formulación de hipótesis funcionales relacionadas con el plan de tratamiento.', '43': '6. Aplicación del tratamiento y recogida de datos de las hipótesis funcionales. ', '44': '7. Valoración de los resultados.', '45': '8. Resultados (comunicar al paciente) ', '46': '9. Seguimiento: hay pacientes que requieren de un seguimiento. ', '47': 'En resumen:', '48': 'Unas dimensiones espacio-temporales e interactivas concretas.', '49': 'Perseguir unos fines específicos conceptualizados por el evaluador: esta conceptualización acaba ', '50': 'siendo un consenso entre terapeuta y paciente. ', '51': 'Evaluación', '52': 'Diagnóstico', '53': 'Es ', '54': 'un ', '55': 'procedimiento ', '56': 'mediante ', '57': 'el ', '58': 'cual ', '59': 'recopilamos información sobre el paciente a ', '60': 'través de diferentes técnicas, con el fin de ', '61': 'evaluar su sintomatología, funcionamiento y ', '62': 'capacidades.', '63': 'A partir de la evaluación se tomarán decisiones ', '64': 'sobre el tipo, secuencia y objetivos del plan de ', '65': 'tratamiento; y, más adelante, las técnicas de ', '66': 'evaluación serán las encargadas de valorar los ', '67': 'cambios producidos durante la intervención.', '68': 'Pretende catalogar una enfermedad en función ', '69': 'de los diferentes síntomas que presenta el ', '70': 'paciente. ', '71': 'Nos permite identificar cuál es el problema, a ', '72': 'partir de observaciones y datos concretos.', '73': 'Se debe recordar que el motivo de consulta nunca es el problema.', '74': 'Los pacientes  acuden con un motivo claro (síntomas, dificultades, problemas, ánimo, etc. ) ', '75': 'No siempre es el problema al que hay que hacer frente. ', '76': 'De ahí la necesidad de una ', '77': 'evaluación exhaustiva.', '78': 'Modelos de relación ', '79': 'Estrategias de intervención ', '80': 'Estilos de respuesta en general', '81': 'Ser útil: ', '82': 'ayudar a que el paciente/cliente piense, utilice sus propias posibilidad y autonomía. ', '83': 'Comprender: ', '84': 'no sólo es importante conocer y reunir datos sobre el paciente, es esencial ', '85': 'comprender lo que el paciente dice.', '86': 'Ser tolerante:', '87': ' no es posible ser terapeuta sin ser tolerante. ', '88': 'Valorar al paciente/cliente: ', '89': 'hay pacientes que acuden a consulta sin haber “sido vistos nunca”, es ', '90': 'nuestro deber como profesionales “verlos” y valorarlos como personas. ', '91': 'La evaluación es un proceso compuesto por fases sucesivas e interrelacionadas. ', '92': 'Es una relación humana.', '93': 'Suele conllevar un diagnóstico.', '94': 'Se subdivide en fases secuenciales, pero es un proceso flexible. '}\n",
      "{}\n",
      "Diccionario textos_para_traducir\n",
      "{'1': 'Tema 1.  Especificidades para la evaluación y ', '2': 'diagnóstico en adultos en el ámbito sanitario ', '3': 'Todo diagnóstico y evaluación psicológico debe enmarcarse en:', '4': 'Otro tipo de dificultades deberán volver a ser evaluadas. Si los nuevos problemas no están relacionados, ', '5': 'debemos hacer otra evaluación.', '6': 'Los orígenes de un problema son importantes, pero nosotros solo podemos trabajar en el momento ', '7': 'presente. ', '9': 'Qué es EVALUAR', '10': '? valorar y medir.', '11': 'Evaluar tiene un fin, un propósito, nos lleva a algo, que es comprender y conocer como funciona algo. Lo ', '12': 'importante de evaluar es poder predecir y conocer como se comportaría alguien en una situación. ', '13': 'La evaluación es un proceso compuesto por fases sucesivas e interrelacionadas.', '14': 'Evaluación y diagnóstico como parte de la intervención en Psicología General ', '15': 'Sanitaria ', '16': 'Evaluación y diagnóstico no son lo mismo!', '17': '*Ver video del análisis funcional de conducta.', '18': 'Aun siendo distintos, diagnóstico y evaluación siempre van unidos, ya que, para realizar el primero, se ', '19': 'debe llevar a cabo una buena evaluación. Además, esto facilitará la toma de decisiones para la ', '20': 'intervención. ', '21': 'Importante:', '22': ' una buena evaluación Psicológica representa un 80% de la terapia. ', '23': 'Motivo de consulta:', '24': 'La mayor parte del éxito en la consecución de los objetivos de la terapia depende de la colaboración ', '25': 'durante la evaluación entre el psicólogo y el paciente/cliente. ', '26': '¿Cuántos problemas como mínimo tiene alguien que acude a terapia? Su problema + contarlo a mí. ', '27': 'Contar algo a un desconocido es ya un problema. ', '28': 'Proceso de evaluación psicológica', '29': 'El proceso de evaluación y diagnóstico reproduce (y debe reproducir):', '30': 'Que serán siempre objeto de nuestro análisis.', '31': 'El profesional debe:', '32': 'La evaluación psicológica es el proceso que sirve para recoger, valorar  e interpretar la información ', '33': 'necesaria a fin de poder tomar decisiones que contribuyan a solucionar los problemas que afectan al ', '34': 'paciente/cliente.', '35': 'Fases de la evaluación:', '36': 'el orden reflejado de las fases se muestra secuencialmente según se entiende ', '37': 'que avanza el proceso de evaluación. No obstante, es un proceso flexible.', '38': '1. Recogida de información; especificación de la demanda del problema. ', '39': '2. Formulación de hipótesis inicial.', '40': '3. Contrastación de hipótesis.', '41': '4. Comunicación de los resultados de la evaluación.', '42': '5. Formulación de hipótesis funcionales relacionadas con el plan de tratamiento.', '43': '6. Aplicación del tratamiento y recogida de datos de las hipótesis funcionales. ', '44': '7. Valoración de los resultados.', '45': '8. Resultados (comunicar al paciente) ', '46': '9. Seguimiento: hay pacientes que requieren de un seguimiento. ', '47': 'En resumen:', '48': 'Unas dimensiones espacio-temporales e interactivas concretas.', '49': 'Perseguir unos fines específicos conceptualizados por el evaluador: esta conceptualización acaba ', '50': 'siendo un consenso entre terapeuta y paciente. ', '51': 'Evaluación', '52': 'Diagnóstico', '53': 'Es ', '54': 'un ', '55': 'procedimiento ', '56': 'mediante ', '57': 'el ', '58': 'cual ', '59': 'recopilamos información sobre el paciente a ', '60': 'través de diferentes técnicas, con el fin de ', '61': 'evaluar su sintomatología, funcionamiento y ', '62': 'capacidades.', '63': 'A partir de la evaluación se tomarán decisiones ', '64': 'sobre el tipo, secuencia y objetivos del plan de ', '65': 'tratamiento; y, más adelante, las técnicas de ', '66': 'evaluación serán las encargadas de valorar los ', '67': 'cambios producidos durante la intervención.', '68': 'Pretende catalogar una enfermedad en función ', '69': 'de los diferentes síntomas que presenta el ', '70': 'paciente. ', '71': 'Nos permite identificar cuál es el problema, a ', '72': 'partir de observaciones y datos concretos.', '73': 'Se debe recordar que el motivo de consulta nunca es el problema.', '74': 'Los pacientes  acuden con un motivo claro (síntomas, dificultades, problemas, ánimo, etc. ) ', '75': 'No siempre es el problema al que hay que hacer frente. ', '76': 'De ahí la necesidad de una ', '77': 'evaluación exhaustiva.', '78': 'Modelos de relación ', '79': 'Estrategias de intervención ', '80': 'Estilos de respuesta en general', '81': 'Ser útil: ', '82': 'ayudar a que el paciente/cliente piense, utilice sus propias posibilidad y autonomía. ', '83': 'Comprender: ', '84': 'no sólo es importante conocer y reunir datos sobre el paciente, es esencial ', '85': 'comprender lo que el paciente dice.', '86': 'Ser tolerante:', '87': ' no es posible ser terapeuta sin ser tolerante. ', '88': 'Valorar al paciente/cliente: ', '89': 'hay pacientes que acuden a consulta sin haber “sido vistos nunca”, es ', '90': 'nuestro deber como profesionales “verlos” y valorarlos como personas. ', '91': 'La evaluación es un proceso compuesto por fases sucesivas e interrelacionadas. ', '92': 'Es una relación humana.', '93': 'Suele conllevar un diagnóstico.', '94': 'Se subdivide en fases secuenciales, pero es un proceso flexible. '}\n"
     ]
    },
    {
     "name": "stderr",
     "output_type": "stream",
     "text": [
      "[INFO] HTTP Request: POST https://api.groq.com/openai/v1/chat/completions \"HTTP/1.1 200 OK\"\n"
     ]
    },
    {
     "name": "stdout",
     "output_type": "stream",
     "text": [
      "Bloque original: (_CDTR_ST)(_CDTR_1)Tema 1.  Especificidades para la evaluación y (_CDTR_2)diagnóstico en adultos en el ámbito sanitario (_CDTR_3)Todo diagnóstico y evaluación psicológico debe enmarcarse en:(_CDTR_4)Otro tipo de dificultades deberán volver a ser evaluadas. Si los nuevos problemas no están relacionados, (_CDTR_5)debemos hacer otra evaluación.(_CDTR_6)Los orígenes de un problema son importantes, pero nosotros solo podemos trabajar en el momento (_CDTR_7)presente. (_CDTR_9)Qué es EVALUAR(_CDTR_ND)\n",
      "Bloque traducido sin: Tema 1. Especificitats per a l'avaluació i diagnòstic en adults en l'àmbit sanitari Tota avaluació i diagnòstic psicològic ha de enquadrar-se en: Un altre tipus de dificultats hauran de tornar a ser avaluades. Si els nous problemes no estan relacionats, hem de fer una altra avaluació. Els orígens d'un problema són importants, però nosaltres només podem treballar en el moment present. Què és AVALUAR\n"
     ]
    },
    {
     "name": "stderr",
     "output_type": "stream",
     "text": [
      "[INFO] HTTP Request: POST https://api.groq.com/openai/v1/chat/completions \"HTTP/1.1 200 OK\"\n"
     ]
    },
    {
     "name": "stdout",
     "output_type": "stream",
     "text": [
      "Bloque traducido con placeholders: (_CDTR_ST)(_CDTR_1)Tema 1.  Especificitats per a l'avaluació i (_CDTR_2)diagnòstic en adults en l'àmbit sanitari (_CDTR_3)Tota avaluació i diagnòstic psicològic ha de enquadrar-se en:(_CDTR_4)Un altre tipus de dificultats hauran de tornar a ser avaluades. Si els nous problemes no estan relacionats, (_CDTR_5)hauríem de fer una altra avaluació.(_CDTR_6)Els orígens d'un problema són importants, però nosaltres només podem treballar en el moment (_CDTR_7)present. (_CDTR_9)Què és AVALUAR(_CDTR_ND)\n"
     ]
    },
    {
     "name": "stderr",
     "output_type": "stream",
     "text": [
      "[INFO] HTTP Request: POST https://api.groq.com/openai/v1/chat/completions \"HTTP/1.1 200 OK\"\n"
     ]
    },
    {
     "name": "stdout",
     "output_type": "stream",
     "text": [
      "Bloque original: (_CDTR_ST)(_CDTR_10)? valorar y medir.(_CDTR_11)Evaluar tiene un fin, un propósito, nos lleva a algo, que es comprender y conocer como funciona algo. Lo (_CDTR_12)importante de evaluar es poder predecir y conocer como se comportaría alguien en una situación. (_CDTR_13)La evaluación es un proceso compuesto por fases sucesivas e interrelacionadas.(_CDTR_14)Evaluación y diagnóstico como parte de la intervención en Psicología General (_CDTR_15)Sanitaria(_CDTR_ND)\n",
      "Bloque traducido sin: ? valorar i mesurar. Avaluar té un fi, un propòsit, ens duu a alguna cosa, que és comprendre i conèixer com funciona alguna cosa. Allò important d'avaluar és poder predir i conèixer com es comportaria algú en una situació. L'avaluació és un procés compost per fases successives i interrelacionades. Avaluació i diagnòstic com a part de la intervenció en Psicologia General Sanitària\n"
     ]
    },
    {
     "name": "stderr",
     "output_type": "stream",
     "text": [
      "[INFO] HTTP Request: POST https://api.groq.com/openai/v1/chat/completions \"HTTP/1.1 200 OK\"\n"
     ]
    },
    {
     "name": "stdout",
     "output_type": "stream",
     "text": [
      "Bloque traducido con placeholders: (_CDTR_ST)(_CDTR_10)? valorar i mesurar.(_CDTR_11)Avaluar té un fi, un propòsit, ens duu a alguna cosa, que és comprendre i conèixer com funciona alguna cosa. Allò (_CDTR_12)important d'avaluar és poder predir i conèixer com es comportaria algú en una situació. (_CDTR_13)L'avaluació és un procés compost per fases successives i interrelacionades.(_CDTR_14)Avaluació i diagnòstic com a part de la intervenció en Psicologia General (_CDTR_15)Sanitària(_CDTR_ND)\n"
     ]
    },
    {
     "name": "stderr",
     "output_type": "stream",
     "text": [
      "[INFO] HTTP Request: POST https://api.groq.com/openai/v1/chat/completions \"HTTP/1.1 200 OK\"\n"
     ]
    },
    {
     "name": "stdout",
     "output_type": "stream",
     "text": [
      "Bloque original: (_CDTR_ST)(_CDTR_16)Evaluación y diagnóstico no son lo mismo!(_CDTR_17)*Ver video del análisis funcional de conducta.(_CDTR_18)Aun siendo distintos, diagnóstico y evaluación siempre van unidos, ya que, para realizar el primero, se (_CDTR_19)debe llevar a cabo una buena evaluación. Además, esto facilitará la toma de decisiones para la (_CDTR_20)intervención. (_CDTR_21)Importante:(_CDTR_22) una buena evaluación Psicológica representa un 80% de la terapia. (_CDTR_23)Motivo de consulta:(_CDTR_ND)\n",
      "Bloque traducido sin: Avaluació i diagnòstic no són el mateix! *Veure vídeo de l'anàlisi funcional de conducta. Encara que siguin diferents, diagnòstic i avaluació sempre van Units, ja que, per realitzar el primer, cal dur a terme una bona avaluació. A més, això facilitarà la presa de decisions per la intervenció.  Important:  una bona avaluació Psicològica representa un 80% de la teràpia.  Motiu de consulta:\n"
     ]
    },
    {
     "name": "stderr",
     "output_type": "stream",
     "text": [
      "[INFO] HTTP Request: POST https://api.groq.com/openai/v1/chat/completions \"HTTP/1.1 200 OK\"\n"
     ]
    },
    {
     "name": "stdout",
     "output_type": "stream",
     "text": [
      "[ERROR] Códigos faltantes en la traducción: {'(_CDTR_19)'}\n",
      "[ERROR] Bloque original: (_CDTR_ST)(_CDTR_16)Evaluación y diagnóstico no son lo mismo!(_CDTR_17)*Ver video del análisis funcional de conducta.(_CDTR_18)Aun siendo distintos, diagnóstico y evaluación siempre van unidos, ya que, para realizar el primero, se (_CDTR_19)debe llevar a cabo una buena evaluación. Además, esto facilitará la toma de decisiones para la (_CDTR_20)intervención. (_CDTR_21)Importante:(_CDTR_22) una buena evaluación Psicológica representa un 80% de la terapia. (_CDTR_23)Motivo de consulta:(_CDTR_ND)\n",
      "[ERROR] Bloque traducido: (_CDTR_ST)(_CDTR_16)Avaluació i diagnòstic no són el mateix! (_CDTR_17)*Veure vídeo de l'anàlisi funcional de conducta. (_CDTR_18)Tot i ser diferents, diagnòstic i avaluació sempre van units, ja que, per realitzar el primer, cal dur a terme una bona avaluació. (_CDTR_20)A més, això facilitarà la presa de decisions per a la intervenció. (_CDTR_21)Important: (_CDTR_22)una bona avaluació psicològica representa un 80% de la teràpia. (_CDTR_23)Motiu de consulta: (_CDTR_ND)\n",
      "Error en la traducción del bloque. Error por traducción no válida. Reintentando...\n"
     ]
    },
    {
     "name": "stderr",
     "output_type": "stream",
     "text": [
      "[INFO] HTTP Request: POST https://api.groq.com/openai/v1/chat/completions \"HTTP/1.1 200 OK\"\n"
     ]
    },
    {
     "name": "stdout",
     "output_type": "stream",
     "text": [
      "Bloque original: (_CDTR_ST)(_CDTR_16)Evaluación y diagnóstico no son lo mismo!(_CDTR_17)*Ver video del análisis funcional de conducta.(_CDTR_18)Aun siendo distintos, diagnóstico y evaluación siempre van unidos, ya que, para realizar el primero, se (_CDTR_19)debe llevar a cabo una buena evaluación. Además, esto facilitará la toma de decisiones para la (_CDTR_20)intervención. (_CDTR_21)Importante:(_CDTR_22) una buena evaluación Psicológica representa un 80% de la terapia. (_CDTR_23)Motivo de consulta:(_CDTR_ND)\n",
      "Bloque traducido sin: Avaluació i diagnòstic no són el mateix! *Veure el vídeo de l'anàlisi funcional de conducta. Encara que siguin diferents, diagnòstic i avaluació sempre van units, ja que, per realitzar el primer, cal dur a terme una bona avaluació. A més, això facilitarà la presa de decisions per a la intervenció.  Important:  una bona avaluació Psicològica representa un 80% de la teràpia.  Motiu de consulta:\n"
     ]
    },
    {
     "name": "stderr",
     "output_type": "stream",
     "text": [
      "[INFO] HTTP Request: POST https://api.groq.com/openai/v1/chat/completions \"HTTP/1.1 200 OK\"\n"
     ]
    },
    {
     "name": "stdout",
     "output_type": "stream",
     "text": [
      "Bloque traducido con placeholders: (_CDTR_ST)(_CDTR_16)Avaluació i diagnòstic no són el mateix!(_CDTR_17)*Veure vídeo de l'anàlisi funcional de conducta.(_CDTR_18)Tot i ser distints, diagnòstic i avaluació sempre van units, ja que, per realitzar el primer, se (_CDTR_19)hauria de dur a terme una bona avaluació. A més, això facilitarà la presa de decisions per a la (_CDTR_20)intervenció. (_CDTR_21)Important:(_CDTR_22) una bona avaluació Psicològica representa un 80% de la teràpia. (_CDTR_23)Motiu de consulta:(_CDTR_ND)\n"
     ]
    },
    {
     "name": "stderr",
     "output_type": "stream",
     "text": [
      "[INFO] HTTP Request: POST https://api.groq.com/openai/v1/chat/completions \"HTTP/1.1 200 OK\"\n"
     ]
    },
    {
     "name": "stdout",
     "output_type": "stream",
     "text": [
      "Bloque original: (_CDTR_ST)(_CDTR_24)La mayor parte del éxito en la consecución de los objetivos de la terapia depende de la colaboración (_CDTR_25)durante la evaluación entre el psicólogo y el paciente/cliente. (_CDTR_26)¿Cuántos problemas como mínimo tiene alguien que acude a terapia? Su problema + contarlo a mí. (_CDTR_27)Contar algo a un desconocido es ya un problema. (_CDTR_28)Proceso de evaluación psicológica(_CDTR_29)El proceso de evaluación y diagnóstico reproduce (y debe reproducir):(_CDTR_ND)\n",
      "Bloque traducido sin: La major part de l'èxit en la consecució dels objectius de\n",
      "la teràpia depèn de la col·laboració durant l'avaluació entre el psicòleg i el pacient/client. ¿Quant de problemes com a mínim té algú que acudeix a teràpia? El seu problema + explicar-m'ho a mi. Explicar una cosa a un desconegut ja és un problema. Proces d'avaluació psicològica El procés d'avaluació i diagnòstic reproduceix (i ha de reproduir):\n"
     ]
    },
    {
     "name": "stderr",
     "output_type": "stream",
     "text": [
      "[INFO] HTTP Request: POST https://api.groq.com/openai/v1/chat/completions \"HTTP/1.1 200 OK\"\n"
     ]
    },
    {
     "name": "stdout",
     "output_type": "stream",
     "text": [
      "Bloque traducido con placeholders: (_CDTR_ST)(_CDTR_24)La major part de l'èxit en la consecució dels objectius de la teràpia depèn de la col·laboració (_CDTR_25) durant l'avaluació entre el psicòleg i el pacient/client. (_CDTR_26)¿Quants problemes com a mínim té algú que acudeix a teràpia? El seu problema + explicar-m'ho a mi. (_CDTR_27)Explicar una cosa a un desconegut ja és un problema. (_CDTR_28) Procés d'avaluació psicològica (_CDTR_29)El procés d'avaluació i diagnòstic reproduïx (i ha de reproduir):(_CDTR_ND)\n"
     ]
    },
    {
     "name": "stderr",
     "output_type": "stream",
     "text": [
      "[INFO] HTTP Request: POST https://api.groq.com/openai/v1/chat/completions \"HTTP/1.1 200 OK\"\n"
     ]
    },
    {
     "name": "stdout",
     "output_type": "stream",
     "text": [
      "Bloque original: (_CDTR_ST)(_CDTR_30)Que serán siempre objeto de nuestro análisis.(_CDTR_31)El profesional debe:(_CDTR_32)La evaluación psicológica es el proceso que sirve para recoger, valorar  e interpretar la información (_CDTR_33)necesaria a fin de poder tomar decisiones que contribuyan a solucionar los problemas que afectan al (_CDTR_34)paciente/cliente.(_CDTR_35)Fases de la evaluación:(_CDTR_36)el orden reflejado de las fases se muestra secuencialmente según se entiende(_CDTR_ND)\n",
      "Bloque traducido sin: Què seran sempre objecte del nostre anàlisi. El professional ha de: La valoració psicològica és el procés que serveix per recollir, valorar i interpretar la informació necessària a fi de poder prendre decisions que contribueixin a solventar els problemes que afecten al pacient/client. Fases de la valoració: l'ordre reflectit de les fases es mostra seqüencialment segons s'entén\n"
     ]
    },
    {
     "name": "stderr",
     "output_type": "stream",
     "text": [
      "[INFO] HTTP Request: POST https://api.groq.com/openai/v1/chat/completions \"HTTP/1.1 200 OK\"\n"
     ]
    },
    {
     "name": "stdout",
     "output_type": "stream",
     "text": [
      "Bloque traducido con placeholders: (_CDTR_ST)(_CDTR_30)Què seran sempre objecte del nostre anàlisi.(_CDTR_31)El professional ha de:(_CDTR_32)La valoració psicològica és el procés que serveix per recollir, valorar i interpretar la informació (_CDTR_33)necessària a fi de poder prendre decisions que contribueixin a solventar els problemes que afecten al (_CDTR_34)pacient/client.(_CDTR_35)Fases de la valoració:(_CDTR_36)l'ordre reflectit de les fases es mostra seqüencialment segons s'entén(_CDTR_ND)\n"
     ]
    },
    {
     "name": "stderr",
     "output_type": "stream",
     "text": [
      "[INFO] HTTP Request: POST https://api.groq.com/openai/v1/chat/completions \"HTTP/1.1 200 OK\"\n"
     ]
    },
    {
     "name": "stdout",
     "output_type": "stream",
     "text": [
      "Bloque original: (_CDTR_ST)(_CDTR_37)que avanza el proceso de evaluación. No obstante, es un proceso flexible.(_CDTR_38)1. Recogida de información; especificación de la demanda del problema. (_CDTR_39)2. Formulación de hipótesis inicial.(_CDTR_40)3. Contrastación de hipótesis.(_CDTR_41)4. Comunicación de los resultados de la evaluación.(_CDTR_42)5. Formulación de hipótesis funcionales relacionadas con el plan de tratamiento.(_CDTR_ND)\n",
      "Bloque traducido sin: que avança el procés d'avaluació. No obstant això, és un procés flexible. 1. Recollida d'informació; especificació de la demanda del problema.  2. Formulació de suposicions inicial. 3. Contrastació de suposicions. 4. Comunicació dels resultats de l'avaluació. 5. Formulació de suposicions funcionals relacionades amb el pla de tractament.\n"
     ]
    },
    {
     "name": "stderr",
     "output_type": "stream",
     "text": [
      "[INFO] HTTP Request: POST https://api.groq.com/openai/v1/chat/completions \"HTTP/1.1 200 OK\"\n"
     ]
    },
    {
     "name": "stdout",
     "output_type": "stream",
     "text": [
      "Bloque traducido con placeholders: (_CDTR_ST)(_CDTR_37)que avança el procés d'avaluació. No obstant això, és un procés flexible.(_CDTR_38)1. Recollida d'informació; especificació de la demanda del problema. (_CDTR_39)2. Formulació d'hipòtesis inicial.(_CDTR_40)3. Contrastació d'hipòtesis.(_CDTR_41)4. Comunicació dels resultats de l'avaluació.(_CDTR_42)5. Formulació d'hipòtesis funcionals relacionades amb el pla de tractament.(_CDTR_ND)\n"
     ]
    },
    {
     "name": "stderr",
     "output_type": "stream",
     "text": [
      "[INFO] HTTP Request: POST https://api.groq.com/openai/v1/chat/completions \"HTTP/1.1 200 OK\"\n"
     ]
    },
    {
     "name": "stdout",
     "output_type": "stream",
     "text": [
      "Bloque original: (_CDTR_ST)(_CDTR_43)6. Aplicación del tratamiento y recogida de datos de las hipótesis funcionales. (_CDTR_44)7. Valoración de los resultados.(_CDTR_45)8. Resultados (comunicar al paciente) (_CDTR_46)9. Seguimiento: hay pacientes que requieren de un seguimiento. (_CDTR_47)En resumen:(_CDTR_48)Unas dimensiones espacio-temporales e interactivas concretas.(_CDTR_49)Perseguir unos fines específicos conceptualizados por el evaluador: esta conceptualización acaba(_CDTR_ND)\n",
      "Bloque traducido sin: 6. Aplicació del tractament i recollida de dades de les hipòtesis funcionals.  7. Valoració dels resultats. 8. Resultats (comunicar al pacient)  9. Seguiment: hi ha pacients que requereixen un seguiment.  En resum: Unes dimensions espacio-temporals i interactivas concretes. Perseguir uns fins específics conceptualitzats per l'evaluador: aquesta conceptualització acaba\n"
     ]
    },
    {
     "name": "stderr",
     "output_type": "stream",
     "text": [
      "[INFO] HTTP Request: POST https://api.groq.com/openai/v1/chat/completions \"HTTP/1.1 200 OK\"\n"
     ]
    },
    {
     "name": "stdout",
     "output_type": "stream",
     "text": [
      "Bloque traducido con placeholders: (_CDTR_ST)(_CDTR_43)6. Aplicació del tractament i recollida de dades de les hipòtesis funcionals. (_CDTR_44)7. Valoració dels resultats. (_CDTR_45)8. Resultats (comunicar al pacient) (_CDTR_46)9. Seguiment: hi ha pacients que requereixen un seguiment. (_CDTR_47)En resum: (_CDTR_48)Unes dimensions espaiotemporals i interactivas concretes. (_CDTR_49)Perseguir uns fins específics conceptualitzats per l'evaluador: aquesta conceptualització acaba(_CDTR_ND)\n"
     ]
    },
    {
     "name": "stderr",
     "output_type": "stream",
     "text": [
      "[INFO] HTTP Request: POST https://api.groq.com/openai/v1/chat/completions \"HTTP/1.1 200 OK\"\n"
     ]
    },
    {
     "name": "stdout",
     "output_type": "stream",
     "text": [
      "Bloque original: (_CDTR_ST)(_CDTR_50)siendo un consenso entre terapeuta y paciente. (_CDTR_51)Evaluación(_CDTR_52)Diagnóstico(_CDTR_53)Es (_CDTR_54)un (_CDTR_55)procedimiento (_CDTR_56)mediante (_CDTR_57)el (_CDTR_58)cual (_CDTR_59)recopilamos información sobre el paciente a (_CDTR_60)través de diferentes técnicas, con el fin de (_CDTR_61)evaluar su sintomatología, funcionamiento y (_CDTR_62)capacidades.(_CDTR_63)A partir de la evaluación se tomarán decisiones(_CDTR_ND)\n",
      "Bloque traducido sin: sent un consens entre terapeuta i pacient. Avaluació Diagnòstic És un procediment mitjançant el qual recopilem informació sobre el pacient a través de diferents tècniques, amb la finalitat d'evaluar la seva simptomatologia, funcionament i capacitats. A partir de l'avaluació es prendran decisions\n"
     ]
    },
    {
     "name": "stderr",
     "output_type": "stream",
     "text": [
      "[INFO] HTTP Request: POST https://api.groq.com/openai/v1/chat/completions \"HTTP/1.1 200 OK\"\n"
     ]
    },
    {
     "name": "stdout",
     "output_type": "stream",
     "text": [
      "[ERROR] Códigos faltantes en la traducción: {'(_CDTR_57)'}\n",
      "[ERROR] Bloque original: (_CDTR_ST)(_CDTR_50)siendo un consenso entre terapeuta y paciente. (_CDTR_51)Evaluación(_CDTR_52)Diagnóstico(_CDTR_53)Es (_CDTR_54)un (_CDTR_55)procedimiento (_CDTR_56)mediante (_CDTR_57)el (_CDTR_58)cual (_CDTR_59)recopilamos información sobre el paciente a (_CDTR_60)través de diferentes técnicas, con el fin de (_CDTR_61)evaluar su sintomatología, funcionamiento y (_CDTR_62)capacidades.(_CDTR_63)A partir de la evaluación se tomarán decisiones(_CDTR_ND)\n",
      "[ERROR] Bloque traducido: (_CDTR_ST)(_CDTR_50)sent un consens entre terapeuta i pacient. (_CDTR_51)Avaluació(_CDTR_52)Diagnòstic(_CDTR_53)És (_CDTR_54)un (_CDTR_55) procediment (_CDTR_56)mitjançant el qual (_CDTR_58)cual (_CDTR_59)recopilem informació sobre el pacient a  (_CDTR_60)través de diferents tècniques, amb la finalitat d' (_CDTR_61)evaluar la seva simptomatologia, funcionament i (_CDTR_62)capacitats.(_CDTR_63)A partir de l'avaluació es prendran decisions(_CDTR_ND)\n",
      "Error en la traducción del bloque. Error por traducción no válida. Reintentando...\n"
     ]
    },
    {
     "name": "stderr",
     "output_type": "stream",
     "text": [
      "[INFO] HTTP Request: POST https://api.groq.com/openai/v1/chat/completions \"HTTP/1.1 200 OK\"\n"
     ]
    },
    {
     "name": "stdout",
     "output_type": "stream",
     "text": [
      "Bloque original: (_CDTR_ST)(_CDTR_50)siendo un consenso entre terapeuta y paciente. (_CDTR_51)Evaluación(_CDTR_52)Diagnóstico(_CDTR_53)Es (_CDTR_54)un (_CDTR_55)procedimiento (_CDTR_56)mediante (_CDTR_57)el (_CDTR_58)cual (_CDTR_59)recopilamos información sobre el paciente a (_CDTR_60)través de diferentes técnicas, con el fin de (_CDTR_61)evaluar su sintomatología, funcionamiento y (_CDTR_62)capacidades.(_CDTR_63)A partir de la evaluación se tomarán decisiones(_CDTR_ND)\n",
      "Bloque traducido sin: sent un consens entre terapeuta i pacient.  Avaluació Diagnòstic És un procediment mitjançant el qual recopilem informació sobre el pacient a través de diferents tècniques, amb la finalitat d'avaluar la seva simptomatologia, funcionament i capacitats. A partir de l'avaluació es prendran decisions\n"
     ]
    },
    {
     "name": "stderr",
     "output_type": "stream",
     "text": [
      "[INFO] HTTP Request: POST https://api.groq.com/openai/v1/chat/completions \"HTTP/1.1 200 OK\"\n"
     ]
    },
    {
     "name": "stdout",
     "output_type": "stream",
     "text": [
      "[ERROR] Códigos faltantes en la traducción: {'(_CDTR_59)', '(_CDTR_61)'}\n",
      "[ERROR] Bloque original: (_CDTR_ST)(_CDTR_50)siendo un consenso entre terapeuta y paciente. (_CDTR_51)Evaluación(_CDTR_52)Diagnóstico(_CDTR_53)Es (_CDTR_54)un (_CDTR_55)procedimiento (_CDTR_56)mediante (_CDTR_57)el (_CDTR_58)cual (_CDTR_59)recopilamos información sobre el paciente a (_CDTR_60)través de diferentes técnicas, con el fin de (_CDTR_61)evaluar su sintomatología, funcionamiento y (_CDTR_62)capacidades.(_CDTR_63)A partir de la evaluación se tomarán decisiones(_CDTR_ND)\n",
      "[ERROR] Bloque traducido: (_CDTR_ST)(_CDTR_50)Sent un consens entre terapeuta i pacient. (_CDTR_51)Avaluació(_CDTR_52)Diagnòstic(_CDTR_53)És (_CDTR_54)un (_CDTR_55)procediment (_CDTR_56)mitjançant el (_CDTR_57)qual (_CDTR_58)recopilem informació sobre el pacient a través de diferents (_CDTR_60)tècniques, amb la finalitat d'avaluar la seva simptomatologia, funcionament i (_CDTR_62)capacitats. (_CDTR_63)A partir de l'avaluació es prendran decisions(_CDTR_ND)\n",
      "Error en la traducción del bloque. Error por traducción no válida. Reintentando...\n"
     ]
    },
    {
     "name": "stderr",
     "output_type": "stream",
     "text": [
      "[INFO] HTTP Request: POST https://api.groq.com/openai/v1/chat/completions \"HTTP/1.1 200 OK\"\n"
     ]
    },
    {
     "name": "stdout",
     "output_type": "stream",
     "text": [
      "Bloque original: (_CDTR_ST)(_CDTR_50)siendo un consenso entre terapeuta y paciente. (_CDTR_51)Evaluación(_CDTR_52)Diagnóstico(_CDTR_53)Es (_CDTR_54)un (_CDTR_55)procedimiento (_CDTR_56)mediante (_CDTR_57)el (_CDTR_58)cual (_CDTR_59)recopilamos información sobre el paciente a (_CDTR_60)través de diferentes técnicas, con el fin de (_CDTR_61)evaluar su sintomatología, funcionamiento y (_CDTR_62)capacidades.(_CDTR_63)A partir de la evaluación se tomarán decisiones(_CDTR_ND)\n",
      "Bloque traducido sin: sent una conceptualització que acaba sent un consens entre terapeuta i pacient. Avaluació Diagnòstic És un procediment mitjançant el qual recopilem informació sobre el pacient a través de diferents tècniques, amb el fi d'avaluar la seva simptomatologia, funcionament i capacitats. A partir de l'avaluació es prendran decisions\n"
     ]
    },
    {
     "name": "stderr",
     "output_type": "stream",
     "text": [
      "[INFO] HTTP Request: POST https://api.groq.com/openai/v1/chat/completions \"HTTP/1.1 200 OK\"\n"
     ]
    },
    {
     "name": "stdout",
     "output_type": "stream",
     "text": [
      "Bloque traducido con placeholders: (_CDTR_ST)(_CDTR_50) sent un consens entre terapeuta i pacient. (_CDTR_51)Avaluació(_CDTR_52)Diagnòstic (_CDTR_53) És (_CDTR_54) un (_CDTR_55) procediment (_CDTR_56) mitjançant (_CDTR_57) el (_CDTR_58) qual (_CDTR_59) recopilem informació sobre el pacient a (_CDTR_60) través de diferents tècniques, amb el fi d'(_CDTR_61) avaluar la seva simptomatologia, funcionament i (_CDTR_62) capacitats. (_CDTR_63) A partir de l'avaluació es prendran decisions (_CDTR_ND)\n"
     ]
    },
    {
     "name": "stderr",
     "output_type": "stream",
     "text": [
      "[INFO] HTTP Request: POST https://api.groq.com/openai/v1/chat/completions \"HTTP/1.1 200 OK\"\n"
     ]
    },
    {
     "name": "stdout",
     "output_type": "stream",
     "text": [
      "Bloque original: (_CDTR_ST)(_CDTR_64)sobre el tipo, secuencia y objetivos del plan de (_CDTR_65)tratamiento; y, más adelante, las técnicas de (_CDTR_66)evaluación serán las encargadas de valorar los (_CDTR_67)cambios producidos durante la intervención.(_CDTR_68)Pretende catalogar una enfermedad en función (_CDTR_69)de los diferentes síntomas que presenta el (_CDTR_70)paciente. (_CDTR_71)Nos permite identificar cuál es el problema, a (_CDTR_72)partir de observaciones y datos concretos.(_CDTR_ND)\n",
      "Bloque traducido sin: sobre el tipus, seqüència i objectius del pla de tractament; i, més endavant, les tècniques d'avaluació seran les encarregades de valorar els canvis produïts durant la intervenció. Pretén catalogar una malaltia en funció dels diferents símptomes que presenta el pacient.  Ens permet identificar quin és el problema, a partir d'observacions i dades concretes.\n"
     ]
    },
    {
     "name": "stderr",
     "output_type": "stream",
     "text": [
      "[INFO] HTTP Request: POST https://api.groq.com/openai/v1/chat/completions \"HTTP/1.1 200 OK\"\n"
     ]
    },
    {
     "name": "stdout",
     "output_type": "stream",
     "text": [
      "[ERROR] Falta el placeholder de inicio (_CDTR_ST) en alguno de los textos.\n",
      "[ERROR] Bloque original: (_CDTR_ST)(_CDTR_64)sobre el tipo, secuencia y objetivos del plan de (_CDTR_65)tratamiento; y, más adelante, las técnicas de (_CDTR_66)evaluación serán las encargadas de valorar los (_CDTR_67)cambios producidos durante la intervención.(_CDTR_68)Pretende catalogar una enfermedad en función (_CDTR_69)de los diferentes síntomas que presenta el (_CDTR_70)paciente. (_CDTR_71)Nos permite identificar cuál es el problema, a (_CDTR_72)partir de observaciones y datos concretos.(_CDTR_ND)\n",
      "[ERROR] Bloque traducido: sobre el tipus, seqüència i objectius del pla de tractament; i, més endavant, les tècniques d'avaluació seran les encarregades de valorar els canvis produïts durant la intervenció. (_CDTR_68) Pretén catalogar una malaltia en funció dels diferents símptomes que presenta el pacient. (_CDTR_71) Ens permet identificar quin és el problema, a partir d'observacions i dades concretes.\n",
      "Error en la traducción del bloque. Error por traducción no válida. Reintentando...\n"
     ]
    },
    {
     "name": "stderr",
     "output_type": "stream",
     "text": [
      "[INFO] HTTP Request: POST https://api.groq.com/openai/v1/chat/completions \"HTTP/1.1 200 OK\"\n"
     ]
    },
    {
     "name": "stdout",
     "output_type": "stream",
     "text": [
      "Bloque original: (_CDTR_ST)(_CDTR_64)sobre el tipo, secuencia y objetivos del plan de (_CDTR_65)tratamiento; y, más adelante, las técnicas de (_CDTR_66)evaluación serán las encargadas de valorar los (_CDTR_67)cambios producidos durante la intervención.(_CDTR_68)Pretende catalogar una enfermedad en función (_CDTR_69)de los diferentes síntomas que presenta el (_CDTR_70)paciente. (_CDTR_71)Nos permite identificar cuál es el problema, a (_CDTR_72)partir de observaciones y datos concretos.(_CDTR_ND)\n",
      "Bloque traducido sin: sobre el tipus, seqüència i objectius del pla de tractament; i, més endavant, les tècniques d'avaluació seran les encarregades de valorar els canvis produïts durant la intervenció. Pretén catalogar una malaltia en funció dels diferents símptomes que presenta el pacient.  Ens permet identificar quin és el problema, a partir d'observacions i dades concretes.\n"
     ]
    },
    {
     "name": "stderr",
     "output_type": "stream",
     "text": [
      "[INFO] HTTP Request: POST https://api.groq.com/openai/v1/chat/completions \"HTTP/1.1 200 OK\"\n"
     ]
    },
    {
     "name": "stdout",
     "output_type": "stream",
     "text": [
      "[ERROR] Falta el placeholder de inicio (_CDTR_ST) en alguno de los textos.\n",
      "[ERROR] Bloque original: (_CDTR_ST)(_CDTR_64)sobre el tipo, secuencia y objetivos del plan de (_CDTR_65)tratamiento; y, más adelante, las técnicas de (_CDTR_66)evaluación serán las encargadas de valorar los (_CDTR_67)cambios producidos durante la intervención.(_CDTR_68)Pretende catalogar una enfermedad en función (_CDTR_69)de los diferentes síntomas que presenta el (_CDTR_70)paciente. (_CDTR_71)Nos permite identificar cuál es el problema, a (_CDTR_72)partir de observaciones y datos concretos.(_CDTR_ND)\n",
      "[ERROR] Bloque traducido: (CDTR_ST) (CDTR_64) sobre el tipus, seqüència i objectius del pla de (CDTR_65) tractament; i, més endavant, les tècniques de (CDTR_66) avaluació seran les encarregades de valorar els (CDTR_67) canvis produïts durant la intervenció. (CDTR_68) Pretén catalogar una malaltia en funció (CDTR_69) dels diferents símptomes que presenta el (CDTR_70) pacient. (CDTR_71) Ens permet identificar quin és el problema, a (CDTR_72) partir d'observacions i dades concretes. (CDTR_ND)\n",
      "Error en la traducción del bloque. Error por traducción no válida. Reintentando...\n"
     ]
    },
    {
     "name": "stderr",
     "output_type": "stream",
     "text": [
      "[INFO] HTTP Request: POST https://api.groq.com/openai/v1/chat/completions \"HTTP/1.1 200 OK\"\n"
     ]
    },
    {
     "name": "stdout",
     "output_type": "stream",
     "text": [
      "Bloque original: (_CDTR_ST)(_CDTR_64)sobre el tipo, secuencia y objetivos del plan de (_CDTR_65)tratamiento; y, más adelante, las técnicas de (_CDTR_66)evaluación serán las encargadas de valorar los (_CDTR_67)cambios producidos durante la intervención.(_CDTR_68)Pretende catalogar una enfermedad en función (_CDTR_69)de los diferentes síntomas que presenta el (_CDTR_70)paciente. (_CDTR_71)Nos permite identificar cuál es el problema, a (_CDTR_72)partir de observaciones y datos concretos.(_CDTR_ND)\n",
      "Bloque traducido sin: sobre el tipus, seqüència i objectius del pla de tractament; i, més endavant, les tècniques d'avaluació seran les encarregades de valorar els canvis produïts durant la intervenció. Pretén catalogar una malaltia en funció dels diferents símptomes que presenta el pacient.  Ens permet identificar quin és el problema, a partir d'observacions i dades concretes.\n"
     ]
    },
    {
     "name": "stderr",
     "output_type": "stream",
     "text": [
      "[INFO] HTTP Request: POST https://api.groq.com/openai/v1/chat/completions \"HTTP/1.1 200 OK\"\n"
     ]
    },
    {
     "name": "stdout",
     "output_type": "stream",
     "text": [
      "[ERROR] Falta el placeholder de inicio (_CDTR_ST) en alguno de los textos.\n",
      "[ERROR] Bloque original: (_CDTR_ST)(_CDTR_64)sobre el tipo, secuencia y objetivos del plan de (_CDTR_65)tratamiento; y, más adelante, las técnicas de (_CDTR_66)evaluación serán las encargadas de valorar los (_CDTR_67)cambios producidos durante la intervención.(_CDTR_68)Pretende catalogar una enfermedad en función (_CDTR_69)de los diferentes síntomas que presenta el (_CDTR_70)paciente. (_CDTR_71)Nos permite identificar cuál es el problema, a (_CDTR_72)partir de observaciones y datos concretos.(_CDTR_ND)\n",
      "[ERROR] Bloque traducido: sobre el tipus, seqüència i objectius del pla de tractament (_CDTR_65); i, més endavant, les tècniques d'avaluació (_CDTR_66) seran les encarregades de valorar els canvis produïts durant la intervenció. (_CDTR_67)(_CDTR_68)Pretén catalogar una malaltia en funció (_CDTR_69) dels diferents símptomes que presenta el pacient (_CDTR_70). (_CDTR_71)Ens permet identificar quin és el problema, a partir d'observacions i dades concretes (_CDTR_72).(_CDTR_ND)\n",
      "Error en la traducción del bloque. Error por traducción no válida. Reintentando...\n"
     ]
    },
    {
     "name": "stderr",
     "output_type": "stream",
     "text": [
      "[INFO] HTTP Request: POST https://api.groq.com/openai/v1/chat/completions \"HTTP/1.1 200 OK\"\n"
     ]
    },
    {
     "name": "stdout",
     "output_type": "stream",
     "text": [
      "Bloque original: (_CDTR_ST)(_CDTR_64)sobre el tipo, secuencia y objetivos del plan de (_CDTR_65)tratamiento; y, más adelante, las técnicas de (_CDTR_66)evaluación serán las encargadas de valorar los (_CDTR_67)cambios producidos durante la intervención.(_CDTR_68)Pretende catalogar una enfermedad en función (_CDTR_69)de los diferentes síntomas que presenta el (_CDTR_70)paciente. (_CDTR_71)Nos permite identificar cuál es el problema, a (_CDTR_72)partir de observaciones y datos concretos.(_CDTR_ND)\n",
      "Bloque traducido sin: sobre el tipus, seqüència i objectius del pla de tractament; i, més endavant, les tècniques d'avaluació seran les encarregades de valorar els canvis produïts durant la intervenció. Pretén catalogar una malaltia en funció dels diferents símptomes que presenta el pacient.  Ens permet identificar quin és el problema, a partir d'observacions i dades concretes.\n"
     ]
    },
    {
     "name": "stderr",
     "output_type": "stream",
     "text": [
      "[INFO] HTTP Request: POST https://api.groq.com/openai/v1/chat/completions \"HTTP/1.1 200 OK\"\n"
     ]
    },
    {
     "name": "stdout",
     "output_type": "stream",
     "text": [
      "Bloque traducido con placeholders: (_CDTR_ST)(_CDTR_64) sobre el tipus, seqüència i objectius del pla de (_CDTR_65)tractament; i, més endavant, les tècniques d' (_CDTR_66)avaluació seran les encarregades de valorar els (_CDTR_67)canvis produïts durant la intervenció. (_CDTR_68) Pretén catalogar una malaltia en funció (_CDTR_69) dels diferents símptomes que presenta el (_CDTR_70)pacient.  (_CDTR_71) Ens permet identificar quin és el problema, a (_CDTR_72)partir d'observacions i dades concretes. (_CDTR_ND)\n"
     ]
    },
    {
     "name": "stderr",
     "output_type": "stream",
     "text": [
      "[INFO] HTTP Request: POST https://api.groq.com/openai/v1/chat/completions \"HTTP/1.1 429 Too Many Requests\"\n",
      "[INFO] Retrying request to /openai/v1/chat/completions in 1.000000 seconds\n",
      "[INFO] HTTP Request: POST https://api.groq.com/openai/v1/chat/completions \"HTTP/1.1 200 OK\"\n"
     ]
    },
    {
     "name": "stdout",
     "output_type": "stream",
     "text": [
      "Bloque original: (_CDTR_ST)(_CDTR_73)Se debe recordar que el motivo de consulta nunca es el problema.(_CDTR_74)Los pacientes  acuden con un motivo claro (síntomas, dificultades, problemas, ánimo, etc. ) (_CDTR_75)No siempre es el problema al que hay que hacer frente. (_CDTR_76)De ahí la necesidad de una (_CDTR_77)evaluación exhaustiva.(_CDTR_78)Modelos de relación (_CDTR_79)Estrategias de intervención (_CDTR_80)Estilos de respuesta en general(_CDTR_81)Ser útil:(_CDTR_ND)\n",
      "Bloque traducido sin: Cal recordar que el motiu de la consulta mai és el problema. Els pacients acudeixen amb un motiu clar (símpotmes, dificultats, problemes, ànim, etc.) No sempre és el problema al qual cal fer front. D'aquí la necessitat d'una avaluació exhaustiva. Models de relació Estratègies d'intervenció Estils de resposta en general Ser útil:\n"
     ]
    },
    {
     "name": "stderr",
     "output_type": "stream",
     "text": [
      "[INFO] HTTP Request: POST https://api.groq.com/openai/v1/chat/completions \"HTTP/1.1 429 Too Many Requests\"\n",
      "[INFO] Retrying request to /openai/v1/chat/completions in 2.000000 seconds\n",
      "[INFO] HTTP Request: POST https://api.groq.com/openai/v1/chat/completions \"HTTP/1.1 200 OK\"\n"
     ]
    },
    {
     "name": "stdout",
     "output_type": "stream",
     "text": [
      "Bloque traducido con placeholders: (_CDTR_ST)(_CDTR_73)Cal recordar que el motiu de consulta mai és el problema.(_CDTR_74)Els pacients acudeixen amb un motiu clar (síptomes, dificultats, problemes, ànim, etc.)(_CDTR_75)No sempre és el problema al qual cal fer front.(_CDTR_76)D'aquí la necessitat d'una (_CDTR_77)avaluació exhaustiva.(_CDTR_78)Models de relació (_CDTR_79)Estratègies d'intervenció (_CDTR_80)Estils de resposta en general(_CDTR_81)Ser útil:(_CDTR_ND)\n"
     ]
    },
    {
     "name": "stderr",
     "output_type": "stream",
     "text": [
      "[INFO] HTTP Request: POST https://api.groq.com/openai/v1/chat/completions \"HTTP/1.1 429 Too Many Requests\"\n",
      "[INFO] Retrying request to /openai/v1/chat/completions in 1.000000 seconds\n",
      "[INFO] HTTP Request: POST https://api.groq.com/openai/v1/chat/completions \"HTTP/1.1 200 OK\"\n"
     ]
    },
    {
     "name": "stdout",
     "output_type": "stream",
     "text": [
      "Bloque original: (_CDTR_ST)(_CDTR_82)ayudar a que el paciente/cliente piense, utilice sus propias posibilidad y autonomía. (_CDTR_83)Comprender: (_CDTR_84)no sólo es importante conocer y reunir datos sobre el paciente, es esencial (_CDTR_85)comprender lo que el paciente dice.(_CDTR_86)Ser tolerante:(_CDTR_87) no es posible ser terapeuta sin ser tolerante. (_CDTR_88)Valorar al paciente/cliente: (_CDTR_89)hay pacientes que acuden a consulta sin haber “sido vistos nunca”, es(_CDTR_ND)\n",
      "Bloque traducido sin: ajudar que el pacient/client pensi, utilitzi les seves pròpies possibilitats i autonomia.  Comprendre:  no només és important conèixer i reunir dades sobre el pacient, és essencial comprendre el que el pacient diu. Ser tolerant:  no és possible ser terapeuta sense ser tolerant.  Valorar al pacient/client:  hi ha pacients que acudeixen a consulta sense haver estat \"vistos mai\", és\n"
     ]
    },
    {
     "name": "stderr",
     "output_type": "stream",
     "text": [
      "[INFO] HTTP Request: POST https://api.groq.com/openai/v1/chat/completions \"HTTP/1.1 429 Too Many Requests\"\n",
      "[INFO] Retrying request to /openai/v1/chat/completions in 2.000000 seconds\n",
      "[INFO] HTTP Request: POST https://api.groq.com/openai/v1/chat/completions \"HTTP/1.1 200 OK\"\n"
     ]
    },
    {
     "name": "stdout",
     "output_type": "stream",
     "text": [
      "Bloque traducido con placeholders: (_CDTR_ST)(_CDTR_82)ajudar que el pacient/client pensi, utilitzi les seves pròpies possibilitats i autonomia. (_CDTR_83)Comprendre: (_CDTR_84)no només és important conèixer i reunir dades sobre el pacient, és essencial (_CDTR_85)comprendre el que el pacient diu. (_CDTR_86)Ser tolerant: (_CDTR_87)no és possible ser terapeuta sense ser tolerant. (_CDTR_88)Valorar al pacient/client: (_CDTR_89)hi ha pacients que acudeixen a consulta sense haver estat \"vistos mai\", és (_CDTR_ND)\n"
     ]
    },
    {
     "name": "stderr",
     "output_type": "stream",
     "text": [
      "[INFO] HTTP Request: POST https://api.groq.com/openai/v1/chat/completions \"HTTP/1.1 429 Too Many Requests\"\n",
      "[INFO] Retrying request to /openai/v1/chat/completions in 1.000000 seconds\n",
      "[INFO] HTTP Request: POST https://api.groq.com/openai/v1/chat/completions \"HTTP/1.1 200 OK\"\n"
     ]
    },
    {
     "name": "stdout",
     "output_type": "stream",
     "text": [
      "Bloque original: (_CDTR_ST)(_CDTR_90)nuestro deber como profesionales “verlos” y valorarlos como personas. (_CDTR_91)La evaluación es un proceso compuesto por fases sucesivas e interrelacionadas. (_CDTR_92)Es una relación humana.(_CDTR_93)Suele conllevar un diagnóstico.(_CDTR_94)Se subdivide en fases secuenciales, pero es un proceso flexible.(_CDTR_ND)\n",
      "Bloque traducido sin: el nostre deure com a professionals “veure'ls” i valorar-los com a persones.  L'avaluació és un procés compost per fases successives i interrelacionades.  És una relació humana. Sol conllevar un diagnòstic. Es subdivideix en fases seqüencials, però és un procés flexible.\n"
     ]
    },
    {
     "name": "stderr",
     "output_type": "stream",
     "text": [
      "[INFO] HTTP Request: POST https://api.groq.com/openai/v1/chat/completions \"HTTP/1.1 429 Too Many Requests\"\n",
      "[INFO] Retrying request to /openai/v1/chat/completions in 2.000000 seconds\n",
      "[INFO] HTTP Request: POST https://api.groq.com/openai/v1/chat/completions \"HTTP/1.1 200 OK\"\n"
     ]
    },
    {
     "name": "stdout",
     "output_type": "stream",
     "text": [
      "Bloque traducido con placeholders: (_CDTR_ST)(_CDTR_90)el nostre deure com a professionals “veure'ls” i valorar-los com a persones. (_CDTR_91)L'avaluació és un procés compost per fases successives i interrelacionades. (_CDTR_92)És una relació humana.(_CDTR_93)Sol conllevar un diagnòstic.(_CDTR_94)Es subdivideix en fases seqüencials, però és un procés flexible.(_CDTR_ND)\n",
      "Diccionario textos_traducidos\n",
      "{'1': \"Tema 1.  Especificitats per a l'avaluació i\", '2': \"diagnòstic en adults en l'àmbit sanitari\", '3': 'Tota avaluació i diagnòstic psicològic ha de enquadrar-se en:', '4': 'Un altre tipus de dificultats hauran de tornar a ser avaluades. Si els nous problemes no estan relacionats,', '5': 'hauríem de fer una altra avaluació.', '6': \"Els orígens d'un problema són importants, però nosaltres només podem treballar en el moment\", '7': 'present.', '9': 'Què és AVALUAR', '10': '? valorar i mesurar.', '11': 'Avaluar té un fi, un propòsit, ens duu a alguna cosa, que és comprendre i conèixer com funciona alguna cosa. Allò', '12': \"important d'avaluar és poder predir i conèixer com es comportaria algú en una situació.\", '13': \"L'avaluació és un procés compost per fases successives i interrelacionades.\", '14': 'Avaluació i diagnòstic com a part de la intervenció en Psicologia General', '15': 'Sanitària', '16': 'Avaluació i diagnòstic no són el mateix!', '17': \"*Veure vídeo de l'anàlisi funcional de conducta.\", '18': 'Tot i ser distints, diagnòstic i avaluació sempre van units, ja que, per realitzar el primer, se', '19': 'hauria de dur a terme una bona avaluació. A més, això facilitarà la presa de decisions per a la', '20': 'intervenció.', '21': 'Important:', '22': 'una bona avaluació Psicològica representa un 80% de la teràpia.', '23': 'Motiu de consulta:', '24': \"La major part de l'èxit en la consecució dels objectius de la teràpia depèn de la col·laboració\", '25': \"durant l'avaluació entre el psicòleg i el pacient/client.\", '26': \"¿Quants problemes com a mínim té algú que acudeix a teràpia? El seu problema + explicar-m'ho a mi.\", '27': 'Explicar una cosa a un desconegut ja és un problema.', '28': \"Procés d'avaluació psicològica\", '29': \"El procés d'avaluació i diagnòstic reproduïx (i ha de reproduir):\", '30': 'Què seran sempre objecte del nostre anàlisi.', '31': 'El professional ha de:', '32': 'La valoració psicològica és el procés que serveix per recollir, valorar i interpretar la informació', '33': 'necessària a fi de poder prendre decisions que contribueixin a solventar els problemes que afecten al', '34': 'pacient/client.', '35': 'Fases de la valoració:', '36': \"l'ordre reflectit de les fases es mostra seqüencialment segons s'entén\", '37': \"que avança el procés d'avaluació. No obstant això, és un procés flexible.\", '38': \"1. Recollida d'informació; especificació de la demanda del problema.\", '39': \"2. Formulació d'hipòtesis inicial.\", '40': \"3. Contrastació d'hipòtesis.\", '41': \"4. Comunicació dels resultats de l'avaluació.\", '42': \"5. Formulació d'hipòtesis funcionals relacionades amb el pla de tractament.\", '43': '6. Aplicació del tractament i recollida de dades de les hipòtesis funcionals.', '44': '7. Valoració dels resultats.', '45': '8. Resultats (comunicar al pacient)', '46': '9. Seguiment: hi ha pacients que requereixen un seguiment.', '47': 'En resum:', '48': 'Unes dimensions espaiotemporals i interactivas concretes.', '49': \"Perseguir uns fins específics conceptualitzats per l'evaluador: aquesta conceptualització acaba\", '50': 'sent un consens entre terapeuta i pacient.', '51': 'Avaluació', '52': 'Diagnòstic', '53': 'És', '54': 'un', '55': 'procediment', '56': 'mitjançant', '57': 'el', '58': 'qual', '59': 'recopilem informació sobre el pacient a', '60': \"través de diferents tècniques, amb el fi d'\", '61': 'avaluar la seva simptomatologia, funcionament i', '62': 'capacitats.', '63': \"A partir de l'avaluació es prendran decisions\", '64': 'sobre el tipus, seqüència i objectius del pla de', '65': \"tractament; i, més endavant, les tècniques d'\", '66': 'avaluació seran les encarregades de valorar els', '67': 'canvis produïts durant la intervenció.', '68': 'Pretén catalogar una malaltia en funció', '69': 'dels diferents símptomes que presenta el', '70': 'pacient.', '71': 'Ens permet identificar quin és el problema, a', '72': \"partir d'observacions i dades concretes.\", '73': 'Cal recordar que el motiu de consulta mai és el problema.', '74': 'Els pacients acudeixen amb un motiu clar (síptomes, dificultats, problemes, ànim, etc.)', '75': 'No sempre és el problema al qual cal fer front.', '76': \"D'aquí la necessitat d'una\", '77': 'avaluació exhaustiva.', '78': 'Models de relació', '79': \"Estratègies d'intervenció\", '80': 'Estils de resposta en general', '81': 'Ser útil:', '82': 'ajudar que el pacient/client pensi, utilitzi les seves pròpies possibilitats i autonomia.', '83': 'Comprendre:', '84': 'no només és important conèixer i reunir dades sobre el pacient, és essencial', '85': 'comprendre el que el pacient diu.', '86': 'Ser tolerant:', '87': 'no és possible ser terapeuta sense ser tolerant.', '88': 'Valorar al pacient/client:', '89': 'hi ha pacients que acudeixen a consulta sense haver estat \"vistos mai\", és', '90': \"el nostre deure com a professionals “veure'ls” i valorar-los com a persones.\", '91': \"L'avaluació és un procés compost per fases successives i interrelacionades.\", '92': 'És una relació humana.', '93': 'Sol conllevar un diagnòstic.', '94': 'Es subdivideix en fases seqüencials, però és un procés flexible.'}\n",
      "Diccionario textos_traducidos_final + ajuste\n",
      "Diccionario textos_traducidos_final + separar palabras\n",
      "{'1': \"Tema 1.  Especificitats per a l'avaluació i \", '2': \"diagnòstic en adults en l'àmbit sanitari \", '3': 'Tota avaluació i diagnòstic psicològic ha de enquadrar-se en:', '4': 'Un altre tipus de dificultats hauran de tornar a ser avaluades. Si els nous problemes no estan relacionats, ', '5': 'hauríem de fer una altra avaluació.', '6': \"Els orígens d'un problema són importants, però nosaltres només podem treballar en el moment \", '7': 'present. ', '9': 'Què és AVALUAR', '10': '? valorar i mesurar.', '11': 'Avaluar té un fi, un propòsit, ens duu a alguna cosa, que és comprendre i conèixer com funciona alguna cosa. Allò ', '12': \"important d'avaluar és poder predir i conèixer com es comportaria algú en una situació. \", '13': \"L'avaluació és un procés compost per fases successives i interrelacionades.\", '14': 'Avaluació i diagnòstic com a part de la intervenció en Psicologia General ', '15': 'Sanitària ', '16': 'Avaluació i diagnòstic no són el mateix!', '17': \"*Veure vídeo de l'anàlisi funcional de conducta.\", '18': 'Tot i ser distints, diagnòstic i avaluació sempre van units, ja que, per realitzar el primer, se ', '19': 'hauria de dur a terme una bona avaluació. A més, això facilitarà la presa de decisions per a la ', '20': 'intervenció. ', '21': 'Important:', '22': ' una bona avaluació Psicològica representa un 80% de la teràpia. ', '23': 'Motiu de consulta:', '24': \"La major part de l'èxit en la consecució dels objectius de la teràpia depèn de la col·laboració \", '25': \"durant l'avaluació entre el psicòleg i el pacient/client. \", '26': \"¿Quants problemes com a mínim té algú que acudeix a teràpia? El seu problema + explicar-m'ho a mi. \", '27': 'Explicar una cosa a un desconegut ja és un problema. ', '28': \"Procés d'avaluació psicològica\", '29': \"El procés d'avaluació i diagnòstic reproduïx (i ha de reproduir):\", '30': 'Què seran sempre objecte del nostre anàlisi.', '31': 'El professional ha de:', '32': 'La valoració psicològica és el procés que serveix per recollir, valorar i interpretar la informació ', '33': 'necessària a fi de poder prendre decisions que contribueixin a solventar els problemes que afecten al ', '34': 'pacient/client.', '35': 'Fases de la valoració:', '36': \"l'ordre reflectit de les fases es mostra seqüencialment segons s'entén \", '37': \"que avança el procés d'avaluació. No obstant això, és un procés flexible.\", '38': \"1. Recollida d'informació; especificació de la demanda del problema. \", '39': \"2. Formulació d'hipòtesis inicial.\", '40': \"3. Contrastació d'hipòtesis.\", '41': \"4. Comunicació dels resultats de l'avaluació.\", '42': \"5. Formulació d'hipòtesis funcionals relacionades amb el pla de tractament.\", '43': '6. Aplicació del tractament i recollida de dades de les hipòtesis funcionals. ', '44': '7. Valoració dels resultats.', '45': '8. Resultats (comunicar al pacient) ', '46': '9. Seguiment: hi ha pacients que requereixen un seguiment. ', '47': 'En resum:', '48': 'Unes dimensions espaiotemporals i interactivas concretes.', '49': \"Perseguir uns fins específics conceptualitzats per l'evaluador: aquesta conceptualització acaba \", '50': 'sent un consens entre terapeuta i pacient. ', '51': 'Avaluació', '52': 'Diagnòstic', '53': 'És ', '54': 'un ', '55': 'procediment ', '56': 'mitjançant ', '57': 'el ', '58': 'qual ', '59': 'recopilem informació sobre el pacient a ', '60': 'través de diferents tècniques, amb el fi d ', '61': 'avaluar la seva simptomatologia, funcionament i ', '62': 'capacitats.', '63': \"A partir de l'avaluació es prendran decisions \", '64': 'sobre el tipus, seqüència i objectius del pla de ', '65': 'tractament; i, més endavant, les tècniques d ', '66': 'avaluació seran les encarregades de valorar els ', '67': 'canvis produïts durant la intervenció.', '68': 'Pretén catalogar una malaltia en funció ', '69': 'dels diferents símptomes que presenta el ', '70': 'pacient. ', '71': 'Ens permet identificar quin és el problema, a ', '72': \"partir d'observacions i dades concretes.\", '73': 'Cal recordar que el motiu de consulta mai és el problema.', '74': 'Els pacients acudeixen amb un motiu clar (síptomes, dificultats, problemes, ànim, etc. ) ', '75': 'No sempre és el problema al qual cal fer front. ', '76': \"D'aquí la necessitat d'una \", '77': 'avaluació exhaustiva.', '78': 'Models de relació ', '79': \"Estratègies d'intervenció \", '80': 'Estils de resposta en general', '81': 'Ser útil: ', '82': 'ajudar que el pacient/client pensi, utilitzi les seves pròpies possibilitats i autonomia. ', '83': 'Comprendre: ', '84': 'no només és important conèixer i reunir dades sobre el pacient, és essencial ', '85': 'comprendre el que el pacient diu.', '86': 'Ser tolerant:', '87': ' no és possible ser terapeuta sense ser tolerant. ', '88': 'Valorar al pacient/client: ', '89': 'hi ha pacients que acudeixen a consulta sense haver estat \"vistos mai\", és ', '90': \"el nostre deure com a professionals “veure'ls” i valorar-los com a persones. \", '91': \"L'avaluació és un procés compost per fases successives i interrelacionades. \", '92': 'És una relació humana.', '93': 'Sol conllevar un diagnòstic.', '94': 'Es subdivideix en fases seqüencials, però és un procés flexible. '}\n",
      "Se ha dejado el documento traducido en la ruta especificada: test/out/PRUEBA 2.pptx\n"
     ]
    }
   ],
   "source": [
    "from doc_translator import traducir_doc\n",
    "\n",
    "input_path = 'test/in/test.docx'\n",
    "output_path = 'test/out/PRUEBA 2.pptx'\n",
    "origin_language = \"spanish\"\n",
    "destination_language = \"catalan\"\n",
    "extension = '.docx'\n",
    "\n",
    "traducir_doc(input_path, output_path, origin_language, destination_language, extension, color_to_exclude = None, add_prompt=\"\")\n"
   ]
  },
  {
   "cell_type": "code",
   "execution_count": 27,
   "metadata": {},
   "outputs": [],
   "source": [
    "import fitz  # PyMuPDF\n",
    "\n",
    "def convertir_text_a_majuscules(text):\n",
    "    return text.upper()\n",
    "\n",
    "def rgb_to_pymupdf_color(color):\n",
    "    if isinstance(color, (tuple, list)) and len(color) == 3:\n",
    "        return tuple(c / 255 for c in color)  # Convertir a rang de 0 a 1\n",
    "    elif isinstance(color, int):\n",
    "        return ((color >> 16) & 255) / 255, ((color >> 8) & 255) / 255, (color & 255) / 255\n",
    "    else:\n",
    "        print(f\"Format de color no reconegut: {color}. Utilitzant negre per defecte.\")\n",
    "        return (0, 0, 0)\n",
    "\n",
    "def processar_pdf(input_pdf, output_pdf):\n",
    "    doc = fitz.open(input_pdf)\n",
    "    \n",
    "    for page_num in range(len(doc)):\n",
    "        page = doc[page_num]\n",
    "        \n",
    "        redactions = []\n",
    "        new_texts = []\n",
    "        \n",
    "        blocks = page.get_text(\"dict\")[\"blocks\"]\n",
    "        for b in blocks:\n",
    "            if b[\"type\"] == 0:  # Text block\n",
    "                for line in b[\"lines\"]:\n",
    "                    for span in line[\"spans\"]:\n",
    "                        text_majuscules = convertir_text_a_majuscules(span[\"text\"])\n",
    "                        bbox = fitz.Rect(span[\"bbox\"])\n",
    "                        \n",
    "                        # Afegir redaccions i text nou\n",
    "                        redactions.append(bbox)\n",
    "                        new_texts.append({\n",
    "                            \"text\": text_majuscules,\n",
    "                            \"bbox\": bbox,\n",
    "                            \"font\": \"helv\",  # Utilitzar una font per defecte\n",
    "                            \"size\": span[\"size\"],\n",
    "                            \"color\": rgb_to_pymupdf_color(span[\"color\"])\n",
    "                        })\n",
    "        \n",
    "        # Aplicar les redaccions per eliminar el text original\n",
    "        for bbox in redactions:\n",
    "            page.add_redact_annot(bbox)\n",
    "        page.apply_redactions()\n",
    "        \n",
    "        # Inserir el nou text\n",
    "        for text_info in new_texts:\n",
    "            # Ajustar la posició del text per centrar-lo dins del bbox\n",
    "            text_bbox = text_info[\"bbox\"]\n",
    "            text_rect = fitz.Rect(text_bbox.tl.x, text_bbox.tl.y, text_bbox.br.x, text_bbox.br.y)\n",
    "            text_height = text_info[\"size\"]  # Alçada de la font\n",
    "            text_top = text_bbox.tl.y + (text_bbox.height - text_height) / 2  # Centrar verticalment\n",
    "\n",
    "            page.insert_text(\n",
    "                (text_bbox.tl.x, text_top),\n",
    "                text_info[\"text\"],\n",
    "                fontname=text_info[\"font\"],\n",
    "                fontsize=text_info[\"size\"],\n",
    "                color=text_info[\"color\"]\n",
    "            )\n",
    "    \n",
    "    # Guardar el nou PDF\n",
    "    doc.save(output_pdf)\n",
    "    doc.close()\n",
    "\n",
    "# Especifiquem el PDF d'entrada i el de sortida\n",
    "input_pdf = \"test/in/pdf_largo.pdf\"\n",
    "output_pdf = \"test/out/sortida_majuscules.pdf\"\n",
    "\n",
    "# Processem el PDF per crear-ne una còpia amb tot el text en majúscules\n",
    "processar_pdf(input_pdf, output_pdf)\n"
   ]
  },
  {
   "cell_type": "code",
   "execution_count": 1,
   "metadata": {},
   "outputs": [
    {
     "data": {
      "text/plain": [
       "\"L'estudi analitza la percepció de la població espanyola respecte a la implementació de la intel·ligència artificial (IA) en diferents àmbits de la vida quotidiana. L'objectiu és avaluar les opinions sobre la implementació de la IA en àmbits com asistents personals, vehicles i salut. El resultat és que hi ha una percepció dual en funció del tipus de desenvolupament, amb un major interès en l'ús de la IA en vehicles i assistents virtuals, mentre que la seva aplicació en el camp mèdic genera menys interès i certa desconfiança en la seva seguretat.\\nL'interès pel desenvolupament d'aplicacions d'Intelligència Artificial (IA) és elevat entre la població, especialment en àrees com l'automòbil, on el 55% mostra molt interès. Els asistents virtuales també generen un alt interès, amb un 51% que els considera interessants. Per contra, l'aplicació de la IA en el àmbit mèdic genera menys confiança, amb un 31% que desconfia de la seva implementació.\\nResum de l'estudi sobre l'aplicació de la intel·ligència artificial:\\n\\nL'ús de la intel·ligència artificial (IA) en els vehicles genera més interès entre les persones menors de 35 anys. El 67% dels internautes considera que la implementació de la IA en els vehicles no suposa un perill ni per als ocupants del vehicle ni per als altres vehicles o vianants. Només el 10% creu que és molt perillosa.\\n\\nL'ús de la IA com a recomanador de compra digital té una acceptació menor, amb només el 29% dels internautes que considera interessant. Les dones i les persones joves són les que més accepten aquest ús de la IA.\\nL'ús de la IA en el món mèdic genera un nivell mitjà de confiança, amb el 41% dels enquestats que la consideren interessant per a diagòstics i seguiments de pacients. No obstant això, el 26% no es mostra molt partidari de la seva implementació. El nivell de confiança és més alt entre els menors de 35 anys i els homes. La implementació de la IA en el món mèdic és vista com a beneficiosa per a les activitats que suposen una ajuda en la vida quotidiana, però també hi ha recels sobre les aplicacions que podrien estar influenciades per interessos comercials.\\nS'intenta conèixer l'opinió de la població sobre l'aplicació de la intel·ligència artificial en diverses àrees de la vida quotidiana. L'estudi que s'ha dut a terme és quantitatiu, amb una mostra de 800 persones internautes majors de 15 anys distribuïdes per gènere, edat, nivell d'estudis, habitat i comunitat autònoma. El resultat és que la població valora positivament l'aplicació de la IA en activitats que ajuden a millorar la vida diària.\""
      ]
     },
     "execution_count": 1,
     "metadata": {},
     "output_type": "execute_result"
    }
   ],
   "source": [
    "# Prueba doc_summarize:\n",
    "\n",
    "\n",
    "from doc_summary import resumir_doc\n",
    "nombre_fichero = 'pdf_largo.pdf'\n",
    "\n",
    "input_path = f'test/in/{nombre_fichero}'\n",
    "\n",
    "resumir_doc(input_path, num_words=100, summary_language='catalan', add_prompt=\"\")\n"
   ]
  },
  {
   "cell_type": "code",
   "execution_count": 2,
   "metadata": {},
   "outputs": [
    {
     "name": "stdout",
     "output_type": "stream",
     "text": [
      "Procesando archivo: test/in/pdf_largo.pdf\n",
      "Dividiendo texto en 1 bloques.\n",
      "Procesando bloque de texto...\n",
      "El documento está en español?\n",
      "['SI']\n",
      "¿De qué año es el estudio?\n",
      "['2021']\n",
      "Explicame en 5 palabras de que va el documento\n",
      "['Estudio sobre aplicación de la inteligencia artificial.']\n",
      "{'El documento está en español?': 'SI', '¿De qué año es el estudio?': '2021', 'Explicame en 5 palabras de que va el documento': 'Estudio sobre aplicación de inteligencia artificial.'}\n"
     ]
    }
   ],
   "source": [
    "# Prueba con doc_extract_info\n",
    "\n",
    "from doc_extract_info import extract_info_from_doc\n",
    "\n",
    "file = 'test/in/pdf_largo.pdf'\n",
    "\n",
    "prompts = ['El documento está en español?', '¿De qué año es el estudio?', 'Explicame en 5 palabras de que va el documento']\n",
    "tipos_respuesta = ['SI/NO', 'numérica','texto libre']\n",
    "ejemplos_respuesta = ['SI', '2025','Estudio sobre las ranas del lago']  # Esto es opcional\n",
    "\n",
    "resultados = extract_info_from_doc(file, prompts, tipos_respuesta, ejemplos_respuesta)\n"
   ]
  },
  {
   "cell_type": "code",
   "execution_count": 1,
   "metadata": {},
   "outputs": [
    {
     "name": "stderr",
     "output_type": "stream",
     "text": [
      "[INFO] Start to convert test/in/TEST.pdf\n",
      "[INFO] \u001b[1;36m[1/4] Opening document...\u001b[0m\n",
      "[INFO] \u001b[1;36m[2/4] Analyzing document...\u001b[0m\n"
     ]
    },
    {
     "name": "stdout",
     "output_type": "stream",
     "text": [
      "Starting translation process for test/in/TEST.pdf\n"
     ]
    },
    {
     "name": "stderr",
     "output_type": "stream",
     "text": [
      "[INFO] \u001b[1;36m[3/4] Parsing pages...\u001b[0m\n",
      "[INFO] (1/4) Page 1\n",
      "[INFO] (2/4) Page 2\n",
      "[INFO] (3/4) Page 3\n",
      "[INFO] (4/4) Page 4\n",
      "[INFO] \u001b[1;36m[4/4] Creating pages...\u001b[0m\n",
      "[INFO] (1/4) Page 1\n",
      "[INFO] (2/4) Page 2\n",
      "[INFO] (3/4) Page 3\n",
      "[INFO] (4/4) Page 4\n",
      "[INFO] Terminated in 0.75s.\n"
     ]
    },
    {
     "name": "stdout",
     "output_type": "stream",
     "text": [
      "Diccionario textos_originales\n",
      "{'000001': 'Tema 1.  Especificidades para la evaluación y ', '000002': 'diagnóstico en adultos en el ámbito sanitario ', '000003': 'Todo diagnóstico y evaluación psicológico debe enmarcarse en:', '000004': 'Otro tipo de dificultades deberán volver a ser evaluadas. Si los nuevos problemas no están relacionados, ', '000005': 'debemos hacer otra evaluación.', '000006': 'Los orígenes de un problema son importantes, pero nosotros solo podemos trabajar en el momento ', '000007': 'presente. ', '000008': '¿', '000009': 'Qué es EVALUAR', '000010': '? valorar y medir.', '000011': 'Evaluar tiene un fin, un propósito, nos lleva a algo, que es comprender y conocer como funciona algo. Lo ', '000012': 'importante de evaluar es poder predecir y conocer como se comportaría alguien en una situación. ', '000013': 'La evaluación es un proceso compuesto por fases sucesivas e interrelacionadas.', '000014': 'Evaluación y diagnóstico como parte de la intervención en Psicología General ', '000015': 'Sanitaria ', '000016': 'Evaluación y diagnóstico no son lo mismo!', '000017': '*Ver video del análisis funcional de conducta.', '000018': 'Aun siendo distintos, diagnóstico y evaluación siempre van unidos, ya que, para realizar el primero, se ', '000019': 'debe llevar a cabo una buena evaluación. Además, esto facilitará la toma de decisiones para la ', '000020': 'intervención. ', '000021': 'Importante:', '000022': ' una buena evaluación Psicológica representa un 80% de la terapia. ', '000023': 'Motivo de consulta:', '000024': 'La mayor parte del éxito en la consecución de los objetivos de la terapia depende de la colaboración ', '000025': 'durante la evaluación entre el psicólogo y el paciente/cliente. ', '000026': '¿Cuántos problemas como mínimo tiene alguien que acude a terapia? Su problema + contarlo a mí. ', '000027': 'Contar algo a un desconocido es ya un problema. ', '000028': 'Proceso de evaluación psicológica', '000029': 'El proceso de evaluación y diagnóstico reproduce (y debe reproducir):', '000030': 'Que serán siempre objeto de nuestro análisis.', '000031': 'El profesional debe:', '000032': 'La evaluación psicológica es el proceso que sirve para recoger, valorar  e interpretar la información ', '000033': 'necesaria a fin de poder tomar decisiones que contribuyan a solucionar los problemas que afectan al ', '000034': 'paciente/cliente.', '000035': 'Fases de la evaluación:', '000036': 'el orden reflejado de las fases se muestra secuencialmente según se entiende ', '000037': 'que avanza el proceso de evaluación. No obstante, es un proceso flexible.', '000038': '1. Recogida de información; especificación de la demanda del problema. ', '000039': '2. Formulación de hipótesis inicial.', '000040': '3. Contrastación de hipótesis.', '000041': '4. Comunicación de los resultados de la evaluación.', '000042': '5. Formulación de hipótesis funcionales relacionadas con el plan de tratamiento.', '000043': '6. Aplicación del tratamiento y recogida de datos de las hipótesis funcionales. ', '000044': '7. Valoración de los resultados.', '000045': '8. Resultados (comunicar al paciente) ', '000046': '9. Seguimiento: hay pacientes que requieren de un seguimiento. ', '000047': 'En resumen:', '000048': 'Unas dimensiones espacio-temporales e interactivas concretas.', '000049': 'Perseguir unos fines específicos conceptualizados por el evaluador: esta conceptualización acaba ', '000050': 'siendo un consenso entre terapeuta y paciente. ', '000051': 'Evaluación', '000052': 'Diagnóstico', '000053': 'Es ', '000054': 'un ', '000055': 'procedimiento ', '000056': 'mediante ', '000057': 'el ', '000058': 'cual ', '000059': 'recopilamos información sobre el paciente a ', '000060': 'través de diferentes técnicas, con el fin de ', '000061': 'evaluar su sintomatología, funcionamiento y ', '000062': 'capacidades.', '000063': 'A partir de la evaluación se tomarán decisiones ', '000064': 'sobre el tipo, secuencia y objetivos del plan de ', '000065': 'tratamiento; y, más adelante, las técnicas de ', '000066': 'evaluación serán las encargadas de valorar los ', '000067': 'cambios producidos durante la intervención.', '000068': 'Pretende catalogar una enfermedad en función ', '000069': 'de los diferentes síntomas que presenta el ', '000070': 'paciente. ', '000071': 'Nos permite identificar cuál es el problema, a ', '000072': 'partir de observaciones y datos concretos.', '000073': 'Se debe recordar que el motivo de consulta nunca es el problema.', '000074': 'Los pacientes  acuden con un motivo claro (síntomas, dificultades, problemas, ánimo, etc.) ', '000075': 'No siempre es el problema al que hay que hacer frente. ', '000076': 'De ahí la necesidad de una ', '000077': 'evaluación exhaustiva.', '000078': 'Modelos de relación ', '000079': 'Estrategias de intervención ', '000080': 'Estilos de respuesta en general', '000081': 'Ser útil: ', '000082': 'ayudar a que el paciente/cliente piense, utilice sus propias posibilidad y autonomía. ', '000083': 'Comprender: ', '000084': 'no sólo es importante conocer y reunir datos sobre el paciente, es esencial ', '000085': 'comprender lo que el paciente dice.', '000086': 'Ser tolerante:', '000087': ' no es posible ser terapeuta sin ser tolerante. ', '000088': 'Valorar al paciente/cliente: ', '000089': 'hay pacientes que acuden a consulta sin haber “sido vistos nunca”, es ', '000090': 'nuestro deber como profesionales “verlos” y valorarlos como personas. ', '000091': 'La evaluación es un proceso compuesto por fases sucesivas e interrelacionadas. ', '000092': 'Es una relación humana.', '000093': 'Suele conllevar un diagnóstico.', '000094': 'Se subdivide en fases secuenciales, pero es un proceso flexible. '}\n",
      "Diccionario textos_para_traducir\n",
      "{'000001': 'Tema 1.  Especificidades para la evaluación y ', '000002': 'diagnóstico en adultos en el ámbito sanitario ', '000003': 'Todo diagnóstico y evaluación psicológico debe enmarcarse en:', '000004': 'Otro tipo de dificultades deberán volver a ser evaluadas. Si los nuevos problemas no están relacionados, ', '000005': 'debemos hacer otra evaluación.', '000006': 'Los orígenes de un problema son importantes, pero nosotros solo podemos trabajar en el momento ', '000007': 'presente. ', '000009': 'Qué es EVALUAR', '000010': '? valorar y medir.', '000011': 'Evaluar tiene un fin, un propósito, nos lleva a algo, que es comprender y conocer como funciona algo. Lo ', '000012': 'importante de evaluar es poder predecir y conocer como se comportaría alguien en una situación. ', '000013': 'La evaluación es un proceso compuesto por fases sucesivas e interrelacionadas.', '000014': 'Evaluación y diagnóstico como parte de la intervención en Psicología General ', '000015': 'Sanitaria ', '000016': 'Evaluación y diagnóstico no son lo mismo!', '000017': '*Ver video del análisis funcional de conducta.', '000018': 'Aun siendo distintos, diagnóstico y evaluación siempre van unidos, ya que, para realizar el primero, se ', '000019': 'debe llevar a cabo una buena evaluación. Además, esto facilitará la toma de decisiones para la ', '000020': 'intervención. ', '000021': 'Importante:', '000022': ' una buena evaluación Psicológica representa un 80% de la terapia. ', '000023': 'Motivo de consulta:', '000024': 'La mayor parte del éxito en la consecución de los objetivos de la terapia depende de la colaboración ', '000025': 'durante la evaluación entre el psicólogo y el paciente/cliente. ', '000026': '¿Cuántos problemas como mínimo tiene alguien que acude a terapia? Su problema + contarlo a mí. ', '000027': 'Contar algo a un desconocido es ya un problema. ', '000028': 'Proceso de evaluación psicológica', '000029': 'El proceso de evaluación y diagnóstico reproduce (y debe reproducir):', '000030': 'Que serán siempre objeto de nuestro análisis.', '000031': 'El profesional debe:', '000032': 'La evaluación psicológica es el proceso que sirve para recoger, valorar  e interpretar la información ', '000033': 'necesaria a fin de poder tomar decisiones que contribuyan a solucionar los problemas que afectan al ', '000034': 'paciente/cliente.', '000035': 'Fases de la evaluación:', '000036': 'el orden reflejado de las fases se muestra secuencialmente según se entiende ', '000037': 'que avanza el proceso de evaluación. No obstante, es un proceso flexible.', '000038': '1. Recogida de información; especificación de la demanda del problema. ', '000039': '2. Formulación de hipótesis inicial.', '000040': '3. Contrastación de hipótesis.', '000041': '4. Comunicación de los resultados de la evaluación.', '000042': '5. Formulación de hipótesis funcionales relacionadas con el plan de tratamiento.', '000043': '6. Aplicación del tratamiento y recogida de datos de las hipótesis funcionales. ', '000044': '7. Valoración de los resultados.', '000045': '8. Resultados (comunicar al paciente) ', '000046': '9. Seguimiento: hay pacientes que requieren de un seguimiento. ', '000047': 'En resumen:', '000048': 'Unas dimensiones espacio-temporales e interactivas concretas.', '000049': 'Perseguir unos fines específicos conceptualizados por el evaluador: esta conceptualización acaba ', '000050': 'siendo un consenso entre terapeuta y paciente. ', '000051': 'Evaluación', '000052': 'Diagnóstico', '000053': 'Es ', '000054': 'un ', '000055': 'procedimiento ', '000056': 'mediante ', '000057': 'el ', '000058': 'cual ', '000059': 'recopilamos información sobre el paciente a ', '000060': 'través de diferentes técnicas, con el fin de ', '000061': 'evaluar su sintomatología, funcionamiento y ', '000062': 'capacidades.', '000063': 'A partir de la evaluación se tomarán decisiones ', '000064': 'sobre el tipo, secuencia y objetivos del plan de ', '000065': 'tratamiento; y, más adelante, las técnicas de ', '000066': 'evaluación serán las encargadas de valorar los ', '000067': 'cambios producidos durante la intervención.', '000068': 'Pretende catalogar una enfermedad en función ', '000069': 'de los diferentes síntomas que presenta el ', '000070': 'paciente. ', '000071': 'Nos permite identificar cuál es el problema, a ', '000072': 'partir de observaciones y datos concretos.', '000073': 'Se debe recordar que el motivo de consulta nunca es el problema.', '000074': 'Los pacientes  acuden con un motivo claro (síntomas, dificultades, problemas, ánimo, etc.) ', '000075': 'No siempre es el problema al que hay que hacer frente. ', '000076': 'De ahí la necesidad de una ', '000077': 'evaluación exhaustiva.', '000078': 'Modelos de relación ', '000079': 'Estrategias de intervención ', '000080': 'Estilos de respuesta en general', '000081': 'Ser útil: ', '000082': 'ayudar a que el paciente/cliente piense, utilice sus propias posibilidad y autonomía. ', '000083': 'Comprender: ', '000084': 'no sólo es importante conocer y reunir datos sobre el paciente, es esencial ', '000085': 'comprender lo que el paciente dice.', '000086': 'Ser tolerante:', '000087': ' no es posible ser terapeuta sin ser tolerante. ', '000088': 'Valorar al paciente/cliente: ', '000089': 'hay pacientes que acuden a consulta sin haber “sido vistos nunca”, es ', '000090': 'nuestro deber como profesionales “verlos” y valorarlos como personas. ', '000091': 'La evaluación es un proceso compuesto por fases sucesivas e interrelacionadas. ', '000092': 'Es una relación humana.', '000093': 'Suele conllevar un diagnóstico.', '000094': 'Se subdivide en fases secuenciales, pero es un proceso flexible. '}\n"
     ]
    },
    {
     "ename": "KeyboardInterrupt",
     "evalue": "",
     "output_type": "error",
     "traceback": [
      "\u001b[1;31m---------------------------------------------------------------------------\u001b[0m",
      "\u001b[1;31mKeyboardInterrupt\u001b[0m                         Traceback (most recent call last)",
      "Cell \u001b[1;32mIn[1], line 19\u001b[0m\n\u001b[0;32m     15\u001b[0m extension \u001b[38;5;241m=\u001b[39m Path(nombre_fichero)\u001b[38;5;241m.\u001b[39msuffix\n\u001b[0;32m     17\u001b[0m add_prompt \u001b[38;5;241m=\u001b[39m \u001b[38;5;124m'\u001b[39m\u001b[38;5;124mPon todo el texto en mayúsculas\u001b[39m\u001b[38;5;124m'\u001b[39m\n\u001b[1;32m---> 19\u001b[0m \u001b[43meditar_doc\u001b[49m\u001b[43m(\u001b[49m\n\u001b[0;32m     20\u001b[0m \u001b[43m            \u001b[49m\u001b[43minput_path\u001b[49m\u001b[43m,\u001b[49m\n\u001b[0;32m     21\u001b[0m \u001b[43m            \u001b[49m\u001b[43moutput_path\u001b[49m\u001b[43m,\u001b[49m\n\u001b[0;32m     22\u001b[0m \u001b[43m            \u001b[49m\u001b[43mextension\u001b[49m\u001b[43m,\u001b[49m\n\u001b[0;32m     23\u001b[0m \u001b[43m            \u001b[49m\u001b[43mcolor_to_exclude\u001b[49m\u001b[43m,\u001b[49m\n\u001b[0;32m     24\u001b[0m \u001b[43m            \u001b[49m\u001b[43madd_prompt\u001b[49m\n\u001b[0;32m     25\u001b[0m \u001b[43m        \u001b[49m\u001b[43m)\u001b[49m\n",
      "File \u001b[1;32mc:\\Python Projects\\DocumentarIA\\doc_editor.py:446\u001b[0m, in \u001b[0;36meditar_doc\u001b[1;34m(input_path, output_path, extension, color_to_exclude, add_prompt)\u001b[0m\n\u001b[0;32m    443\u001b[0m bloques \u001b[38;5;241m=\u001b[39m separar_texto_bloques(textos_para_traducir)\n\u001b[0;32m    445\u001b[0m \u001b[38;5;66;03m# Traducción de bloques con el modelo\u001b[39;00m\n\u001b[1;32m--> 446\u001b[0m bloques_traducidos \u001b[38;5;241m=\u001b[39m \u001b[43mmodelo_edición_bloques\u001b[49m\u001b[43m(\u001b[49m\u001b[43mbloques\u001b[49m\u001b[43m,\u001b[49m\u001b[43m \u001b[49m\u001b[43madd_prompt\u001b[49m\u001b[43m)\u001b[49m\n\u001b[0;32m    448\u001b[0m \u001b[38;5;66;03m# Traducir los textos recopilados en bloques\u001b[39;00m\n\u001b[0;32m    449\u001b[0m textos_traducidos \u001b[38;5;241m=\u001b[39m join_blocks(bloques_traducidos)\n",
      "File \u001b[1;32mc:\\Python Projects\\DocumentarIA\\doc_editor.py:120\u001b[0m, in \u001b[0;36mmodelo_edición_bloques\u001b[1;34m(bloques, add_prompt, numintentos)\u001b[0m\n\u001b[0;32m    118\u001b[0m \u001b[38;5;28;01mwhile\u001b[39;00m reintentos \u001b[38;5;241m<\u001b[39m numintentos:\n\u001b[0;32m    119\u001b[0m     \u001b[38;5;28;01mtry\u001b[39;00m:\n\u001b[1;32m--> 120\u001b[0m         traduccion \u001b[38;5;241m=\u001b[39m \u001b[43mprompt_text\u001b[49m\u001b[43m(\u001b[49m\u001b[43mbloque\u001b[49m\u001b[43m,\u001b[49m\u001b[43m \u001b[49m\u001b[43madd_prompt\u001b[49m\u001b[43m)\u001b[49m\n\u001b[0;32m    122\u001b[0m         \u001b[38;5;28;01mif\u001b[39;00m verificar_codigos(bloque, traduccion):\n\u001b[0;32m    123\u001b[0m             \u001b[38;5;28mprint\u001b[39m(\u001b[38;5;124mf\u001b[39m\u001b[38;5;124m'\u001b[39m\u001b[38;5;124mBloque original: \u001b[39m\u001b[38;5;132;01m{\u001b[39;00mbloque\u001b[38;5;132;01m}\u001b[39;00m\u001b[38;5;124m'\u001b[39m)\n",
      "File \u001b[1;32mc:\\Python Projects\\DocumentarIA\\model_prompting.py:27\u001b[0m, in \u001b[0;36mprompt_text\u001b[1;34m(texto, add_prompt, model, api_key_file)\u001b[0m\n\u001b[0;32m     13\u001b[0m prompt \u001b[38;5;241m=\u001b[39m \u001b[38;5;124mf\u001b[39m\u001b[38;5;124m\"\"\"\u001b[39m\n\u001b[0;32m     14\u001b[0m \u001b[38;5;124mFollow this rules:\u001b[39m\n\u001b[0;32m     15\u001b[0m \u001b[38;5;124m- Your task is to  edit text while strictly preserving codes (_CDTR_00000) in their exact positions, including at the start or end of the text. \u001b[39m\n\u001b[1;32m   (...)\u001b[0m\n\u001b[0;32m     23\u001b[0m \u001b[38;5;124m\u001b[39m\u001b[38;5;132;01m{\u001b[39;00mtexto\u001b[38;5;132;01m}\u001b[39;00m\n\u001b[0;32m     24\u001b[0m \u001b[38;5;124m\u001b[39m\u001b[38;5;124m\"\"\"\u001b[39m\n\u001b[0;32m     26\u001b[0m \u001b[38;5;66;03m# Llama a la API de Groq para traducir el texto\u001b[39;00m\n\u001b[1;32m---> 27\u001b[0m chat_completion \u001b[38;5;241m=\u001b[39m \u001b[43mclient\u001b[49m\u001b[38;5;241;43m.\u001b[39;49m\u001b[43mchat\u001b[49m\u001b[38;5;241;43m.\u001b[39;49m\u001b[43mcompletions\u001b[49m\u001b[38;5;241;43m.\u001b[39;49m\u001b[43mcreate\u001b[49m\u001b[43m(\u001b[49m\n\u001b[0;32m     28\u001b[0m \u001b[43m    \u001b[49m\u001b[43mmessages\u001b[49m\u001b[38;5;241;43m=\u001b[39;49m\u001b[43m[\u001b[49m\n\u001b[0;32m     29\u001b[0m \u001b[43m        \u001b[49m\u001b[43m{\u001b[49m\n\u001b[0;32m     30\u001b[0m \u001b[43m            \u001b[49m\u001b[38;5;124;43m\"\u001b[39;49m\u001b[38;5;124;43mrole\u001b[39;49m\u001b[38;5;124;43m\"\u001b[39;49m\u001b[43m:\u001b[49m\u001b[43m \u001b[49m\u001b[38;5;124;43m\"\u001b[39;49m\u001b[38;5;124;43muser\u001b[39;49m\u001b[38;5;124;43m\"\u001b[39;49m\u001b[43m,\u001b[49m\n\u001b[0;32m     31\u001b[0m \u001b[43m            \u001b[49m\u001b[38;5;124;43m\"\u001b[39;49m\u001b[38;5;124;43mcontent\u001b[39;49m\u001b[38;5;124;43m\"\u001b[39;49m\u001b[43m:\u001b[49m\u001b[43m \u001b[49m\u001b[43mprompt\u001b[49m\u001b[43m,\u001b[49m\n\u001b[0;32m     32\u001b[0m \u001b[43m        \u001b[49m\u001b[43m}\u001b[49m\n\u001b[0;32m     33\u001b[0m \u001b[43m    \u001b[49m\u001b[43m]\u001b[49m\u001b[43m,\u001b[49m\n\u001b[0;32m     34\u001b[0m \u001b[43m    \u001b[49m\u001b[43mmodel\u001b[49m\u001b[38;5;241;43m=\u001b[39;49m\u001b[43mmodel\u001b[49m\n\u001b[0;32m     35\u001b[0m \u001b[43m\u001b[49m\u001b[43m)\u001b[49m\n\u001b[0;32m     37\u001b[0m traduccion \u001b[38;5;241m=\u001b[39m chat_completion\u001b[38;5;241m.\u001b[39mchoices[\u001b[38;5;241m0\u001b[39m]\u001b[38;5;241m.\u001b[39mmessage\u001b[38;5;241m.\u001b[39mcontent\u001b[38;5;241m.\u001b[39mstrip()\n\u001b[0;32m     38\u001b[0m \u001b[38;5;28;01mreturn\u001b[39;00m traduccion\n",
      "File \u001b[1;32mc:\\Python Projects\\DocumentarIA\\.venv\\Lib\\site-packages\\groq\\resources\\chat\\completions.py:287\u001b[0m, in \u001b[0;36mCompletions.create\u001b[1;34m(self, messages, model, frequency_penalty, function_call, functions, logit_bias, logprobs, max_tokens, n, parallel_tool_calls, presence_penalty, response_format, seed, stop, stream, temperature, tool_choice, tools, top_logprobs, top_p, user, extra_headers, extra_query, extra_body, timeout)\u001b[0m\n\u001b[0;32m    146\u001b[0m \u001b[38;5;28;01mdef\u001b[39;00m \u001b[38;5;21mcreate\u001b[39m(\n\u001b[0;32m    147\u001b[0m     \u001b[38;5;28mself\u001b[39m,\n\u001b[0;32m    148\u001b[0m     \u001b[38;5;241m*\u001b[39m,\n\u001b[1;32m   (...)\u001b[0m\n\u001b[0;32m    175\u001b[0m     timeout: \u001b[38;5;28mfloat\u001b[39m \u001b[38;5;241m|\u001b[39m httpx\u001b[38;5;241m.\u001b[39mTimeout \u001b[38;5;241m|\u001b[39m \u001b[38;5;28;01mNone\u001b[39;00m \u001b[38;5;241m|\u001b[39m NotGiven \u001b[38;5;241m=\u001b[39m NOT_GIVEN,\n\u001b[0;32m    176\u001b[0m ) \u001b[38;5;241m-\u001b[39m\u001b[38;5;241m>\u001b[39m ChatCompletion \u001b[38;5;241m|\u001b[39m Stream[ChatCompletionChunk]:\n\u001b[0;32m    177\u001b[0m \u001b[38;5;250m    \u001b[39m\u001b[38;5;124;03m\"\"\"\u001b[39;00m\n\u001b[0;32m    178\u001b[0m \u001b[38;5;124;03m    Creates a model response for the given chat conversation.\u001b[39;00m\n\u001b[0;32m    179\u001b[0m \n\u001b[1;32m   (...)\u001b[0m\n\u001b[0;32m    285\u001b[0m \u001b[38;5;124;03m      timeout: Override the client-level default timeout for this request, in seconds\u001b[39;00m\n\u001b[0;32m    286\u001b[0m \u001b[38;5;124;03m    \"\"\"\u001b[39;00m\n\u001b[1;32m--> 287\u001b[0m     \u001b[38;5;28;01mreturn\u001b[39;00m \u001b[38;5;28;43mself\u001b[39;49m\u001b[38;5;241;43m.\u001b[39;49m\u001b[43m_post\u001b[49m\u001b[43m(\u001b[49m\n\u001b[0;32m    288\u001b[0m \u001b[43m        \u001b[49m\u001b[38;5;124;43m\"\u001b[39;49m\u001b[38;5;124;43m/openai/v1/chat/completions\u001b[39;49m\u001b[38;5;124;43m\"\u001b[39;49m\u001b[43m,\u001b[49m\n\u001b[0;32m    289\u001b[0m \u001b[43m        \u001b[49m\u001b[43mbody\u001b[49m\u001b[38;5;241;43m=\u001b[39;49m\u001b[43mmaybe_transform\u001b[49m\u001b[43m(\u001b[49m\n\u001b[0;32m    290\u001b[0m \u001b[43m            \u001b[49m\u001b[43m{\u001b[49m\n\u001b[0;32m    291\u001b[0m \u001b[43m                \u001b[49m\u001b[38;5;124;43m\"\u001b[39;49m\u001b[38;5;124;43mmessages\u001b[39;49m\u001b[38;5;124;43m\"\u001b[39;49m\u001b[43m:\u001b[49m\u001b[43m \u001b[49m\u001b[43mmessages\u001b[49m\u001b[43m,\u001b[49m\n\u001b[0;32m    292\u001b[0m \u001b[43m                \u001b[49m\u001b[38;5;124;43m\"\u001b[39;49m\u001b[38;5;124;43mmodel\u001b[39;49m\u001b[38;5;124;43m\"\u001b[39;49m\u001b[43m:\u001b[49m\u001b[43m \u001b[49m\u001b[43mmodel\u001b[49m\u001b[43m,\u001b[49m\n\u001b[0;32m    293\u001b[0m \u001b[43m                \u001b[49m\u001b[38;5;124;43m\"\u001b[39;49m\u001b[38;5;124;43mfrequency_penalty\u001b[39;49m\u001b[38;5;124;43m\"\u001b[39;49m\u001b[43m:\u001b[49m\u001b[43m \u001b[49m\u001b[43mfrequency_penalty\u001b[49m\u001b[43m,\u001b[49m\n\u001b[0;32m    294\u001b[0m \u001b[43m                \u001b[49m\u001b[38;5;124;43m\"\u001b[39;49m\u001b[38;5;124;43mfunction_call\u001b[39;49m\u001b[38;5;124;43m\"\u001b[39;49m\u001b[43m:\u001b[49m\u001b[43m \u001b[49m\u001b[43mfunction_call\u001b[49m\u001b[43m,\u001b[49m\n\u001b[0;32m    295\u001b[0m \u001b[43m                \u001b[49m\u001b[38;5;124;43m\"\u001b[39;49m\u001b[38;5;124;43mfunctions\u001b[39;49m\u001b[38;5;124;43m\"\u001b[39;49m\u001b[43m:\u001b[49m\u001b[43m \u001b[49m\u001b[43mfunctions\u001b[49m\u001b[43m,\u001b[49m\n\u001b[0;32m    296\u001b[0m \u001b[43m                \u001b[49m\u001b[38;5;124;43m\"\u001b[39;49m\u001b[38;5;124;43mlogit_bias\u001b[39;49m\u001b[38;5;124;43m\"\u001b[39;49m\u001b[43m:\u001b[49m\u001b[43m \u001b[49m\u001b[43mlogit_bias\u001b[49m\u001b[43m,\u001b[49m\n\u001b[0;32m    297\u001b[0m \u001b[43m                \u001b[49m\u001b[38;5;124;43m\"\u001b[39;49m\u001b[38;5;124;43mlogprobs\u001b[39;49m\u001b[38;5;124;43m\"\u001b[39;49m\u001b[43m:\u001b[49m\u001b[43m \u001b[49m\u001b[43mlogprobs\u001b[49m\u001b[43m,\u001b[49m\n\u001b[0;32m    298\u001b[0m \u001b[43m                \u001b[49m\u001b[38;5;124;43m\"\u001b[39;49m\u001b[38;5;124;43mmax_tokens\u001b[39;49m\u001b[38;5;124;43m\"\u001b[39;49m\u001b[43m:\u001b[49m\u001b[43m \u001b[49m\u001b[43mmax_tokens\u001b[49m\u001b[43m,\u001b[49m\n\u001b[0;32m    299\u001b[0m \u001b[43m                \u001b[49m\u001b[38;5;124;43m\"\u001b[39;49m\u001b[38;5;124;43mn\u001b[39;49m\u001b[38;5;124;43m\"\u001b[39;49m\u001b[43m:\u001b[49m\u001b[43m \u001b[49m\u001b[43mn\u001b[49m\u001b[43m,\u001b[49m\n\u001b[0;32m    300\u001b[0m \u001b[43m                \u001b[49m\u001b[38;5;124;43m\"\u001b[39;49m\u001b[38;5;124;43mparallel_tool_calls\u001b[39;49m\u001b[38;5;124;43m\"\u001b[39;49m\u001b[43m:\u001b[49m\u001b[43m \u001b[49m\u001b[43mparallel_tool_calls\u001b[49m\u001b[43m,\u001b[49m\n\u001b[0;32m    301\u001b[0m \u001b[43m                \u001b[49m\u001b[38;5;124;43m\"\u001b[39;49m\u001b[38;5;124;43mpresence_penalty\u001b[39;49m\u001b[38;5;124;43m\"\u001b[39;49m\u001b[43m:\u001b[49m\u001b[43m \u001b[49m\u001b[43mpresence_penalty\u001b[49m\u001b[43m,\u001b[49m\n\u001b[0;32m    302\u001b[0m \u001b[43m                \u001b[49m\u001b[38;5;124;43m\"\u001b[39;49m\u001b[38;5;124;43mresponse_format\u001b[39;49m\u001b[38;5;124;43m\"\u001b[39;49m\u001b[43m:\u001b[49m\u001b[43m \u001b[49m\u001b[43mresponse_format\u001b[49m\u001b[43m,\u001b[49m\n\u001b[0;32m    303\u001b[0m \u001b[43m                \u001b[49m\u001b[38;5;124;43m\"\u001b[39;49m\u001b[38;5;124;43mseed\u001b[39;49m\u001b[38;5;124;43m\"\u001b[39;49m\u001b[43m:\u001b[49m\u001b[43m \u001b[49m\u001b[43mseed\u001b[49m\u001b[43m,\u001b[49m\n\u001b[0;32m    304\u001b[0m \u001b[43m                \u001b[49m\u001b[38;5;124;43m\"\u001b[39;49m\u001b[38;5;124;43mstop\u001b[39;49m\u001b[38;5;124;43m\"\u001b[39;49m\u001b[43m:\u001b[49m\u001b[43m \u001b[49m\u001b[43mstop\u001b[49m\u001b[43m,\u001b[49m\n\u001b[0;32m    305\u001b[0m \u001b[43m                \u001b[49m\u001b[38;5;124;43m\"\u001b[39;49m\u001b[38;5;124;43mstream\u001b[39;49m\u001b[38;5;124;43m\"\u001b[39;49m\u001b[43m:\u001b[49m\u001b[43m \u001b[49m\u001b[43mstream\u001b[49m\u001b[43m,\u001b[49m\n\u001b[0;32m    306\u001b[0m \u001b[43m                \u001b[49m\u001b[38;5;124;43m\"\u001b[39;49m\u001b[38;5;124;43mtemperature\u001b[39;49m\u001b[38;5;124;43m\"\u001b[39;49m\u001b[43m:\u001b[49m\u001b[43m \u001b[49m\u001b[43mtemperature\u001b[49m\u001b[43m,\u001b[49m\n\u001b[0;32m    307\u001b[0m \u001b[43m                \u001b[49m\u001b[38;5;124;43m\"\u001b[39;49m\u001b[38;5;124;43mtool_choice\u001b[39;49m\u001b[38;5;124;43m\"\u001b[39;49m\u001b[43m:\u001b[49m\u001b[43m \u001b[49m\u001b[43mtool_choice\u001b[49m\u001b[43m,\u001b[49m\n\u001b[0;32m    308\u001b[0m \u001b[43m                \u001b[49m\u001b[38;5;124;43m\"\u001b[39;49m\u001b[38;5;124;43mtools\u001b[39;49m\u001b[38;5;124;43m\"\u001b[39;49m\u001b[43m:\u001b[49m\u001b[43m \u001b[49m\u001b[43mtools\u001b[49m\u001b[43m,\u001b[49m\n\u001b[0;32m    309\u001b[0m \u001b[43m                \u001b[49m\u001b[38;5;124;43m\"\u001b[39;49m\u001b[38;5;124;43mtop_logprobs\u001b[39;49m\u001b[38;5;124;43m\"\u001b[39;49m\u001b[43m:\u001b[49m\u001b[43m \u001b[49m\u001b[43mtop_logprobs\u001b[49m\u001b[43m,\u001b[49m\n\u001b[0;32m    310\u001b[0m \u001b[43m                \u001b[49m\u001b[38;5;124;43m\"\u001b[39;49m\u001b[38;5;124;43mtop_p\u001b[39;49m\u001b[38;5;124;43m\"\u001b[39;49m\u001b[43m:\u001b[49m\u001b[43m \u001b[49m\u001b[43mtop_p\u001b[49m\u001b[43m,\u001b[49m\n\u001b[0;32m    311\u001b[0m \u001b[43m                \u001b[49m\u001b[38;5;124;43m\"\u001b[39;49m\u001b[38;5;124;43muser\u001b[39;49m\u001b[38;5;124;43m\"\u001b[39;49m\u001b[43m:\u001b[49m\u001b[43m \u001b[49m\u001b[43muser\u001b[49m\u001b[43m,\u001b[49m\n\u001b[0;32m    312\u001b[0m \u001b[43m            \u001b[49m\u001b[43m}\u001b[49m\u001b[43m,\u001b[49m\n\u001b[0;32m    313\u001b[0m \u001b[43m            \u001b[49m\u001b[43mcompletion_create_params\u001b[49m\u001b[38;5;241;43m.\u001b[39;49m\u001b[43mCompletionCreateParams\u001b[49m\u001b[43m,\u001b[49m\n\u001b[0;32m    314\u001b[0m \u001b[43m        \u001b[49m\u001b[43m)\u001b[49m\u001b[43m,\u001b[49m\n\u001b[0;32m    315\u001b[0m \u001b[43m        \u001b[49m\u001b[43moptions\u001b[49m\u001b[38;5;241;43m=\u001b[39;49m\u001b[43mmake_request_options\u001b[49m\u001b[43m(\u001b[49m\n\u001b[0;32m    316\u001b[0m \u001b[43m            \u001b[49m\u001b[43mextra_headers\u001b[49m\u001b[38;5;241;43m=\u001b[39;49m\u001b[43mextra_headers\u001b[49m\u001b[43m,\u001b[49m\u001b[43m \u001b[49m\u001b[43mextra_query\u001b[49m\u001b[38;5;241;43m=\u001b[39;49m\u001b[43mextra_query\u001b[49m\u001b[43m,\u001b[49m\u001b[43m \u001b[49m\u001b[43mextra_body\u001b[49m\u001b[38;5;241;43m=\u001b[39;49m\u001b[43mextra_body\u001b[49m\u001b[43m,\u001b[49m\u001b[43m \u001b[49m\u001b[43mtimeout\u001b[49m\u001b[38;5;241;43m=\u001b[39;49m\u001b[43mtimeout\u001b[49m\n\u001b[0;32m    317\u001b[0m \u001b[43m        \u001b[49m\u001b[43m)\u001b[49m\u001b[43m,\u001b[49m\n\u001b[0;32m    318\u001b[0m \u001b[43m        \u001b[49m\u001b[43mcast_to\u001b[49m\u001b[38;5;241;43m=\u001b[39;49m\u001b[43mChatCompletion\u001b[49m\u001b[43m,\u001b[49m\n\u001b[0;32m    319\u001b[0m \u001b[43m        \u001b[49m\u001b[43mstream\u001b[49m\u001b[38;5;241;43m=\u001b[39;49m\u001b[43mstream\u001b[49m\u001b[43m \u001b[49m\u001b[38;5;129;43;01mor\u001b[39;49;00m\u001b[43m \u001b[49m\u001b[38;5;28;43;01mFalse\u001b[39;49;00m\u001b[43m,\u001b[49m\n\u001b[0;32m    320\u001b[0m \u001b[43m        \u001b[49m\u001b[43mstream_cls\u001b[49m\u001b[38;5;241;43m=\u001b[39;49m\u001b[43mStream\u001b[49m\u001b[43m[\u001b[49m\u001b[43mChatCompletionChunk\u001b[49m\u001b[43m]\u001b[49m\u001b[43m,\u001b[49m\n\u001b[0;32m    321\u001b[0m \u001b[43m    \u001b[49m\u001b[43m)\u001b[49m\n",
      "File \u001b[1;32mc:\\Python Projects\\DocumentarIA\\.venv\\Lib\\site-packages\\groq\\_base_client.py:1244\u001b[0m, in \u001b[0;36mSyncAPIClient.post\u001b[1;34m(self, path, cast_to, body, options, files, stream, stream_cls)\u001b[0m\n\u001b[0;32m   1230\u001b[0m \u001b[38;5;28;01mdef\u001b[39;00m \u001b[38;5;21mpost\u001b[39m(\n\u001b[0;32m   1231\u001b[0m     \u001b[38;5;28mself\u001b[39m,\n\u001b[0;32m   1232\u001b[0m     path: \u001b[38;5;28mstr\u001b[39m,\n\u001b[1;32m   (...)\u001b[0m\n\u001b[0;32m   1239\u001b[0m     stream_cls: \u001b[38;5;28mtype\u001b[39m[_StreamT] \u001b[38;5;241m|\u001b[39m \u001b[38;5;28;01mNone\u001b[39;00m \u001b[38;5;241m=\u001b[39m \u001b[38;5;28;01mNone\u001b[39;00m,\n\u001b[0;32m   1240\u001b[0m ) \u001b[38;5;241m-\u001b[39m\u001b[38;5;241m>\u001b[39m ResponseT \u001b[38;5;241m|\u001b[39m _StreamT:\n\u001b[0;32m   1241\u001b[0m     opts \u001b[38;5;241m=\u001b[39m FinalRequestOptions\u001b[38;5;241m.\u001b[39mconstruct(\n\u001b[0;32m   1242\u001b[0m         method\u001b[38;5;241m=\u001b[39m\u001b[38;5;124m\"\u001b[39m\u001b[38;5;124mpost\u001b[39m\u001b[38;5;124m\"\u001b[39m, url\u001b[38;5;241m=\u001b[39mpath, json_data\u001b[38;5;241m=\u001b[39mbody, files\u001b[38;5;241m=\u001b[39mto_httpx_files(files), \u001b[38;5;241m*\u001b[39m\u001b[38;5;241m*\u001b[39moptions\n\u001b[0;32m   1243\u001b[0m     )\n\u001b[1;32m-> 1244\u001b[0m     \u001b[38;5;28;01mreturn\u001b[39;00m cast(ResponseT, \u001b[38;5;28;43mself\u001b[39;49m\u001b[38;5;241;43m.\u001b[39;49m\u001b[43mrequest\u001b[49m\u001b[43m(\u001b[49m\u001b[43mcast_to\u001b[49m\u001b[43m,\u001b[49m\u001b[43m \u001b[49m\u001b[43mopts\u001b[49m\u001b[43m,\u001b[49m\u001b[43m \u001b[49m\u001b[43mstream\u001b[49m\u001b[38;5;241;43m=\u001b[39;49m\u001b[43mstream\u001b[49m\u001b[43m,\u001b[49m\u001b[43m \u001b[49m\u001b[43mstream_cls\u001b[49m\u001b[38;5;241;43m=\u001b[39;49m\u001b[43mstream_cls\u001b[49m\u001b[43m)\u001b[49m)\n",
      "File \u001b[1;32mc:\\Python Projects\\DocumentarIA\\.venv\\Lib\\site-packages\\groq\\_base_client.py:936\u001b[0m, in \u001b[0;36mSyncAPIClient.request\u001b[1;34m(self, cast_to, options, remaining_retries, stream, stream_cls)\u001b[0m\n\u001b[0;32m    927\u001b[0m \u001b[38;5;28;01mdef\u001b[39;00m \u001b[38;5;21mrequest\u001b[39m(\n\u001b[0;32m    928\u001b[0m     \u001b[38;5;28mself\u001b[39m,\n\u001b[0;32m    929\u001b[0m     cast_to: Type[ResponseT],\n\u001b[1;32m   (...)\u001b[0m\n\u001b[0;32m    934\u001b[0m     stream_cls: \u001b[38;5;28mtype\u001b[39m[_StreamT] \u001b[38;5;241m|\u001b[39m \u001b[38;5;28;01mNone\u001b[39;00m \u001b[38;5;241m=\u001b[39m \u001b[38;5;28;01mNone\u001b[39;00m,\n\u001b[0;32m    935\u001b[0m ) \u001b[38;5;241m-\u001b[39m\u001b[38;5;241m>\u001b[39m ResponseT \u001b[38;5;241m|\u001b[39m _StreamT:\n\u001b[1;32m--> 936\u001b[0m     \u001b[38;5;28;01mreturn\u001b[39;00m \u001b[38;5;28;43mself\u001b[39;49m\u001b[38;5;241;43m.\u001b[39;49m\u001b[43m_request\u001b[49m\u001b[43m(\u001b[49m\n\u001b[0;32m    937\u001b[0m \u001b[43m        \u001b[49m\u001b[43mcast_to\u001b[49m\u001b[38;5;241;43m=\u001b[39;49m\u001b[43mcast_to\u001b[49m\u001b[43m,\u001b[49m\n\u001b[0;32m    938\u001b[0m \u001b[43m        \u001b[49m\u001b[43moptions\u001b[49m\u001b[38;5;241;43m=\u001b[39;49m\u001b[43moptions\u001b[49m\u001b[43m,\u001b[49m\n\u001b[0;32m    939\u001b[0m \u001b[43m        \u001b[49m\u001b[43mstream\u001b[49m\u001b[38;5;241;43m=\u001b[39;49m\u001b[43mstream\u001b[49m\u001b[43m,\u001b[49m\n\u001b[0;32m    940\u001b[0m \u001b[43m        \u001b[49m\u001b[43mstream_cls\u001b[49m\u001b[38;5;241;43m=\u001b[39;49m\u001b[43mstream_cls\u001b[49m\u001b[43m,\u001b[49m\n\u001b[0;32m    941\u001b[0m \u001b[43m        \u001b[49m\u001b[43mremaining_retries\u001b[49m\u001b[38;5;241;43m=\u001b[39;49m\u001b[43mremaining_retries\u001b[49m\u001b[43m,\u001b[49m\n\u001b[0;32m    942\u001b[0m \u001b[43m    \u001b[49m\u001b[43m)\u001b[49m\n",
      "File \u001b[1;32mc:\\Python Projects\\DocumentarIA\\.venv\\Lib\\site-packages\\groq\\_base_client.py:972\u001b[0m, in \u001b[0;36mSyncAPIClient._request\u001b[1;34m(self, cast_to, options, remaining_retries, stream, stream_cls)\u001b[0m\n\u001b[0;32m    969\u001b[0m log\u001b[38;5;241m.\u001b[39mdebug(\u001b[38;5;124m\"\u001b[39m\u001b[38;5;124mSending HTTP Request: \u001b[39m\u001b[38;5;132;01m%s\u001b[39;00m\u001b[38;5;124m \u001b[39m\u001b[38;5;132;01m%s\u001b[39;00m\u001b[38;5;124m\"\u001b[39m, request\u001b[38;5;241m.\u001b[39mmethod, request\u001b[38;5;241m.\u001b[39murl)\n\u001b[0;32m    971\u001b[0m \u001b[38;5;28;01mtry\u001b[39;00m:\n\u001b[1;32m--> 972\u001b[0m     response \u001b[38;5;241m=\u001b[39m \u001b[38;5;28;43mself\u001b[39;49m\u001b[38;5;241;43m.\u001b[39;49m\u001b[43m_client\u001b[49m\u001b[38;5;241;43m.\u001b[39;49m\u001b[43msend\u001b[49m\u001b[43m(\u001b[49m\n\u001b[0;32m    973\u001b[0m \u001b[43m        \u001b[49m\u001b[43mrequest\u001b[49m\u001b[43m,\u001b[49m\n\u001b[0;32m    974\u001b[0m \u001b[43m        \u001b[49m\u001b[43mstream\u001b[49m\u001b[38;5;241;43m=\u001b[39;49m\u001b[43mstream\u001b[49m\u001b[43m \u001b[49m\u001b[38;5;129;43;01mor\u001b[39;49;00m\u001b[43m \u001b[49m\u001b[38;5;28;43mself\u001b[39;49m\u001b[38;5;241;43m.\u001b[39;49m\u001b[43m_should_stream_response_body\u001b[49m\u001b[43m(\u001b[49m\u001b[43mrequest\u001b[49m\u001b[38;5;241;43m=\u001b[39;49m\u001b[43mrequest\u001b[49m\u001b[43m)\u001b[49m\u001b[43m,\u001b[49m\n\u001b[0;32m    975\u001b[0m \u001b[43m        \u001b[49m\u001b[38;5;241;43m*\u001b[39;49m\u001b[38;5;241;43m*\u001b[39;49m\u001b[43mkwargs\u001b[49m\u001b[43m,\u001b[49m\n\u001b[0;32m    976\u001b[0m \u001b[43m    \u001b[49m\u001b[43m)\u001b[49m\n\u001b[0;32m    977\u001b[0m \u001b[38;5;28;01mexcept\u001b[39;00m httpx\u001b[38;5;241m.\u001b[39mTimeoutException \u001b[38;5;28;01mas\u001b[39;00m err:\n\u001b[0;32m    978\u001b[0m     log\u001b[38;5;241m.\u001b[39mdebug(\u001b[38;5;124m\"\u001b[39m\u001b[38;5;124mEncountered httpx.TimeoutException\u001b[39m\u001b[38;5;124m\"\u001b[39m, exc_info\u001b[38;5;241m=\u001b[39m\u001b[38;5;28;01mTrue\u001b[39;00m)\n",
      "File \u001b[1;32mc:\\Python Projects\\DocumentarIA\\.venv\\Lib\\site-packages\\httpx\\_client.py:926\u001b[0m, in \u001b[0;36mClient.send\u001b[1;34m(self, request, stream, auth, follow_redirects)\u001b[0m\n\u001b[0;32m    922\u001b[0m \u001b[38;5;28mself\u001b[39m\u001b[38;5;241m.\u001b[39m_set_timeout(request)\n\u001b[0;32m    924\u001b[0m auth \u001b[38;5;241m=\u001b[39m \u001b[38;5;28mself\u001b[39m\u001b[38;5;241m.\u001b[39m_build_request_auth(request, auth)\n\u001b[1;32m--> 926\u001b[0m response \u001b[38;5;241m=\u001b[39m \u001b[38;5;28;43mself\u001b[39;49m\u001b[38;5;241;43m.\u001b[39;49m\u001b[43m_send_handling_auth\u001b[49m\u001b[43m(\u001b[49m\n\u001b[0;32m    927\u001b[0m \u001b[43m    \u001b[49m\u001b[43mrequest\u001b[49m\u001b[43m,\u001b[49m\n\u001b[0;32m    928\u001b[0m \u001b[43m    \u001b[49m\u001b[43mauth\u001b[49m\u001b[38;5;241;43m=\u001b[39;49m\u001b[43mauth\u001b[49m\u001b[43m,\u001b[49m\n\u001b[0;32m    929\u001b[0m \u001b[43m    \u001b[49m\u001b[43mfollow_redirects\u001b[49m\u001b[38;5;241;43m=\u001b[39;49m\u001b[43mfollow_redirects\u001b[49m\u001b[43m,\u001b[49m\n\u001b[0;32m    930\u001b[0m \u001b[43m    \u001b[49m\u001b[43mhistory\u001b[49m\u001b[38;5;241;43m=\u001b[39;49m\u001b[43m[\u001b[49m\u001b[43m]\u001b[49m\u001b[43m,\u001b[49m\n\u001b[0;32m    931\u001b[0m \u001b[43m\u001b[49m\u001b[43m)\u001b[49m\n\u001b[0;32m    932\u001b[0m \u001b[38;5;28;01mtry\u001b[39;00m:\n\u001b[0;32m    933\u001b[0m     \u001b[38;5;28;01mif\u001b[39;00m \u001b[38;5;129;01mnot\u001b[39;00m stream:\n",
      "File \u001b[1;32mc:\\Python Projects\\DocumentarIA\\.venv\\Lib\\site-packages\\httpx\\_client.py:954\u001b[0m, in \u001b[0;36mClient._send_handling_auth\u001b[1;34m(self, request, auth, follow_redirects, history)\u001b[0m\n\u001b[0;32m    951\u001b[0m request \u001b[38;5;241m=\u001b[39m \u001b[38;5;28mnext\u001b[39m(auth_flow)\n\u001b[0;32m    953\u001b[0m \u001b[38;5;28;01mwhile\u001b[39;00m \u001b[38;5;28;01mTrue\u001b[39;00m:\n\u001b[1;32m--> 954\u001b[0m     response \u001b[38;5;241m=\u001b[39m \u001b[38;5;28;43mself\u001b[39;49m\u001b[38;5;241;43m.\u001b[39;49m\u001b[43m_send_handling_redirects\u001b[49m\u001b[43m(\u001b[49m\n\u001b[0;32m    955\u001b[0m \u001b[43m        \u001b[49m\u001b[43mrequest\u001b[49m\u001b[43m,\u001b[49m\n\u001b[0;32m    956\u001b[0m \u001b[43m        \u001b[49m\u001b[43mfollow_redirects\u001b[49m\u001b[38;5;241;43m=\u001b[39;49m\u001b[43mfollow_redirects\u001b[49m\u001b[43m,\u001b[49m\n\u001b[0;32m    957\u001b[0m \u001b[43m        \u001b[49m\u001b[43mhistory\u001b[49m\u001b[38;5;241;43m=\u001b[39;49m\u001b[43mhistory\u001b[49m\u001b[43m,\u001b[49m\n\u001b[0;32m    958\u001b[0m \u001b[43m    \u001b[49m\u001b[43m)\u001b[49m\n\u001b[0;32m    959\u001b[0m     \u001b[38;5;28;01mtry\u001b[39;00m:\n\u001b[0;32m    960\u001b[0m         \u001b[38;5;28;01mtry\u001b[39;00m:\n",
      "File \u001b[1;32mc:\\Python Projects\\DocumentarIA\\.venv\\Lib\\site-packages\\httpx\\_client.py:991\u001b[0m, in \u001b[0;36mClient._send_handling_redirects\u001b[1;34m(self, request, follow_redirects, history)\u001b[0m\n\u001b[0;32m    988\u001b[0m \u001b[38;5;28;01mfor\u001b[39;00m hook \u001b[38;5;129;01min\u001b[39;00m \u001b[38;5;28mself\u001b[39m\u001b[38;5;241m.\u001b[39m_event_hooks[\u001b[38;5;124m\"\u001b[39m\u001b[38;5;124mrequest\u001b[39m\u001b[38;5;124m\"\u001b[39m]:\n\u001b[0;32m    989\u001b[0m     hook(request)\n\u001b[1;32m--> 991\u001b[0m response \u001b[38;5;241m=\u001b[39m \u001b[38;5;28;43mself\u001b[39;49m\u001b[38;5;241;43m.\u001b[39;49m\u001b[43m_send_single_request\u001b[49m\u001b[43m(\u001b[49m\u001b[43mrequest\u001b[49m\u001b[43m)\u001b[49m\n\u001b[0;32m    992\u001b[0m \u001b[38;5;28;01mtry\u001b[39;00m:\n\u001b[0;32m    993\u001b[0m     \u001b[38;5;28;01mfor\u001b[39;00m hook \u001b[38;5;129;01min\u001b[39;00m \u001b[38;5;28mself\u001b[39m\u001b[38;5;241m.\u001b[39m_event_hooks[\u001b[38;5;124m\"\u001b[39m\u001b[38;5;124mresponse\u001b[39m\u001b[38;5;124m\"\u001b[39m]:\n",
      "File \u001b[1;32mc:\\Python Projects\\DocumentarIA\\.venv\\Lib\\site-packages\\httpx\\_client.py:1027\u001b[0m, in \u001b[0;36mClient._send_single_request\u001b[1;34m(self, request)\u001b[0m\n\u001b[0;32m   1022\u001b[0m     \u001b[38;5;28;01mraise\u001b[39;00m \u001b[38;5;167;01mRuntimeError\u001b[39;00m(\n\u001b[0;32m   1023\u001b[0m         \u001b[38;5;124m\"\u001b[39m\u001b[38;5;124mAttempted to send an async request with a sync Client instance.\u001b[39m\u001b[38;5;124m\"\u001b[39m\n\u001b[0;32m   1024\u001b[0m     )\n\u001b[0;32m   1026\u001b[0m \u001b[38;5;28;01mwith\u001b[39;00m request_context(request\u001b[38;5;241m=\u001b[39mrequest):\n\u001b[1;32m-> 1027\u001b[0m     response \u001b[38;5;241m=\u001b[39m \u001b[43mtransport\u001b[49m\u001b[38;5;241;43m.\u001b[39;49m\u001b[43mhandle_request\u001b[49m\u001b[43m(\u001b[49m\u001b[43mrequest\u001b[49m\u001b[43m)\u001b[49m\n\u001b[0;32m   1029\u001b[0m \u001b[38;5;28;01massert\u001b[39;00m \u001b[38;5;28misinstance\u001b[39m(response\u001b[38;5;241m.\u001b[39mstream, SyncByteStream)\n\u001b[0;32m   1031\u001b[0m response\u001b[38;5;241m.\u001b[39mrequest \u001b[38;5;241m=\u001b[39m request\n",
      "File \u001b[1;32mc:\\Python Projects\\DocumentarIA\\.venv\\Lib\\site-packages\\httpx\\_transports\\default.py:236\u001b[0m, in \u001b[0;36mHTTPTransport.handle_request\u001b[1;34m(self, request)\u001b[0m\n\u001b[0;32m    223\u001b[0m req \u001b[38;5;241m=\u001b[39m httpcore\u001b[38;5;241m.\u001b[39mRequest(\n\u001b[0;32m    224\u001b[0m     method\u001b[38;5;241m=\u001b[39mrequest\u001b[38;5;241m.\u001b[39mmethod,\n\u001b[0;32m    225\u001b[0m     url\u001b[38;5;241m=\u001b[39mhttpcore\u001b[38;5;241m.\u001b[39mURL(\n\u001b[1;32m   (...)\u001b[0m\n\u001b[0;32m    233\u001b[0m     extensions\u001b[38;5;241m=\u001b[39mrequest\u001b[38;5;241m.\u001b[39mextensions,\n\u001b[0;32m    234\u001b[0m )\n\u001b[0;32m    235\u001b[0m \u001b[38;5;28;01mwith\u001b[39;00m map_httpcore_exceptions():\n\u001b[1;32m--> 236\u001b[0m     resp \u001b[38;5;241m=\u001b[39m \u001b[38;5;28;43mself\u001b[39;49m\u001b[38;5;241;43m.\u001b[39;49m\u001b[43m_pool\u001b[49m\u001b[38;5;241;43m.\u001b[39;49m\u001b[43mhandle_request\u001b[49m\u001b[43m(\u001b[49m\u001b[43mreq\u001b[49m\u001b[43m)\u001b[49m\n\u001b[0;32m    238\u001b[0m \u001b[38;5;28;01massert\u001b[39;00m \u001b[38;5;28misinstance\u001b[39m(resp\u001b[38;5;241m.\u001b[39mstream, typing\u001b[38;5;241m.\u001b[39mIterable)\n\u001b[0;32m    240\u001b[0m \u001b[38;5;28;01mreturn\u001b[39;00m Response(\n\u001b[0;32m    241\u001b[0m     status_code\u001b[38;5;241m=\u001b[39mresp\u001b[38;5;241m.\u001b[39mstatus,\n\u001b[0;32m    242\u001b[0m     headers\u001b[38;5;241m=\u001b[39mresp\u001b[38;5;241m.\u001b[39mheaders,\n\u001b[0;32m    243\u001b[0m     stream\u001b[38;5;241m=\u001b[39mResponseStream(resp\u001b[38;5;241m.\u001b[39mstream),\n\u001b[0;32m    244\u001b[0m     extensions\u001b[38;5;241m=\u001b[39mresp\u001b[38;5;241m.\u001b[39mextensions,\n\u001b[0;32m    245\u001b[0m )\n",
      "File \u001b[1;32mc:\\Python Projects\\DocumentarIA\\.venv\\Lib\\site-packages\\httpcore\\_sync\\connection_pool.py:216\u001b[0m, in \u001b[0;36mConnectionPool.handle_request\u001b[1;34m(self, request)\u001b[0m\n\u001b[0;32m    213\u001b[0m         closing \u001b[38;5;241m=\u001b[39m \u001b[38;5;28mself\u001b[39m\u001b[38;5;241m.\u001b[39m_assign_requests_to_connections()\n\u001b[0;32m    215\u001b[0m     \u001b[38;5;28mself\u001b[39m\u001b[38;5;241m.\u001b[39m_close_connections(closing)\n\u001b[1;32m--> 216\u001b[0m     \u001b[38;5;28;01mraise\u001b[39;00m exc \u001b[38;5;28;01mfrom\u001b[39;00m \u001b[38;5;28;01mNone\u001b[39;00m\n\u001b[0;32m    218\u001b[0m \u001b[38;5;66;03m# Return the response. Note that in this case we still have to manage\u001b[39;00m\n\u001b[0;32m    219\u001b[0m \u001b[38;5;66;03m# the point at which the response is closed.\u001b[39;00m\n\u001b[0;32m    220\u001b[0m \u001b[38;5;28;01massert\u001b[39;00m \u001b[38;5;28misinstance\u001b[39m(response\u001b[38;5;241m.\u001b[39mstream, Iterable)\n",
      "File \u001b[1;32mc:\\Python Projects\\DocumentarIA\\.venv\\Lib\\site-packages\\httpcore\\_sync\\connection_pool.py:196\u001b[0m, in \u001b[0;36mConnectionPool.handle_request\u001b[1;34m(self, request)\u001b[0m\n\u001b[0;32m    192\u001b[0m connection \u001b[38;5;241m=\u001b[39m pool_request\u001b[38;5;241m.\u001b[39mwait_for_connection(timeout\u001b[38;5;241m=\u001b[39mtimeout)\n\u001b[0;32m    194\u001b[0m \u001b[38;5;28;01mtry\u001b[39;00m:\n\u001b[0;32m    195\u001b[0m     \u001b[38;5;66;03m# Send the request on the assigned connection.\u001b[39;00m\n\u001b[1;32m--> 196\u001b[0m     response \u001b[38;5;241m=\u001b[39m \u001b[43mconnection\u001b[49m\u001b[38;5;241;43m.\u001b[39;49m\u001b[43mhandle_request\u001b[49m\u001b[43m(\u001b[49m\n\u001b[0;32m    197\u001b[0m \u001b[43m        \u001b[49m\u001b[43mpool_request\u001b[49m\u001b[38;5;241;43m.\u001b[39;49m\u001b[43mrequest\u001b[49m\n\u001b[0;32m    198\u001b[0m \u001b[43m    \u001b[49m\u001b[43m)\u001b[49m\n\u001b[0;32m    199\u001b[0m \u001b[38;5;28;01mexcept\u001b[39;00m ConnectionNotAvailable:\n\u001b[0;32m    200\u001b[0m     \u001b[38;5;66;03m# In some cases a connection may initially be available to\u001b[39;00m\n\u001b[0;32m    201\u001b[0m     \u001b[38;5;66;03m# handle a request, but then become unavailable.\u001b[39;00m\n\u001b[0;32m    202\u001b[0m     \u001b[38;5;66;03m#\u001b[39;00m\n\u001b[0;32m    203\u001b[0m     \u001b[38;5;66;03m# In this case we clear the connection and try again.\u001b[39;00m\n\u001b[0;32m    204\u001b[0m     pool_request\u001b[38;5;241m.\u001b[39mclear_connection()\n",
      "File \u001b[1;32mc:\\Python Projects\\DocumentarIA\\.venv\\Lib\\site-packages\\httpcore\\_sync\\connection.py:101\u001b[0m, in \u001b[0;36mHTTPConnection.handle_request\u001b[1;34m(self, request)\u001b[0m\n\u001b[0;32m     98\u001b[0m     \u001b[38;5;28mself\u001b[39m\u001b[38;5;241m.\u001b[39m_connect_failed \u001b[38;5;241m=\u001b[39m \u001b[38;5;28;01mTrue\u001b[39;00m\n\u001b[0;32m     99\u001b[0m     \u001b[38;5;28;01mraise\u001b[39;00m exc\n\u001b[1;32m--> 101\u001b[0m \u001b[38;5;28;01mreturn\u001b[39;00m \u001b[38;5;28;43mself\u001b[39;49m\u001b[38;5;241;43m.\u001b[39;49m\u001b[43m_connection\u001b[49m\u001b[38;5;241;43m.\u001b[39;49m\u001b[43mhandle_request\u001b[49m\u001b[43m(\u001b[49m\u001b[43mrequest\u001b[49m\u001b[43m)\u001b[49m\n",
      "File \u001b[1;32mc:\\Python Projects\\DocumentarIA\\.venv\\Lib\\site-packages\\httpcore\\_sync\\http11.py:143\u001b[0m, in \u001b[0;36mHTTP11Connection.handle_request\u001b[1;34m(self, request)\u001b[0m\n\u001b[0;32m    141\u001b[0m     \u001b[38;5;28;01mwith\u001b[39;00m Trace(\u001b[38;5;124m\"\u001b[39m\u001b[38;5;124mresponse_closed\u001b[39m\u001b[38;5;124m\"\u001b[39m, logger, request) \u001b[38;5;28;01mas\u001b[39;00m trace:\n\u001b[0;32m    142\u001b[0m         \u001b[38;5;28mself\u001b[39m\u001b[38;5;241m.\u001b[39m_response_closed()\n\u001b[1;32m--> 143\u001b[0m \u001b[38;5;28;01mraise\u001b[39;00m exc\n",
      "File \u001b[1;32mc:\\Python Projects\\DocumentarIA\\.venv\\Lib\\site-packages\\httpcore\\_sync\\http11.py:113\u001b[0m, in \u001b[0;36mHTTP11Connection.handle_request\u001b[1;34m(self, request)\u001b[0m\n\u001b[0;32m    102\u001b[0m     \u001b[38;5;28;01mpass\u001b[39;00m\n\u001b[0;32m    104\u001b[0m \u001b[38;5;28;01mwith\u001b[39;00m Trace(\n\u001b[0;32m    105\u001b[0m     \u001b[38;5;124m\"\u001b[39m\u001b[38;5;124mreceive_response_headers\u001b[39m\u001b[38;5;124m\"\u001b[39m, logger, request, kwargs\n\u001b[0;32m    106\u001b[0m ) \u001b[38;5;28;01mas\u001b[39;00m trace:\n\u001b[0;32m    107\u001b[0m     (\n\u001b[0;32m    108\u001b[0m         http_version,\n\u001b[0;32m    109\u001b[0m         status,\n\u001b[0;32m    110\u001b[0m         reason_phrase,\n\u001b[0;32m    111\u001b[0m         headers,\n\u001b[0;32m    112\u001b[0m         trailing_data,\n\u001b[1;32m--> 113\u001b[0m     ) \u001b[38;5;241m=\u001b[39m \u001b[38;5;28;43mself\u001b[39;49m\u001b[38;5;241;43m.\u001b[39;49m\u001b[43m_receive_response_headers\u001b[49m\u001b[43m(\u001b[49m\u001b[38;5;241;43m*\u001b[39;49m\u001b[38;5;241;43m*\u001b[39;49m\u001b[43mkwargs\u001b[49m\u001b[43m)\u001b[49m\n\u001b[0;32m    114\u001b[0m     trace\u001b[38;5;241m.\u001b[39mreturn_value \u001b[38;5;241m=\u001b[39m (\n\u001b[0;32m    115\u001b[0m         http_version,\n\u001b[0;32m    116\u001b[0m         status,\n\u001b[0;32m    117\u001b[0m         reason_phrase,\n\u001b[0;32m    118\u001b[0m         headers,\n\u001b[0;32m    119\u001b[0m     )\n\u001b[0;32m    121\u001b[0m network_stream \u001b[38;5;241m=\u001b[39m \u001b[38;5;28mself\u001b[39m\u001b[38;5;241m.\u001b[39m_network_stream\n",
      "File \u001b[1;32mc:\\Python Projects\\DocumentarIA\\.venv\\Lib\\site-packages\\httpcore\\_sync\\http11.py:186\u001b[0m, in \u001b[0;36mHTTP11Connection._receive_response_headers\u001b[1;34m(self, request)\u001b[0m\n\u001b[0;32m    183\u001b[0m timeout \u001b[38;5;241m=\u001b[39m timeouts\u001b[38;5;241m.\u001b[39mget(\u001b[38;5;124m\"\u001b[39m\u001b[38;5;124mread\u001b[39m\u001b[38;5;124m\"\u001b[39m, \u001b[38;5;28;01mNone\u001b[39;00m)\n\u001b[0;32m    185\u001b[0m \u001b[38;5;28;01mwhile\u001b[39;00m \u001b[38;5;28;01mTrue\u001b[39;00m:\n\u001b[1;32m--> 186\u001b[0m     event \u001b[38;5;241m=\u001b[39m \u001b[38;5;28;43mself\u001b[39;49m\u001b[38;5;241;43m.\u001b[39;49m\u001b[43m_receive_event\u001b[49m\u001b[43m(\u001b[49m\u001b[43mtimeout\u001b[49m\u001b[38;5;241;43m=\u001b[39;49m\u001b[43mtimeout\u001b[49m\u001b[43m)\u001b[49m\n\u001b[0;32m    187\u001b[0m     \u001b[38;5;28;01mif\u001b[39;00m \u001b[38;5;28misinstance\u001b[39m(event, h11\u001b[38;5;241m.\u001b[39mResponse):\n\u001b[0;32m    188\u001b[0m         \u001b[38;5;28;01mbreak\u001b[39;00m\n",
      "File \u001b[1;32mc:\\Python Projects\\DocumentarIA\\.venv\\Lib\\site-packages\\httpcore\\_sync\\http11.py:224\u001b[0m, in \u001b[0;36mHTTP11Connection._receive_event\u001b[1;34m(self, timeout)\u001b[0m\n\u001b[0;32m    221\u001b[0m     event \u001b[38;5;241m=\u001b[39m \u001b[38;5;28mself\u001b[39m\u001b[38;5;241m.\u001b[39m_h11_state\u001b[38;5;241m.\u001b[39mnext_event()\n\u001b[0;32m    223\u001b[0m \u001b[38;5;28;01mif\u001b[39;00m event \u001b[38;5;129;01mis\u001b[39;00m h11\u001b[38;5;241m.\u001b[39mNEED_DATA:\n\u001b[1;32m--> 224\u001b[0m     data \u001b[38;5;241m=\u001b[39m \u001b[38;5;28;43mself\u001b[39;49m\u001b[38;5;241;43m.\u001b[39;49m\u001b[43m_network_stream\u001b[49m\u001b[38;5;241;43m.\u001b[39;49m\u001b[43mread\u001b[49m\u001b[43m(\u001b[49m\n\u001b[0;32m    225\u001b[0m \u001b[43m        \u001b[49m\u001b[38;5;28;43mself\u001b[39;49m\u001b[38;5;241;43m.\u001b[39;49m\u001b[43mREAD_NUM_BYTES\u001b[49m\u001b[43m,\u001b[49m\u001b[43m \u001b[49m\u001b[43mtimeout\u001b[49m\u001b[38;5;241;43m=\u001b[39;49m\u001b[43mtimeout\u001b[49m\n\u001b[0;32m    226\u001b[0m \u001b[43m    \u001b[49m\u001b[43m)\u001b[49m\n\u001b[0;32m    228\u001b[0m     \u001b[38;5;66;03m# If we feed this case through h11 we'll raise an exception like:\u001b[39;00m\n\u001b[0;32m    229\u001b[0m     \u001b[38;5;66;03m#\u001b[39;00m\n\u001b[0;32m    230\u001b[0m     \u001b[38;5;66;03m#     httpcore.RemoteProtocolError: can't handle event type\u001b[39;00m\n\u001b[1;32m   (...)\u001b[0m\n\u001b[0;32m    234\u001b[0m     \u001b[38;5;66;03m# perspective. Instead we handle this case distinctly and treat\u001b[39;00m\n\u001b[0;32m    235\u001b[0m     \u001b[38;5;66;03m# it as a ConnectError.\u001b[39;00m\n\u001b[0;32m    236\u001b[0m     \u001b[38;5;28;01mif\u001b[39;00m data \u001b[38;5;241m==\u001b[39m \u001b[38;5;124mb\u001b[39m\u001b[38;5;124m\"\u001b[39m\u001b[38;5;124m\"\u001b[39m \u001b[38;5;129;01mand\u001b[39;00m \u001b[38;5;28mself\u001b[39m\u001b[38;5;241m.\u001b[39m_h11_state\u001b[38;5;241m.\u001b[39mtheir_state \u001b[38;5;241m==\u001b[39m h11\u001b[38;5;241m.\u001b[39mSEND_RESPONSE:\n",
      "File \u001b[1;32mc:\\Python Projects\\DocumentarIA\\.venv\\Lib\\site-packages\\httpcore\\_backends\\sync.py:126\u001b[0m, in \u001b[0;36mSyncStream.read\u001b[1;34m(self, max_bytes, timeout)\u001b[0m\n\u001b[0;32m    124\u001b[0m \u001b[38;5;28;01mwith\u001b[39;00m map_exceptions(exc_map):\n\u001b[0;32m    125\u001b[0m     \u001b[38;5;28mself\u001b[39m\u001b[38;5;241m.\u001b[39m_sock\u001b[38;5;241m.\u001b[39msettimeout(timeout)\n\u001b[1;32m--> 126\u001b[0m     \u001b[38;5;28;01mreturn\u001b[39;00m \u001b[38;5;28;43mself\u001b[39;49m\u001b[38;5;241;43m.\u001b[39;49m\u001b[43m_sock\u001b[49m\u001b[38;5;241;43m.\u001b[39;49m\u001b[43mrecv\u001b[49m\u001b[43m(\u001b[49m\u001b[43mmax_bytes\u001b[49m\u001b[43m)\u001b[49m\n",
      "File \u001b[1;32mC:\\Program Files\\Python\\Lib\\ssl.py:1263\u001b[0m, in \u001b[0;36mSSLSocket.recv\u001b[1;34m(self, buflen, flags)\u001b[0m\n\u001b[0;32m   1259\u001b[0m     \u001b[38;5;28;01mif\u001b[39;00m flags \u001b[38;5;241m!=\u001b[39m \u001b[38;5;241m0\u001b[39m:\n\u001b[0;32m   1260\u001b[0m         \u001b[38;5;28;01mraise\u001b[39;00m \u001b[38;5;167;01mValueError\u001b[39;00m(\n\u001b[0;32m   1261\u001b[0m             \u001b[38;5;124m\"\u001b[39m\u001b[38;5;124mnon-zero flags not allowed in calls to recv() on \u001b[39m\u001b[38;5;132;01m%s\u001b[39;00m\u001b[38;5;124m\"\u001b[39m \u001b[38;5;241m%\u001b[39m\n\u001b[0;32m   1262\u001b[0m             \u001b[38;5;28mself\u001b[39m\u001b[38;5;241m.\u001b[39m\u001b[38;5;18m__class__\u001b[39m)\n\u001b[1;32m-> 1263\u001b[0m     \u001b[38;5;28;01mreturn\u001b[39;00m \u001b[38;5;28;43mself\u001b[39;49m\u001b[38;5;241;43m.\u001b[39;49m\u001b[43mread\u001b[49m\u001b[43m(\u001b[49m\u001b[43mbuflen\u001b[49m\u001b[43m)\u001b[49m\n\u001b[0;32m   1264\u001b[0m \u001b[38;5;28;01melse\u001b[39;00m:\n\u001b[0;32m   1265\u001b[0m     \u001b[38;5;28;01mreturn\u001b[39;00m \u001b[38;5;28msuper\u001b[39m()\u001b[38;5;241m.\u001b[39mrecv(buflen, flags)\n",
      "File \u001b[1;32mC:\\Program Files\\Python\\Lib\\ssl.py:1136\u001b[0m, in \u001b[0;36mSSLSocket.read\u001b[1;34m(self, len, buffer)\u001b[0m\n\u001b[0;32m   1134\u001b[0m         \u001b[38;5;28;01mreturn\u001b[39;00m \u001b[38;5;28mself\u001b[39m\u001b[38;5;241m.\u001b[39m_sslobj\u001b[38;5;241m.\u001b[39mread(\u001b[38;5;28mlen\u001b[39m, buffer)\n\u001b[0;32m   1135\u001b[0m     \u001b[38;5;28;01melse\u001b[39;00m:\n\u001b[1;32m-> 1136\u001b[0m         \u001b[38;5;28;01mreturn\u001b[39;00m \u001b[38;5;28;43mself\u001b[39;49m\u001b[38;5;241;43m.\u001b[39;49m\u001b[43m_sslobj\u001b[49m\u001b[38;5;241;43m.\u001b[39;49m\u001b[43mread\u001b[49m\u001b[43m(\u001b[49m\u001b[38;5;28;43mlen\u001b[39;49m\u001b[43m)\u001b[49m\n\u001b[0;32m   1137\u001b[0m \u001b[38;5;28;01mexcept\u001b[39;00m SSLError \u001b[38;5;28;01mas\u001b[39;00m x:\n\u001b[0;32m   1138\u001b[0m     \u001b[38;5;28;01mif\u001b[39;00m x\u001b[38;5;241m.\u001b[39margs[\u001b[38;5;241m0\u001b[39m] \u001b[38;5;241m==\u001b[39m SSL_ERROR_EOF \u001b[38;5;129;01mand\u001b[39;00m \u001b[38;5;28mself\u001b[39m\u001b[38;5;241m.\u001b[39msuppress_ragged_eofs:\n",
      "\u001b[1;31mKeyboardInterrupt\u001b[0m: "
     ]
    }
   ],
   "source": [
    "# Prueba doc_editor.py\n",
    "\n",
    "from pathlib import Path\n",
    "from doc_editor import editar_doc\n",
    "\n",
    "\n",
    "# VARIABLES:\n",
    "nombre_fichero = 'TEST.pdf' # Debe incluir la extensión al final (.pptx, .docx o .pdf)\n",
    "\n",
    "color_to_exclude = '#FF0000' # poner en formato #F00000\n",
    "\n",
    "# Rutas de documentos a traducir y devolución\n",
    "input_path = f'test/in/{nombre_fichero}'\n",
    "output_path = f'test/out/Editado_{nombre_fichero}'\n",
    "extension = Path(nombre_fichero).suffix\n",
    "\n",
    "add_prompt = 'Pon todo el texto en mayúsculas'\n",
    "\n",
    "editar_doc(\n",
    "            input_path,\n",
    "            output_path,\n",
    "            extension,\n",
    "            color_to_exclude,\n",
    "            add_prompt\n",
    "        )"
   ]
  }
 ],
 "metadata": {
  "kernelspec": {
   "display_name": ".venv",
   "language": "python",
   "name": "python3"
  },
  "language_info": {
   "codemirror_mode": {
    "name": "ipython",
    "version": 3
   },
   "file_extension": ".py",
   "mimetype": "text/x-python",
   "name": "python",
   "nbconvert_exporter": "python",
   "pygments_lexer": "ipython3",
   "version": "3.11.4"
  }
 },
 "nbformat": 4,
 "nbformat_minor": 2
}
