{
 "cells": [
  {
   "cell_type": "code",
   "execution_count": 1,
   "metadata": {},
   "outputs": [
    {
     "name": "stdout",
     "output_type": "stream",
     "text": [
      "Solicitud exitosa!\n",
      "Archivo guardado como output.docx\n"
     ]
    }
   ],
   "source": [
    "import requests\n",
    "\n",
    "# URL del servicio Flask\n",
    "url = \"http://localhost:5000/generate\"\n",
    "\n",
    "# Datos a enviar\n",
    "data = {\n",
    "    \"prompt\": \"Este es un ejemplo de generación de documentos.\",\n",
    "    \"file_type\": \"docx\"\n",
    "}\n",
    "\n",
    "try:\n",
    "    # Realizar la solicitud POST\n",
    "    response = requests.post(url, json=data)\n",
    "\n",
    "    # Verificar el estado de la respuesta\n",
    "    if response.status_code == 200:\n",
    "        print(\"Solicitud exitosa!\")\n",
    "        # Si la respuesta incluye un archivo, puedes guardarlo\n",
    "        with open(\"output.docx\", \"wb\") as f:\n",
    "            f.write(response.content)\n",
    "        print(\"Archivo guardado como output.docx\")\n",
    "    else:\n",
    "        print(f\"Error {response.status_code}: {response.text}\")\n",
    "except requests.exceptions.RequestException as e:\n",
    "    print(f\"Error al conectar con la API: {e}\")"
   ]
  },
  {
   "cell_type": "code",
   "execution_count": 1,
   "metadata": {},
   "outputs": [
    {
     "name": "stdout",
     "output_type": "stream",
     "text": [
      "[H1]La Cèl·lula: Unitat Bàsica de la Vida[/H1]\n",
      "[H2]Què és una cèl·lula?[/H2]\n",
      "[B]La cèl·lula és l'unitat bàsica de la vida[/B]. Tots els éssers vius estan compostos per una o més cèl·lules. [COLOR:blue]Les cèl·lules són les unitats bàsiques de la vida[/COLOR], i tots els processos biològics ocorren dins elles.\n",
      "\n",
      "[PAGEBREAK]\n",
      "\n",
      "[H1]Estructura de la Cèl·lula[/H1]\n",
      "[H2] Components de la cèl·lula [/H2]\n",
      "[TABLE]\n",
      "Membrana cel·lular;Citoplasma;Nuclè\n",
      "Descripció;Funció;Funció\n",
      "Membrana que protegeix la cèl·lula;Gelatina on es troben orgànuls|Conté material genètic\n",
      "[/TABLE]\n",
      "[H2]Orgànuls cel·lulars[/H2]\n",
      "[B]Les cèl·lules contenen orgànuls específics[/B] que realitzen funcions concretes. [COLOR:blue]El nuclè conté el material genètic[/COLOR], mentre que el [COLOR:blue]mitocondri és responsable de la respiració cel·lular[/COLOR].\n",
      "\n",
      "[PAGEBREAK]\n",
      "\n",
      "[H1]Funcions Cel·lulars[/H1]\n",
      "[H2] Processos cel·lulars [/H2]\n",
      "[TABLE]\n",
      " Fotosíntesi; Crescuda i desenvolupament; Divisió cel·lular\n",
      " Producció de glucosa; Crecuda i evolució de la cèl·lula; Reproducció cel·lular\n",
      "[/TABLE]\n",
      "[H2] Relacions entre cèl·lules [/H2]\n",
      "[B]Les cèl·lules són les unitats bàsiques de la vida[/B], però també interactuen entre elles. [COLOR:blue]Les relacions entre cèl·lules són fundamentals per a la vida[/COLOR]. Les cèl·lules es comuniquen i cooperen per realitzar funcions complexes.\n",
      "\n",
      "[PAGEBREAK]\n",
      "\n",
      "[H1]Exercicis o Preguntes[/H1]\n",
      "[H2] Test de Coneixements [/H2]\n",
      "1. Què és la cèl·lula?\n",
      "2. Quins són els components principals de la cèl·lula?\n",
      "3. Quina és la funció del nuclè?\n",
      "4. Quina és la funció del mitocondri?\n",
      "5. Quins són els processos cel·lulars principals?\n"
     ]
    },
    {
     "data": {
      "text/plain": [
       "'C:/Python Projects/DocumentarIA/test/out/document.pptx'"
      ]
     },
     "execution_count": 1,
     "metadata": {},
     "output_type": "execute_result"
    }
   ],
   "source": [
    "from doc_generate import generate_and_create_file\n",
    "\n",
    "output = 'C:/Python Projects/DocumentarIA/test/out/document.docx'\n",
    "output2 = 'C:/Python Projects/DocumentarIA/test/out/document.pptx'\n",
    "prompt = 'Genera un programa educatiu en català amb contingut específic de ciències per una classe de secundària. Inclou taules. El tema en questió és la cèlula. Vull 3 pàgines de contingut, amb diferents apartats i una pàgina amb exercicis o preguntes.Destaca paraules clau en color blau.'\n",
    "\n",
    "\n",
    "#generate_and_create_file(prompt,file_type='docx',output=output)\n",
    "generate_and_create_file(prompt,file_type='pptx',output=output2)\n"
   ]
  },
  {
   "cell_type": "code",
   "execution_count": 1,
   "metadata": {},
   "outputs": [
    {
     "ename": "ModuleNotFoundError",
     "evalue": "No module named 'process_text_reader'",
     "output_type": "error",
     "traceback": [
      "\u001b[1;31m---------------------------------------------------------------------------\u001b[0m",
      "\u001b[1;31mModuleNotFoundError\u001b[0m                       Traceback (most recent call last)",
      "Cell \u001b[1;32mIn[1], line 1\u001b[0m\n\u001b[1;32m----> 1\u001b[0m \u001b[38;5;28;01mfrom\u001b[39;00m \u001b[38;5;21;01mservice_analyze\u001b[39;00m\u001b[38;5;21;01m.\u001b[39;00m\u001b[38;5;21;01mdoc_analyze\u001b[39;00m \u001b[38;5;28;01mimport\u001b[39;00m extract_info_from_docs\n\u001b[0;32m      3\u001b[0m \u001b[38;5;28minput\u001b[39m \u001b[38;5;241m=\u001b[39m [\u001b[38;5;124m'\u001b[39m\u001b[38;5;124mC:/Python Projects/DocumentarIA/test/in/extract_in/pdf_largo.pdf\u001b[39m\u001b[38;5;124m'\u001b[39m]\n\u001b[0;32m      4\u001b[0m output \u001b[38;5;241m=\u001b[39m \u001b[38;5;124m'\u001b[39m\u001b[38;5;124mC:/Python Projects/DocumentarIA/test/in/extract_out/pdf_largo.json\u001b[39m\u001b[38;5;124m'\u001b[39m\n",
      "File \u001b[1;32mc:\\Python Projects\\DocumentarIA\\service_analyze\\doc_analyze.py:6\u001b[0m\n\u001b[0;32m      4\u001b[0m \u001b[38;5;28;01mfrom\u001b[39;00m \u001b[38;5;21;01mgroq\u001b[39;00m \u001b[38;5;28;01mimport\u001b[39;00m Groq\n\u001b[0;32m      5\u001b[0m \u001b[38;5;28;01mimport\u001b[39;00m \u001b[38;5;21;01mjson\u001b[39;00m\n\u001b[1;32m----> 6\u001b[0m \u001b[38;5;28;01mfrom\u001b[39;00m \u001b[38;5;21;01mprocess_text_reader\u001b[39;00m \u001b[38;5;28;01mimport\u001b[39;00m read_document, split_text\n\u001b[0;32m      8\u001b[0m \u001b[38;5;66;03m# Funcions específiques per extreure dades en format JSON d'un arxiu a base de prompts i check de la resposta.\u001b[39;00m\n\u001b[0;32m     10\u001b[0m tipos_respuesta \u001b[38;5;241m=\u001b[39m [\u001b[38;5;124m\"\u001b[39m\u001b[38;5;124mSI/NO\u001b[39m\u001b[38;5;124m\"\u001b[39m,\u001b[38;5;124m\"\u001b[39m\u001b[38;5;124mtext\u001b[39m\u001b[38;5;124m\"\u001b[39m,\u001b[38;5;124m\"\u001b[39m\u001b[38;5;124mnum\u001b[39m\u001b[38;5;124m\"\u001b[39m,\u001b[38;5;124m\"\u001b[39m\u001b[38;5;124mdate\u001b[39m\u001b[38;5;124m\"\u001b[39m]\n",
      "\u001b[1;31mModuleNotFoundError\u001b[0m: No module named 'process_text_reader'"
     ]
    }
   ],
   "source": [
    "from service_analyze.doc_analyze import extract_info_from_docs\n",
    "\n",
    "input = ['C:/Python Projects/DocumentarIA/test/in/extract_in/pdf_largo.pdf']\n",
    "output = 'C:/Python Projects/DocumentarIA/test/in/extract_out/pdf_largo.json'\n",
    "\n",
    "prompts = ['Año del documento?', 'Resumen en 3 palabras del documento']\n",
    "tipos = ['num', 'text']\n",
    "\n",
    "extract_info_from_docs(input,output,prompts,tipos)\n"
   ]
  },
  {
   "cell_type": "code",
   "execution_count": 1,
   "metadata": {},
   "outputs": [
    {
     "ename": "ModuleNotFoundError",
     "evalue": "No module named 'process_text_editor'",
     "output_type": "error",
     "traceback": [
      "\u001b[1;31m---------------------------------------------------------------------------\u001b[0m",
      "\u001b[1;31mModuleNotFoundError\u001b[0m                       Traceback (most recent call last)",
      "Cell \u001b[1;32mIn[1], line 1\u001b[0m\n\u001b[1;32m----> 1\u001b[0m \u001b[38;5;28;01mfrom\u001b[39;00m \u001b[38;5;21;01mservice_edit\u001b[39;00m\u001b[38;5;21;01m.\u001b[39;00m\u001b[38;5;21;01mdoc_edit\u001b[39;00m \u001b[38;5;28;01mimport\u001b[39;00m editar_doc\n\u001b[0;32m      3\u001b[0m \u001b[38;5;66;03m# Ruta de entrada y salida (cambiar según sea necesario)\u001b[39;00m\n\u001b[0;32m      4\u001b[0m input_path \u001b[38;5;241m=\u001b[39m \u001b[38;5;124m\"\u001b[39m\u001b[38;5;124mwebsite/test/in/song.txt\u001b[39m\u001b[38;5;124m\"\u001b[39m  \u001b[38;5;66;03m# Cambia la ruta de acuerdo a tu archivo de entrada\u001b[39;00m\n",
      "File \u001b[1;32mc:\\Python Projects\\DocumentarIA\\service_edit\\doc_edit.py:5\u001b[0m\n\u001b[0;32m      2\u001b[0m \u001b[38;5;28;01mimport\u001b[39;00m \u001b[38;5;21;01mre\u001b[39;00m\n\u001b[0;32m      4\u001b[0m \u001b[38;5;66;03m# Cargamos las funciones de procesado de documento, que se usan para editar o traducir\u001b[39;00m\n\u001b[1;32m----> 5\u001b[0m \u001b[38;5;28;01mfrom\u001b[39;00m \u001b[38;5;21;01mprocess_text_editor\u001b[39;00m \u001b[38;5;28;01mimport\u001b[39;00m Modify_Diccionarios, Modify_Bloques, DOCX_process, PPTX_process, Excel_process, PDF_process, TXT_process, HTML_process,Validar_Bloques\n\u001b[0;32m      7\u001b[0m \u001b[38;5;66;03m# Funcions específiques de l'edició de documents. Prompting i model IA.\u001b[39;00m\n\u001b[0;32m      9\u001b[0m \u001b[38;5;28;01mclass\u001b[39;00m \u001b[38;5;21;01mAplicar_Modelo\u001b[39;00m:\n\u001b[0;32m     10\u001b[0m \n\u001b[0;32m     11\u001b[0m     \u001b[38;5;66;03m#  Función genérica para traducir con IA, con soporte para contexto\u001b[39;00m\n",
      "\u001b[1;31mModuleNotFoundError\u001b[0m: No module named 'process_text_editor'"
     ]
    }
   ],
   "source": [
    "from service_edit.doc_edit import editar_doc\n",
    "\n",
    "# Ruta de entrada y salida (cambiar según sea necesario)\n",
    "input_path = \"website/test/in/song.txt\"  # Cambia la ruta de acuerdo a tu archivo de entrada\n",
    "output_path =  \"website/test/in/song.txt\"   # Cambia la ruta de acuerdo a tu archivo de salida\n",
    "extension = \".txt\"  # Cambia según el tipo de documento\n",
    "color_to_exclude = None  # Cambia según sea necesario\n",
    "add_prompt = \"Todo en mayúsculas.\"  # Cambia según sea necesario\n",
    "\n",
    "# Llamar a la función para probar\n",
    "editar_doc(input_path, output_path, extension, color_to_exclude, add_prompt)"
   ]
  }
 ],
 "metadata": {
  "kernelspec": {
   "display_name": ".venv",
   "language": "python",
   "name": "python3"
  },
  "language_info": {
   "codemirror_mode": {
    "name": "ipython",
    "version": 3
   },
   "file_extension": ".py",
   "mimetype": "text/x-python",
   "name": "python",
   "nbconvert_exporter": "python",
   "pygments_lexer": "ipython3",
   "version": "3.11.4"
  }
 },
 "nbformat": 4,
 "nbformat_minor": 2
}
