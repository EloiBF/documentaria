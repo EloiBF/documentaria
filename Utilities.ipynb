{
 "cells": [
  {
   "cell_type": "code",
   "execution_count": 1,
   "metadata": {},
   "outputs": [
    {
     "name": "stdout",
     "output_type": "stream",
     "text": [
      "Contenido de templates/serv_extract_progress.html:\n",
      "<!DOCTYPE html>\n",
      "<html>\n",
      "<head>\n",
      "    <title>Progreso de Extracción</title>\n",
      "    <script src=\"https://code.jquery.com/jquery-3.6.0.min.js\"></script>\n",
      "    <script>\n",
      "        function checkProgress() {\n",
      "            $.ajax({\n",
      "                url: \"{{ url_for('check_progress_extract', filename=filename) }}\",\n",
      "                type: \"GET\",\n",
      "                success: function(status) {\n",
      "                    $(\"#progress-status\").text(status);\n",
      "\n",
      "                    if (status === \"completed\") {\n",
      "                        clearInterval(interval);\n",
      "                        window.location.href = \"{{ url_for('result_extract', filename=filename) }}\";\n",
      "                    }\n",
      "                },\n",
      "                error: function() {\n",
      "                    console.error(\"Error al verificar el progreso.\");\n",
      "                }\n",
      "            });\n",
      "        }\n",
      "\n",
      "        $(document).ready(function() {\n",
      "            // Verificar el progreso cada 5 segundos\n",
      "            var interval = setInterval(checkProgress, 5000);\n",
      "        });\n",
      "    </script>\n",
      "</head>\n",
      "<body>\n",
      "    <h1>Progreso de Extracción</h1>\n",
      "    <table>\n",
      "        <thead>\n",
      "            <tr>\n",
      "                <th>Archivo</th>\n",
      "                <th>Estado</th>\n",
      "            </tr>\n",
      "        </thead>\n",
      "        <tbody>\n",
      "            <tr>\n",
      "                <td>{{ filename }}</td>\n",
      "                <td id=\"progress-status\">in_progress</td>\n",
      "            </tr>\n",
      "        </tbody>\n",
      "    </table>\n",
      "    <p>Actualizando progreso...</p>\n",
      "</body>\n",
      "</html>\n",
      "\n",
      "\n",
      "========================================\n",
      "\n",
      "Contenido de templates/serv_extract_result.html:\n",
      "<!DOCTYPE html>\n",
      "<html lang=\"es\">\n",
      "<head>\n",
      "    <meta charset=\"UTF-8\">\n",
      "    <meta name=\"viewport\" content=\"width=device-width, initial-scale=1.0\">\n",
      "    <title>Resultados de la Extracción de Información</title>\n",
      "</head>\n",
      "<body>\n",
      "    <h1>Resultados de la Extracción de Información</h1>\n",
      "    \n",
      "    {% if resultados %}\n",
      "        <table border=\"1\">\n",
      "            <thead>\n",
      "                <tr>\n",
      "                    <th>Archivo</th>\n",
      "                    <th>Pregunta</th>\n",
      "                    <th>Respuesta</th>\n",
      "                </tr>\n",
      "            </thead>\n",
      "            <tbody>\n",
      "                {% for pregunta, respuesta in resultados.items() %}\n",
      "                    <tr>\n",
      "                        <td>{{ filename }}</td>\n",
      "                        <td>{{ pregunta }}</td>\n",
      "                        <td>{{ respuesta if respuesta else 'No disponible' }}</td>\n",
      "                    </tr>\n",
      "                {% endfor %}\n",
      "            </tbody>\n",
      "        </table>\n",
      "    {% else %}\n",
      "        <p>No se han encontrado resultados.</p>\n",
      "    {% endif %}\n",
      "</body>\n",
      "</html>\n",
      "\n",
      "\n",
      "========================================\n",
      "\n"
     ]
    }
   ],
   "source": [
    "# Copiar código para ChatGPT\n",
    "\n",
    "# Códigos Front\n",
    "archivos_scripts = [\n",
    "    #\"app.py\",\n",
    "    #\"templates/index.html\",\n",
    "    #\"templates/serv_translate.html\",\n",
    "    #\"templates/serv_translate_progress.html\",\n",
    "    #\"templates/serv_translate_result.html\",\n",
    "    \"templates/serv_extract_progress.html\",\n",
    "    \"templates/serv_extract_result.html\",\n",
    "    #\"templates/serv_transcribe_progress.html\",\n",
    "    #\"templates/serv_edit_progress.html\",\n",
    "    #\"templates/serv_summary_progress.html\",\n",
    "\n",
    "    #\"templates/serv_translate_result.html\",\n",
    "]\n",
    "\n",
    "def imprimir_contenido_archivos(lista_archivos):\n",
    "    for archivo in lista_archivos:\n",
    "        try:\n",
    "            with open(archivo, 'r', encoding='utf-8') as file:\n",
    "                print(f\"Contenido de {archivo}:\")\n",
    "                print(file.read())\n",
    "                print(\"\\n\" + \"=\"*40 + \"\\n\")\n",
    "        except FileNotFoundError:\n",
    "            print(f\"El archivo {archivo} no se encuentra.\")\n",
    "        except IOError as e:\n",
    "            print(f\"Error al leer el archivo {archivo}: {e}\")\n",
    "\n",
    "# Llamar a la función con la lista de archivos\n",
    "imprimir_contenido_archivos(archivos_scripts)"
   ]
  },
  {
   "cell_type": "code",
   "execution_count": null,
   "metadata": {},
   "outputs": [],
   "source": [
    "# Copiar código para ChatGPT\n",
    "\n",
    "# Códigos Front\n",
    "archivos_scripts = [\n",
    "    \"app.py\",\n",
    "    \"doc_translator.py\",\n",
    "]\n",
    "\n",
    "def imprimir_contenido_archivos(lista_archivos):\n",
    "    for archivo in lista_archivos:\n",
    "        try:\n",
    "            with open(archivo, 'r', encoding='utf-8') as file:\n",
    "                print(f\"Contenido de {archivo}:\")\n",
    "                print(file.read())\n",
    "                print(\"\\n\" + \"=\"*40 + \"\\n\")\n",
    "        except FileNotFoundError:\n",
    "            print(f\"El archivo {archivo} no se encuentra.\")\n",
    "        except IOError as e:\n",
    "            print(f\"Error al leer el archivo {archivo}: {e}\")\n",
    "\n",
    "# Llamar a la función con la lista de archivos\n",
    "imprimir_contenido_archivos(archivos_scripts)\n"
   ]
  },
  {
   "cell_type": "code",
   "execution_count": null,
   "metadata": {},
   "outputs": [],
   "source": [
    "# Prueba Función Traducción\n",
    "\n",
    "from model_translator import translate_text\n",
    "\n",
    "translate_text(texto='Tradueix aquest text',origin_language='auto',destination_language='spanish', add_prompt=\"\" ,model='llama3-70b-8192', api_key_file='API_KEY.txt')"
   ]
  },
  {
   "cell_type": "code",
   "execution_count": null,
   "metadata": {},
   "outputs": [],
   "source": [
    "# Prueba Función Prompting\n",
    "\n",
    "from model_prompting import prompt_text\n",
    "\n",
    "prompt_text(texto='Avui he anat al parc que guai, ho fas super ve', add_prompt=\"Revisa aquest text reescriu-lo amb un to més formal\" ,model='llama3-70b-8192', api_key_file='API_KEY.txt')\n"
   ]
  },
  {
   "cell_type": "code",
   "execution_count": 1,
   "metadata": {},
   "outputs": [
    {
     "name": "stdout",
     "output_type": "stream",
     "text": [
      "Starting translation process for test/in/ejemplo.html\n",
      "Diccionario textos_originales\n",
      "{'000001': 'html', '000002': 'Ejemplo de HTML', '000003': 'body {\\n            font-family: Arial, sans-serif;\\n            line-height: 1.6;\\n            margin: 0;\\n            padding: 0;\\n            background-color: #f4f4f4;\\n        }\\n        header {\\n            background: #333;\\n            color: #fff;\\n            padding: 10px 0;\\n            text-align: center;\\n        }\\n        .container {\\n            width: 80%;\\n            margin: auto;\\n            overflow: hidden;\\n        }\\n        .main {\\n            padding: 20px;\\n            background: #fff;\\n            margin-top: 20px;\\n        }\\n        h1, h2 {\\n            color: #333;\\n        }\\n        ul {\\n            list-style: none;\\n            padding: 0;\\n        }\\n        ul li {\\n            background: #eee;\\n            margin: 5px 0;\\n            padding: 10px;\\n        }\\n        .footer {\\n            background: #333;\\n            color: #fff;\\n            text-align: center;\\n            padding: 10px 0;\\n            position: fixed;\\n            bottom: 0;\\n            width: 100%;\\n        }\\n        .highlight {\\n            color: #d9534f;\\n            font-weight: bold;\\n        }', '000004': 'Mi Página de Ejemplo', '000005': 'Bienvenido a mi página', '000006': 'Este es un párrafo de ejemplo para demostrar el uso de', '000007': 'estilos en línea', '000008': 'y otros elementos HTML.', '000009': 'Lista de Ejemplos', '000010': 'Elemento de lista 1', '000011': 'Elemento de lista 2', '000012': 'Elemento de lista 3', '000013': 'A continuación se muestra una tabla de ejemplo:', '000014': 'Encabezado 1', '000015': 'Encabezado 2', '000016': 'Celda 1', '000017': 'Celda 2', '000018': 'Celda 3', '000019': 'Celda 4', '000020': '© 2024 Mi Página de Ejemplo'}\n",
      "Diccionario textos_para_traducir\n",
      "{'000001': 'html', '000002': 'Ejemplo de HTML', '000003': 'body {\\n            font-family: Arial, sans-serif;\\n            line-height: 1.6;\\n            margin: 0;\\n            padding: 0;\\n            background-color: #f4f4f4;\\n        }\\n        header {\\n            background: #333;\\n            color: #fff;\\n            padding: 10px 0;\\n            text-align: center;\\n        }\\n        .container {\\n            width: 80%;\\n            margin: auto;\\n            overflow: hidden;\\n        }\\n        .main {\\n            padding: 20px;\\n            background: #fff;\\n            margin-top: 20px;\\n        }\\n        h1, h2 {\\n            color: #333;\\n        }\\n        ul {\\n            list-style: none;\\n            padding: 0;\\n        }\\n        ul li {\\n            background: #eee;\\n            margin: 5px 0;\\n            padding: 10px;\\n        }\\n        .footer {\\n            background: #333;\\n            color: #fff;\\n            text-align: center;\\n            padding: 10px 0;\\n            position: fixed;\\n            bottom: 0;\\n            width: 100%;\\n        }\\n        .highlight {\\n            color: #d9534f;\\n            font-weight: bold;\\n        }', '000004': 'Mi Página de Ejemplo', '000005': 'Bienvenido a mi página', '000006': 'Este es un párrafo de ejemplo para demostrar el uso de', '000007': 'estilos en línea', '000008': 'y otros elementos HTML.', '000009': 'Lista de Ejemplos', '000010': 'Elemento de lista 1', '000011': 'Elemento de lista 2', '000012': 'Elemento de lista 3', '000013': 'A continuación se muestra una tabla de ejemplo:', '000014': 'Encabezado 1', '000015': 'Encabezado 2', '000016': 'Celda 1', '000017': 'Celda 2', '000018': 'Celda 3', '000019': 'Celda 4', '000020': '© 2024 Mi Página de Ejemplo'}\n"
     ]
    },
    {
     "name": "stderr",
     "output_type": "stream",
     "text": [
      "[INFO] HTTP Request: POST https://api.groq.com/openai/v1/chat/completions \"HTTP/1.1 200 OK\"\n"
     ]
    },
    {
     "name": "stdout",
     "output_type": "stream",
     "text": [
      "Bloque original: (_CDTR_000001)html(_CDTR_000002)Ejemplo de HTML(_CDTR_000003)body {\n",
      "            font-family: Arial, sans-serif;\n",
      "            line-height: 1.6;\n",
      "            margin: 0;\n",
      "            padding: 0;\n",
      "            background-color: #f4f4f4;\n",
      "        }\n",
      "        header {\n",
      "            background: #333;\n",
      "            color: #fff;\n",
      "            padding: 10px 0;\n",
      "            text-align: center;\n",
      "        }\n",
      "        .container {\n",
      "            width: 80%;\n",
      "            margin: auto;\n",
      "            overflow: hidden;\n",
      "        }\n",
      "        .main {\n",
      "            padding: 20px;\n",
      "            background: #fff;\n",
      "            margin-top: 20px;\n",
      "        }\n",
      "        h1, h2 {\n",
      "            color: #333;\n",
      "        }\n",
      "        ul {\n",
      "            list-style: none;\n",
      "            padding: 0;\n",
      "        }\n",
      "        ul li {\n",
      "            background: #eee;\n",
      "            margin: 5px 0;\n",
      "            padding: 10px;\n",
      "        }\n",
      "        .footer {\n",
      "            background: #333;\n",
      "            color: #fff;\n",
      "            text-align: center;\n",
      "            padding: 10px 0;\n",
      "            position: fixed;\n",
      "            bottom: 0;\n",
      "            width: 100%;\n",
      "        }\n",
      "        .highlight {\n",
      "            color: #d9534f;\n",
      "            font-weight: bold;\n",
      "        }(_CDTR_000004)Mi Página de Ejemplo(_CDTR_000005)Bienvenido a mi página(_CDTR_000006)Este es un párrafo de ejemplo para demostrar el uso de(_CDTR_000007)estilos en línea(_CDTR_000008)y otros elementos HTML.(_CDTR_000009)Lista de Ejemplos(_CDTR_000010)Elemento de lista 1\n",
      "Bloque traducido: Here is the translation from Spanish to Italian:\n",
      "\n",
      "(_CDTR_000001)html(_CDTR_000002)Esempio di HTML(_CDTR_000003)body {\n",
      "            font-family: Arial, sans-serif;\n",
      "            line-height: 1.6;\n",
      "            margin: 0;\n",
      "            padding: 0;\n",
      "            background-color: #f4f4f4;\n",
      "        }\n",
      "        header {\n",
      "            background: #333;\n",
      "            color: #fff;\n",
      "            padding: 10px 0;\n",
      "            text-align: center;\n",
      "        }\n",
      "        .container {\n",
      "            width: 80%;\n",
      "            margin: auto;\n",
      "            overflow: hidden;\n",
      "        }\n",
      "        .main {\n",
      "            padding: 20px;\n",
      "            background: #fff;\n",
      "            margin-top: 20px;\n",
      "        }\n",
      "        h1, h2 {\n",
      "            color: #333;\n",
      "        }\n",
      "        ul {\n",
      "            list-style: none;\n",
      "            padding: 0;\n",
      "        }\n",
      "        ul li {\n",
      "            background: #eee;\n",
      "            margin: 5px 0;\n",
      "            padding: 10px;\n",
      "        }\n",
      "        .footer {\n",
      "            background: #333;\n",
      "            color: #fff;\n",
      "            text-align: center;\n",
      "            padding: 10px 0;\n",
      "            position: fixed;\n",
      "            bottom: 0;\n",
      "            width: 100%;\n",
      "        }\n",
      "        .highlight {\n",
      "            color: #d9534f;\n",
      "            font-weight: bold;\n",
      "        }(_CDTR_000004)La Mia Pagina di Esempio(_CDTR_000005)Benvenuto nella mia pagina(_CDTR_000006)Questo è un paragrafo di esempio per dimostrare l'uso di(_CDTR_000007)stili in linea(_CDTR_000008)e altri elementi HTML.(_CDTR_000009)Elenco di Esempi(_CDTR_000010)Elemento di lista 1\n"
     ]
    },
    {
     "name": "stderr",
     "output_type": "stream",
     "text": [
      "[INFO] HTTP Request: POST https://api.groq.com/openai/v1/chat/completions \"HTTP/1.1 200 OK\"\n"
     ]
    },
    {
     "name": "stdout",
     "output_type": "stream",
     "text": [
      "Bloque original: (_CDTR_000011)Elemento de lista 2(_CDTR_000012)Elemento de lista 3(_CDTR_000013)A continuación se muestra una tabla de ejemplo:(_CDTR_000014)Encabezado 1(_CDTR_000015)Encabezado 2(_CDTR_000016)Celda 1(_CDTR_000017)Celda 2(_CDTR_000018)Celda 3(_CDTR_000019)Celda 4(_CDTR_000020)© 2024 Mi Página de Ejemplo\n",
      "Bloque traducido: (_CDTR_000011)Elemento dell'elenco 2(_CDTR_000012)Elemento dell'elenco 3(_CDTR_000013)Di seguito viene mostrata una tabella di esempio:(_CDTR_000014)Intestazione 1(_CDTR_000015)Intestazione 2(_CDTR_000016)Cella 1(_CDTR_000017)Cella 2(_CDTR_000018)Cella 3(_CDTR_000019)Cella 4(_CDTR_000020)© 2024 La Mia Pagina di Esempio\n",
      "Diccionario textos_traducidos\n",
      "{'000001': 'html', '000002': 'Esempio di HTML', '000003': 'body {\\n            font-family: Arial, sans-serif;\\n            line-height: 1.6;\\n            margin: 0;\\n            padding: 0;\\n            background-color: #f4f4f4;\\n        }\\n        header {\\n            background: #333;\\n            color: #fff;\\n            padding: 10px 0;\\n            text-align: center;\\n        }\\n        .container {\\n            width: 80%;\\n            margin: auto;\\n            overflow: hidden;\\n        }\\n        .main {\\n            padding: 20px;\\n            background: #fff;\\n            margin-top: 20px;\\n        }\\n        h1, h2 {\\n            color: #333;\\n        }\\n        ul {\\n            list-style: none;\\n            padding: 0;\\n        }\\n        ul li {\\n            background: #eee;\\n            margin: 5px 0;\\n            padding: 10px;\\n        }\\n        .footer {\\n            background: #333;\\n            color: #fff;\\n            text-align: center;\\n            padding: 10px 0;\\n            position: fixed;\\n            bottom: 0;\\n            width: 100%;\\n        }\\n        .highlight {\\n            color: #d9534f;\\n            font-weight: bold;\\n        }', '000004': 'La Mia Pagina di Esempio', '000005': 'Benvenuto nella mia pagina', '000006': \"Questo è un paragrafo di esempio per dimostrare l'uso di\", '000007': 'stili in linea', '000008': 'e altri elementi HTML.', '000009': 'Elenco di Esempi', '000010': 'Elemento di lista 1', '000011': \"Elemento dell'elenco 2\", '000012': \"Elemento dell'elenco 3\", '000013': 'Di seguito viene mostrata una tabella di esempio:', '000014': 'Intestazione 1', '000015': 'Intestazione 2', '000016': 'Cella 1', '000017': 'Cella 2', '000018': 'Cella 3', '000019': 'Cella 4', '000020': '© 2024 La Mia Pagina di Esempio'}\n",
      "Diccionario textos_traducidos_final\n",
      "{'000001': 'html', '000002': 'Esempio di HTML', '000003': 'body {\\n            font-family: Arial, sans-serif;\\n            line-height: 1.6;\\n            margin: 0;\\n            padding: 0;\\n            background-color: #f4f4f4;\\n        }\\n        header {\\n            background: #333;\\n            color: #fff;\\n            padding: 10px 0;\\n            text-align: center;\\n        }\\n        .container {\\n            width: 80%;\\n            margin: auto;\\n            overflow: hidden;\\n        }\\n        .main {\\n            padding: 20px;\\n            background: #fff;\\n            margin-top: 20px;\\n        }\\n        h1, h2 {\\n            color: #333;\\n        }\\n        ul {\\n            list-style: none;\\n            padding: 0;\\n        }\\n        ul li {\\n            background: #eee;\\n            margin: 5px 0;\\n            padding: 10px;\\n        }\\n        .footer {\\n            background: #333;\\n            color: #fff;\\n            text-align: center;\\n            padding: 10px 0;\\n            position: fixed;\\n            bottom: 0;\\n            width: 100%;\\n        }\\n        .highlight {\\n            color: #d9534f;\\n            font-weight: bold;\\n        }', '000004': 'La Mia Pagina di Esempio', '000005': 'Benvenuto nella mia pagina', '000006': \"Questo è un paragrafo di esempio per dimostrare l'uso di\", '000007': 'stili in linea', '000008': 'e altri elementi HTML.', '000009': 'Elenco di Esempi', '000010': 'Elemento di lista 1', '000011': \"Elemento dell'elenco 2\", '000012': \"Elemento dell'elenco 3\", '000013': 'Di seguito viene mostrata una tabella di esempio:', '000014': 'Intestazione 1', '000015': 'Intestazione 2', '000016': 'Cella 1', '000017': 'Cella 2', '000018': 'Cella 3', '000019': 'Cella 4', '000020': '© 2024 La Mia Pagina di Esempio'}\n",
      "Se ha dejado el documento traducido en la ruta especificada: test/out/Traducido_Italian_ejemplo.html\n"
     ]
    }
   ],
   "source": [
    "# Prueba doc_translator.py\n",
    "\n",
    "from pathlib import Path\n",
    "from doc_translator import traducir_doc\n",
    "\n",
    "\n",
    "# VARIABLES:\n",
    "nombre_fichero = 'ejemplo.html' # Debe incluir la extensión al final (.pptx, .docx o .pdf)\n",
    "origin_language = \"Spanish\"\n",
    "destination_language = \"Italian\"\n",
    "color_to_exclude = '#FF0000' # poner en formato #F00000\n",
    "\n",
    "# Rutas de documentos a traducir y devolución\n",
    "input_path = f'test/in/{nombre_fichero}'\n",
    "output_path = f'test/out/Traducido_{destination_language}_{nombre_fichero}'\n",
    "extension = Path(nombre_fichero).suffix\n",
    "\n",
    "\n",
    "traducir_doc(\n",
    "            input_path,\n",
    "            output_path,\n",
    "            origin_language,\n",
    "            destination_language,\n",
    "            extension,\n",
    "            color_to_exclude,\n",
    "            None\n",
    "        )"
   ]
  },
  {
   "cell_type": "code",
   "execution_count": 2,
   "metadata": {},
   "outputs": [
    {
     "name": "stdout",
     "output_type": "stream",
     "text": [
      "Me ha llegado a las manos un coti muy saliente que ha movido todo el mercado. No puedo sacármelo de la cabeza, si quieres este secreto, tienes que cambiarlo. No quiero saber nada, intento no cruzar tu mirada. No me creo historias inventadas, de ti ya no me creo nada.\n"
     ]
    }
   ],
   "source": [
    "# Prueba model_summarize:\n",
    "\n",
    "\n",
    "from model_summary import summarize_text\n",
    "text = \"No ho puc evitar, ja no sé com fer-ho, m'ha arribat a les mans un coti ben salsero que ha mogut tot el mercat. No me'l puc treure del cap, si vols aquest secret, doncs per tres l'has de canviar. No ho puc evitar, ja no sé com fer-ho, m'ha arribat a les mans un coti ben salcero que ha mogut tot el mercat. No me'l puc treure del cap, si vols aquest secret, doncs per tres l'has de canviar. No en vull saber res, intento no creuar-te la mirada. No em crec que històries inventaràs, de tu ja no em puc creure res. Ahir em vaig trobar l'Aleix i em va dir que tenia cotis, posaria info, tenia bones refes, no sabia per qu per s les notis el mercat est palmant i tu est holding Tira la manta peli de terror No vulguis c la sort del tra I que et miro davant de la platja i em dius que no, que no, que no ho pots evitar. Ja no saps com fer-ho, t'ha arribat a les mans un cotllet ben salcero que ha mogut tot el mercat. No te'l pots treure del cap. Si vols aquest secret per tes l'hauràs de canviar. No em vull saber res. Coti per Coti, Coti per Coti. Intento no creuar-te la mirada. Coti per Coti, Coti per Coti. No em crec històries inventades. Coti per Coti. De tu ja no em puc creure res. No em vull saber res. Tanto no he creuat a la mirada, no em crec històries inventades, de tu ja no em puc veure bé. No! Visca!\"\n",
    "\n",
    "respuesta = summarize_text(text,num_words=100,summary_language='spanish')\n",
    "print(respuesta)"
   ]
  },
  {
   "cell_type": "code",
   "execution_count": 1,
   "metadata": {},
   "outputs": [
    {
     "data": {
      "text/plain": [
       "\"L'estudi analitza la percepció de la població espanyola respecte a la implementació de la intel·ligència artificial (IA) en diferents àmbits de la vida quotidiana. L'objectiu és avaluar les opinions sobre la implementació de la IA en àmbits com asistents personals, vehicles i salut. El resultat és que hi ha una percepció dual en funció del tipus de desenvolupament, amb un major interès en l'ús de la IA en vehicles i assistents virtuals, mentre que la seva aplicació en el camp mèdic genera menys interès i certa desconfiança en la seva seguretat.\\nL'interès pel desenvolupament d'aplicacions d'Intelligència Artificial (IA) és elevat entre la població, especialment en àrees com l'automòbil, on el 55% mostra molt interès. Els asistents virtuales també generen un alt interès, amb un 51% que els considera interessants. Per contra, l'aplicació de la IA en el àmbit mèdic genera menys confiança, amb un 31% que desconfia de la seva implementació.\\nResum de l'estudi sobre l'aplicació de la intel·ligència artificial:\\n\\nL'ús de la intel·ligència artificial (IA) en els vehicles genera més interès entre les persones menors de 35 anys. El 67% dels internautes considera que la implementació de la IA en els vehicles no suposa un perill ni per als ocupants del vehicle ni per als altres vehicles o vianants. Només el 10% creu que és molt perillosa.\\n\\nL'ús de la IA com a recomanador de compra digital té una acceptació menor, amb només el 29% dels internautes que considera interessant. Les dones i les persones joves són les que més accepten aquest ús de la IA.\\nL'ús de la IA en el món mèdic genera un nivell mitjà de confiança, amb el 41% dels enquestats que la consideren interessant per a diagòstics i seguiments de pacients. No obstant això, el 26% no es mostra molt partidari de la seva implementació. El nivell de confiança és més alt entre els menors de 35 anys i els homes. La implementació de la IA en el món mèdic és vista com a beneficiosa per a les activitats que suposen una ajuda en la vida quotidiana, però també hi ha recels sobre les aplicacions que podrien estar influenciades per interessos comercials.\\nS'intenta conèixer l'opinió de la població sobre l'aplicació de la intel·ligència artificial en diverses àrees de la vida quotidiana. L'estudi que s'ha dut a terme és quantitatiu, amb una mostra de 800 persones internautes majors de 15 anys distribuïdes per gènere, edat, nivell d'estudis, habitat i comunitat autònoma. El resultat és que la població valora positivament l'aplicació de la IA en activitats que ajuden a millorar la vida diària.\""
      ]
     },
     "execution_count": 1,
     "metadata": {},
     "output_type": "execute_result"
    }
   ],
   "source": [
    "# Prueba doc_summarize:\n",
    "\n",
    "\n",
    "from doc_summary import resumir_doc\n",
    "nombre_fichero = 'pdf_largo.pdf'\n",
    "\n",
    "input_path = f'test/in/{nombre_fichero}'\n",
    "\n",
    "resumir_doc(input_path, num_words=100, summary_language='catalan', add_prompt=\"\")\n"
   ]
  },
  {
   "cell_type": "code",
   "execution_count": 2,
   "metadata": {},
   "outputs": [
    {
     "ename": "TypeError",
     "evalue": "model_exctact_info() got an unexpected keyword argument 'reintentos_max'",
     "output_type": "error",
     "traceback": [
      "\u001b[1;31m---------------------------------------------------------------------------\u001b[0m",
      "\u001b[1;31mTypeError\u001b[0m                                 Traceback (most recent call last)",
      "Cell \u001b[1;32mIn[2], line 10\u001b[0m\n\u001b[0;32m      7\u001b[0m respuesta_tipo \u001b[38;5;241m=\u001b[39m\u001b[38;5;124m'\u001b[39m\u001b[38;5;124mnumeric\u001b[39m\u001b[38;5;124m'\u001b[39m\n\u001b[0;32m      8\u001b[0m ejemplo_respuesta \u001b[38;5;241m=\u001b[39m \u001b[38;5;124m'\u001b[39m\u001b[38;5;124m'\u001b[39m\n\u001b[1;32m---> 10\u001b[0m \u001b[43mmodel_exctact_info\u001b[49m\u001b[43m(\u001b[49m\u001b[43mtexto\u001b[49m\u001b[43m,\u001b[49m\u001b[43m \u001b[49m\u001b[43mprompt\u001b[49m\u001b[43m,\u001b[49m\u001b[43m \u001b[49m\u001b[43mrespuesta_tipo\u001b[49m\u001b[43m,\u001b[49m\u001b[43m \u001b[49m\u001b[43mejemplo_respuesta\u001b[49m\u001b[43m,\u001b[49m\u001b[43m \u001b[49m\u001b[43mfile_type\u001b[49m\u001b[38;5;241;43m=\u001b[39;49m\u001b[38;5;28;43;01mNone\u001b[39;49;00m\u001b[43m,\u001b[49m\u001b[43m \u001b[49m\u001b[43mmodel\u001b[49m\u001b[38;5;241;43m=\u001b[39;49m\u001b[38;5;124;43m'\u001b[39;49m\u001b[38;5;124;43mllama3-70b-8192\u001b[39;49m\u001b[38;5;124;43m'\u001b[39;49m\u001b[43m,\u001b[49m\u001b[43m \u001b[49m\u001b[43mapi_key_file\u001b[49m\u001b[38;5;241;43m=\u001b[39;49m\u001b[38;5;124;43m'\u001b[39;49m\u001b[38;5;124;43mAPI_KEY.txt\u001b[39;49m\u001b[38;5;124;43m'\u001b[39;49m\u001b[43m,\u001b[49m\u001b[43m \u001b[49m\u001b[43mreintentos_max\u001b[49m\u001b[38;5;241;43m=\u001b[39;49m\u001b[38;5;241;43m3\u001b[39;49m\u001b[43m)\u001b[49m\n",
      "\u001b[1;31mTypeError\u001b[0m: model_exctact_info() got an unexpected keyword argument 'reintentos_max'"
     ]
    }
   ],
   "source": [
    "# Model_extract_info:\n",
    "\n",
    "from model_extract_info import model_exctact_info\n",
    "texto = 'Las estadísticas de Lamine Yamal son muy buenas este año 2024 con 14 asistencias en solo 10 partidos, además es un gran goleador.'\n",
    "\n",
    "prompt = 'Extrae el año al que hace referencia'\n",
    "respuesta_tipo ='numeric'\n",
    "ejemplo_respuesta = ''\n",
    "\n",
    "model_exctact_info(texto, prompt, respuesta_tipo, ejemplo_respuesta, file_type=None, model='llama3-70b-8192', api_key_file='API_KEY.txt', reintentos_max=3)\n"
   ]
  },
  {
   "cell_type": "code",
   "execution_count": 1,
   "metadata": {},
   "outputs": [
    {
     "name": "stdout",
     "output_type": "stream",
     "text": [
      "Procesando archivo: test/in/pdf_largo.pdf\n",
      "Dividiendo texto en 1 bloques.\n",
      "Procesando bloque de texto...\n",
      "El documento está en español?\n",
      "['SI']\n",
      "¿De qué año es el estudio?\n",
      "['2021.']\n",
      "Explicame en 5 palabras de que va el documento\n",
      "['Estudio sobre aplicación de la inteligencia artificial 2021']\n",
      "{'El documento está en español?': 'SI', '¿De qué año es el estudio?': '2021', 'Explicame en 5 palabras de que va el documento': 'Estudio sobre inteligencia artificial.'}\n"
     ]
    }
   ],
   "source": [
    "# Prueba con doc_extract_info\n",
    "\n",
    "from doc_extract_info import extract_info_from_doc\n",
    "\n",
    "file = 'test/in/pdf_largo.pdf'\n",
    "\n",
    "prompts = ['El documento está en español?', '¿De qué año es el estudio?', 'Explicame en 5 palabras de que va el documento']\n",
    "tipos_respuesta = ['SI/NO', 'numérica','texto libre']\n",
    "ejemplos_respuesta = ['SI', '2025','Estudio sobre las ranas del lago']  # Esto es opcional\n",
    "\n",
    "resultados = extract_info_from_doc(file, prompts, tipos_respuesta, ejemplos_respuesta)\n"
   ]
  },
  {
   "cell_type": "code",
   "execution_count": null,
   "metadata": {},
   "outputs": [],
   "source": []
  },
  {
   "cell_type": "code",
   "execution_count": 1,
   "metadata": {},
   "outputs": [
    {
     "name": "stderr",
     "output_type": "stream",
     "text": [
      "[INFO] Start to convert test/in/TEST.pdf\n",
      "[INFO] \u001b[1;36m[1/4] Opening document...\u001b[0m\n",
      "[INFO] \u001b[1;36m[2/4] Analyzing document...\u001b[0m\n"
     ]
    },
    {
     "name": "stdout",
     "output_type": "stream",
     "text": [
      "Starting translation process for test/in/TEST.pdf\n"
     ]
    },
    {
     "name": "stderr",
     "output_type": "stream",
     "text": [
      "[INFO] \u001b[1;36m[3/4] Parsing pages...\u001b[0m\n",
      "[INFO] (1/4) Page 1\n",
      "[INFO] (2/4) Page 2\n",
      "[INFO] (3/4) Page 3\n",
      "[INFO] (4/4) Page 4\n",
      "[INFO] \u001b[1;36m[4/4] Creating pages...\u001b[0m\n",
      "[INFO] (1/4) Page 1\n",
      "[INFO] (2/4) Page 2\n",
      "[INFO] (3/4) Page 3\n",
      "[INFO] (4/4) Page 4\n",
      "[INFO] Terminated in 0.75s.\n"
     ]
    },
    {
     "name": "stdout",
     "output_type": "stream",
     "text": [
      "Diccionario textos_originales\n",
      "{'000001': 'Tema 1.  Especificidades para la evaluación y ', '000002': 'diagnóstico en adultos en el ámbito sanitario ', '000003': 'Todo diagnóstico y evaluación psicológico debe enmarcarse en:', '000004': 'Otro tipo de dificultades deberán volver a ser evaluadas. Si los nuevos problemas no están relacionados, ', '000005': 'debemos hacer otra evaluación.', '000006': 'Los orígenes de un problema son importantes, pero nosotros solo podemos trabajar en el momento ', '000007': 'presente. ', '000008': '¿', '000009': 'Qué es EVALUAR', '000010': '? valorar y medir.', '000011': 'Evaluar tiene un fin, un propósito, nos lleva a algo, que es comprender y conocer como funciona algo. Lo ', '000012': 'importante de evaluar es poder predecir y conocer como se comportaría alguien en una situación. ', '000013': 'La evaluación es un proceso compuesto por fases sucesivas e interrelacionadas.', '000014': 'Evaluación y diagnóstico como parte de la intervención en Psicología General ', '000015': 'Sanitaria ', '000016': 'Evaluación y diagnóstico no son lo mismo!', '000017': '*Ver video del análisis funcional de conducta.', '000018': 'Aun siendo distintos, diagnóstico y evaluación siempre van unidos, ya que, para realizar el primero, se ', '000019': 'debe llevar a cabo una buena evaluación. Además, esto facilitará la toma de decisiones para la ', '000020': 'intervención. ', '000021': 'Importante:', '000022': ' una buena evaluación Psicológica representa un 80% de la terapia. ', '000023': 'Motivo de consulta:', '000024': 'La mayor parte del éxito en la consecución de los objetivos de la terapia depende de la colaboración ', '000025': 'durante la evaluación entre el psicólogo y el paciente/cliente. ', '000026': '¿Cuántos problemas como mínimo tiene alguien que acude a terapia? Su problema + contarlo a mí. ', '000027': 'Contar algo a un desconocido es ya un problema. ', '000028': 'Proceso de evaluación psicológica', '000029': 'El proceso de evaluación y diagnóstico reproduce (y debe reproducir):', '000030': 'Que serán siempre objeto de nuestro análisis.', '000031': 'El profesional debe:', '000032': 'La evaluación psicológica es el proceso que sirve para recoger, valorar  e interpretar la información ', '000033': 'necesaria a fin de poder tomar decisiones que contribuyan a solucionar los problemas que afectan al ', '000034': 'paciente/cliente.', '000035': 'Fases de la evaluación:', '000036': 'el orden reflejado de las fases se muestra secuencialmente según se entiende ', '000037': 'que avanza el proceso de evaluación. No obstante, es un proceso flexible.', '000038': '1. Recogida de información; especificación de la demanda del problema. ', '000039': '2. Formulación de hipótesis inicial.', '000040': '3. Contrastación de hipótesis.', '000041': '4. Comunicación de los resultados de la evaluación.', '000042': '5. Formulación de hipótesis funcionales relacionadas con el plan de tratamiento.', '000043': '6. Aplicación del tratamiento y recogida de datos de las hipótesis funcionales. ', '000044': '7. Valoración de los resultados.', '000045': '8. Resultados (comunicar al paciente) ', '000046': '9. Seguimiento: hay pacientes que requieren de un seguimiento. ', '000047': 'En resumen:', '000048': 'Unas dimensiones espacio-temporales e interactivas concretas.', '000049': 'Perseguir unos fines específicos conceptualizados por el evaluador: esta conceptualización acaba ', '000050': 'siendo un consenso entre terapeuta y paciente. ', '000051': 'Evaluación', '000052': 'Diagnóstico', '000053': 'Es ', '000054': 'un ', '000055': 'procedimiento ', '000056': 'mediante ', '000057': 'el ', '000058': 'cual ', '000059': 'recopilamos información sobre el paciente a ', '000060': 'través de diferentes técnicas, con el fin de ', '000061': 'evaluar su sintomatología, funcionamiento y ', '000062': 'capacidades.', '000063': 'A partir de la evaluación se tomarán decisiones ', '000064': 'sobre el tipo, secuencia y objetivos del plan de ', '000065': 'tratamiento; y, más adelante, las técnicas de ', '000066': 'evaluación serán las encargadas de valorar los ', '000067': 'cambios producidos durante la intervención.', '000068': 'Pretende catalogar una enfermedad en función ', '000069': 'de los diferentes síntomas que presenta el ', '000070': 'paciente. ', '000071': 'Nos permite identificar cuál es el problema, a ', '000072': 'partir de observaciones y datos concretos.', '000073': 'Se debe recordar que el motivo de consulta nunca es el problema.', '000074': 'Los pacientes  acuden con un motivo claro (síntomas, dificultades, problemas, ánimo, etc.) ', '000075': 'No siempre es el problema al que hay que hacer frente. ', '000076': 'De ahí la necesidad de una ', '000077': 'evaluación exhaustiva.', '000078': 'Modelos de relación ', '000079': 'Estrategias de intervención ', '000080': 'Estilos de respuesta en general', '000081': 'Ser útil: ', '000082': 'ayudar a que el paciente/cliente piense, utilice sus propias posibilidad y autonomía. ', '000083': 'Comprender: ', '000084': 'no sólo es importante conocer y reunir datos sobre el paciente, es esencial ', '000085': 'comprender lo que el paciente dice.', '000086': 'Ser tolerante:', '000087': ' no es posible ser terapeuta sin ser tolerante. ', '000088': 'Valorar al paciente/cliente: ', '000089': 'hay pacientes que acuden a consulta sin haber “sido vistos nunca”, es ', '000090': 'nuestro deber como profesionales “verlos” y valorarlos como personas. ', '000091': 'La evaluación es un proceso compuesto por fases sucesivas e interrelacionadas. ', '000092': 'Es una relación humana.', '000093': 'Suele conllevar un diagnóstico.', '000094': 'Se subdivide en fases secuenciales, pero es un proceso flexible. '}\n",
      "Diccionario textos_para_traducir\n",
      "{'000001': 'Tema 1.  Especificidades para la evaluación y ', '000002': 'diagnóstico en adultos en el ámbito sanitario ', '000003': 'Todo diagnóstico y evaluación psicológico debe enmarcarse en:', '000004': 'Otro tipo de dificultades deberán volver a ser evaluadas. Si los nuevos problemas no están relacionados, ', '000005': 'debemos hacer otra evaluación.', '000006': 'Los orígenes de un problema son importantes, pero nosotros solo podemos trabajar en el momento ', '000007': 'presente. ', '000009': 'Qué es EVALUAR', '000010': '? valorar y medir.', '000011': 'Evaluar tiene un fin, un propósito, nos lleva a algo, que es comprender y conocer como funciona algo. Lo ', '000012': 'importante de evaluar es poder predecir y conocer como se comportaría alguien en una situación. ', '000013': 'La evaluación es un proceso compuesto por fases sucesivas e interrelacionadas.', '000014': 'Evaluación y diagnóstico como parte de la intervención en Psicología General ', '000015': 'Sanitaria ', '000016': 'Evaluación y diagnóstico no son lo mismo!', '000017': '*Ver video del análisis funcional de conducta.', '000018': 'Aun siendo distintos, diagnóstico y evaluación siempre van unidos, ya que, para realizar el primero, se ', '000019': 'debe llevar a cabo una buena evaluación. Además, esto facilitará la toma de decisiones para la ', '000020': 'intervención. ', '000021': 'Importante:', '000022': ' una buena evaluación Psicológica representa un 80% de la terapia. ', '000023': 'Motivo de consulta:', '000024': 'La mayor parte del éxito en la consecución de los objetivos de la terapia depende de la colaboración ', '000025': 'durante la evaluación entre el psicólogo y el paciente/cliente. ', '000026': '¿Cuántos problemas como mínimo tiene alguien que acude a terapia? Su problema + contarlo a mí. ', '000027': 'Contar algo a un desconocido es ya un problema. ', '000028': 'Proceso de evaluación psicológica', '000029': 'El proceso de evaluación y diagnóstico reproduce (y debe reproducir):', '000030': 'Que serán siempre objeto de nuestro análisis.', '000031': 'El profesional debe:', '000032': 'La evaluación psicológica es el proceso que sirve para recoger, valorar  e interpretar la información ', '000033': 'necesaria a fin de poder tomar decisiones que contribuyan a solucionar los problemas que afectan al ', '000034': 'paciente/cliente.', '000035': 'Fases de la evaluación:', '000036': 'el orden reflejado de las fases se muestra secuencialmente según se entiende ', '000037': 'que avanza el proceso de evaluación. No obstante, es un proceso flexible.', '000038': '1. Recogida de información; especificación de la demanda del problema. ', '000039': '2. Formulación de hipótesis inicial.', '000040': '3. Contrastación de hipótesis.', '000041': '4. Comunicación de los resultados de la evaluación.', '000042': '5. Formulación de hipótesis funcionales relacionadas con el plan de tratamiento.', '000043': '6. Aplicación del tratamiento y recogida de datos de las hipótesis funcionales. ', '000044': '7. Valoración de los resultados.', '000045': '8. Resultados (comunicar al paciente) ', '000046': '9. Seguimiento: hay pacientes que requieren de un seguimiento. ', '000047': 'En resumen:', '000048': 'Unas dimensiones espacio-temporales e interactivas concretas.', '000049': 'Perseguir unos fines específicos conceptualizados por el evaluador: esta conceptualización acaba ', '000050': 'siendo un consenso entre terapeuta y paciente. ', '000051': 'Evaluación', '000052': 'Diagnóstico', '000053': 'Es ', '000054': 'un ', '000055': 'procedimiento ', '000056': 'mediante ', '000057': 'el ', '000058': 'cual ', '000059': 'recopilamos información sobre el paciente a ', '000060': 'través de diferentes técnicas, con el fin de ', '000061': 'evaluar su sintomatología, funcionamiento y ', '000062': 'capacidades.', '000063': 'A partir de la evaluación se tomarán decisiones ', '000064': 'sobre el tipo, secuencia y objetivos del plan de ', '000065': 'tratamiento; y, más adelante, las técnicas de ', '000066': 'evaluación serán las encargadas de valorar los ', '000067': 'cambios producidos durante la intervención.', '000068': 'Pretende catalogar una enfermedad en función ', '000069': 'de los diferentes síntomas que presenta el ', '000070': 'paciente. ', '000071': 'Nos permite identificar cuál es el problema, a ', '000072': 'partir de observaciones y datos concretos.', '000073': 'Se debe recordar que el motivo de consulta nunca es el problema.', '000074': 'Los pacientes  acuden con un motivo claro (síntomas, dificultades, problemas, ánimo, etc.) ', '000075': 'No siempre es el problema al que hay que hacer frente. ', '000076': 'De ahí la necesidad de una ', '000077': 'evaluación exhaustiva.', '000078': 'Modelos de relación ', '000079': 'Estrategias de intervención ', '000080': 'Estilos de respuesta en general', '000081': 'Ser útil: ', '000082': 'ayudar a que el paciente/cliente piense, utilice sus propias posibilidad y autonomía. ', '000083': 'Comprender: ', '000084': 'no sólo es importante conocer y reunir datos sobre el paciente, es esencial ', '000085': 'comprender lo que el paciente dice.', '000086': 'Ser tolerante:', '000087': ' no es posible ser terapeuta sin ser tolerante. ', '000088': 'Valorar al paciente/cliente: ', '000089': 'hay pacientes que acuden a consulta sin haber “sido vistos nunca”, es ', '000090': 'nuestro deber como profesionales “verlos” y valorarlos como personas. ', '000091': 'La evaluación es un proceso compuesto por fases sucesivas e interrelacionadas. ', '000092': 'Es una relación humana.', '000093': 'Suele conllevar un diagnóstico.', '000094': 'Se subdivide en fases secuenciales, pero es un proceso flexible. '}\n"
     ]
    },
    {
     "ename": "KeyboardInterrupt",
     "evalue": "",
     "output_type": "error",
     "traceback": [
      "\u001b[1;31m---------------------------------------------------------------------------\u001b[0m",
      "\u001b[1;31mKeyboardInterrupt\u001b[0m                         Traceback (most recent call last)",
      "Cell \u001b[1;32mIn[1], line 19\u001b[0m\n\u001b[0;32m     15\u001b[0m extension \u001b[38;5;241m=\u001b[39m Path(nombre_fichero)\u001b[38;5;241m.\u001b[39msuffix\n\u001b[0;32m     17\u001b[0m add_prompt \u001b[38;5;241m=\u001b[39m \u001b[38;5;124m'\u001b[39m\u001b[38;5;124mPon todo el texto en mayúsculas\u001b[39m\u001b[38;5;124m'\u001b[39m\n\u001b[1;32m---> 19\u001b[0m \u001b[43meditar_doc\u001b[49m\u001b[43m(\u001b[49m\n\u001b[0;32m     20\u001b[0m \u001b[43m            \u001b[49m\u001b[43minput_path\u001b[49m\u001b[43m,\u001b[49m\n\u001b[0;32m     21\u001b[0m \u001b[43m            \u001b[49m\u001b[43moutput_path\u001b[49m\u001b[43m,\u001b[49m\n\u001b[0;32m     22\u001b[0m \u001b[43m            \u001b[49m\u001b[43mextension\u001b[49m\u001b[43m,\u001b[49m\n\u001b[0;32m     23\u001b[0m \u001b[43m            \u001b[49m\u001b[43mcolor_to_exclude\u001b[49m\u001b[43m,\u001b[49m\n\u001b[0;32m     24\u001b[0m \u001b[43m            \u001b[49m\u001b[43madd_prompt\u001b[49m\n\u001b[0;32m     25\u001b[0m \u001b[43m        \u001b[49m\u001b[43m)\u001b[49m\n",
      "File \u001b[1;32mc:\\Python Projects\\fabrIA\\doc_editor.py:446\u001b[0m, in \u001b[0;36meditar_doc\u001b[1;34m(input_path, output_path, extension, color_to_exclude, add_prompt)\u001b[0m\n\u001b[0;32m    443\u001b[0m bloques \u001b[38;5;241m=\u001b[39m separar_texto_bloques(textos_para_traducir)\n\u001b[0;32m    445\u001b[0m \u001b[38;5;66;03m# Traducción de bloques con el modelo\u001b[39;00m\n\u001b[1;32m--> 446\u001b[0m bloques_traducidos \u001b[38;5;241m=\u001b[39m \u001b[43mmodelo_edición_bloques\u001b[49m\u001b[43m(\u001b[49m\u001b[43mbloques\u001b[49m\u001b[43m,\u001b[49m\u001b[43m \u001b[49m\u001b[43madd_prompt\u001b[49m\u001b[43m)\u001b[49m\n\u001b[0;32m    448\u001b[0m \u001b[38;5;66;03m# Traducir los textos recopilados en bloques\u001b[39;00m\n\u001b[0;32m    449\u001b[0m textos_traducidos \u001b[38;5;241m=\u001b[39m join_blocks(bloques_traducidos)\n",
      "File \u001b[1;32mc:\\Python Projects\\fabrIA\\doc_editor.py:120\u001b[0m, in \u001b[0;36mmodelo_edición_bloques\u001b[1;34m(bloques, add_prompt, numintentos)\u001b[0m\n\u001b[0;32m    118\u001b[0m \u001b[38;5;28;01mwhile\u001b[39;00m reintentos \u001b[38;5;241m<\u001b[39m numintentos:\n\u001b[0;32m    119\u001b[0m     \u001b[38;5;28;01mtry\u001b[39;00m:\n\u001b[1;32m--> 120\u001b[0m         traduccion \u001b[38;5;241m=\u001b[39m \u001b[43mprompt_text\u001b[49m\u001b[43m(\u001b[49m\u001b[43mbloque\u001b[49m\u001b[43m,\u001b[49m\u001b[43m \u001b[49m\u001b[43madd_prompt\u001b[49m\u001b[43m)\u001b[49m\n\u001b[0;32m    122\u001b[0m         \u001b[38;5;28;01mif\u001b[39;00m verificar_codigos(bloque, traduccion):\n\u001b[0;32m    123\u001b[0m             \u001b[38;5;28mprint\u001b[39m(\u001b[38;5;124mf\u001b[39m\u001b[38;5;124m'\u001b[39m\u001b[38;5;124mBloque original: \u001b[39m\u001b[38;5;132;01m{\u001b[39;00mbloque\u001b[38;5;132;01m}\u001b[39;00m\u001b[38;5;124m'\u001b[39m)\n",
      "File \u001b[1;32mc:\\Python Projects\\fabrIA\\model_prompting.py:27\u001b[0m, in \u001b[0;36mprompt_text\u001b[1;34m(texto, add_prompt, model, api_key_file)\u001b[0m\n\u001b[0;32m     13\u001b[0m prompt \u001b[38;5;241m=\u001b[39m \u001b[38;5;124mf\u001b[39m\u001b[38;5;124m\"\"\"\u001b[39m\n\u001b[0;32m     14\u001b[0m \u001b[38;5;124mFollow this rules:\u001b[39m\n\u001b[0;32m     15\u001b[0m \u001b[38;5;124m- Your task is to  edit text while strictly preserving codes (_CDTR_00000) in their exact positions, including at the start or end of the text. \u001b[39m\n\u001b[1;32m   (...)\u001b[0m\n\u001b[0;32m     23\u001b[0m \u001b[38;5;124m\u001b[39m\u001b[38;5;132;01m{\u001b[39;00mtexto\u001b[38;5;132;01m}\u001b[39;00m\n\u001b[0;32m     24\u001b[0m \u001b[38;5;124m\u001b[39m\u001b[38;5;124m\"\"\"\u001b[39m\n\u001b[0;32m     26\u001b[0m \u001b[38;5;66;03m# Llama a la API de Groq para traducir el texto\u001b[39;00m\n\u001b[1;32m---> 27\u001b[0m chat_completion \u001b[38;5;241m=\u001b[39m \u001b[43mclient\u001b[49m\u001b[38;5;241;43m.\u001b[39;49m\u001b[43mchat\u001b[49m\u001b[38;5;241;43m.\u001b[39;49m\u001b[43mcompletions\u001b[49m\u001b[38;5;241;43m.\u001b[39;49m\u001b[43mcreate\u001b[49m\u001b[43m(\u001b[49m\n\u001b[0;32m     28\u001b[0m \u001b[43m    \u001b[49m\u001b[43mmessages\u001b[49m\u001b[38;5;241;43m=\u001b[39;49m\u001b[43m[\u001b[49m\n\u001b[0;32m     29\u001b[0m \u001b[43m        \u001b[49m\u001b[43m{\u001b[49m\n\u001b[0;32m     30\u001b[0m \u001b[43m            \u001b[49m\u001b[38;5;124;43m\"\u001b[39;49m\u001b[38;5;124;43mrole\u001b[39;49m\u001b[38;5;124;43m\"\u001b[39;49m\u001b[43m:\u001b[49m\u001b[43m \u001b[49m\u001b[38;5;124;43m\"\u001b[39;49m\u001b[38;5;124;43muser\u001b[39;49m\u001b[38;5;124;43m\"\u001b[39;49m\u001b[43m,\u001b[49m\n\u001b[0;32m     31\u001b[0m \u001b[43m            \u001b[49m\u001b[38;5;124;43m\"\u001b[39;49m\u001b[38;5;124;43mcontent\u001b[39;49m\u001b[38;5;124;43m\"\u001b[39;49m\u001b[43m:\u001b[49m\u001b[43m \u001b[49m\u001b[43mprompt\u001b[49m\u001b[43m,\u001b[49m\n\u001b[0;32m     32\u001b[0m \u001b[43m        \u001b[49m\u001b[43m}\u001b[49m\n\u001b[0;32m     33\u001b[0m \u001b[43m    \u001b[49m\u001b[43m]\u001b[49m\u001b[43m,\u001b[49m\n\u001b[0;32m     34\u001b[0m \u001b[43m    \u001b[49m\u001b[43mmodel\u001b[49m\u001b[38;5;241;43m=\u001b[39;49m\u001b[43mmodel\u001b[49m\n\u001b[0;32m     35\u001b[0m \u001b[43m\u001b[49m\u001b[43m)\u001b[49m\n\u001b[0;32m     37\u001b[0m traduccion \u001b[38;5;241m=\u001b[39m chat_completion\u001b[38;5;241m.\u001b[39mchoices[\u001b[38;5;241m0\u001b[39m]\u001b[38;5;241m.\u001b[39mmessage\u001b[38;5;241m.\u001b[39mcontent\u001b[38;5;241m.\u001b[39mstrip()\n\u001b[0;32m     38\u001b[0m \u001b[38;5;28;01mreturn\u001b[39;00m traduccion\n",
      "File \u001b[1;32mc:\\Python Projects\\fabrIA\\.venv\\Lib\\site-packages\\groq\\resources\\chat\\completions.py:287\u001b[0m, in \u001b[0;36mCompletions.create\u001b[1;34m(self, messages, model, frequency_penalty, function_call, functions, logit_bias, logprobs, max_tokens, n, parallel_tool_calls, presence_penalty, response_format, seed, stop, stream, temperature, tool_choice, tools, top_logprobs, top_p, user, extra_headers, extra_query, extra_body, timeout)\u001b[0m\n\u001b[0;32m    146\u001b[0m \u001b[38;5;28;01mdef\u001b[39;00m \u001b[38;5;21mcreate\u001b[39m(\n\u001b[0;32m    147\u001b[0m     \u001b[38;5;28mself\u001b[39m,\n\u001b[0;32m    148\u001b[0m     \u001b[38;5;241m*\u001b[39m,\n\u001b[1;32m   (...)\u001b[0m\n\u001b[0;32m    175\u001b[0m     timeout: \u001b[38;5;28mfloat\u001b[39m \u001b[38;5;241m|\u001b[39m httpx\u001b[38;5;241m.\u001b[39mTimeout \u001b[38;5;241m|\u001b[39m \u001b[38;5;28;01mNone\u001b[39;00m \u001b[38;5;241m|\u001b[39m NotGiven \u001b[38;5;241m=\u001b[39m NOT_GIVEN,\n\u001b[0;32m    176\u001b[0m ) \u001b[38;5;241m-\u001b[39m\u001b[38;5;241m>\u001b[39m ChatCompletion \u001b[38;5;241m|\u001b[39m Stream[ChatCompletionChunk]:\n\u001b[0;32m    177\u001b[0m \u001b[38;5;250m    \u001b[39m\u001b[38;5;124;03m\"\"\"\u001b[39;00m\n\u001b[0;32m    178\u001b[0m \u001b[38;5;124;03m    Creates a model response for the given chat conversation.\u001b[39;00m\n\u001b[0;32m    179\u001b[0m \n\u001b[1;32m   (...)\u001b[0m\n\u001b[0;32m    285\u001b[0m \u001b[38;5;124;03m      timeout: Override the client-level default timeout for this request, in seconds\u001b[39;00m\n\u001b[0;32m    286\u001b[0m \u001b[38;5;124;03m    \"\"\"\u001b[39;00m\n\u001b[1;32m--> 287\u001b[0m     \u001b[38;5;28;01mreturn\u001b[39;00m \u001b[38;5;28;43mself\u001b[39;49m\u001b[38;5;241;43m.\u001b[39;49m\u001b[43m_post\u001b[49m\u001b[43m(\u001b[49m\n\u001b[0;32m    288\u001b[0m \u001b[43m        \u001b[49m\u001b[38;5;124;43m\"\u001b[39;49m\u001b[38;5;124;43m/openai/v1/chat/completions\u001b[39;49m\u001b[38;5;124;43m\"\u001b[39;49m\u001b[43m,\u001b[49m\n\u001b[0;32m    289\u001b[0m \u001b[43m        \u001b[49m\u001b[43mbody\u001b[49m\u001b[38;5;241;43m=\u001b[39;49m\u001b[43mmaybe_transform\u001b[49m\u001b[43m(\u001b[49m\n\u001b[0;32m    290\u001b[0m \u001b[43m            \u001b[49m\u001b[43m{\u001b[49m\n\u001b[0;32m    291\u001b[0m \u001b[43m                \u001b[49m\u001b[38;5;124;43m\"\u001b[39;49m\u001b[38;5;124;43mmessages\u001b[39;49m\u001b[38;5;124;43m\"\u001b[39;49m\u001b[43m:\u001b[49m\u001b[43m \u001b[49m\u001b[43mmessages\u001b[49m\u001b[43m,\u001b[49m\n\u001b[0;32m    292\u001b[0m \u001b[43m                \u001b[49m\u001b[38;5;124;43m\"\u001b[39;49m\u001b[38;5;124;43mmodel\u001b[39;49m\u001b[38;5;124;43m\"\u001b[39;49m\u001b[43m:\u001b[49m\u001b[43m \u001b[49m\u001b[43mmodel\u001b[49m\u001b[43m,\u001b[49m\n\u001b[0;32m    293\u001b[0m \u001b[43m                \u001b[49m\u001b[38;5;124;43m\"\u001b[39;49m\u001b[38;5;124;43mfrequency_penalty\u001b[39;49m\u001b[38;5;124;43m\"\u001b[39;49m\u001b[43m:\u001b[49m\u001b[43m \u001b[49m\u001b[43mfrequency_penalty\u001b[49m\u001b[43m,\u001b[49m\n\u001b[0;32m    294\u001b[0m \u001b[43m                \u001b[49m\u001b[38;5;124;43m\"\u001b[39;49m\u001b[38;5;124;43mfunction_call\u001b[39;49m\u001b[38;5;124;43m\"\u001b[39;49m\u001b[43m:\u001b[49m\u001b[43m \u001b[49m\u001b[43mfunction_call\u001b[49m\u001b[43m,\u001b[49m\n\u001b[0;32m    295\u001b[0m \u001b[43m                \u001b[49m\u001b[38;5;124;43m\"\u001b[39;49m\u001b[38;5;124;43mfunctions\u001b[39;49m\u001b[38;5;124;43m\"\u001b[39;49m\u001b[43m:\u001b[49m\u001b[43m \u001b[49m\u001b[43mfunctions\u001b[49m\u001b[43m,\u001b[49m\n\u001b[0;32m    296\u001b[0m \u001b[43m                \u001b[49m\u001b[38;5;124;43m\"\u001b[39;49m\u001b[38;5;124;43mlogit_bias\u001b[39;49m\u001b[38;5;124;43m\"\u001b[39;49m\u001b[43m:\u001b[49m\u001b[43m \u001b[49m\u001b[43mlogit_bias\u001b[49m\u001b[43m,\u001b[49m\n\u001b[0;32m    297\u001b[0m \u001b[43m                \u001b[49m\u001b[38;5;124;43m\"\u001b[39;49m\u001b[38;5;124;43mlogprobs\u001b[39;49m\u001b[38;5;124;43m\"\u001b[39;49m\u001b[43m:\u001b[49m\u001b[43m \u001b[49m\u001b[43mlogprobs\u001b[49m\u001b[43m,\u001b[49m\n\u001b[0;32m    298\u001b[0m \u001b[43m                \u001b[49m\u001b[38;5;124;43m\"\u001b[39;49m\u001b[38;5;124;43mmax_tokens\u001b[39;49m\u001b[38;5;124;43m\"\u001b[39;49m\u001b[43m:\u001b[49m\u001b[43m \u001b[49m\u001b[43mmax_tokens\u001b[49m\u001b[43m,\u001b[49m\n\u001b[0;32m    299\u001b[0m \u001b[43m                \u001b[49m\u001b[38;5;124;43m\"\u001b[39;49m\u001b[38;5;124;43mn\u001b[39;49m\u001b[38;5;124;43m\"\u001b[39;49m\u001b[43m:\u001b[49m\u001b[43m \u001b[49m\u001b[43mn\u001b[49m\u001b[43m,\u001b[49m\n\u001b[0;32m    300\u001b[0m \u001b[43m                \u001b[49m\u001b[38;5;124;43m\"\u001b[39;49m\u001b[38;5;124;43mparallel_tool_calls\u001b[39;49m\u001b[38;5;124;43m\"\u001b[39;49m\u001b[43m:\u001b[49m\u001b[43m \u001b[49m\u001b[43mparallel_tool_calls\u001b[49m\u001b[43m,\u001b[49m\n\u001b[0;32m    301\u001b[0m \u001b[43m                \u001b[49m\u001b[38;5;124;43m\"\u001b[39;49m\u001b[38;5;124;43mpresence_penalty\u001b[39;49m\u001b[38;5;124;43m\"\u001b[39;49m\u001b[43m:\u001b[49m\u001b[43m \u001b[49m\u001b[43mpresence_penalty\u001b[49m\u001b[43m,\u001b[49m\n\u001b[0;32m    302\u001b[0m \u001b[43m                \u001b[49m\u001b[38;5;124;43m\"\u001b[39;49m\u001b[38;5;124;43mresponse_format\u001b[39;49m\u001b[38;5;124;43m\"\u001b[39;49m\u001b[43m:\u001b[49m\u001b[43m \u001b[49m\u001b[43mresponse_format\u001b[49m\u001b[43m,\u001b[49m\n\u001b[0;32m    303\u001b[0m \u001b[43m                \u001b[49m\u001b[38;5;124;43m\"\u001b[39;49m\u001b[38;5;124;43mseed\u001b[39;49m\u001b[38;5;124;43m\"\u001b[39;49m\u001b[43m:\u001b[49m\u001b[43m \u001b[49m\u001b[43mseed\u001b[49m\u001b[43m,\u001b[49m\n\u001b[0;32m    304\u001b[0m \u001b[43m                \u001b[49m\u001b[38;5;124;43m\"\u001b[39;49m\u001b[38;5;124;43mstop\u001b[39;49m\u001b[38;5;124;43m\"\u001b[39;49m\u001b[43m:\u001b[49m\u001b[43m \u001b[49m\u001b[43mstop\u001b[49m\u001b[43m,\u001b[49m\n\u001b[0;32m    305\u001b[0m \u001b[43m                \u001b[49m\u001b[38;5;124;43m\"\u001b[39;49m\u001b[38;5;124;43mstream\u001b[39;49m\u001b[38;5;124;43m\"\u001b[39;49m\u001b[43m:\u001b[49m\u001b[43m \u001b[49m\u001b[43mstream\u001b[49m\u001b[43m,\u001b[49m\n\u001b[0;32m    306\u001b[0m \u001b[43m                \u001b[49m\u001b[38;5;124;43m\"\u001b[39;49m\u001b[38;5;124;43mtemperature\u001b[39;49m\u001b[38;5;124;43m\"\u001b[39;49m\u001b[43m:\u001b[49m\u001b[43m \u001b[49m\u001b[43mtemperature\u001b[49m\u001b[43m,\u001b[49m\n\u001b[0;32m    307\u001b[0m \u001b[43m                \u001b[49m\u001b[38;5;124;43m\"\u001b[39;49m\u001b[38;5;124;43mtool_choice\u001b[39;49m\u001b[38;5;124;43m\"\u001b[39;49m\u001b[43m:\u001b[49m\u001b[43m \u001b[49m\u001b[43mtool_choice\u001b[49m\u001b[43m,\u001b[49m\n\u001b[0;32m    308\u001b[0m \u001b[43m                \u001b[49m\u001b[38;5;124;43m\"\u001b[39;49m\u001b[38;5;124;43mtools\u001b[39;49m\u001b[38;5;124;43m\"\u001b[39;49m\u001b[43m:\u001b[49m\u001b[43m \u001b[49m\u001b[43mtools\u001b[49m\u001b[43m,\u001b[49m\n\u001b[0;32m    309\u001b[0m \u001b[43m                \u001b[49m\u001b[38;5;124;43m\"\u001b[39;49m\u001b[38;5;124;43mtop_logprobs\u001b[39;49m\u001b[38;5;124;43m\"\u001b[39;49m\u001b[43m:\u001b[49m\u001b[43m \u001b[49m\u001b[43mtop_logprobs\u001b[49m\u001b[43m,\u001b[49m\n\u001b[0;32m    310\u001b[0m \u001b[43m                \u001b[49m\u001b[38;5;124;43m\"\u001b[39;49m\u001b[38;5;124;43mtop_p\u001b[39;49m\u001b[38;5;124;43m\"\u001b[39;49m\u001b[43m:\u001b[49m\u001b[43m \u001b[49m\u001b[43mtop_p\u001b[49m\u001b[43m,\u001b[49m\n\u001b[0;32m    311\u001b[0m \u001b[43m                \u001b[49m\u001b[38;5;124;43m\"\u001b[39;49m\u001b[38;5;124;43muser\u001b[39;49m\u001b[38;5;124;43m\"\u001b[39;49m\u001b[43m:\u001b[49m\u001b[43m \u001b[49m\u001b[43muser\u001b[49m\u001b[43m,\u001b[49m\n\u001b[0;32m    312\u001b[0m \u001b[43m            \u001b[49m\u001b[43m}\u001b[49m\u001b[43m,\u001b[49m\n\u001b[0;32m    313\u001b[0m \u001b[43m            \u001b[49m\u001b[43mcompletion_create_params\u001b[49m\u001b[38;5;241;43m.\u001b[39;49m\u001b[43mCompletionCreateParams\u001b[49m\u001b[43m,\u001b[49m\n\u001b[0;32m    314\u001b[0m \u001b[43m        \u001b[49m\u001b[43m)\u001b[49m\u001b[43m,\u001b[49m\n\u001b[0;32m    315\u001b[0m \u001b[43m        \u001b[49m\u001b[43moptions\u001b[49m\u001b[38;5;241;43m=\u001b[39;49m\u001b[43mmake_request_options\u001b[49m\u001b[43m(\u001b[49m\n\u001b[0;32m    316\u001b[0m \u001b[43m            \u001b[49m\u001b[43mextra_headers\u001b[49m\u001b[38;5;241;43m=\u001b[39;49m\u001b[43mextra_headers\u001b[49m\u001b[43m,\u001b[49m\u001b[43m \u001b[49m\u001b[43mextra_query\u001b[49m\u001b[38;5;241;43m=\u001b[39;49m\u001b[43mextra_query\u001b[49m\u001b[43m,\u001b[49m\u001b[43m \u001b[49m\u001b[43mextra_body\u001b[49m\u001b[38;5;241;43m=\u001b[39;49m\u001b[43mextra_body\u001b[49m\u001b[43m,\u001b[49m\u001b[43m \u001b[49m\u001b[43mtimeout\u001b[49m\u001b[38;5;241;43m=\u001b[39;49m\u001b[43mtimeout\u001b[49m\n\u001b[0;32m    317\u001b[0m \u001b[43m        \u001b[49m\u001b[43m)\u001b[49m\u001b[43m,\u001b[49m\n\u001b[0;32m    318\u001b[0m \u001b[43m        \u001b[49m\u001b[43mcast_to\u001b[49m\u001b[38;5;241;43m=\u001b[39;49m\u001b[43mChatCompletion\u001b[49m\u001b[43m,\u001b[49m\n\u001b[0;32m    319\u001b[0m \u001b[43m        \u001b[49m\u001b[43mstream\u001b[49m\u001b[38;5;241;43m=\u001b[39;49m\u001b[43mstream\u001b[49m\u001b[43m \u001b[49m\u001b[38;5;129;43;01mor\u001b[39;49;00m\u001b[43m \u001b[49m\u001b[38;5;28;43;01mFalse\u001b[39;49;00m\u001b[43m,\u001b[49m\n\u001b[0;32m    320\u001b[0m \u001b[43m        \u001b[49m\u001b[43mstream_cls\u001b[49m\u001b[38;5;241;43m=\u001b[39;49m\u001b[43mStream\u001b[49m\u001b[43m[\u001b[49m\u001b[43mChatCompletionChunk\u001b[49m\u001b[43m]\u001b[49m\u001b[43m,\u001b[49m\n\u001b[0;32m    321\u001b[0m \u001b[43m    \u001b[49m\u001b[43m)\u001b[49m\n",
      "File \u001b[1;32mc:\\Python Projects\\fabrIA\\.venv\\Lib\\site-packages\\groq\\_base_client.py:1244\u001b[0m, in \u001b[0;36mSyncAPIClient.post\u001b[1;34m(self, path, cast_to, body, options, files, stream, stream_cls)\u001b[0m\n\u001b[0;32m   1230\u001b[0m \u001b[38;5;28;01mdef\u001b[39;00m \u001b[38;5;21mpost\u001b[39m(\n\u001b[0;32m   1231\u001b[0m     \u001b[38;5;28mself\u001b[39m,\n\u001b[0;32m   1232\u001b[0m     path: \u001b[38;5;28mstr\u001b[39m,\n\u001b[1;32m   (...)\u001b[0m\n\u001b[0;32m   1239\u001b[0m     stream_cls: \u001b[38;5;28mtype\u001b[39m[_StreamT] \u001b[38;5;241m|\u001b[39m \u001b[38;5;28;01mNone\u001b[39;00m \u001b[38;5;241m=\u001b[39m \u001b[38;5;28;01mNone\u001b[39;00m,\n\u001b[0;32m   1240\u001b[0m ) \u001b[38;5;241m-\u001b[39m\u001b[38;5;241m>\u001b[39m ResponseT \u001b[38;5;241m|\u001b[39m _StreamT:\n\u001b[0;32m   1241\u001b[0m     opts \u001b[38;5;241m=\u001b[39m FinalRequestOptions\u001b[38;5;241m.\u001b[39mconstruct(\n\u001b[0;32m   1242\u001b[0m         method\u001b[38;5;241m=\u001b[39m\u001b[38;5;124m\"\u001b[39m\u001b[38;5;124mpost\u001b[39m\u001b[38;5;124m\"\u001b[39m, url\u001b[38;5;241m=\u001b[39mpath, json_data\u001b[38;5;241m=\u001b[39mbody, files\u001b[38;5;241m=\u001b[39mto_httpx_files(files), \u001b[38;5;241m*\u001b[39m\u001b[38;5;241m*\u001b[39moptions\n\u001b[0;32m   1243\u001b[0m     )\n\u001b[1;32m-> 1244\u001b[0m     \u001b[38;5;28;01mreturn\u001b[39;00m cast(ResponseT, \u001b[38;5;28;43mself\u001b[39;49m\u001b[38;5;241;43m.\u001b[39;49m\u001b[43mrequest\u001b[49m\u001b[43m(\u001b[49m\u001b[43mcast_to\u001b[49m\u001b[43m,\u001b[49m\u001b[43m \u001b[49m\u001b[43mopts\u001b[49m\u001b[43m,\u001b[49m\u001b[43m \u001b[49m\u001b[43mstream\u001b[49m\u001b[38;5;241;43m=\u001b[39;49m\u001b[43mstream\u001b[49m\u001b[43m,\u001b[49m\u001b[43m \u001b[49m\u001b[43mstream_cls\u001b[49m\u001b[38;5;241;43m=\u001b[39;49m\u001b[43mstream_cls\u001b[49m\u001b[43m)\u001b[49m)\n",
      "File \u001b[1;32mc:\\Python Projects\\fabrIA\\.venv\\Lib\\site-packages\\groq\\_base_client.py:936\u001b[0m, in \u001b[0;36mSyncAPIClient.request\u001b[1;34m(self, cast_to, options, remaining_retries, stream, stream_cls)\u001b[0m\n\u001b[0;32m    927\u001b[0m \u001b[38;5;28;01mdef\u001b[39;00m \u001b[38;5;21mrequest\u001b[39m(\n\u001b[0;32m    928\u001b[0m     \u001b[38;5;28mself\u001b[39m,\n\u001b[0;32m    929\u001b[0m     cast_to: Type[ResponseT],\n\u001b[1;32m   (...)\u001b[0m\n\u001b[0;32m    934\u001b[0m     stream_cls: \u001b[38;5;28mtype\u001b[39m[_StreamT] \u001b[38;5;241m|\u001b[39m \u001b[38;5;28;01mNone\u001b[39;00m \u001b[38;5;241m=\u001b[39m \u001b[38;5;28;01mNone\u001b[39;00m,\n\u001b[0;32m    935\u001b[0m ) \u001b[38;5;241m-\u001b[39m\u001b[38;5;241m>\u001b[39m ResponseT \u001b[38;5;241m|\u001b[39m _StreamT:\n\u001b[1;32m--> 936\u001b[0m     \u001b[38;5;28;01mreturn\u001b[39;00m \u001b[38;5;28;43mself\u001b[39;49m\u001b[38;5;241;43m.\u001b[39;49m\u001b[43m_request\u001b[49m\u001b[43m(\u001b[49m\n\u001b[0;32m    937\u001b[0m \u001b[43m        \u001b[49m\u001b[43mcast_to\u001b[49m\u001b[38;5;241;43m=\u001b[39;49m\u001b[43mcast_to\u001b[49m\u001b[43m,\u001b[49m\n\u001b[0;32m    938\u001b[0m \u001b[43m        \u001b[49m\u001b[43moptions\u001b[49m\u001b[38;5;241;43m=\u001b[39;49m\u001b[43moptions\u001b[49m\u001b[43m,\u001b[49m\n\u001b[0;32m    939\u001b[0m \u001b[43m        \u001b[49m\u001b[43mstream\u001b[49m\u001b[38;5;241;43m=\u001b[39;49m\u001b[43mstream\u001b[49m\u001b[43m,\u001b[49m\n\u001b[0;32m    940\u001b[0m \u001b[43m        \u001b[49m\u001b[43mstream_cls\u001b[49m\u001b[38;5;241;43m=\u001b[39;49m\u001b[43mstream_cls\u001b[49m\u001b[43m,\u001b[49m\n\u001b[0;32m    941\u001b[0m \u001b[43m        \u001b[49m\u001b[43mremaining_retries\u001b[49m\u001b[38;5;241;43m=\u001b[39;49m\u001b[43mremaining_retries\u001b[49m\u001b[43m,\u001b[49m\n\u001b[0;32m    942\u001b[0m \u001b[43m    \u001b[49m\u001b[43m)\u001b[49m\n",
      "File \u001b[1;32mc:\\Python Projects\\fabrIA\\.venv\\Lib\\site-packages\\groq\\_base_client.py:972\u001b[0m, in \u001b[0;36mSyncAPIClient._request\u001b[1;34m(self, cast_to, options, remaining_retries, stream, stream_cls)\u001b[0m\n\u001b[0;32m    969\u001b[0m log\u001b[38;5;241m.\u001b[39mdebug(\u001b[38;5;124m\"\u001b[39m\u001b[38;5;124mSending HTTP Request: \u001b[39m\u001b[38;5;132;01m%s\u001b[39;00m\u001b[38;5;124m \u001b[39m\u001b[38;5;132;01m%s\u001b[39;00m\u001b[38;5;124m\"\u001b[39m, request\u001b[38;5;241m.\u001b[39mmethod, request\u001b[38;5;241m.\u001b[39murl)\n\u001b[0;32m    971\u001b[0m \u001b[38;5;28;01mtry\u001b[39;00m:\n\u001b[1;32m--> 972\u001b[0m     response \u001b[38;5;241m=\u001b[39m \u001b[38;5;28;43mself\u001b[39;49m\u001b[38;5;241;43m.\u001b[39;49m\u001b[43m_client\u001b[49m\u001b[38;5;241;43m.\u001b[39;49m\u001b[43msend\u001b[49m\u001b[43m(\u001b[49m\n\u001b[0;32m    973\u001b[0m \u001b[43m        \u001b[49m\u001b[43mrequest\u001b[49m\u001b[43m,\u001b[49m\n\u001b[0;32m    974\u001b[0m \u001b[43m        \u001b[49m\u001b[43mstream\u001b[49m\u001b[38;5;241;43m=\u001b[39;49m\u001b[43mstream\u001b[49m\u001b[43m \u001b[49m\u001b[38;5;129;43;01mor\u001b[39;49;00m\u001b[43m \u001b[49m\u001b[38;5;28;43mself\u001b[39;49m\u001b[38;5;241;43m.\u001b[39;49m\u001b[43m_should_stream_response_body\u001b[49m\u001b[43m(\u001b[49m\u001b[43mrequest\u001b[49m\u001b[38;5;241;43m=\u001b[39;49m\u001b[43mrequest\u001b[49m\u001b[43m)\u001b[49m\u001b[43m,\u001b[49m\n\u001b[0;32m    975\u001b[0m \u001b[43m        \u001b[49m\u001b[38;5;241;43m*\u001b[39;49m\u001b[38;5;241;43m*\u001b[39;49m\u001b[43mkwargs\u001b[49m\u001b[43m,\u001b[49m\n\u001b[0;32m    976\u001b[0m \u001b[43m    \u001b[49m\u001b[43m)\u001b[49m\n\u001b[0;32m    977\u001b[0m \u001b[38;5;28;01mexcept\u001b[39;00m httpx\u001b[38;5;241m.\u001b[39mTimeoutException \u001b[38;5;28;01mas\u001b[39;00m err:\n\u001b[0;32m    978\u001b[0m     log\u001b[38;5;241m.\u001b[39mdebug(\u001b[38;5;124m\"\u001b[39m\u001b[38;5;124mEncountered httpx.TimeoutException\u001b[39m\u001b[38;5;124m\"\u001b[39m, exc_info\u001b[38;5;241m=\u001b[39m\u001b[38;5;28;01mTrue\u001b[39;00m)\n",
      "File \u001b[1;32mc:\\Python Projects\\fabrIA\\.venv\\Lib\\site-packages\\httpx\\_client.py:926\u001b[0m, in \u001b[0;36mClient.send\u001b[1;34m(self, request, stream, auth, follow_redirects)\u001b[0m\n\u001b[0;32m    922\u001b[0m \u001b[38;5;28mself\u001b[39m\u001b[38;5;241m.\u001b[39m_set_timeout(request)\n\u001b[0;32m    924\u001b[0m auth \u001b[38;5;241m=\u001b[39m \u001b[38;5;28mself\u001b[39m\u001b[38;5;241m.\u001b[39m_build_request_auth(request, auth)\n\u001b[1;32m--> 926\u001b[0m response \u001b[38;5;241m=\u001b[39m \u001b[38;5;28;43mself\u001b[39;49m\u001b[38;5;241;43m.\u001b[39;49m\u001b[43m_send_handling_auth\u001b[49m\u001b[43m(\u001b[49m\n\u001b[0;32m    927\u001b[0m \u001b[43m    \u001b[49m\u001b[43mrequest\u001b[49m\u001b[43m,\u001b[49m\n\u001b[0;32m    928\u001b[0m \u001b[43m    \u001b[49m\u001b[43mauth\u001b[49m\u001b[38;5;241;43m=\u001b[39;49m\u001b[43mauth\u001b[49m\u001b[43m,\u001b[49m\n\u001b[0;32m    929\u001b[0m \u001b[43m    \u001b[49m\u001b[43mfollow_redirects\u001b[49m\u001b[38;5;241;43m=\u001b[39;49m\u001b[43mfollow_redirects\u001b[49m\u001b[43m,\u001b[49m\n\u001b[0;32m    930\u001b[0m \u001b[43m    \u001b[49m\u001b[43mhistory\u001b[49m\u001b[38;5;241;43m=\u001b[39;49m\u001b[43m[\u001b[49m\u001b[43m]\u001b[49m\u001b[43m,\u001b[49m\n\u001b[0;32m    931\u001b[0m \u001b[43m\u001b[49m\u001b[43m)\u001b[49m\n\u001b[0;32m    932\u001b[0m \u001b[38;5;28;01mtry\u001b[39;00m:\n\u001b[0;32m    933\u001b[0m     \u001b[38;5;28;01mif\u001b[39;00m \u001b[38;5;129;01mnot\u001b[39;00m stream:\n",
      "File \u001b[1;32mc:\\Python Projects\\fabrIA\\.venv\\Lib\\site-packages\\httpx\\_client.py:954\u001b[0m, in \u001b[0;36mClient._send_handling_auth\u001b[1;34m(self, request, auth, follow_redirects, history)\u001b[0m\n\u001b[0;32m    951\u001b[0m request \u001b[38;5;241m=\u001b[39m \u001b[38;5;28mnext\u001b[39m(auth_flow)\n\u001b[0;32m    953\u001b[0m \u001b[38;5;28;01mwhile\u001b[39;00m \u001b[38;5;28;01mTrue\u001b[39;00m:\n\u001b[1;32m--> 954\u001b[0m     response \u001b[38;5;241m=\u001b[39m \u001b[38;5;28;43mself\u001b[39;49m\u001b[38;5;241;43m.\u001b[39;49m\u001b[43m_send_handling_redirects\u001b[49m\u001b[43m(\u001b[49m\n\u001b[0;32m    955\u001b[0m \u001b[43m        \u001b[49m\u001b[43mrequest\u001b[49m\u001b[43m,\u001b[49m\n\u001b[0;32m    956\u001b[0m \u001b[43m        \u001b[49m\u001b[43mfollow_redirects\u001b[49m\u001b[38;5;241;43m=\u001b[39;49m\u001b[43mfollow_redirects\u001b[49m\u001b[43m,\u001b[49m\n\u001b[0;32m    957\u001b[0m \u001b[43m        \u001b[49m\u001b[43mhistory\u001b[49m\u001b[38;5;241;43m=\u001b[39;49m\u001b[43mhistory\u001b[49m\u001b[43m,\u001b[49m\n\u001b[0;32m    958\u001b[0m \u001b[43m    \u001b[49m\u001b[43m)\u001b[49m\n\u001b[0;32m    959\u001b[0m     \u001b[38;5;28;01mtry\u001b[39;00m:\n\u001b[0;32m    960\u001b[0m         \u001b[38;5;28;01mtry\u001b[39;00m:\n",
      "File \u001b[1;32mc:\\Python Projects\\fabrIA\\.venv\\Lib\\site-packages\\httpx\\_client.py:991\u001b[0m, in \u001b[0;36mClient._send_handling_redirects\u001b[1;34m(self, request, follow_redirects, history)\u001b[0m\n\u001b[0;32m    988\u001b[0m \u001b[38;5;28;01mfor\u001b[39;00m hook \u001b[38;5;129;01min\u001b[39;00m \u001b[38;5;28mself\u001b[39m\u001b[38;5;241m.\u001b[39m_event_hooks[\u001b[38;5;124m\"\u001b[39m\u001b[38;5;124mrequest\u001b[39m\u001b[38;5;124m\"\u001b[39m]:\n\u001b[0;32m    989\u001b[0m     hook(request)\n\u001b[1;32m--> 991\u001b[0m response \u001b[38;5;241m=\u001b[39m \u001b[38;5;28;43mself\u001b[39;49m\u001b[38;5;241;43m.\u001b[39;49m\u001b[43m_send_single_request\u001b[49m\u001b[43m(\u001b[49m\u001b[43mrequest\u001b[49m\u001b[43m)\u001b[49m\n\u001b[0;32m    992\u001b[0m \u001b[38;5;28;01mtry\u001b[39;00m:\n\u001b[0;32m    993\u001b[0m     \u001b[38;5;28;01mfor\u001b[39;00m hook \u001b[38;5;129;01min\u001b[39;00m \u001b[38;5;28mself\u001b[39m\u001b[38;5;241m.\u001b[39m_event_hooks[\u001b[38;5;124m\"\u001b[39m\u001b[38;5;124mresponse\u001b[39m\u001b[38;5;124m\"\u001b[39m]:\n",
      "File \u001b[1;32mc:\\Python Projects\\fabrIA\\.venv\\Lib\\site-packages\\httpx\\_client.py:1027\u001b[0m, in \u001b[0;36mClient._send_single_request\u001b[1;34m(self, request)\u001b[0m\n\u001b[0;32m   1022\u001b[0m     \u001b[38;5;28;01mraise\u001b[39;00m \u001b[38;5;167;01mRuntimeError\u001b[39;00m(\n\u001b[0;32m   1023\u001b[0m         \u001b[38;5;124m\"\u001b[39m\u001b[38;5;124mAttempted to send an async request with a sync Client instance.\u001b[39m\u001b[38;5;124m\"\u001b[39m\n\u001b[0;32m   1024\u001b[0m     )\n\u001b[0;32m   1026\u001b[0m \u001b[38;5;28;01mwith\u001b[39;00m request_context(request\u001b[38;5;241m=\u001b[39mrequest):\n\u001b[1;32m-> 1027\u001b[0m     response \u001b[38;5;241m=\u001b[39m \u001b[43mtransport\u001b[49m\u001b[38;5;241;43m.\u001b[39;49m\u001b[43mhandle_request\u001b[49m\u001b[43m(\u001b[49m\u001b[43mrequest\u001b[49m\u001b[43m)\u001b[49m\n\u001b[0;32m   1029\u001b[0m \u001b[38;5;28;01massert\u001b[39;00m \u001b[38;5;28misinstance\u001b[39m(response\u001b[38;5;241m.\u001b[39mstream, SyncByteStream)\n\u001b[0;32m   1031\u001b[0m response\u001b[38;5;241m.\u001b[39mrequest \u001b[38;5;241m=\u001b[39m request\n",
      "File \u001b[1;32mc:\\Python Projects\\fabrIA\\.venv\\Lib\\site-packages\\httpx\\_transports\\default.py:236\u001b[0m, in \u001b[0;36mHTTPTransport.handle_request\u001b[1;34m(self, request)\u001b[0m\n\u001b[0;32m    223\u001b[0m req \u001b[38;5;241m=\u001b[39m httpcore\u001b[38;5;241m.\u001b[39mRequest(\n\u001b[0;32m    224\u001b[0m     method\u001b[38;5;241m=\u001b[39mrequest\u001b[38;5;241m.\u001b[39mmethod,\n\u001b[0;32m    225\u001b[0m     url\u001b[38;5;241m=\u001b[39mhttpcore\u001b[38;5;241m.\u001b[39mURL(\n\u001b[1;32m   (...)\u001b[0m\n\u001b[0;32m    233\u001b[0m     extensions\u001b[38;5;241m=\u001b[39mrequest\u001b[38;5;241m.\u001b[39mextensions,\n\u001b[0;32m    234\u001b[0m )\n\u001b[0;32m    235\u001b[0m \u001b[38;5;28;01mwith\u001b[39;00m map_httpcore_exceptions():\n\u001b[1;32m--> 236\u001b[0m     resp \u001b[38;5;241m=\u001b[39m \u001b[38;5;28;43mself\u001b[39;49m\u001b[38;5;241;43m.\u001b[39;49m\u001b[43m_pool\u001b[49m\u001b[38;5;241;43m.\u001b[39;49m\u001b[43mhandle_request\u001b[49m\u001b[43m(\u001b[49m\u001b[43mreq\u001b[49m\u001b[43m)\u001b[49m\n\u001b[0;32m    238\u001b[0m \u001b[38;5;28;01massert\u001b[39;00m \u001b[38;5;28misinstance\u001b[39m(resp\u001b[38;5;241m.\u001b[39mstream, typing\u001b[38;5;241m.\u001b[39mIterable)\n\u001b[0;32m    240\u001b[0m \u001b[38;5;28;01mreturn\u001b[39;00m Response(\n\u001b[0;32m    241\u001b[0m     status_code\u001b[38;5;241m=\u001b[39mresp\u001b[38;5;241m.\u001b[39mstatus,\n\u001b[0;32m    242\u001b[0m     headers\u001b[38;5;241m=\u001b[39mresp\u001b[38;5;241m.\u001b[39mheaders,\n\u001b[0;32m    243\u001b[0m     stream\u001b[38;5;241m=\u001b[39mResponseStream(resp\u001b[38;5;241m.\u001b[39mstream),\n\u001b[0;32m    244\u001b[0m     extensions\u001b[38;5;241m=\u001b[39mresp\u001b[38;5;241m.\u001b[39mextensions,\n\u001b[0;32m    245\u001b[0m )\n",
      "File \u001b[1;32mc:\\Python Projects\\fabrIA\\.venv\\Lib\\site-packages\\httpcore\\_sync\\connection_pool.py:216\u001b[0m, in \u001b[0;36mConnectionPool.handle_request\u001b[1;34m(self, request)\u001b[0m\n\u001b[0;32m    213\u001b[0m         closing \u001b[38;5;241m=\u001b[39m \u001b[38;5;28mself\u001b[39m\u001b[38;5;241m.\u001b[39m_assign_requests_to_connections()\n\u001b[0;32m    215\u001b[0m     \u001b[38;5;28mself\u001b[39m\u001b[38;5;241m.\u001b[39m_close_connections(closing)\n\u001b[1;32m--> 216\u001b[0m     \u001b[38;5;28;01mraise\u001b[39;00m exc \u001b[38;5;28;01mfrom\u001b[39;00m \u001b[38;5;28;01mNone\u001b[39;00m\n\u001b[0;32m    218\u001b[0m \u001b[38;5;66;03m# Return the response. Note that in this case we still have to manage\u001b[39;00m\n\u001b[0;32m    219\u001b[0m \u001b[38;5;66;03m# the point at which the response is closed.\u001b[39;00m\n\u001b[0;32m    220\u001b[0m \u001b[38;5;28;01massert\u001b[39;00m \u001b[38;5;28misinstance\u001b[39m(response\u001b[38;5;241m.\u001b[39mstream, Iterable)\n",
      "File \u001b[1;32mc:\\Python Projects\\fabrIA\\.venv\\Lib\\site-packages\\httpcore\\_sync\\connection_pool.py:196\u001b[0m, in \u001b[0;36mConnectionPool.handle_request\u001b[1;34m(self, request)\u001b[0m\n\u001b[0;32m    192\u001b[0m connection \u001b[38;5;241m=\u001b[39m pool_request\u001b[38;5;241m.\u001b[39mwait_for_connection(timeout\u001b[38;5;241m=\u001b[39mtimeout)\n\u001b[0;32m    194\u001b[0m \u001b[38;5;28;01mtry\u001b[39;00m:\n\u001b[0;32m    195\u001b[0m     \u001b[38;5;66;03m# Send the request on the assigned connection.\u001b[39;00m\n\u001b[1;32m--> 196\u001b[0m     response \u001b[38;5;241m=\u001b[39m \u001b[43mconnection\u001b[49m\u001b[38;5;241;43m.\u001b[39;49m\u001b[43mhandle_request\u001b[49m\u001b[43m(\u001b[49m\n\u001b[0;32m    197\u001b[0m \u001b[43m        \u001b[49m\u001b[43mpool_request\u001b[49m\u001b[38;5;241;43m.\u001b[39;49m\u001b[43mrequest\u001b[49m\n\u001b[0;32m    198\u001b[0m \u001b[43m    \u001b[49m\u001b[43m)\u001b[49m\n\u001b[0;32m    199\u001b[0m \u001b[38;5;28;01mexcept\u001b[39;00m ConnectionNotAvailable:\n\u001b[0;32m    200\u001b[0m     \u001b[38;5;66;03m# In some cases a connection may initially be available to\u001b[39;00m\n\u001b[0;32m    201\u001b[0m     \u001b[38;5;66;03m# handle a request, but then become unavailable.\u001b[39;00m\n\u001b[0;32m    202\u001b[0m     \u001b[38;5;66;03m#\u001b[39;00m\n\u001b[0;32m    203\u001b[0m     \u001b[38;5;66;03m# In this case we clear the connection and try again.\u001b[39;00m\n\u001b[0;32m    204\u001b[0m     pool_request\u001b[38;5;241m.\u001b[39mclear_connection()\n",
      "File \u001b[1;32mc:\\Python Projects\\fabrIA\\.venv\\Lib\\site-packages\\httpcore\\_sync\\connection.py:101\u001b[0m, in \u001b[0;36mHTTPConnection.handle_request\u001b[1;34m(self, request)\u001b[0m\n\u001b[0;32m     98\u001b[0m     \u001b[38;5;28mself\u001b[39m\u001b[38;5;241m.\u001b[39m_connect_failed \u001b[38;5;241m=\u001b[39m \u001b[38;5;28;01mTrue\u001b[39;00m\n\u001b[0;32m     99\u001b[0m     \u001b[38;5;28;01mraise\u001b[39;00m exc\n\u001b[1;32m--> 101\u001b[0m \u001b[38;5;28;01mreturn\u001b[39;00m \u001b[38;5;28;43mself\u001b[39;49m\u001b[38;5;241;43m.\u001b[39;49m\u001b[43m_connection\u001b[49m\u001b[38;5;241;43m.\u001b[39;49m\u001b[43mhandle_request\u001b[49m\u001b[43m(\u001b[49m\u001b[43mrequest\u001b[49m\u001b[43m)\u001b[49m\n",
      "File \u001b[1;32mc:\\Python Projects\\fabrIA\\.venv\\Lib\\site-packages\\httpcore\\_sync\\http11.py:143\u001b[0m, in \u001b[0;36mHTTP11Connection.handle_request\u001b[1;34m(self, request)\u001b[0m\n\u001b[0;32m    141\u001b[0m     \u001b[38;5;28;01mwith\u001b[39;00m Trace(\u001b[38;5;124m\"\u001b[39m\u001b[38;5;124mresponse_closed\u001b[39m\u001b[38;5;124m\"\u001b[39m, logger, request) \u001b[38;5;28;01mas\u001b[39;00m trace:\n\u001b[0;32m    142\u001b[0m         \u001b[38;5;28mself\u001b[39m\u001b[38;5;241m.\u001b[39m_response_closed()\n\u001b[1;32m--> 143\u001b[0m \u001b[38;5;28;01mraise\u001b[39;00m exc\n",
      "File \u001b[1;32mc:\\Python Projects\\fabrIA\\.venv\\Lib\\site-packages\\httpcore\\_sync\\http11.py:113\u001b[0m, in \u001b[0;36mHTTP11Connection.handle_request\u001b[1;34m(self, request)\u001b[0m\n\u001b[0;32m    102\u001b[0m     \u001b[38;5;28;01mpass\u001b[39;00m\n\u001b[0;32m    104\u001b[0m \u001b[38;5;28;01mwith\u001b[39;00m Trace(\n\u001b[0;32m    105\u001b[0m     \u001b[38;5;124m\"\u001b[39m\u001b[38;5;124mreceive_response_headers\u001b[39m\u001b[38;5;124m\"\u001b[39m, logger, request, kwargs\n\u001b[0;32m    106\u001b[0m ) \u001b[38;5;28;01mas\u001b[39;00m trace:\n\u001b[0;32m    107\u001b[0m     (\n\u001b[0;32m    108\u001b[0m         http_version,\n\u001b[0;32m    109\u001b[0m         status,\n\u001b[0;32m    110\u001b[0m         reason_phrase,\n\u001b[0;32m    111\u001b[0m         headers,\n\u001b[0;32m    112\u001b[0m         trailing_data,\n\u001b[1;32m--> 113\u001b[0m     ) \u001b[38;5;241m=\u001b[39m \u001b[38;5;28;43mself\u001b[39;49m\u001b[38;5;241;43m.\u001b[39;49m\u001b[43m_receive_response_headers\u001b[49m\u001b[43m(\u001b[49m\u001b[38;5;241;43m*\u001b[39;49m\u001b[38;5;241;43m*\u001b[39;49m\u001b[43mkwargs\u001b[49m\u001b[43m)\u001b[49m\n\u001b[0;32m    114\u001b[0m     trace\u001b[38;5;241m.\u001b[39mreturn_value \u001b[38;5;241m=\u001b[39m (\n\u001b[0;32m    115\u001b[0m         http_version,\n\u001b[0;32m    116\u001b[0m         status,\n\u001b[0;32m    117\u001b[0m         reason_phrase,\n\u001b[0;32m    118\u001b[0m         headers,\n\u001b[0;32m    119\u001b[0m     )\n\u001b[0;32m    121\u001b[0m network_stream \u001b[38;5;241m=\u001b[39m \u001b[38;5;28mself\u001b[39m\u001b[38;5;241m.\u001b[39m_network_stream\n",
      "File \u001b[1;32mc:\\Python Projects\\fabrIA\\.venv\\Lib\\site-packages\\httpcore\\_sync\\http11.py:186\u001b[0m, in \u001b[0;36mHTTP11Connection._receive_response_headers\u001b[1;34m(self, request)\u001b[0m\n\u001b[0;32m    183\u001b[0m timeout \u001b[38;5;241m=\u001b[39m timeouts\u001b[38;5;241m.\u001b[39mget(\u001b[38;5;124m\"\u001b[39m\u001b[38;5;124mread\u001b[39m\u001b[38;5;124m\"\u001b[39m, \u001b[38;5;28;01mNone\u001b[39;00m)\n\u001b[0;32m    185\u001b[0m \u001b[38;5;28;01mwhile\u001b[39;00m \u001b[38;5;28;01mTrue\u001b[39;00m:\n\u001b[1;32m--> 186\u001b[0m     event \u001b[38;5;241m=\u001b[39m \u001b[38;5;28;43mself\u001b[39;49m\u001b[38;5;241;43m.\u001b[39;49m\u001b[43m_receive_event\u001b[49m\u001b[43m(\u001b[49m\u001b[43mtimeout\u001b[49m\u001b[38;5;241;43m=\u001b[39;49m\u001b[43mtimeout\u001b[49m\u001b[43m)\u001b[49m\n\u001b[0;32m    187\u001b[0m     \u001b[38;5;28;01mif\u001b[39;00m \u001b[38;5;28misinstance\u001b[39m(event, h11\u001b[38;5;241m.\u001b[39mResponse):\n\u001b[0;32m    188\u001b[0m         \u001b[38;5;28;01mbreak\u001b[39;00m\n",
      "File \u001b[1;32mc:\\Python Projects\\fabrIA\\.venv\\Lib\\site-packages\\httpcore\\_sync\\http11.py:224\u001b[0m, in \u001b[0;36mHTTP11Connection._receive_event\u001b[1;34m(self, timeout)\u001b[0m\n\u001b[0;32m    221\u001b[0m     event \u001b[38;5;241m=\u001b[39m \u001b[38;5;28mself\u001b[39m\u001b[38;5;241m.\u001b[39m_h11_state\u001b[38;5;241m.\u001b[39mnext_event()\n\u001b[0;32m    223\u001b[0m \u001b[38;5;28;01mif\u001b[39;00m event \u001b[38;5;129;01mis\u001b[39;00m h11\u001b[38;5;241m.\u001b[39mNEED_DATA:\n\u001b[1;32m--> 224\u001b[0m     data \u001b[38;5;241m=\u001b[39m \u001b[38;5;28;43mself\u001b[39;49m\u001b[38;5;241;43m.\u001b[39;49m\u001b[43m_network_stream\u001b[49m\u001b[38;5;241;43m.\u001b[39;49m\u001b[43mread\u001b[49m\u001b[43m(\u001b[49m\n\u001b[0;32m    225\u001b[0m \u001b[43m        \u001b[49m\u001b[38;5;28;43mself\u001b[39;49m\u001b[38;5;241;43m.\u001b[39;49m\u001b[43mREAD_NUM_BYTES\u001b[49m\u001b[43m,\u001b[49m\u001b[43m \u001b[49m\u001b[43mtimeout\u001b[49m\u001b[38;5;241;43m=\u001b[39;49m\u001b[43mtimeout\u001b[49m\n\u001b[0;32m    226\u001b[0m \u001b[43m    \u001b[49m\u001b[43m)\u001b[49m\n\u001b[0;32m    228\u001b[0m     \u001b[38;5;66;03m# If we feed this case through h11 we'll raise an exception like:\u001b[39;00m\n\u001b[0;32m    229\u001b[0m     \u001b[38;5;66;03m#\u001b[39;00m\n\u001b[0;32m    230\u001b[0m     \u001b[38;5;66;03m#     httpcore.RemoteProtocolError: can't handle event type\u001b[39;00m\n\u001b[1;32m   (...)\u001b[0m\n\u001b[0;32m    234\u001b[0m     \u001b[38;5;66;03m# perspective. Instead we handle this case distinctly and treat\u001b[39;00m\n\u001b[0;32m    235\u001b[0m     \u001b[38;5;66;03m# it as a ConnectError.\u001b[39;00m\n\u001b[0;32m    236\u001b[0m     \u001b[38;5;28;01mif\u001b[39;00m data \u001b[38;5;241m==\u001b[39m \u001b[38;5;124mb\u001b[39m\u001b[38;5;124m\"\u001b[39m\u001b[38;5;124m\"\u001b[39m \u001b[38;5;129;01mand\u001b[39;00m \u001b[38;5;28mself\u001b[39m\u001b[38;5;241m.\u001b[39m_h11_state\u001b[38;5;241m.\u001b[39mtheir_state \u001b[38;5;241m==\u001b[39m h11\u001b[38;5;241m.\u001b[39mSEND_RESPONSE:\n",
      "File \u001b[1;32mc:\\Python Projects\\fabrIA\\.venv\\Lib\\site-packages\\httpcore\\_backends\\sync.py:126\u001b[0m, in \u001b[0;36mSyncStream.read\u001b[1;34m(self, max_bytes, timeout)\u001b[0m\n\u001b[0;32m    124\u001b[0m \u001b[38;5;28;01mwith\u001b[39;00m map_exceptions(exc_map):\n\u001b[0;32m    125\u001b[0m     \u001b[38;5;28mself\u001b[39m\u001b[38;5;241m.\u001b[39m_sock\u001b[38;5;241m.\u001b[39msettimeout(timeout)\n\u001b[1;32m--> 126\u001b[0m     \u001b[38;5;28;01mreturn\u001b[39;00m \u001b[38;5;28;43mself\u001b[39;49m\u001b[38;5;241;43m.\u001b[39;49m\u001b[43m_sock\u001b[49m\u001b[38;5;241;43m.\u001b[39;49m\u001b[43mrecv\u001b[49m\u001b[43m(\u001b[49m\u001b[43mmax_bytes\u001b[49m\u001b[43m)\u001b[49m\n",
      "File \u001b[1;32mC:\\Program Files\\Python\\Lib\\ssl.py:1263\u001b[0m, in \u001b[0;36mSSLSocket.recv\u001b[1;34m(self, buflen, flags)\u001b[0m\n\u001b[0;32m   1259\u001b[0m     \u001b[38;5;28;01mif\u001b[39;00m flags \u001b[38;5;241m!=\u001b[39m \u001b[38;5;241m0\u001b[39m:\n\u001b[0;32m   1260\u001b[0m         \u001b[38;5;28;01mraise\u001b[39;00m \u001b[38;5;167;01mValueError\u001b[39;00m(\n\u001b[0;32m   1261\u001b[0m             \u001b[38;5;124m\"\u001b[39m\u001b[38;5;124mnon-zero flags not allowed in calls to recv() on \u001b[39m\u001b[38;5;132;01m%s\u001b[39;00m\u001b[38;5;124m\"\u001b[39m \u001b[38;5;241m%\u001b[39m\n\u001b[0;32m   1262\u001b[0m             \u001b[38;5;28mself\u001b[39m\u001b[38;5;241m.\u001b[39m\u001b[38;5;18m__class__\u001b[39m)\n\u001b[1;32m-> 1263\u001b[0m     \u001b[38;5;28;01mreturn\u001b[39;00m \u001b[38;5;28;43mself\u001b[39;49m\u001b[38;5;241;43m.\u001b[39;49m\u001b[43mread\u001b[49m\u001b[43m(\u001b[49m\u001b[43mbuflen\u001b[49m\u001b[43m)\u001b[49m\n\u001b[0;32m   1264\u001b[0m \u001b[38;5;28;01melse\u001b[39;00m:\n\u001b[0;32m   1265\u001b[0m     \u001b[38;5;28;01mreturn\u001b[39;00m \u001b[38;5;28msuper\u001b[39m()\u001b[38;5;241m.\u001b[39mrecv(buflen, flags)\n",
      "File \u001b[1;32mC:\\Program Files\\Python\\Lib\\ssl.py:1136\u001b[0m, in \u001b[0;36mSSLSocket.read\u001b[1;34m(self, len, buffer)\u001b[0m\n\u001b[0;32m   1134\u001b[0m         \u001b[38;5;28;01mreturn\u001b[39;00m \u001b[38;5;28mself\u001b[39m\u001b[38;5;241m.\u001b[39m_sslobj\u001b[38;5;241m.\u001b[39mread(\u001b[38;5;28mlen\u001b[39m, buffer)\n\u001b[0;32m   1135\u001b[0m     \u001b[38;5;28;01melse\u001b[39;00m:\n\u001b[1;32m-> 1136\u001b[0m         \u001b[38;5;28;01mreturn\u001b[39;00m \u001b[38;5;28;43mself\u001b[39;49m\u001b[38;5;241;43m.\u001b[39;49m\u001b[43m_sslobj\u001b[49m\u001b[38;5;241;43m.\u001b[39;49m\u001b[43mread\u001b[49m\u001b[43m(\u001b[49m\u001b[38;5;28;43mlen\u001b[39;49m\u001b[43m)\u001b[49m\n\u001b[0;32m   1137\u001b[0m \u001b[38;5;28;01mexcept\u001b[39;00m SSLError \u001b[38;5;28;01mas\u001b[39;00m x:\n\u001b[0;32m   1138\u001b[0m     \u001b[38;5;28;01mif\u001b[39;00m x\u001b[38;5;241m.\u001b[39margs[\u001b[38;5;241m0\u001b[39m] \u001b[38;5;241m==\u001b[39m SSL_ERROR_EOF \u001b[38;5;129;01mand\u001b[39;00m \u001b[38;5;28mself\u001b[39m\u001b[38;5;241m.\u001b[39msuppress_ragged_eofs:\n",
      "\u001b[1;31mKeyboardInterrupt\u001b[0m: "
     ]
    }
   ],
   "source": [
    "# Prueba doc_editor.py\n",
    "\n",
    "from pathlib import Path\n",
    "from doc_editor import editar_doc\n",
    "\n",
    "\n",
    "# VARIABLES:\n",
    "nombre_fichero = 'TEST.pdf' # Debe incluir la extensión al final (.pptx, .docx o .pdf)\n",
    "\n",
    "color_to_exclude = '#FF0000' # poner en formato #F00000\n",
    "\n",
    "# Rutas de documentos a traducir y devolución\n",
    "input_path = f'test/in/{nombre_fichero}'\n",
    "output_path = f'test/out/Editado_{nombre_fichero}'\n",
    "extension = Path(nombre_fichero).suffix\n",
    "\n",
    "add_prompt = 'Pon todo el texto en mayúsculas'\n",
    "\n",
    "editar_doc(\n",
    "            input_path,\n",
    "            output_path,\n",
    "            extension,\n",
    "            color_to_exclude,\n",
    "            add_prompt\n",
    "        )"
   ]
  }
 ],
 "metadata": {
  "kernelspec": {
   "display_name": ".venv",
   "language": "python",
   "name": "python3"
  },
  "language_info": {
   "codemirror_mode": {
    "name": "ipython",
    "version": 3
   },
   "file_extension": ".py",
   "mimetype": "text/x-python",
   "name": "python",
   "nbconvert_exporter": "python",
   "pygments_lexer": "ipython3",
   "version": "3.11.4"
  }
 },
 "nbformat": 4,
 "nbformat_minor": 2
}
