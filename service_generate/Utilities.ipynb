{
 "cells": [
  {
   "cell_type": "code",
   "execution_count": 1,
   "metadata": {},
   "outputs": [
    {
     "name": "stderr",
     "output_type": "stream",
     "text": [
      "c:\\Python Projects\\DocumentarIA\\.venv\\Lib\\site-packages\\sentence_transformers\\cross_encoder\\CrossEncoder.py:13: TqdmWarning: IProgress not found. Please update jupyter and ipywidgets. See https://ipywidgets.readthedocs.io/en/stable/user_install.html\n",
      "  from tqdm.autonotebook import tqdm, trange\n"
     ]
    },
    {
     "name": "stdout",
     "output_type": "stream",
     "text": [
      "\n",
      "        Generate structured content for a docx document based on the following prompt:\n",
      "        - Use the formatting codes provided below where appropriate. Always add start and end codes.\n",
      "        Here are the formatting codes and their meanings:\n",
      "        - [H1]: [/H1]\n",
      "- [H2]: [/H2]\n",
      "- [BOLD]: [/BOLD]\n",
      "- [ITALIC]: [/ITALIC]\n",
      "- [COLOR:color_name]: [/COLOR]\n",
      "- [PAGEBREAK]: \n",
      "- [TABLE]: [/TABLE]\n",
      "        - For page or slide breaks, simply use [PAGEBREAK].\n",
      "        - Do not use other formatting codes not provided.\n",
      "        - For presentations (pptx), include a title for each slide with appropriate formatting (H1).\n",
      "        - For text documents (docx), include title after a pagebreak and paragraphs with appropriate formatting.\n",
      "        - You can combine multiple formatting codes, for example: [BOLD][COLOR:red]This is bold and red text[/COLOR][/BOLD]\n",
      "        - Available colors: red, green, blue, yellow, orange, purple, black, white, grey\n",
      "        - For tables, use the format:\n",
      "          [TABLE]\n",
      "          Header1;Header2\n",
      "          Row1Col1;Row1Col2\n",
      "          Row2Col1;Row2Col2\n",
      "          [/TABLE]\n",
      "        - Example of formatted output:\n",
      "          [H1]Exploring the World of Science[/H1]\n",
      "          [BOLD]Science is a way of learning about the world around us.[/BOLD]\n",
      "          [ITALIC]This is a bulleted list item.[/ITALIC]\n",
      "          [COLOR:blue]- Item 1[/COLOR]\n",
      "          [COLOR:green]- Item 2[/COLOR]\n",
      "          [PAGEBREAK]\n",
      "          [TABLE]\n",
      "          Animals;Habitat\n",
      "          Lion;Savannah\n",
      "          Tiger;Forest\n",
      "          Whale;Ocean\n",
      "          [/TABLE]\n",
      "        - Here are some examples of related content for context:\n",
      "        - Aquellas que adopten esta tecnología no solo mejorarán su eficiencia operativa, sino que también estarán mejor posicionadas para enfrentar los desafíos del futuro en un mundo empresarial en constante cambio. (ID: 15)\n",
      "- Aquelles que adoptin aquesta tecnologia no només milloraran la seva eficiència operativa, sinó que també estaran millor posicionades per afrontar els reptes del futur en un món empresarial en constant canvi. (ID: 30)\n",
      "- También es crucial considerar los aspectos éticos de la IA, asegurando que las decisiones tomadas por algoritmos sean justas y transparentes. (ID: 10)\n",
      "        Do not add any comment rather than the content asked, also do not repeat the prompt or any instruction.\n",
      "        Always write content in the same language as given instructions.\n",
      "        These are the given instructions for the content:\n",
      "        Escribe un ensayo sobre la importancia de la educación.\n",
      "        \n",
      "[PAGEBREAK]\n",
      "[H1]La Educación: El Pilar del Desarrollo[/H1]\n",
      "\n",
      "[BOLD]La educación es esencial para el crecimiento personal, social y económico de un individuo y de una nación.[/BOLD] Es el motor que impulsa el progreso y permite a las personas alcanzar su máximo potencial.\n",
      "\n",
      "[TABLE]\n",
      "Beneficios de la Educación;Repercusiones\n",
      "Mejora la calidad de vida;Incrementa las oportunidades laborales\n",
      "Fomenta la conciencia crítica;Promueve la participación ciudadana\n",
      "Avanza el conocimiento y la investigación;Contribuye al desarrollo sostenible\n",
      "[/TABLE]\n",
      "\n",
      "[COLOR:green]Entre los factores que contribuyen al éxito de una sociedad, la educación ocupa un lugar destacado.[/COLOR] [ITALIC]De hecho, las naciones con altos estándares educativos tienden a tener mayor progreso económico y social.[/ITALIC]\n",
      "\n",
      "[PAGEBREAK]\n",
      "[H2]La Educación como Herramienta de Emancipación[/H2]\n",
      "\n",
      "[BOLD][COLOR:blue]La educación es una herramienta poderosa para romper las barreras sociales y económicas que perpetúan la desigualdad.[/COLOR][/BOLD] Permite a los individuos tomar decisiones informadas y'autónomas sobre su vida y su futuro.\n",
      "\n",
      "En un mundo en constante cambio, la educación es esencial para que las personas puedan adaptarse y responder a los desafíos emergentes. [COLOR:orange]Invertir en educación es invertir en el futuro de nuestra sociedad.[/COLOR]\n",
      "\n",
      "[PAGEBREAK]\n",
      "[H1]Conclusión[/H1]\n",
      "\n",
      "[BOLD]En conclusión, la educación es fundamental para el desarrollo humano y social.[/BOLD] [ITALIC]Es importante que las sociedades y los gobiernos trabajen juntos para garantizar el acceso a la educación de calidad para todos.[/ITALIC] Sólo entonces podremos construir un futuro más justo y próspero para todos.\n",
      "DOCX creado con éxito: output_document.docx.\n"
     ]
    }
   ],
   "source": [
    "from test_doc_generate_embedding import generate_and_create_file\n",
    "import os\n",
    "\n",
    "# Función principal para probar la generación de archivos\n",
    "def main():\n",
    "    prompt = \"Escribe un ensayo sobre la importancia de la educación.\"\n",
    "    file_type = \"docx\"  # O 'pptx' para una presentación\n",
    "    output = \"output_document.docx\"  # Cambia el nombre de archivo según sea necesario\n",
    "\n",
    "    try:\n",
    "        # Llamar a la función para generar y crear el archivo\n",
    "        generate_and_create_file(prompt, file_type, output)\n",
    "        print(f\"{file_type.upper()} creado con éxito: {output}.\")\n",
    "    except Exception as e:\n",
    "        print(f\"Ocurrió un error: {e}\")\n",
    "\n",
    "# Ejecutar la función principal\n",
    "if __name__ == \"__main__\":\n",
    "    main()\n"
   ]
  }
 ],
 "metadata": {
  "kernelspec": {
   "display_name": ".venv",
   "language": "python",
   "name": "python3"
  },
  "language_info": {
   "codemirror_mode": {
    "name": "ipython",
    "version": 3
   },
   "file_extension": ".py",
   "mimetype": "text/x-python",
   "name": "python",
   "nbconvert_exporter": "python",
   "pygments_lexer": "ipython3",
   "version": "3.11.4"
  }
 },
 "nbformat": 4,
 "nbformat_minor": 2
}
