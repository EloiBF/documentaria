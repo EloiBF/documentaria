{
 "cells": [
  {
   "cell_type": "code",
   "execution_count": 2,
   "metadata": {},
   "outputs": [
    {
     "name": "stdout",
     "output_type": "stream",
     "text": [
      "\n",
      "Ejemplos encontrados:\n",
      "\n",
      "Ejemplo: \"Uno de los campos donde la IA ha mostrado un impacto significativo es en el servicio al cliente.\"\n",
      "Ejemplo: \"A medida que la IA continúa evolucionando, las empresas que no se adapten corren el riesgo de quedarse atrás.\"\n",
      "Ejemplo: \"Aquellas que adopten esta tecnología no solo mejorarán su eficiencia operativa, sino que también estarán mejor posicionadas para enfrentar los desafíos del futuro en un mundo empresarial en constante cambio.\"\n",
      "Ejemplo: \"En conclusión, la inteligencia artificial es más que una moda pasajera; es una transformación radical en la forma en que las empresas operan.\"\n",
      "Ejemplo: \"La competencia está utilizando IA para ganar ventaja, y aquellas que ignoren esta tendencia podrían perder oportunidades clave en el mercado.\"\n"
     ]
    }
   ],
   "source": [
    "import numpy as np\n",
    "import os\n",
    "import glob\n",
    "import re\n",
    "import sqlite3\n",
    "from sentence_transformers import SentenceTransformer\n",
    "\n",
    "from search_embedding import find_embedding_examples\n",
    "\n",
    "\n",
    "# Ejemplo de uso\n",
    "if __name__ == \"__main__\":\n",
    "\n",
    "    # Realizar una búsqueda de ejemplo\n",
    "    query = \"Esto es un señor texto\"  # Frase de ejemplo en español\n",
    "    examples = find_embedding_examples(query, language='CAS')\n",
    "\n",
    "    # Imprimir resultados en el formato deseado\n",
    "    print(\"\\nEjemplos encontrados:\\n\")\n",
    "    for example in examples:\n",
    "        original_row, _ = example\n",
    "        print(f\"Ejemplo: \\\"{original_row[1]}\\\"\")\n",
    "\n"
   ]
  },
  {
   "cell_type": "code",
   "execution_count": 4,
   "metadata": {},
   "outputs": [
    {
     "name": "stdout",
     "output_type": "stream",
     "text": [
      "\n",
      "Ejemplos encontrados en CAS:\n",
      "\n",
      "Ejemplo CAS: \"Uno de los campos donde la IA ha mostrado un impacto significativo es en el servicio al cliente.\"\n",
      "Ejemplo CAS: \"A medida que la IA continúa evolucionando, las empresas que no se adapten corren el riesgo de quedarse atrás.\"\n",
      "Ejemplo CAS: \"Aquellas que adopten esta tecnología no solo mejorarán su eficiencia operativa, sino que también estarán mejor posicionadas para enfrentar los desafíos del futuro en un mundo empresarial en constante cambio.\"\n",
      "Ejemplo CAS: \"En conclusión, la inteligencia artificial es más que una moda pasajera; es una transformación radical en la forma en que las empresas operan.\"\n",
      "Ejemplo CAS: \"La competencia está utilizando IA para ganar ventaja, y aquellas que ignoren esta tendencia podrían perder oportunidades clave en el mercado.\"\n",
      "\n",
      "Traducciones encontradas en CAT:\n",
      "\n",
      "Ejemplo CAT: \"Un dels camps on la IA ha mostrat un impacte significatiu és en el servei al client.\"\n",
      "Ejemplo CAT: \"A mesura que la IA continua evolucionant, les empreses que no s'adaptin corren el risc de quedar-se enrere.\"\n",
      "Ejemplo CAT: \"Aquelles que adoptin aquesta tecnologia no només milloraran la seva eficiència operativa, sinó que també estaran millor posicionades per afrontar els reptes del futur en un món empresarial en constant canvi.\"\n",
      "Ejemplo CAT: \"En conclusió, la intel·ligència artificial és més que una moda passatgera; és una transformació radical en la forma en què les empreses operen.\"\n",
      "Ejemplo CAT: \"La competència està utilitzant IA per guanyar avantatge, i aquelles que ignorin aquesta tendència podrien perdre oportunitats clau al mercat.\"\n"
     ]
    }
   ],
   "source": [
    "import numpy as np\n",
    "import os\n",
    "import glob\n",
    "import re\n",
    "import sqlite3\n",
    "from sentence_transformers import SentenceTransformer\n",
    "\n",
    "from search_embedding import find_embedding_examples\n",
    "from search_embedding import find_translation_examples\n",
    "\n",
    "# Ejemplo de uso para buscar traducciones\n",
    "if __name__ == \"__main__\":\n",
    "    # Frase de ejemplo en español para buscar ejemplos\n",
    "    query = \"Esto es un señor texto\"  # Frase en español\n",
    "    language = 'CAS'  # Idioma original\n",
    "    target_language = 'CAT'  # Idioma al que queremos traducir\n",
    "\n",
    "    # Buscar ejemplos en el idioma original\n",
    "    examples = find_embedding_examples(query, language=language)\n",
    "\n",
    "    if examples is None or len(examples) == 0:\n",
    "        print(\"No se encontraron ejemplos en el idioma original.\")\n",
    "    else:\n",
    "        print(\"\\nEjemplos encontrados en CAS:\\n\")\n",
    "        for example in examples:\n",
    "            original_row, _ = example\n",
    "            print(f\"Ejemplo CAS: \\\"{original_row[1]}\\\"\")\n",
    "        \n",
    "        # Buscar traducciones basadas en los ejemplos encontrados\n",
    "        translations = find_translation_examples(examples, target_language=target_language)\n",
    "\n",
    "        if translations is None or len(translations) == 0:\n",
    "            print(\"No se encontraron traducciones para los ejemplos encontrados.\")\n",
    "        else:\n",
    "            print(f\"\\nTraducciones encontradas en {target_language}:\\n\")\n",
    "            for translation in translations:\n",
    "                print(f\"Ejemplo {target_language}: \\\"{translation[0]}\\\"\")\n"
   ]
  }
 ],
 "metadata": {
  "kernelspec": {
   "display_name": ".venv",
   "language": "python",
   "name": "python3"
  },
  "language_info": {
   "codemirror_mode": {
    "name": "ipython",
    "version": 3
   },
   "file_extension": ".py",
   "mimetype": "text/x-python",
   "name": "python",
   "nbconvert_exporter": "python",
   "pygments_lexer": "ipython3",
   "version": "3.11.4"
  }
 },
 "nbformat": 4,
 "nbformat_minor": 2
}
