{
 "cells": [
  {
   "cell_type": "code",
   "execution_count": 1,
   "metadata": {},
   "outputs": [
    {
     "name": "stderr",
     "output_type": "stream",
     "text": [
      "c:\\Python Projects\\DocumentarIA\\.venv\\Lib\\site-packages\\sentence_transformers\\cross_encoder\\CrossEncoder.py:13: TqdmWarning: IProgress not found. Please update jupyter and ipywidgets. See https://ipywidgets.readthedocs.io/en/stable/user_install.html\n",
      "  from tqdm.autonotebook import tqdm, trange\n"
     ]
    },
    {
     "name": "stdout",
     "output_type": "stream",
     "text": [
      "Archivos encontrados: ['ficheros_prueba\\\\CAS_ai_business_spanish.txt', 'ficheros_prueba\\\\CAT_ai_business_catalan.txt', 'ficheros_prueba\\\\ENG_ai_business_english.txt']\n",
      "Embeddings guardados en SQLite.\n",
      "Embeddings generados con éxito.\n"
     ]
    }
   ],
   "source": [
    "import os\n",
    "from generate_embeddings import crear_db_vectorial\n",
    "\n",
    "\n",
    "# EL NOMBRE DE FICHEROS DE EMBEDDING DEBE EMPEZAR POR EL IDIOMA EN CUESTIÓN (LOS IDIOMAS SE DEFINEN EN GENERATE_EMBEDDINGS.PY)\n",
    "\n",
    "def main():\n",
    "    # Directorio con los archivos que queremos procesar\n",
    "    directory = 'ficheros_prueba/'  # Cambia esto si es necesario\n",
    "\n",
    "    # Diccionario que asocia archivos con idiomas\n",
    "    try:\n",
    "        # Crear la base de datos vectorial\n",
    "        collection = crear_db_vectorial(directory=directory, grupo=1)\n",
    "        print(\"Embeddings generados con éxito.\")\n",
    "    except Exception as e:\n",
    "        print(f\"Error al generar embeddings: {str(e)}\")\n",
    "\n",
    "if __name__ == \"__main__\":\n",
    "    main()\n",
    "\n"
   ]
  }
 ],
 "metadata": {
  "kernelspec": {
   "display_name": ".venv",
   "language": "python",
   "name": "python3"
  },
  "language_info": {
   "codemirror_mode": {
    "name": "ipython",
    "version": 3
   },
   "file_extension": ".py",
   "mimetype": "text/x-python",
   "name": "python",
   "nbconvert_exporter": "python",
   "pygments_lexer": "ipython3",
   "version": "3.11.4"
  }
 },
 "nbformat": 4,
 "nbformat_minor": 2
}
