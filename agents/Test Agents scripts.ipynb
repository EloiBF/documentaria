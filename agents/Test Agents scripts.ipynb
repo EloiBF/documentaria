{
 "cells": [
  {
   "cell_type": "code",
   "execution_count": 4,
   "metadata": {},
   "outputs": [
    {
     "name": "stdout",
     "output_type": "stream",
     "text": [
      "Codificación detectada automáticamente: ISO-8859-1\n",
      "Archivo leído con éxito usando la codificación detectada: ISO-8859-1\n"
     ]
    },
    {
     "data": {
      "text/plain": [
       "'Traición en el mercado'"
      ]
     },
     "execution_count": 4,
     "metadata": {},
     "output_type": "execute_result"
    }
   ],
   "source": [
    "# TEST SUMMARIZE \n",
    "\n",
    "from doc_summarize import resumir_doc\n",
    "\n",
    "text = \"song.txt\"\n",
    "language = \"spanish\"\n",
    "\n",
    "#find_general_examples(text)\n",
    "resumir_doc(text,10,language,\"\")"
   ]
  }
 ],
 "metadata": {
  "kernelspec": {
   "display_name": ".venv",
   "language": "python",
   "name": "python3"
  },
  "language_info": {
   "codemirror_mode": {
    "name": "ipython",
    "version": 3
   },
   "file_extension": ".py",
   "mimetype": "text/x-python",
   "name": "python",
   "nbconvert_exporter": "python",
   "pygments_lexer": "ipython3",
   "version": "3.11.4"
  }
 },
 "nbformat": 4,
 "nbformat_minor": 2
}
