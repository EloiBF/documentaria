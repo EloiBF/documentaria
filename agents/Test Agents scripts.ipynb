{
 "cells": [
  {
   "cell_type": "code",
   "execution_count": null,
   "metadata": {},
   "outputs": [
    {
     "name": "stdout",
     "output_type": "stream",
     "text": [
      "Codificación detectada automáticamente: ISO-8859-1\n",
      "Archivo leído con éxito usando la codificación detectada: ISO-8859-1\n"
     ]
    },
    {
     "name": "stderr",
     "output_type": "stream",
     "text": [
      "[INFO] HTTP Request: POST https://api.groq.com/openai/v1/chat/completions \"HTTP/1.1 200 OK\"\n"
     ]
    },
    {
     "data": {
      "text/plain": [
       "'Desesperació por un coti.'"
      ]
     },
     "execution_count": 8,
     "metadata": {},
     "output_type": "execute_result"
    }
   ],
   "source": [
    "# TEST SUMMARIZE \n",
    "\n",
    "from doc_summarize import resumir_doc\n",
    "\n",
    "text = \"song.txt\"\n",
    "language = \"spanish\"\n",
    "\n",
    "#find_general_examples(text)\n",
    "resumir_doc(text,10,language,\"\")"
   ]
  },
  {
   "cell_type": "code",
   "execution_count": 2,
   "metadata": {},
   "outputs": [
    {
     "name": "stdout",
     "output_type": "stream",
     "text": [
      "\n",
      "        Generate a structured outline for a docx document based on the following prompt:\n",
      "        - Provide a list of sections or pages, each with a title, subtitle (if applicable), and a brief summary of what will be included.\n",
      "        - Structure must be as this example, splitting pages with //:\n",
      "        PAGE1: TITLE: Exemple de títol CONTENT: Briefing in one sentence\n",
      "        //\n",
      "        PAGE2: TITLE: Exemple de títol2 CONTENT: Briefing in one sentence\n",
      "        //\n",
      "\n",
      "        Your response must be only the index, no explanation or comments.\n",
      "        Always introduce CONTENT: for every page, do not skip the word CONTENT:\n",
      "        Here is the prompt for the document outline:\n",
      "        Genera un documento de 5 páginas explicando la fotosíntesis en detalle como si fuese un trabajo de universidad\n",
      "        \n",
      "PAGE1: TITLE: Introducción a la fotosíntesis \n",
      "SUBTITLE: Definición y relevancia en la vida en la Tierra \n",
      "CONTENT: Introducción general a la fotosíntesis y su importancia en el ecosistema.\n",
      "\n",
      "//\n",
      "PAGE2: TITLE: Estructuras y órganos involucrados en la fotosíntesis \n",
      "SUBTITLE: Descripción de los cloroplastos y sus componentes \n",
      "CONTENT: Descripción detallada de las estructuras celulares y órganos que participan en el proceso de fotosíntesis.\n",
      "\n",
      "//\n",
      "PAGE3: TITLE: Procesos químicos y bioquímicos de la fotosíntesis \n",
      "SUBTITLE: Reacciones luminosas y ciclos de Calvin \n",
      "CONTENT: Explicación detallada de las reacciones químicas y bioquímicas que tienen lugar durante la fotosíntesis.\n",
      "\n",
      "//\n",
      "PAGE4: TITLE: Factores que influyen en la fotosíntesis \n",
      "SUBTITLE: Luz, temperatura, agua y nutrientes \n",
      "CONTENT: Análisis de los factores ambientales y fisiológicos que afectan la eficiencia de la fotosíntesis.\n",
      "\n",
      "//\n",
      "PAGE5: TITLE: Importancia y aplicaciones de la fotosíntesis en la sociedad \n",
      "SUBTITLE: Impacto en la producción de alimentos y la sostenibilidad ambiental \n",
      "CONTENT: Discusión sobre la relevancia de la fotosíntesis en la producción de alimentos y su papel en la sostenibilidad ambiental.\n",
      "Contenido de la página 'Introducción a la fotosíntesis \n",
      "SUBTITLE: Definición y relevancia en la vida en la Tierra': [PAGEBREAK]\n",
      "[H1]Introducción a la fotosíntesis[/H1]\n",
      "[H2]Definición y relevancia en la vida en la Tie...\n",
      "Contenido de la página 'Estructuras y órganos involucrados en la fotosíntesis \n",
      "SUBTITLE: Descripción de los cloroplastos y sus componentes': [PAGEBREAK]\n",
      "[H1]Estructuras y órganos involucrados en la fotosíntesis[/H1]\n",
      "[H2]Descripción de los cl...\n",
      "Contenido de la página 'Procesos químicos y bioquímicos de la fotosíntesis \n",
      "SUBTITLE: Reacciones luminosas y ciclos de Calvin': [H1]Procesos químicos y bioquímicos de la fotosíntesis[/H1]\n",
      "[H2]Reacciones luminosas y ciclos de Cal...\n",
      "Contenido de la página 'Factores que influyen en la fotosíntesis \n",
      "SUBTITLE: Luz, temperatura, agua y nutrientes': [PAGEBREAK]\n",
      "[H1]Factores que influyen en la fotosíntesis[/H1]\n",
      "[H2]Luz, temperatura, agua y nutriente...\n",
      "Contenido de la página 'Importancia y aplicaciones de la fotosíntesis en la sociedad \n",
      "SUBTITLE: Impacto en la producción de alimentos y la sostenibilidad ambiental': [PAGEBREAK]\n",
      "[H1]Importancia y aplicaciones de la fotosíntesis en la sociedad[/H1]\n",
      "[H2]Impacto en la ...\n"
     ]
    },
    {
     "data": {
      "text/plain": [
       "'fichero.docx'"
      ]
     },
     "execution_count": 2,
     "metadata": {},
     "output_type": "execute_result"
    }
   ],
   "source": [
    "from doc_generate import generate_and_create_file\n",
    "\n",
    "prompt = \"Genera un documento de 5 páginas explicando la fotosíntesis en detalle como si fuese un trabajo de universidad\"\n",
    "\n",
    "generate_and_create_file(prompt,\"docx\",\"fichero.docx\")"
   ]
  },
  {
   "cell_type": "code",
   "execution_count": 1,
   "metadata": {},
   "outputs": [
    {
     "name": "stdout",
     "output_type": "stream",
     "text": [
      "\n",
      "        Generate a structured outline for a pptx document based on the following prompt:\n",
      "        - Provide a list of sections or pages, each with a title, subtitle (if applicable), and a brief summary of what will be included.\n",
      "        - Structure must be as this example, splitting pages with //:\n",
      "        PAGE1: TITLE: Exemple de títol CONTENT: Briefing in one sentence\n",
      "        //\n",
      "        PAGE2: TITLE: Exemple de títol2 CONTENT: Briefing in one sentence\n",
      "        //\n",
      "\n",
      "        Your response must be only the index, no explanation or comments.\n",
      "        Always introduce CONTENT: for every page, do not skip the word CONTENT:\n",
      "        Here is the prompt for the document outline:\n",
      "        Genera un documento de 3 páginas explicando la fotosíntesis en detalle como si fuese un trabajo de universidad\n",
      "        \n",
      "PAGE1: TITLE: Introducción a la Fotosíntesis TITLE SUBTITLE: Definición y Importancia en el Medio Ambiente CONTENT: Explicación breve sobre la fotosíntesis y su rol crucial en el ecosistema. //\n",
      "        \n",
      "PAGE2: TITLE: Proceso de Fotosíntesis: Etapas y Reacciones Químicas CONTENT: Detalle y explicación de las etapas de la fotosíntesis y reacciones químicas involucradas. //\n",
      "        \n",
      "PAGE3: TITLE: Aplicaciones e Importancia de la Fotosíntesis en la Vida Diaria TITLE SUBTITLE: Impacto en la Producción de Alimento y la Economía CONTENT: Análisis y ejemplos de la importancia de la fotosíntesis en la producción de alimentos y su impacto económico. //\n",
      "Contenido de la página 'Introducción a la Fotosíntesis TITLE SUBTITLE: Definición y Importancia en el Medio Ambiente': [H1]Introducción a la Fotosíntesis[/H1]\n",
      "[H2]Definición y Importancia en el Medio Ambiente[/H2]\n",
      "\n",
      "[B]L...\n",
      "Contenido de la página 'Proceso de Fotosíntesis: Etapas y Reacciones Químicas': [H1]Proceso de Fotosíntesis: Etapas y Reacciones Químicas[/H1]\n",
      "\n",
      "[BOLD]La fotosíntesis es un proceso ...\n",
      "Contenido de la página 'Aplicaciones e Importancia de la Fotosíntesis en la Vida Diaria TITLE SUBTITLE: Impacto en la Producción de Alimento y la Economía': [H1]Aplicaciones e Importancia de la Fotosíntesis en la Vida Diaria[/H1]\n",
      "[H2]Impacto en la Producció...\n"
     ]
    },
    {
     "ename": "RuntimeError",
     "evalue": "Error generating and creating file: list indices must be integers or slices, not SlideLayout",
     "output_type": "error",
     "traceback": [
      "\u001b[1;31m---------------------------------------------------------------------------\u001b[0m",
      "\u001b[1;31mTypeError\u001b[0m                                 Traceback (most recent call last)",
      "File \u001b[1;32mc:\\Python Projects\\DocumentarIA\\agents\\doc_generate.py:454\u001b[0m, in \u001b[0;36mgenerate_and_create_file\u001b[1;34m(prompt, file_type, output)\u001b[0m\n\u001b[0;32m    453\u001b[0m     processor \u001b[38;5;241m=\u001b[39m PptxProcessor()\n\u001b[1;32m--> 454\u001b[0m     \u001b[38;5;28;01mreturn\u001b[39;00m \u001b[43mprocessor\u001b[49m\u001b[38;5;241;43m.\u001b[39;49m\u001b[43mcreate_presentation\u001b[49m\u001b[43m(\u001b[49m\u001b[43mcombined_content\u001b[49m\u001b[43m,\u001b[49m\u001b[43m \u001b[49m\u001b[43moutput\u001b[49m\u001b[43m)\u001b[49m\n\u001b[0;32m    455\u001b[0m \u001b[38;5;28;01melse\u001b[39;00m:\n",
      "File \u001b[1;32mc:\\Python Projects\\DocumentarIA\\agents\\doc_generate.py:160\u001b[0m, in \u001b[0;36mPptxProcessor.create_presentation\u001b[1;34m(self, content, output_path)\u001b[0m\n\u001b[0;32m    159\u001b[0m \u001b[38;5;66;03m# Eliminar diapositivas vacías antes de guardar\u001b[39;00m\n\u001b[1;32m--> 160\u001b[0m \u001b[38;5;28;43mself\u001b[39;49m\u001b[38;5;241;43m.\u001b[39;49m\u001b[43m_remove_empty_slides\u001b[49m\u001b[43m(\u001b[49m\u001b[43m)\u001b[49m\n\u001b[0;32m    162\u001b[0m \u001b[38;5;28mself\u001b[39m\u001b[38;5;241m.\u001b[39mprs\u001b[38;5;241m.\u001b[39msave(output_path)\n",
      "File \u001b[1;32mc:\\Python Projects\\DocumentarIA\\agents\\doc_generate.py:265\u001b[0m, in \u001b[0;36mPptxProcessor._remove_empty_slides\u001b[1;34m(self)\u001b[0m\n\u001b[0;32m    263\u001b[0m \u001b[38;5;28;01mif\u001b[39;00m \u001b[38;5;28many\u001b[39m(shape\u001b[38;5;241m.\u001b[39mhas_text_frame \u001b[38;5;129;01mand\u001b[39;00m shape\u001b[38;5;241m.\u001b[39mtext_frame\u001b[38;5;241m.\u001b[39mtext\u001b[38;5;241m.\u001b[39mstrip() \u001b[38;5;28;01mfor\u001b[39;00m shape \u001b[38;5;129;01min\u001b[39;00m slide\u001b[38;5;241m.\u001b[39mshapes):\n\u001b[0;32m    264\u001b[0m     \u001b[38;5;66;03m# Si la diapositiva no está vacía, agregarla a la nueva presentación\u001b[39;00m\n\u001b[1;32m--> 265\u001b[0m     slide_layout \u001b[38;5;241m=\u001b[39m \u001b[43mnew_prs\u001b[49m\u001b[38;5;241;43m.\u001b[39;49m\u001b[43mslide_layouts\u001b[49m\u001b[43m[\u001b[49m\u001b[43mslide\u001b[49m\u001b[38;5;241;43m.\u001b[39;49m\u001b[43mslide_layout\u001b[49m\u001b[43m]\u001b[49m\n\u001b[0;32m    266\u001b[0m     new_slide \u001b[38;5;241m=\u001b[39m new_prs\u001b[38;5;241m.\u001b[39mslides\u001b[38;5;241m.\u001b[39madd_slide(slide_layout)\n",
      "File \u001b[1;32mc:\\Python Projects\\DocumentarIA\\.venv\\Lib\\site-packages\\pptx\\slide.py:359\u001b[0m, in \u001b[0;36mSlideLayouts.__getitem__\u001b[1;34m(self, idx)\u001b[0m\n\u001b[0;32m    358\u001b[0m \u001b[38;5;28;01mtry\u001b[39;00m:\n\u001b[1;32m--> 359\u001b[0m     sldLayoutId \u001b[38;5;241m=\u001b[39m \u001b[38;5;28;43mself\u001b[39;49m\u001b[38;5;241;43m.\u001b[39;49m\u001b[43m_sldLayoutIdLst\u001b[49m\u001b[38;5;241;43m.\u001b[39;49m\u001b[43msldLayoutId_lst\u001b[49m\u001b[43m[\u001b[49m\u001b[43midx\u001b[49m\u001b[43m]\u001b[49m\n\u001b[0;32m    360\u001b[0m \u001b[38;5;28;01mexcept\u001b[39;00m \u001b[38;5;167;01mIndexError\u001b[39;00m:\n",
      "\u001b[1;31mTypeError\u001b[0m: list indices must be integers or slices, not SlideLayout",
      "\nDuring handling of the above exception, another exception occurred:\n",
      "\u001b[1;31mRuntimeError\u001b[0m                              Traceback (most recent call last)",
      "Cell \u001b[1;32mIn[1], line 5\u001b[0m\n\u001b[0;32m      1\u001b[0m \u001b[38;5;28;01mfrom\u001b[39;00m \u001b[38;5;21;01mdoc_generate\u001b[39;00m \u001b[38;5;28;01mimport\u001b[39;00m generate_and_create_file\n\u001b[0;32m      3\u001b[0m prompt \u001b[38;5;241m=\u001b[39m \u001b[38;5;124m\"\u001b[39m\u001b[38;5;124mGenera un documento de 3 páginas explicando la fotosíntesis en detalle como si fuese un trabajo de universidad\u001b[39m\u001b[38;5;124m\"\u001b[39m\n\u001b[1;32m----> 5\u001b[0m \u001b[43mgenerate_and_create_file\u001b[49m\u001b[43m(\u001b[49m\u001b[43mprompt\u001b[49m\u001b[43m,\u001b[49m\u001b[38;5;124;43m\"\u001b[39;49m\u001b[38;5;124;43mpptx\u001b[39;49m\u001b[38;5;124;43m\"\u001b[39;49m\u001b[43m,\u001b[49m\u001b[38;5;124;43m\"\u001b[39;49m\u001b[38;5;124;43mfichero.pptx\u001b[39;49m\u001b[38;5;124;43m\"\u001b[39;49m\u001b[43m)\u001b[49m\n",
      "File \u001b[1;32mc:\\Python Projects\\DocumentarIA\\agents\\doc_generate.py:459\u001b[0m, in \u001b[0;36mgenerate_and_create_file\u001b[1;34m(prompt, file_type, output)\u001b[0m\n\u001b[0;32m    456\u001b[0m         \u001b[38;5;28;01mraise\u001b[39;00m \u001b[38;5;167;01mValueError\u001b[39;00m(\u001b[38;5;124m\"\u001b[39m\u001b[38;5;124mTipo de archivo no soportado. Usa \u001b[39m\u001b[38;5;124m'\u001b[39m\u001b[38;5;124mdocx\u001b[39m\u001b[38;5;124m'\u001b[39m\u001b[38;5;124m o \u001b[39m\u001b[38;5;124m'\u001b[39m\u001b[38;5;124mpptx\u001b[39m\u001b[38;5;124m'\u001b[39m\u001b[38;5;124m.\u001b[39m\u001b[38;5;124m\"\u001b[39m)\n\u001b[0;32m    458\u001b[0m \u001b[38;5;28;01mexcept\u001b[39;00m \u001b[38;5;167;01mException\u001b[39;00m \u001b[38;5;28;01mas\u001b[39;00m e:\n\u001b[1;32m--> 459\u001b[0m     \u001b[38;5;28;01mraise\u001b[39;00m \u001b[38;5;167;01mRuntimeError\u001b[39;00m(\u001b[38;5;124mf\u001b[39m\u001b[38;5;124m\"\u001b[39m\u001b[38;5;124mError generating and creating file: \u001b[39m\u001b[38;5;132;01m{\u001b[39;00me\u001b[38;5;132;01m}\u001b[39;00m\u001b[38;5;124m\"\u001b[39m)\n",
      "\u001b[1;31mRuntimeError\u001b[0m: Error generating and creating file: list indices must be integers or slices, not SlideLayout"
     ]
    }
   ],
   "source": [
    "from doc_generate import generate_and_create_file\n",
    "\n",
    "prompt = \"Genera un documento de 3 páginas explicando la fotosíntesis en detalle como si fuese un trabajo de universidad\"\n",
    "\n",
    "generate_and_create_file(prompt,\"pptx\",\"fichero.pptx\")"
   ]
  },
  {
   "cell_type": "code",
   "execution_count": 1,
   "metadata": {},
   "outputs": [
    {
     "name": "stdout",
     "output_type": "stream",
     "text": [
      "Codificación detectada automáticamente: ISO-8859-1\n",
      "Diccionario textos_originales\n",
      "{'1': \"No ho puc evitar, ja no sé com fer-ho, m'ha arribat a les mans un coti ben salsero que ha mogut tot el mercat. No me'l puc treure del cap, si vols aquest secret, doncs per tres l'has de canviar. No ho puc evitar, ja no sé com fer-ho, m'ha arribat a les mans un coti ben salcero que ha mogut tot el mercat. No me'l puc treure del cap, si vols aquest secret, doncs per tres l'has de canviar. No en vull saber res, intento no creuar-te la mirada. No em crec que històries inventaràs, de tu ja no em puc creure res. Ahir em vaig trobar l'Aleix i em va dir que tenia cotis, posaria info, tenia bones refes, no sabia per qu per s les notis el mercat est palmant i tu est holding Tira la manta peli de terror No vulguis c la sort del tra I que et miro davant de la platja i em dius que no, que no, que no ho pots evitar. Ja no saps com fer-ho, t'ha arribat a les mans un cotllet ben salcero que ha mogut tot el mercat. No te'l pots treure del cap. Si vols aquest secret per tes l'hauràs de canviar. No em vull saber res. Coti per Coti, Coti per Coti. Intento no creuar-te la mirada. Coti per Coti, Coti per Coti. No em crec històries inventades. Coti per Coti. De tu ja no em puc creure res. No em vull saber res. Tanto no he creuat a la mirada, no em crec històries inventades, de tu ja no em puc veure bé. No! Visca!\"}\n",
      "Diccionario textos_para_traducir\n",
      "{'1': \"No ho puc evitar, ja no sé com fer-ho, m'ha arribat a les mans un coti ben salsero que ha mogut tot el mercat. No me'l puc treure del cap, si vols aquest secret, doncs per tres l'has de canviar. No ho puc evitar, ja no sé com fer-ho, m'ha arribat a les mans un coti ben salcero que ha mogut tot el mercat. No me'l puc treure del cap, si vols aquest secret, doncs per tres l'has de canviar. No en vull saber res, intento no creuar-te la mirada. No em crec que històries inventaràs, de tu ja no em puc creure res. Ahir em vaig trobar l'Aleix i em va dir que tenia cotis, posaria info, tenia bones refes, no sabia per qu per s les notis el mercat est palmant i tu est holding Tira la manta peli de terror No vulguis c la sort del tra I que et miro davant de la platja i em dius que no, que no, que no ho pots evitar. Ja no saps com fer-ho, t'ha arribat a les mans un cotllet ben salcero que ha mogut tot el mercat. No te'l pots treure del cap. Si vols aquest secret per tes l'hauràs de canviar. No em vull saber res. Coti per Coti, Coti per Coti. Intento no creuar-te la mirada. Coti per Coti, Coti per Coti. No em crec històries inventades. Coti per Coti. De tu ja no em puc creure res. No em vull saber res. Tanto no he creuat a la mirada, no em crec històries inventades, de tu ja no em puc veure bé. No! Visca!\"}\n"
     ]
    },
    {
     "name": "stderr",
     "output_type": "stream",
     "text": [
      "[INFO] HTTP Request: POST https://api.groq.com/openai/v1/chat/completions \"HTTP/1.1 200 OK\"\n"
     ]
    },
    {
     "name": "stdout",
     "output_type": "stream",
     "text": [
      "\n",
      "                    Translation Instructions:\n",
      "                    Translate the text in the code given, maintaining exact <ph> and </ph> tags.\n",
      "                    Do not translate or alter any content within <ph> and </ph> tags. These are placeholders and must remain exactly as they appear in the original text.\n",
      "                    Preserve all <ph> and </ph> tags in their original positions within the text.\n",
      "                    Do not add any comments, annotations, or changes outside the required translation.\n",
      "                    Ensure the translation is grammatically correct and coherent in english, with proper usage of punctuation, symbols, and apostrophes.\n",
      "                    All punctuation, symbols, numbers, line breaks, and white spaces should be preserved exactly as they appear in the original text, except where english grammar rules require changes.\n",
      "                    Translate every word, including those starting with capital letters, unless they are clearly proper nouns that should not be translated.\n",
      "                    Maintain a similar text length in the translation to match the original as closely as possible.\n",
      "                    The text is part of a larger document. Use the context provided by the surrounding words to ensure an accurate and natural translation.\n",
      "                    If you encounter any ambiguities or context-dependent terms, translate them based on the most likely interpretation given the surrounding context.\n",
      "\n",
      "                    Example:\n",
      "                    Original in English: \"<ph>The cat,</ph><ph> </ph><ph>animal_1</ph> sat on the <ph>object_2</ph>.\"\n",
      "                    Translation to Spanish: \"<ph>El gato,</ph><ph> </ph><ph>animal_1</ph> se sentó en el <ph>object_2</ph>.\"\n",
      "                \n",
      "\n",
      "Translation Examples: Ejemplo 1:\n",
      "Ejemplo original: Aquelles que adoptin aquesta tecnologia no només milloraran la seva eficiència operativa, sinó que també estaran millor posicionades per afrontar els reptes del futur en un món empresarial en constant canvi.\n",
      "Ejemplo traducido: Those that embrace this technology will not only enhance their operational efficiency but will also be better positioned to face future challenges in an ever-changing business landscape.\n",
      "\n",
      "\n",
      "Translate the code from catalan to english.\n",
      "Code to translate:\n",
      "<ph>No ho puc evitar, ja no sé com fer-ho, m'ha arribat a les mans un coti ben salsero que ha mogut tot el mercat. No me'l puc treure del cap, si vols aquest secret, doncs per tres l'has de canviar. No ho puc evitar, ja no sé com fer-ho, m'ha arribat a les mans un coti ben salcero que ha mogut tot el mercat. No me'l puc treure del cap, si vols aquest secret, doncs per tres l'has de canviar. No en vull saber res, intento no creuar-te la mirada. No em crec que històries inventaràs, de tu ja no em puc creure res. Ahir em vaig trobar l'Aleix i em va dir que tenia cotis, posaria info, tenia bones refes, no sabia per qu per s les notis el mercat est palmant i tu est holding Tira la manta peli de terror No vulguis c la sort del tra I que et miro davant de la platja i em dius que no, que no, que no ho pots evitar. Ja no saps com fer-ho, t'ha arribat a les mans un cotllet ben salcero que ha mogut tot el mercat. No te'l pots treure del cap. Si vols aquest secret per tes l'hauràs de canviar. No em vull saber res. Coti per Coti, Coti per Coti. Intento no creuar-te la mirada. Coti per Coti, Coti per Coti. No em crec històries inventades. Coti per Coti. De tu ja no em puc creure res. No em vull saber res. Tanto no he creuat a la mirada, no em crec històries inventades, de tu ja no em puc veure bé. No! Visca!</ph>\n"
     ]
    },
    {
     "name": "stderr",
     "output_type": "stream",
     "text": [
      "[INFO] HTTP Request: POST https://api.groq.com/openai/v1/chat/completions \"HTTP/1.1 200 OK\"\n"
     ]
    },
    {
     "name": "stdout",
     "output_type": "stream",
     "text": [
      "\n",
      "                Translation Instructions:\n",
      "                The following is a rework of a translation. The original text is in catalan and the translated text is in english.\n",
      "                Compare the translation to the original, and translate using the same words text with placeholders\n",
      "                - Ensure there are intact <ph> and </ph> tags in their original positions (could be between words or characters).\n",
      "                - Ensure translation is grammatically correct and coherent in english.\n",
      "                - Use proper vocabulary in english ensuring words are correct and usual in this language. \n",
      "                - Translation properly reflects the meaning of the original text without adding or omitting content.\n",
      "                - It matches punctuation, symbols, and special formatting of the original text unless changes are required by english grammar.\n",
      "                - Do not comment or add any extra message.\n",
      "\n",
      "                Original text without placeholders: <ph>No ho puc evitar, ja no sé com fer-ho, m'ha arribat a les mans un coti ben salsero que ha mogut tot el mercat. No me'l puc treure del cap, si vols aquest secret, doncs per tres l'has de canviar. No ho puc evitar, ja no sé com fer-ho, m'ha arribat a les mans un coti ben salcero que ha mogut tot el mercat. No me'l puc treure del cap, si vols aquest secret, doncs per tres l'has de canviar. No en vull saber res, intento no creuar-te la mirada. No em crec que històries inventaràs, de tu ja no em puc creure res. Ahir em vaig trobar l'Aleix i em va dir que tenia cotis, posaria info, tenia bones refes, no sabia per qu per s les notis el mercat est palmant i tu est holding Tira la manta peli de terror No vulguis c la sort del tra I que et miro davant de la platja i em dius que no, que no, que no ho pots evitar. Ja no saps com fer-ho, t'ha arribat a les mans un cotllet ben salcero que ha mogut tot el mercat. No te'l pots treure del cap. Si vols aquest secret per tes l'hauràs de canviar. No em vull saber res. Coti per Coti, Coti per Coti. Intento no creuar-te la mirada. Coti per Coti, Coti per Coti. No em crec històries inventades. Coti per Coti. De tu ja no em puc creure res. No em vull saber res. Tanto no he creuat a la mirada, no em crec històries inventades, de tu ja no em puc veure bé. No! Visca!</ph>\n",
      "                Translated text with placeholders: <ph>I couldn't avoid it, I no longer know how to do it, a rather racy coti has reached my hands which has moved the entire market. I couldn't get it out of my head, if you want this secret, then you'll have to swap it for three. I couldn't avoid it, I no longer know how to do it, a rather salty coti has reached my hands which has moved the entire market. I couldn't get it out of my head, if you want this secret, then you'll have to swap it for three. I don't want to know about it, I try not to cross your gaze. I don't believe you'll invent stories, I can no longer trust anything from you. Yesterday I met Aleix and he told me he had cotis, would put info, had good returns, didn't know why but the market is in an uproar and you're holding it in. Throw off the blanket scary movie Don't want to know the fate of the traitor. And I look at you in front of the beach and you tell me no, no, no, you can't avoid it. You no longer know how to do it, a rather salty coti has reached your hands which has moved the entire market. You can't get it out of your head. If you want this secret for yours, you'll have to swap it. I don't want to know about it. Coti for Coti, Coti for Coti. I try not to cross your gaze. Coti for Coti, Coti for Coti. I don't believe invented stories. Coti for Coti. I can no longer trust anything from you. I don't want to know about it. So much that I haven't crossed gazes, I don't believe invented stories, I can no longer see you clearly from you. No! Long live!</ph>\n",
      "\n",
      "                Text to translate with placeholders: <ph>No ho puc evitar, ja no sé com fer-ho, m'ha arribat a les mans un coti ben salsero que ha mogut tot el mercat. No me'l puc treure del cap, si vols aquest secret, doncs per tres l'has de canviar. No ho puc evitar, ja no sé com fer-ho, m'ha arribat a les mans un coti ben salcero que ha mogut tot el mercat. No me'l puc treure del cap, si vols aquest secret, doncs per tres l'has de canviar. No en vull saber res, intento no creuar-te la mirada. No em crec que històries inventaràs, de tu ja no em puc creure res. Ahir em vaig trobar l'Aleix i em va dir que tenia cotis, posaria info, tenia bones refes, no sabia per qu per s les notis el mercat est palmant i tu est holding Tira la manta peli de terror No vulguis c la sort del tra I que et miro davant de la platja i em dius que no, que no, que no ho pots evitar. Ja no saps com fer-ho, t'ha arribat a les mans un cotllet ben salcero que ha mogut tot el mercat. No te'l pots treure del cap. Si vols aquest secret per tes l'hauràs de canviar. No em vull saber res. Coti per Coti, Coti per Coti. Intento no creuar-te la mirada. Coti per Coti, Coti per Coti. No em crec històries inventades. Coti per Coti. De tu ja no em puc creure res. No em vull saber res. Tanto no he creuat a la mirada, no em crec històries inventades, de tu ja no em puc veure bé. No! Visca!</ph>\n",
      "            \n",
      "BLOQUE ORIGINAL: <ph>No ho puc evitar, ja no sé com fer-ho, m'ha arribat a les mans un coti ben salsero que ha mogut tot el mercat. No me'l puc treure del cap, si vols aquest secret, doncs per tres l'has de canviar. No ho puc evitar, ja no sé com fer-ho, m'ha arribat a les mans un coti ben salcero que ha mogut tot el mercat. No me'l puc treure del cap, si vols aquest secret, doncs per tres l'has de canviar. No en vull saber res, intento no creuar-te la mirada. No em crec que històries inventaràs, de tu ja no em puc creure res. Ahir em vaig trobar l'Aleix i em va dir que tenia cotis, posaria info, tenia bones refes, no sabia per qu per s les notis el mercat est palmant i tu est holding Tira la manta peli de terror No vulguis c la sort del tra I que et miro davant de la platja i em dius que no, que no, que no ho pots evitar. Ja no saps com fer-ho, t'ha arribat a les mans un cotllet ben salcero que ha mogut tot el mercat. No te'l pots treure del cap. Si vols aquest secret per tes l'hauràs de canviar. No em vull saber res. Coti per Coti, Coti per Coti. Intento no creuar-te la mirada. Coti per Coti, Coti per Coti. No em crec històries inventades. Coti per Coti. De tu ja no em puc creure res. No em vull saber res. Tanto no he creuat a la mirada, no em crec històries inventades, de tu ja no em puc veure bé. No! Visca!</ph>\n",
      "TRADUCCIÓN: <ph>I couldn't avoid it, I no longer know how to do it, a rather racy coti has reached my hands which has moved the entire market. I couldn't get it out of my head, if you want this secret, then you'll have to swap it for three. I couldn't avoid it, I no longer know how to do it, a rather salty coti has reached my hands which has moved the entire market. I couldn't get it out of my head, if you want this secret, then you'll have to swap it for three. I don't want to know about it, I try not to cross your gaze. I don't believe you'll invent stories, I can no longer trust anything from you. Yesterday I met Aleix and he told me he had cotis, would put info, had good returns, didn't know why but the market is in an uproar and you're holding it in. Throw off the blanket scary movie Don't want to know the fate of the traitor. And I look at you in front of the beach and you tell me no, no, no, you can't avoid it. You no longer know how to do it, a rather salty coti has reached your hands which has moved the entire market. You can't get it out of your head. If you want this secret for yours, you'll have to swap it. I don't want to know about it. Coti for Coti, Coti for Coti. I try not to cross your gaze. Coti for Coti, Coti for Coti. I don't believe invented stories. Coti for Coti. I can no longer trust anything from you. I don't want to know about it. So much that I haven't crossed gazes, I don't believe invented stories, I can no longer see you clearly from you. No! Long live!</ph>\n",
      "REVISIÓN: <ph>I couldn't avoid it, I no longer know how to do it, a rather spicy coti has reached my hands that has moved the entire market. I couldn't get it out of my head, if you want this secret, then you'll have to swap it for three. I couldn't avoid it, I no longer know how to do it, a rather spicy coti has reached my hands that has moved the entire market. I couldn't get it out of my head, if you want this secret, then you'll have to swap it for three. I don't want to know about it, I try not to cross your gaze. I don't believe you'll invent stories, I can no longer trust anything from you. Yesterday I met Aleix and he told me he had cotis, would share info, had good returns, didn't know why but the market is reeling and you're holding it. Throw off the blanket, horror movie! Don't want to know the fate of the traitor. And I look at you in front of the beach and you tell me no, no, no, you can't avoid it. You no longer know how to do it, a rather spicy coti has reached your hands that has moved the entire market. You can't get it out of your head. If you want this secret, you'll have to swap it for yours. I don't want to know about it. Coti for Coti, Coti for Coti. I try not to cross your gaze. Coti for Coti, Coti for Coti. I don't believe concocted stories. Coti for Coti. I can no longer trust anything from you. I don't want to know about it. So much that I haven't crossed gazes, I don't believe concocted stories, I can no longer see you clearly. No! Long live!</ph>\n",
      "Diccionario textos_traducidos\n",
      "{'1': \"I couldn't avoid it, I no longer know how to do it, a rather spicy coti has reached my hands that has moved the entire market. I couldn't get it out of my head, if you want this secret, then you'll have to swap it for three. I couldn't avoid it, I no longer know how to do it, a rather spicy coti has reached my hands that has moved the entire market. I couldn't get it out of my head, if you want this secret, then you'll have to swap it for three. I don't want to know about it, I try not to cross your gaze. I don't believe you'll invent stories, I can no longer trust anything from you. Yesterday I met Aleix and he told me he had cotis, would share info, had good returns, didn't know why but the market is reeling and you're holding it. Throw off the blanket, horror movie! Don't want to know the fate of the traitor. And I look at you in front of the beach and you tell me no, no, no, you can't avoid it. You no longer know how to do it, a rather spicy coti has reached your hands that has moved the entire market. You can't get it out of your head. If you want this secret, you'll have to swap it for yours. I don't want to know about it. Coti for Coti, Coti for Coti. I try not to cross your gaze. Coti for Coti, Coti for Coti. I don't believe concocted stories. Coti for Coti. I can no longer trust anything from you. I don't want to know about it. So much that I haven't crossed gazes, I don't believe concocted stories, I can no longer see you clearly. No! Long live!\"}\n",
      "Diccionario textos_traducidos_final + ajuste\n",
      "{'1': \"I couldn't avoid it, I no longer know how to do it, a rather spicy coti has reached my hands that has moved the entire market. I couldn't get it out of my head, if you want this secret, then you'll have to swap it for three. I couldn't avoid it, I no longer know how to do it, a rather spicy coti has reached my hands that has moved the entire market. I couldn't get it out of my head, if you want this secret, then you'll have to swap it for three. I don't want to know about it, I try not to cross your gaze. I don't believe you'll invent stories, I can no longer trust anything from you. Yesterday I met Aleix and he told me he had cotis, would share info, had good returns, didn't know why but the market is reeling and you're holding it. Throw off the blanket, horror movie! Don't want to know the fate of the traitor. And I look at you in front of the beach and you tell me no, no, no, you can't avoid it. You no longer know how to do it, a rather spicy coti has reached your hands that has moved the entire market. You can't get it out of your head. If you want this secret, you'll have to swap it for yours. I don't want to know about it. Coti for Coti, Coti for Coti. I try not to cross your gaze. Coti for Coti, Coti for Coti. I don't believe concocted stories. Coti for Coti. I can no longer trust anything from you. I don't want to know about it. So much that I haven't crossed gazes, I don't believe concocted stories, I can no longer see you clearly. No! Long live!\"}\n",
      "Codificación detectada automáticamente: ISO-8859-1\n",
      "Se ha dejado el documento traducido en la ruta especificada: song2.txt\n"
     ]
    }
   ],
   "source": [
    "# test_traducir_doc.py\n",
    "\n",
    "# Importar la función traducir_doc desde el módulo donde está definida\n",
    "from doc_translate import traducir_doc  # Cambia 'tu_modulo' por el nombre real del archivo donde está la función\n",
    "\n",
    "def main():\n",
    "    # Definir los parámetros de entrada\n",
    "    input_path = 'song.txt'  # Cambia esto a la ruta de tu documento original\n",
    "    output_path = 'song2.txt'  # Cambia esto a la ruta donde deseas guardar el documento traducido\n",
    "    origin_language = 'catalan'  # Idioma de origen\n",
    "    destination_language = 'english'  # Idioma de destino\n",
    "    extension = '.txt'  # Extensión del documento\n",
    "    color_to_exclude = ''  # Cambia esto a cualquier color que necesites excluir\n",
    "    add_prompt = ''  # Puedes agregar un prompt adicional si es necesario\n",
    "    model = 'llama-3.1-70b-versatile'  # Modelo que estás utilizando\n",
    "    api_key_file = 'API_KEY.txt'  # Archivo con tu clave API\n",
    "    numintentos = 20  # Número de intentos\n",
    "    use_embedding = True  # Si se usarán embeddings\n",
    "\n",
    "    # Llamar a la función traducir_doc\n",
    "    try:\n",
    "        traducir_doc(\n",
    "            input_path,\n",
    "            output_path,\n",
    "            origin_language,\n",
    "            destination_language,\n",
    "            extension,\n",
    "            color_to_exclude,\n",
    "            add_prompt,\n",
    "            model,\n",
    "            api_key_file,\n",
    "            numintentos,\n",
    "            use_embedding\n",
    "        )\n",
    "    except Exception as e:\n",
    "        print(f\"Ocurrió un error durante la traducción: {e}\")\n",
    "\n",
    "if __name__ == \"__main__\":\n",
    "    main()\n"
   ]
  }
 ],
 "metadata": {
  "kernelspec": {
   "display_name": ".venv",
   "language": "python",
   "name": "python3"
  },
  "language_info": {
   "codemirror_mode": {
    "name": "ipython",
    "version": 3
   },
   "file_extension": ".py",
   "mimetype": "text/x-python",
   "name": "python",
   "nbconvert_exporter": "python",
   "pygments_lexer": "ipython3",
   "version": "3.11.4"
  }
 },
 "nbformat": 4,
 "nbformat_minor": 2
}
